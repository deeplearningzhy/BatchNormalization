{
 "cells": [
  {
   "cell_type": "markdown",
   "metadata": {},
   "source": [
    "[Orignal paper](https://arxiv.org/abs/1502.03167)"
   ]
  },
  {
   "cell_type": "code",
   "execution_count": 1,
   "metadata": {
    "collapsed": false
   },
   "outputs": [],
   "source": [
    "from __future__ import print_function\n",
    "import tensorflow as tf\n",
    "import numpy as np\n",
    "from matplotlib import pyplot as plt\n",
    "%matplotlib inline\n",
    "from tqdm import tqdm\n",
    "from MyHelper import *\n",
    "from bokeh.plotting import figure, show\n",
    "from bokeh.io import output_notebook"
   ]
  },
  {
   "cell_type": "code",
   "execution_count": 2,
   "metadata": {
    "collapsed": false
   },
   "outputs": [
    {
     "data": {
      "text/html": [
       "\n",
       "    <div class=\"bk-root\">\n",
       "        <a href=\"http://bokeh.pydata.org\" target=\"_blank\" class=\"bk-logo bk-logo-small bk-logo-notebook\"></a>\n",
       "        <span id=\"73b94393-423d-4ea9-ab24-a0c472152b97\">Loading BokehJS ...</span>\n",
       "    </div>"
      ]
     },
     "metadata": {},
     "output_type": "display_data"
    },
    {
     "data": {
      "application/javascript": [
       "\n",
       "(function(global) {\n",
       "  function now() {\n",
       "    return new Date();\n",
       "  }\n",
       "\n",
       "  var force = \"1\";\n",
       "\n",
       "  if (typeof (window._bokeh_onload_callbacks) === \"undefined\" || force !== \"\") {\n",
       "    window._bokeh_onload_callbacks = [];\n",
       "    window._bokeh_is_loading = undefined;\n",
       "  }\n",
       "\n",
       "\n",
       "  \n",
       "  if (typeof (window._bokeh_timeout) === \"undefined\" || force !== \"\") {\n",
       "    window._bokeh_timeout = Date.now() + 5000;\n",
       "    window._bokeh_failed_load = false;\n",
       "  }\n",
       "\n",
       "  var NB_LOAD_WARNING = {'data': {'text/html':\n",
       "     \"<div style='background-color: #fdd'>\\n\"+\n",
       "     \"<p>\\n\"+\n",
       "     \"BokehJS does not appear to have successfully loaded. If loading BokehJS from CDN, this \\n\"+\n",
       "     \"may be due to a slow or bad network connection. Possible fixes:\\n\"+\n",
       "     \"</p>\\n\"+\n",
       "     \"<ul>\\n\"+\n",
       "     \"<li>re-rerun `output_notebook()` to attempt to load from CDN again, or</li>\\n\"+\n",
       "     \"<li>use INLINE resources instead, as so:</li>\\n\"+\n",
       "     \"</ul>\\n\"+\n",
       "     \"<code>\\n\"+\n",
       "     \"from bokeh.resources import INLINE\\n\"+\n",
       "     \"output_notebook(resources=INLINE)\\n\"+\n",
       "     \"</code>\\n\"+\n",
       "     \"</div>\"}};\n",
       "\n",
       "  function display_loaded() {\n",
       "    if (window.Bokeh !== undefined) {\n",
       "      Bokeh.$(\"#73b94393-423d-4ea9-ab24-a0c472152b97\").text(\"BokehJS successfully loaded.\");\n",
       "    } else if (Date.now() < window._bokeh_timeout) {\n",
       "      setTimeout(display_loaded, 100)\n",
       "    }\n",
       "  }\n",
       "\n",
       "  function run_callbacks() {\n",
       "    window._bokeh_onload_callbacks.forEach(function(callback) { callback() });\n",
       "    delete window._bokeh_onload_callbacks\n",
       "    console.info(\"Bokeh: all callbacks have finished\");\n",
       "  }\n",
       "\n",
       "  function load_libs(js_urls, callback) {\n",
       "    window._bokeh_onload_callbacks.push(callback);\n",
       "    if (window._bokeh_is_loading > 0) {\n",
       "      console.log(\"Bokeh: BokehJS is being loaded, scheduling callback at\", now());\n",
       "      return null;\n",
       "    }\n",
       "    if (js_urls == null || js_urls.length === 0) {\n",
       "      run_callbacks();\n",
       "      return null;\n",
       "    }\n",
       "    console.log(\"Bokeh: BokehJS not loaded, scheduling load and callback at\", now());\n",
       "    window._bokeh_is_loading = js_urls.length;\n",
       "    for (var i = 0; i < js_urls.length; i++) {\n",
       "      var url = js_urls[i];\n",
       "      var s = document.createElement('script');\n",
       "      s.src = url;\n",
       "      s.async = false;\n",
       "      s.onreadystatechange = s.onload = function() {\n",
       "        window._bokeh_is_loading--;\n",
       "        if (window._bokeh_is_loading === 0) {\n",
       "          console.log(\"Bokeh: all BokehJS libraries loaded\");\n",
       "          run_callbacks()\n",
       "        }\n",
       "      };\n",
       "      s.onerror = function() {\n",
       "        console.warn(\"failed to load library \" + url);\n",
       "      };\n",
       "      console.log(\"Bokeh: injecting script tag for BokehJS library: \", url);\n",
       "      document.getElementsByTagName(\"head\")[0].appendChild(s);\n",
       "    }\n",
       "  };var element = document.getElementById(\"73b94393-423d-4ea9-ab24-a0c472152b97\");\n",
       "  if (element == null) {\n",
       "    console.log(\"Bokeh: ERROR: autoload.js configured with elementid '73b94393-423d-4ea9-ab24-a0c472152b97' but no matching script tag was found. \")\n",
       "    return false;\n",
       "  }\n",
       "\n",
       "  var js_urls = ['https://cdn.pydata.org/bokeh/release/bokeh-0.12.2.min.js', 'https://cdn.pydata.org/bokeh/release/bokeh-widgets-0.12.2.min.js', 'https://cdn.pydata.org/bokeh/release/bokeh-compiler-0.12.2.min.js'];\n",
       "\n",
       "  var inline_js = [\n",
       "    function(Bokeh) {\n",
       "      Bokeh.set_log_level(\"info\");\n",
       "    },\n",
       "    \n",
       "    function(Bokeh) {\n",
       "      \n",
       "      Bokeh.$(\"#73b94393-423d-4ea9-ab24-a0c472152b97\").text(\"BokehJS is loading...\");\n",
       "    },\n",
       "    function(Bokeh) {\n",
       "      console.log(\"Bokeh: injecting CSS: https://cdn.pydata.org/bokeh/release/bokeh-0.12.2.min.css\");\n",
       "      Bokeh.embed.inject_css(\"https://cdn.pydata.org/bokeh/release/bokeh-0.12.2.min.css\");\n",
       "      console.log(\"Bokeh: injecting CSS: https://cdn.pydata.org/bokeh/release/bokeh-widgets-0.12.2.min.css\");\n",
       "      Bokeh.embed.inject_css(\"https://cdn.pydata.org/bokeh/release/bokeh-widgets-0.12.2.min.css\");\n",
       "    }\n",
       "  ];\n",
       "\n",
       "  function run_inline_js() {\n",
       "    \n",
       "    if ((window.Bokeh !== undefined) || (force === \"1\")) {\n",
       "      for (var i = 0; i < inline_js.length; i++) {\n",
       "        inline_js[i](window.Bokeh);\n",
       "      }if (force === \"1\") {\n",
       "        display_loaded();\n",
       "      }} else if (Date.now() < window._bokeh_timeout) {\n",
       "      setTimeout(run_inline_js, 100);\n",
       "    } else if (!window._bokeh_failed_load) {\n",
       "      console.log(\"Bokeh: BokehJS failed to load within specified timeout.\");\n",
       "      window._bokeh_failed_load = true;\n",
       "    } else if (!force) {\n",
       "      var cell = $(\"#73b94393-423d-4ea9-ab24-a0c472152b97\").parents('.cell').data().cell;\n",
       "      cell.output_area.append_execute_result(NB_LOAD_WARNING)\n",
       "    }\n",
       "\n",
       "  }\n",
       "\n",
       "  if (window._bokeh_is_loading === 0) {\n",
       "    console.log(\"Bokeh: BokehJS loaded, going straight to plotting\");\n",
       "    run_inline_js();\n",
       "  } else {\n",
       "    load_libs(js_urls, function() {\n",
       "      console.log(\"Bokeh: BokehJS plotting callback run at\", now());\n",
       "      run_inline_js();\n",
       "    });\n",
       "  }\n",
       "}(this));"
      ]
     },
     "metadata": {},
     "output_type": "display_data"
    }
   ],
   "source": [
    "output_notebook()"
   ]
  },
  {
   "cell_type": "code",
   "execution_count": 3,
   "metadata": {
    "collapsed": false
   },
   "outputs": [],
   "source": [
    "downloadData(filename,loc)"
   ]
  },
  {
   "cell_type": "code",
   "execution_count": 4,
   "metadata": {
    "collapsed": false
   },
   "outputs": [],
   "source": [
    "X,y=getData(filename,loc,flat=False)\n",
    "Xtest,ytest=getData(filename,loc,flat=False,test=True)"
   ]
  },
  {
   "cell_type": "code",
   "execution_count": 5,
   "metadata": {
    "collapsed": false
   },
   "outputs": [
    {
     "name": "stdout",
     "output_type": "stream",
     "text": [
      "(60000, 28, 28, 1) (60000, 10)\n",
      "(10000, 28, 28, 1) (10000, 10)\n"
     ]
    }
   ],
   "source": [
    "print(X.shape,y.shape)\n",
    "print(Xtest.shape,ytest.shape)"
   ]
  },
  {
   "cell_type": "code",
   "execution_count": 6,
   "metadata": {
    "collapsed": false
   },
   "outputs": [
    {
     "name": "stdout",
     "output_type": "stream",
     "text": [
      "28\n"
     ]
    }
   ],
   "source": [
    "img_size,nchannels = X.shape[1],X.shape[-1]\n",
    "print(img_size)"
   ]
  },
  {
   "cell_type": "code",
   "execution_count": 7,
   "metadata": {
    "collapsed": false
   },
   "outputs": [
    {
     "data": {
      "text/plain": [
       "<matplotlib.image.AxesImage at 0x11cb29390>"
      ]
     },
     "execution_count": 7,
     "metadata": {},
     "output_type": "execute_result"
    },
    {
     "data": {
      "image/png": "[encoded data removed]",
      "text/plain": [
       "<matplotlib.figure.Figure at 0x11b7da950>"
      ]
     },
     "metadata": {},
     "output_type": "display_data"
    }
   ],
   "source": [
    "plt.imshow(X[0,:,:,0],cmap='gray')"
   ]
  },
  {
   "cell_type": "markdown",
   "metadata": {},
   "source": [
    "# Model"
   ]
  },
  {
   "cell_type": "code",
   "execution_count": 8,
   "metadata": {
    "collapsed": true
   },
   "outputs": [],
   "source": [
    "def createWeight(size):\n",
    "    return tf.Variable(tf.truncated_normal(size, stddev=0.1))\n",
    "\n",
    "def createBias(size):\n",
    "    return tf.Variable(tf.constant(0.1,shape=size))\n",
    "\n",
    "def lrelu(x, leak=0.2):\n",
    "    f1 = 0.5 * (1 + leak)\n",
    "    f2 = 0.5 * (1 - leak)\n",
    "    return f1 * x + f2 * abs(x)"
   ]
  },
  {
   "cell_type": "markdown",
   "metadata": {},
   "source": [
    "## No batch norm"
   ]
  },
  {
   "cell_type": "code",
   "execution_count": 9,
   "metadata": {
    "collapsed": false
   },
   "outputs": [],
   "source": [
    "batch_size = 32\n",
    "g = tf.Graph()\n",
    "with g.as_default():\n",
    "    img_input = tf.placeholder(tf.float32,shape=(batch_size,img_size,img_size,nchannels))\n",
    "    targets = tf.placeholder(tf.float32,shape=(batch_size,10))\n",
    "    \n",
    "    testX = tf.constant(Xtest,dtype=tf.float32)\n",
    "    testy = tf.constant(ytest,dtype=tf.float32)\n",
    "    \n",
    "    W_conv1 = createWeight([5,5,nchannels,64])\n",
    "    b_conv1 = createWeight([64])\n",
    "    \n",
    "    W_conv2 = createWeight([5,5,64,128])\n",
    "    b_conv2 = createWeight([128])\n",
    "    \n",
    "    W_logit = createWeight([128*7*7,10])\n",
    "    b_logit = createWeight([10])\n",
    "     \n",
    "    #model\n",
    "    def model(img_input):\n",
    "        conv1 = tf.nn.conv2d(img_input,W_conv1,strides=[1,2,2,1],padding=\"SAME\")\n",
    "        h1 = lrelu(conv1+b_conv1)\n",
    "\n",
    "        conv2 = tf.nn.conv2d(h1,W_conv2,strides=[1,2,2,1],padding=\"SAME\")\n",
    "        h2 = lrelu(conv2+b_conv2)\n",
    "\n",
    "        h2_s = tf.shape(h2)\n",
    "        h2_flat = tf.reshape(h2,[h2_s[0],128*(h2_s[1])*(h2_s[2])]) #512*2*2\n",
    "\n",
    "        logit = tf.matmul(h2_flat,W_logit)+b_logit\n",
    "        \n",
    "        return logit\n",
    "\n",
    "    \n",
    "    #train\n",
    "    logit_train = model(img_input)\n",
    "    loss = tf.reduce_mean(tf.nn.softmax_cross_entropy_with_logits(logit_train,targets))\n",
    "    \n",
    "    opt = tf.train.AdamOptimizer(learning_rate=.001).minimize(loss)\n",
    "    \n",
    "    train_accuracy = tf.reduce_mean(tf.cast(tf.equal(\n",
    "        tf.arg_max(tf.nn.softmax(logit_train),1),tf.arg_max(targets,1)),tf.float32))\n",
    "    \n",
    "    #test\n",
    "    logit_test = model(testX)\n",
    "    test_accuracy = tf.reduce_mean(tf.cast(tf.equal(\n",
    "        tf.arg_max(tf.nn.softmax(logit_test),1),tf.arg_max(testy,1)),tf.float32))\n",
    "    \n",
    "    init = tf.initialize_all_variables()"
   ]
  },
  {
   "cell_type": "code",
   "execution_count": 10,
   "metadata": {
    "collapsed": true
   },
   "outputs": [],
   "source": [
    "sess=tf.Session(graph=g)\n",
    "sess.run(init)\n",
    "losses = []"
   ]
  },
  {
   "cell_type": "code",
   "execution_count": 11,
   "metadata": {
    "collapsed": false
   },
   "outputs": [
    {
     "name": "stderr",
     "output_type": "stream",
     "text": [
      "\r",
      "  0%|          | 0/2001 [00:00<?, ?it/s]"
     ]
    },
    {
     "name": "stdout",
     "output_type": "stream",
     "text": [
      "train acc:  [0.125]\n"
     ]
    },
    {
     "name": "stderr",
     "output_type": "stream",
     "text": [
      "  0%|          | 4/2001 [00:04<1:36:00,  2.88s/it]"
     ]
    },
    {
     "name": "stdout",
     "output_type": "stream",
     "text": [
      "test acc:  [0.1538]\n"
     ]
    },
    {
     "name": "stderr",
     "output_type": "stream",
     "text": [
      "  5%|▍         | 100/2001 [00:07<01:11, 26.52it/s]"
     ]
    },
    {
     "name": "stdout",
     "output_type": "stream",
     "text": [
      "train acc:  [0.8125]\n"
     ]
    },
    {
     "name": "stderr",
     "output_type": "stream",
     "text": [
      "  5%|▌         | 106/2001 [00:12<09:50,  3.21it/s]"
     ]
    },
    {
     "name": "stdout",
     "output_type": "stream",
     "text": [
      "test acc:  [0.86290002]\n"
     ]
    },
    {
     "name": "stderr",
     "output_type": "stream",
     "text": [
      " 10%|▉         | 199/2001 [00:15<01:07, 26.82it/s]"
     ]
    },
    {
     "name": "stdout",
     "output_type": "stream",
     "text": [
      "train acc:  [0.9375]\n"
     ]
    },
    {
     "name": "stderr",
     "output_type": "stream",
     "text": [
      " 10%|█         | 205/2001 [00:19<09:15,  3.23it/s]"
     ]
    },
    {
     "name": "stdout",
     "output_type": "stream",
     "text": [
      "test acc:  [0.83789998]\n"
     ]
    },
    {
     "name": "stderr",
     "output_type": "stream",
     "text": [
      " 15%|█▍        | 298/2001 [00:23<01:02, 27.11it/s]"
     ]
    },
    {
     "name": "stdout",
     "output_type": "stream",
     "text": [
      "train acc:  [0.96875]\n"
     ]
    },
    {
     "name": "stderr",
     "output_type": "stream",
     "text": [
      " 15%|█▌        | 304/2001 [00:27<08:45,  3.23it/s]"
     ]
    },
    {
     "name": "stdout",
     "output_type": "stream",
     "text": [
      "test acc:  [0.87919998]\n"
     ]
    },
    {
     "name": "stderr",
     "output_type": "stream",
     "text": [
      " 20%|█▉        | 400/2001 [00:30<00:59, 27.01it/s]"
     ]
    },
    {
     "name": "stdout",
     "output_type": "stream",
     "text": [
      "train acc:  [0.9375]\n"
     ]
    },
    {
     "name": "stderr",
     "output_type": "stream",
     "text": [
      " 20%|██        | 406/2001 [00:34<08:18,  3.20it/s]"
     ]
    },
    {
     "name": "stdout",
     "output_type": "stream",
     "text": [
      "test acc:  [0.87849998]\n"
     ]
    },
    {
     "name": "stderr",
     "output_type": "stream",
     "text": [
      " 25%|██▍       | 499/2001 [00:38<00:56, 26.75it/s]"
     ]
    },
    {
     "name": "stdout",
     "output_type": "stream",
     "text": [
      "train acc:  [0.9375]\n"
     ]
    },
    {
     "name": "stderr",
     "output_type": "stream",
     "text": [
      " 25%|██▌       | 504/2001 [00:43<09:00,  2.77it/s]"
     ]
    },
    {
     "name": "stdout",
     "output_type": "stream",
     "text": [
      "test acc:  [0.91970003]\n"
     ]
    },
    {
     "name": "stderr",
     "output_type": "stream",
     "text": [
      " 30%|██▉       | 598/2001 [00:47<00:52, 26.61it/s]"
     ]
    },
    {
     "name": "stdout",
     "output_type": "stream",
     "text": [
      "train acc:  [0.96875]\n"
     ]
    },
    {
     "name": "stderr",
     "output_type": "stream",
     "text": [
      " 30%|███       | 604/2001 [00:51<07:24,  3.14it/s]"
     ]
    },
    {
     "name": "stdout",
     "output_type": "stream",
     "text": [
      "test acc:  [0.92729998]\n"
     ]
    },
    {
     "name": "stderr",
     "output_type": "stream",
     "text": [
      " 35%|███▍      | 700/2001 [00:55<00:49, 26.46it/s]"
     ]
    },
    {
     "name": "stdout",
     "output_type": "stream",
     "text": [
      "train acc:  [1.0]\n"
     ]
    },
    {
     "name": "stderr",
     "output_type": "stream",
     "text": [
      " 35%|███▌      | 706/2001 [00:59<06:48,  3.17it/s]"
     ]
    },
    {
     "name": "stdout",
     "output_type": "stream",
     "text": [
      "test acc:  [0.92769998]\n"
     ]
    },
    {
     "name": "stderr",
     "output_type": "stream",
     "text": [
      " 40%|███▉      | 799/2001 [01:02<00:45, 26.31it/s]"
     ]
    },
    {
     "name": "stdout",
     "output_type": "stream",
     "text": [
      "train acc:  [0.96875]\n"
     ]
    },
    {
     "name": "stderr",
     "output_type": "stream",
     "text": [
      " 40%|████      | 805/2001 [01:06<06:15,  3.18it/s]"
     ]
    },
    {
     "name": "stdout",
     "output_type": "stream",
     "text": [
      "test acc:  [0.93330002]\n"
     ]
    },
    {
     "name": "stderr",
     "output_type": "stream",
     "text": [
      " 45%|████▍     | 898/2001 [01:10<00:41, 26.78it/s]"
     ]
    },
    {
     "name": "stdout",
     "output_type": "stream",
     "text": [
      "train acc:  [0.9375]\n"
     ]
    },
    {
     "name": "stderr",
     "output_type": "stream",
     "text": [
      " 45%|████▌     | 904/2001 [01:14<05:44,  3.19it/s]"
     ]
    },
    {
     "name": "stdout",
     "output_type": "stream",
     "text": [
      "test acc:  [0.92839998]\n"
     ]
    },
    {
     "name": "stderr",
     "output_type": "stream",
     "text": [
      " 50%|████▉     | 1000/2001 [01:18<00:40, 24.50it/s]"
     ]
    },
    {
     "name": "stdout",
     "output_type": "stream",
     "text": [
      "train acc:  [0.875]\n"
     ]
    },
    {
     "name": "stderr",
     "output_type": "stream",
     "text": [
      " 50%|█████     | 1006/2001 [01:22<05:17,  3.13it/s]"
     ]
    },
    {
     "name": "stdout",
     "output_type": "stream",
     "text": [
      "test acc:  [0.93199998]\n"
     ]
    },
    {
     "name": "stderr",
     "output_type": "stream",
     "text": [
      " 55%|█████▍    | 1099/2001 [01:26<00:34, 26.50it/s]"
     ]
    },
    {
     "name": "stdout",
     "output_type": "stream",
     "text": [
      "train acc:  [0.9375]\n"
     ]
    },
    {
     "name": "stderr",
     "output_type": "stream",
     "text": [
      " 55%|█████▌    | 1105/2001 [01:30<05:13,  2.86it/s]"
     ]
    },
    {
     "name": "stdout",
     "output_type": "stream",
     "text": [
      "test acc:  [0.92809999]\n"
     ]
    },
    {
     "name": "stderr",
     "output_type": "stream",
     "text": [
      " 60%|█████▉    | 1198/2001 [01:34<00:30, 26.42it/s]"
     ]
    },
    {
     "name": "stdout",
     "output_type": "stream",
     "text": [
      "train acc:  [0.90625]\n"
     ]
    },
    {
     "name": "stderr",
     "output_type": "stream",
     "text": [
      " 60%|██████    | 1204/2001 [01:38<04:09,  3.19it/s]"
     ]
    },
    {
     "name": "stdout",
     "output_type": "stream",
     "text": [
      "test acc:  [0.93349999]\n"
     ]
    },
    {
     "name": "stderr",
     "output_type": "stream",
     "text": [
      " 65%|██████▍   | 1300/2001 [01:42<00:32, 21.59it/s]"
     ]
    },
    {
     "name": "stdout",
     "output_type": "stream",
     "text": [
      "train acc:  [0.84375]\n"
     ]
    },
    {
     "name": "stderr",
     "output_type": "stream",
     "text": [
      " 65%|██████▌   | 1306/2001 [01:47<04:06,  2.82it/s]"
     ]
    },
    {
     "name": "stdout",
     "output_type": "stream",
     "text": [
      "test acc:  [0.92640001]\n"
     ]
    },
    {
     "name": "stderr",
     "output_type": "stream",
     "text": [
      " 70%|██████▉   | 1399/2001 [01:50<00:23, 25.95it/s]"
     ]
    },
    {
     "name": "stdout",
     "output_type": "stream",
     "text": [
      "train acc:  [1.0]\n"
     ]
    },
    {
     "name": "stderr",
     "output_type": "stream",
     "text": [
      " 70%|███████   | 1405/2001 [01:54<03:04,  3.23it/s]"
     ]
    },
    {
     "name": "stdout",
     "output_type": "stream",
     "text": [
      "test acc:  [0.94690001]\n"
     ]
    },
    {
     "name": "stderr",
     "output_type": "stream",
     "text": [
      " 75%|███████▍  | 1498/2001 [01:58<00:18, 26.91it/s]"
     ]
    },
    {
     "name": "stdout",
     "output_type": "stream",
     "text": [
      "train acc:  [0.9375]\n"
     ]
    },
    {
     "name": "stderr",
     "output_type": "stream",
     "text": [
      " 75%|███████▌  | 1504/2001 [02:02<02:36,  3.18it/s]"
     ]
    },
    {
     "name": "stdout",
     "output_type": "stream",
     "text": [
      "test acc:  [0.93760002]\n"
     ]
    },
    {
     "name": "stderr",
     "output_type": "stream",
     "text": [
      " 80%|███████▉  | 1600/2001 [02:06<00:15, 26.44it/s]"
     ]
    },
    {
     "name": "stdout",
     "output_type": "stream",
     "text": [
      "train acc:  [0.875]\n"
     ]
    },
    {
     "name": "stderr",
     "output_type": "stream",
     "text": [
      " 80%|████████  | 1606/2001 [02:09<01:43,  3.82it/s]"
     ]
    },
    {
     "name": "stdout",
     "output_type": "stream",
     "text": [
      "test acc:  [0.9249]\n"
     ]
    },
    {
     "name": "stderr",
     "output_type": "stream",
     "text": [
      " 85%|████████▍ | 1699/2001 [02:13<00:11, 27.05it/s]"
     ]
    },
    {
     "name": "stdout",
     "output_type": "stream",
     "text": [
      "train acc:  [0.875]\n"
     ]
    },
    {
     "name": "stderr",
     "output_type": "stream",
     "text": [
      " 85%|████████▌ | 1705/2001 [02:17<01:32,  3.21it/s]"
     ]
    },
    {
     "name": "stdout",
     "output_type": "stream",
     "text": [
      "test acc:  [0.92739999]\n"
     ]
    },
    {
     "name": "stderr",
     "output_type": "stream",
     "text": [
      " 90%|████████▉ | 1798/2001 [02:20<00:07, 26.35it/s]"
     ]
    },
    {
     "name": "stdout",
     "output_type": "stream",
     "text": [
      "train acc:  [0.96875]\n"
     ]
    },
    {
     "name": "stderr",
     "output_type": "stream",
     "text": [
      " 90%|█████████ | 1804/2001 [02:24<01:00,  3.25it/s]"
     ]
    },
    {
     "name": "stdout",
     "output_type": "stream",
     "text": [
      "test acc:  [0.9522]\n"
     ]
    },
    {
     "name": "stderr",
     "output_type": "stream",
     "text": [
      " 95%|█████████▍| 1900/2001 [02:28<00:04, 21.39it/s]"
     ]
    },
    {
     "name": "stdout",
     "output_type": "stream",
     "text": [
      "train acc:  [0.90625]\n"
     ]
    },
    {
     "name": "stderr",
     "output_type": "stream",
     "text": [
      "\r",
      " 95%|█████████▌| 1903/2001 [02:33<00:47,  2.08it/s]"
     ]
    },
    {
     "name": "stdout",
     "output_type": "stream",
     "text": [
      "test acc:  [0.95270002]\n"
     ]
    },
    {
     "name": "stderr",
     "output_type": "stream",
     "text": [
      "100%|█████████▉| 1999/2001 [02:37<00:00, 23.02it/s]"
     ]
    },
    {
     "name": "stdout",
     "output_type": "stream",
     "text": [
      "train acc:  [0.96875]\n"
     ]
    },
    {
     "name": "stderr",
     "output_type": "stream",
     "text": [
      "\r",
      "100%|██████████| 2001/2001 [02:42<00:00, 12.28it/s]"
     ]
    },
    {
     "name": "stdout",
     "output_type": "stream",
     "text": [
      "test acc:  [0.94569999]\n"
     ]
    },
    {
     "name": "stderr",
     "output_type": "stream",
     "text": [
      "\n"
     ]
    }
   ],
   "source": [
    "num_steps = 2001\n",
    "for s in tqdm(range(num_steps)):\n",
    "    offset = (s*batch_size) % (X.shape[0]-batch_size)\n",
    "    fd = {img_input:X[offset:offset+batch_size,:],\n",
    "         targets:y[offset:offset+batch_size,:]}\n",
    "    l,_ = sess.run([loss,opt],feed_dict=fd)\n",
    "    losses.append(l)\n",
    "    if s % 100 == 0:\n",
    "        print('train acc: ',sess.run([train_accuracy],feed_dict=fd))\n",
    "        print('test acc: ',sess.run([test_accuracy],feed_dict=fd))"
   ]
  },
  {
   "cell_type": "code",
   "execution_count": 12,
   "metadata": {
    "collapsed": false
   },
   "outputs": [
    {
     "data": {
      "text/html": [
       "\n",
       "\n",
       "    <div class=\"bk-root\">\n",
       "        <div class=\"plotdiv\" id=\"b63ce5dd-0d39-43cd-a6de-137772cd76ab\"></div>\n",
       "    </div>\n",
       "<script type=\"text/javascript\">\n",
       "  \n",
       "  (function(global) {\n",
       "    function now() {\n",
       "      return new Date();\n",
       "    }\n",
       "  \n",
       "    var force = \"\";\n",
       "  \n",
       "    if (typeof (window._bokeh_onload_callbacks) === \"undefined\" || force !== \"\") {\n",
       "      window._bokeh_onload_callbacks = [];\n",
       "      window._bokeh_is_loading = undefined;\n",
       "    }\n",
       "  \n",
       "  \n",
       "    \n",
       "    if (typeof (window._bokeh_timeout) === \"undefined\" || force !== \"\") {\n",
       "      window._bokeh_timeout = Date.now() + 0;\n",
       "      window._bokeh_failed_load = false;\n",
       "    }\n",
       "  \n",
       "    var NB_LOAD_WARNING = {'data': {'text/html':\n",
       "       \"<div style='background-color: #fdd'>\\n\"+\n",
       "       \"<p>\\n\"+\n",
       "       \"BokehJS does not appear to have successfully loaded. If loading BokehJS from CDN, this \\n\"+\n",
       "       \"may be due to a slow or bad network connection. Possible fixes:\\n\"+\n",
       "       \"</p>\\n\"+\n",
       "       \"<ul>\\n\"+\n",
       "       \"<li>re-rerun `output_notebook()` to attempt to load from CDN again, or</li>\\n\"+\n",
       "       \"<li>use INLINE resources instead, as so:</li>\\n\"+\n",
       "       \"</ul>\\n\"+\n",
       "       \"<code>\\n\"+\n",
       "       \"from bokeh.resources import INLINE\\n\"+\n",
       "       \"output_notebook(resources=INLINE)\\n\"+\n",
       "       \"</code>\\n\"+\n",
       "       \"</div>\"}};\n",
       "  \n",
       "    function display_loaded() {\n",
       "      if (window.Bokeh !== undefined) {\n",
       "        Bokeh.$(\"#b63ce5dd-0d39-43cd-a6de-137772cd76ab\").text(\"BokehJS successfully loaded.\");\n",
       "      } else if (Date.now() < window._bokeh_timeout) {\n",
       "        setTimeout(display_loaded, 100)\n",
       "      }\n",
       "    }\n",
       "  \n",
       "    function run_callbacks() {\n",
       "      window._bokeh_onload_callbacks.forEach(function(callback) { callback() });\n",
       "      delete window._bokeh_onload_callbacks\n",
       "      console.info(\"Bokeh: all callbacks have finished\");\n",
       "    }\n",
       "  \n",
       "    function load_libs(js_urls, callback) {\n",
       "      window._bokeh_onload_callbacks.push(callback);\n",
       "      if (window._bokeh_is_loading > 0) {\n",
       "        console.log(\"Bokeh: BokehJS is being loaded, scheduling callback at\", now());\n",
       "        return null;\n",
       "      }\n",
       "      if (js_urls == null || js_urls.length === 0) {\n",
       "        run_callbacks();\n",
       "        return null;\n",
       "      }\n",
       "      console.log(\"Bokeh: BokehJS not loaded, scheduling load and callback at\", now());\n",
       "      window._bokeh_is_loading = js_urls.length;\n",
       "      for (var i = 0; i < js_urls.length; i++) {\n",
       "        var url = js_urls[i];\n",
       "        var s = document.createElement('script');\n",
       "        s.src = url;\n",
       "        s.async = false;\n",
       "        s.onreadystatechange = s.onload = function() {\n",
       "          window._bokeh_is_loading--;\n",
       "          if (window._bokeh_is_loading === 0) {\n",
       "            console.log(\"Bokeh: all BokehJS libraries loaded\");\n",
       "            run_callbacks()\n",
       "          }\n",
       "        };\n",
       "        s.onerror = function() {\n",
       "          console.warn(\"failed to load library \" + url);\n",
       "        };\n",
       "        console.log(\"Bokeh: injecting script tag for BokehJS library: \", url);\n",
       "        document.getElementsByTagName(\"head\")[0].appendChild(s);\n",
       "      }\n",
       "    };var element = document.getElementById(\"b63ce5dd-0d39-43cd-a6de-137772cd76ab\");\n",
       "    if (element == null) {\n",
       "      console.log(\"Bokeh: ERROR: autoload.js configured with elementid 'b63ce5dd-0d39-43cd-a6de-137772cd76ab' but no matching script tag was found. \")\n",
       "      return false;\n",
       "    }\n",
       "  \n",
       "    var js_urls = [];\n",
       "  \n",
       "    var inline_js = [\n",
       "      function(Bokeh) {\n",
       "        Bokeh.$(function() {\n",
       "            var docs_json = {\"68d5a596-a1da-4358-b322-3f815f1a4562\":{\"roots\":{\"references\":[{\"attributes\":{},\"id\":\"379627ce-cc0d-4ec0-b3e6-8937f97cb25b\",\"type\":\"BasicTickFormatter\"},{\"attributes\":{},\"id\":\"c01a9813-a2e1-45c3-9060-8820a0398d8f\",\"type\":\"BasicTicker\"},{\"attributes\":{\"plot\":{\"id\":\"ddadc3f5-30f0-4451-9de7-06bd839e45bb\",\"subtype\":\"Figure\",\"type\":\"Plot\"}},\"id\":\"ab6a64b1-d98b-4f31-931c-882e81f2ec55\",\"type\":\"PanTool\"},{\"attributes\":{\"plot\":null,\"text\":\"training loss\"},\"id\":\"28a5a5c4-43f3-4543-b4af-bb3781aea00d\",\"type\":\"Title\"},{\"attributes\":{\"axis_label\":\"train steps\",\"formatter\":{\"id\":\"379627ce-cc0d-4ec0-b3e6-8937f97cb25b\",\"type\":\"BasicTickFormatter\"},\"plot\":{\"id\":\"ddadc3f5-30f0-4451-9de7-06bd839e45bb\",\"subtype\":\"Figure\",\"type\":\"Plot\"},\"ticker\":{\"id\":\"c01a9813-a2e1-45c3-9060-8820a0398d8f\",\"type\":\"BasicTicker\"}},\"id\":\"651960b9-2660-4098-aee1-cf551bca9d3e\",\"type\":\"LinearAxis\"},{\"attributes\":{\"callback\":null},\"id\":\"9a41fa92-1249-4962-bb49-4f3ac01d17db\",\"type\":\"DataRange1d\"},{\"attributes\":{},\"id\":\"7c7334ef-148f-4a38-b9f1-6912c7c302b1\",\"type\":\"BasicTicker\"},{\"attributes\":{\"line_alpha\":{\"value\":0.1},\"line_color\":{\"value\":\"#1f77b4\"},\"x\":{\"field\":\"x\"},\"y\":{\"field\":\"y\"}},\"id\":\"18d59a65-4424-4582-b7cf-91bff8bc6aef\",\"type\":\"Line\"},{\"attributes\":{\"data_source\":{\"id\":\"5a25f5f9-b4c8-4580-8aba-eb7de9f9158c\",\"type\":\"ColumnDataSource\"},\"glyph\":{\"id\":\"e4982d20-518c-4b96-8923-9a62e9803fbb\",\"type\":\"Line\"},\"hover_glyph\":null,\"nonselection_glyph\":{\"id\":\"18d59a65-4424-4582-b7cf-91bff8bc6aef\",\"type\":\"Line\"},\"selection_glyph\":null},\"id\":\"9306d3f2-0be0-4cb4-9d7d-cb0e28489480\",\"type\":\"GlyphRenderer\"},{\"attributes\":{\"plot\":{\"id\":\"ddadc3f5-30f0-4451-9de7-06bd839e45bb\",\"subtype\":\"Figure\",\"type\":\"Plot\"}},\"id\":\"69e981dc-b422-492c-84ae-cb2009aaf98f\",\"type\":\"ResetTool\"},{\"attributes\":{},\"id\":\"48b52f57-556d-4594-abc7-6aae3d27fde5\",\"type\":\"ToolEvents\"},{\"attributes\":{\"plot\":{\"id\":\"ddadc3f5-30f0-4451-9de7-06bd839e45bb\",\"subtype\":\"Figure\",\"type\":\"Plot\"},\"ticker\":{\"id\":\"c01a9813-a2e1-45c3-9060-8820a0398d8f\",\"type\":\"BasicTicker\"}},\"id\":\"caba2ec8-0ad4-4b60-b20e-f8dffbaf8cab\",\"type\":\"Grid\"},{\"attributes\":{\"callback\":null},\"id\":\"ab386bbd-cac1-4e70-8923-20d04bad0c21\",\"type\":\"DataRange1d\"},{\"attributes\":{\"active_drag\":\"auto\",\"active_scroll\":\"auto\",\"active_tap\":\"auto\",\"tools\":[{\"id\":\"ab6a64b1-d98b-4f31-931c-882e81f2ec55\",\"type\":\"PanTool\"},{\"id\":\"13038679-54a6-41d6-bc2e-2d3ec0ebe87e\",\"type\":\"WheelZoomTool\"},{\"id\":\"30311201-f0a7-4f78-b197-eab04b788111\",\"type\":\"BoxZoomTool\"},{\"id\":\"b55df904-6a3c-447e-a033-9de8d3131d4d\",\"type\":\"SaveTool\"},{\"id\":\"69e981dc-b422-492c-84ae-cb2009aaf98f\",\"type\":\"ResetTool\"},{\"id\":\"2084baad-ecd4-4be7-accc-4a8bbcd0ad93\",\"type\":\"HelpTool\"}]},\"id\":\"82f58ad9-a42a-43be-b50e-94f96658200f\",\"type\":\"Toolbar\"},{\"attributes\":{\"bottom_units\":\"screen\",\"fill_alpha\":{\"value\":0.5},\"fill_color\":{\"value\":\"lightgrey\"},\"left_units\":\"screen\",\"level\":\"overlay\",\"line_alpha\":{\"value\":1.0},\"line_color\":{\"value\":\"black\"},\"line_dash\":[4,4],\"line_width\":{\"value\":2},\"plot\":null,\"render_mode\":\"css\",\"right_units\":\"screen\",\"top_units\":\"screen\"},\"id\":\"cab02870-d083-40a0-bb49-080e7994774e\",\"type\":\"BoxAnnotation\"},{\"attributes\":{\"callback\":null,\"column_names\":[\"y\",\"x\"],\"data\":{\"x\":[0,1,2,3,4,5,6,7,8,9,10,11,12,13,14,15,16,17,18,19,20,21,22,23,24,25,26,27,28,29,30,31,32,33,34,35,36,37,38,39,40,41,42,43,44,45,46,47,48,49,50,51,52,53,54,55,56,57,58,59,60,61,62,63,64,65,66,67,68,69,70,71,72,73,74,75,76,77,78,79,80,81,82,83,84,85,86,87,88,89,90,91,92,93,94,95,96,97,98,99,100,101,102,103,104,105,106,107,108,109,110,111,112,113,114,115,116,117,118,119,120,121,122,123,124,125,126,127,128,129,130,131,132,133,134,135,136,137,138,139,140,141,142,143,144,145,146,147,148,149,150,151,152,153,154,155,156,157,158,159,160,161,162,163,164,165,166,167,168,169,170,171,172,173,174,175,176,177,178,179,180,181,182,183,184,185,186,187,188,189,190,191,192,193,194,195,196,197,198,199,200,201,202,203,204,205,206,207,208,209,210,211,212,213,214,215,216,217,218,219,220,221,222,223,224,225,226,227,228,229,230,231,232,233,234,235,236,237,238,239,240,241,242,243,244,245,246,247,248,249,250,251,252,253,254,255,256,257,258,259,260,261,262,263,264,265,266,267,268,269,270,271,272,273,274,275,276,277,278,279,280,281,282,283,284,285,286,287,288,289,290,291,292,293,294,295,296,297,298,299,300,301,302,303,304,305,306,307,308,309,310,311,312,313,314,315,316,317,318,319,320,321,322,323,324,325,326,327,328,329,330,331,332,333,334,335,336,337,338,339,340,341,342,343,344,345,346,347,348,349,350,351,352,353,354,355,356,357,358,359,360,361,362,363,364,365,366,367,368,369,370,371,372,373,374,375,376,377,378,379,380,381,382,383,384,385,386,387,388,389,390,391,392,393,394,395,396,397,398,399,400,401,402,403,404,405,406,407,408,409,410,411,412,413,414,415,416,417,418,419,420,421,422,423,424,425,426,427,428,429,430,431,432,433,434,435,436,437,438,439,440,441,442,443,444,445,446,447,448,449,450,451,452,453,454,455,456,457,458,459,460,461,462,463,464,465,466,467,468,469,470,471,472,473,474,475,476,477,478,479,480,481,482,483,484,485,486,487,488,489,490,491,492,493,494,495,496,497,498,499,500,501,502,503,504,505,506,507,508,509,510,511,512,513,514,515,516,517,518,519,520,521,522,523,524,525,526,527,528,529,530,531,532,533,534,535,536,537,538,539,540,541,542,543,544,545,546,547,548,549,550,551,552,553,554,555,556,557,558,559,560,561,562,563,564,565,566,567,568,569,570,571,572,573,574,575,576,577,578,579,580,581,582,583,584,585,586,587,588,589,590,591,592,593,594,595,596,597,598,599,600,601,602,603,604,605,606,607,608,609,610,611,612,613,614,615,616,617,618,619,620,621,622,623,624,625,626,627,628,629,630,631,632,633,634,635,636,637,638,639,640,641,642,643,644,645,646,647,648,649,650,651,652,653,654,655,656,657,658,659,660,661,662,663,664,665,666,667,668,669,670,671,672,673,674,675,676,677,678,679,680,681,682,683,684,685,686,687,688,689,690,691,692,693,694,695,696,697,698,699,700,701,702,703,704,705,706,707,708,709,710,711,712,713,714,715,716,717,718,719,720,721,722,723,724,725,726,727,728,729,730,731,732,733,734,735,736,737,738,739,740,741,742,743,744,745,746,747,748,749,750,751,752,753,754,755,756,757,758,759,760,761,762,763,764,765,766,767,768,769,770,771,772,773,774,775,776,777,778,779,780,781,782,783,784,785,786,787,788,789,790,791,792,793,794,795,796,797,798,799,800,801,802,803,804,805,806,807,808,809,810,811,812,813,814,815,816,817,818,819,820,821,822,823,824,825,826,827,828,829,830,831,832,833,834,835,836,837,838,839,840,841,842,843,844,845,846,847,848,849,850,851,852,853,854,855,856,857,858,859,860,861,862,863,864,865,866,867,868,869,870,871,872,873,874,875,876,877,878,879,880,881,882,883,884,885,886,887,888,889,890,891,892,893,894,895,896,897,898,899,900,901,902,903,904,905,906,907,908,909,910,911,912,913,914,915,916,917,918,919,920,921,922,923,924,925,926,927,928,929,930,931,932,933,934,935,936,937,938,939,940,941,942,943,944,945,946,947,948,949,950,951,952,953,954,955,956,957,958,959,960,961,962,963,964,965,966,967,968,969,970,971,972,973,974,975,976,977,978,979,980,981,982,983,984,985,986,987,988,989,990,991,992,993,994,995,996,997,998,999,1000,1001,1002,1003,1004,1005,1006,1007,1008,1009,1010,1011,1012,1013,1014,1015,1016,1017,1018,1019,1020,1021,1022,1023,1024,1025,1026,1027,1028,1029,1030,1031,1032,1033,1034,1035,1036,1037,1038,1039,1040,1041,1042,1043,1044,1045,1046,1047,1048,1049,1050,1051,1052,1053,1054,1055,1056,1057,1058,1059,1060,1061,1062,1063,1064,1065,1066,1067,1068,1069,1070,1071,1072,1073,1074,1075,1076,1077,1078,1079,1080,1081,1082,1083,1084,1085,1086,1087,1088,1089,1090,1091,1092,1093,1094,1095,1096,1097,1098,1099,1100,1101,1102,1103,1104,1105,1106,1107,1108,1109,1110,1111,1112,1113,1114,1115,1116,1117,1118,1119,1120,1121,1122,1123,1124,1125,1126,1127,1128,1129,1130,1131,1132,1133,1134,1135,1136,1137,1138,1139,1140,1141,1142,1143,1144,1145,1146,1147,1148,1149,1150,1151,1152,1153,1154,1155,1156,1157,1158,1159,1160,1161,1162,1163,1164,1165,1166,1167,1168,1169,1170,1171,1172,1173,1174,1175,1176,1177,1178,1179,1180,1181,1182,1183,1184,1185,1186,1187,1188,1189,1190,1191,1192,1193,1194,1195,1196,1197,1198,1199,1200,1201,1202,1203,1204,1205,1206,1207,1208,1209,1210,1211,1212,1213,1214,1215,1216,1217,1218,1219,1220,1221,1222,1223,1224,1225,1226,1227,1228,1229,1230,1231,1232,1233,1234,1235,1236,1237,1238,1239,1240,1241,1242,1243,1244,1245,1246,1247,1248,1249,1250,1251,1252,1253,1254,1255,1256,1257,1258,1259,1260,1261,1262,1263,1264,1265,1266,1267,1268,1269,1270,1271,1272,1273,1274,1275,1276,1277,1278,1279,1280,1281,1282,1283,1284,1285,1286,1287,1288,1289,1290,1291,1292,1293,1294,1295,1296,1297,1298,1299,1300,1301,1302,1303,1304,1305,1306,1307,1308,1309,1310,1311,1312,1313,1314,1315,1316,1317,1318,1319,1320,1321,1322,1323,1324,1325,1326,1327,1328,1329,1330,1331,1332,1333,1334,1335,1336,1337,1338,1339,1340,1341,1342,1343,1344,1345,1346,1347,1348,1349,1350,1351,1352,1353,1354,1355,1356,1357,1358,1359,1360,1361,1362,1363,1364,1365,1366,1367,1368,1369,1370,1371,1372,1373,1374,1375,1376,1377,1378,1379,1380,1381,1382,1383,1384,1385,1386,1387,1388,1389,1390,1391,1392,1393,1394,1395,1396,1397,1398,1399,1400,1401,1402,1403,1404,1405,1406,1407,1408,1409,1410,1411,1412,1413,1414,1415,1416,1417,1418,1419,1420,1421,1422,1423,1424,1425,1426,1427,1428,1429,1430,1431,1432,1433,1434,1435,1436,1437,1438,1439,1440,1441,1442,1443,1444,1445,1446,1447,1448,1449,1450,1451,1452,1453,1454,1455,1456,1457,1458,1459,1460,1461,1462,1463,1464,1465,1466,1467,1468,1469,1470,1471,1472,1473,1474,1475,1476,1477,1478,1479,1480,1481,1482,1483,1484,1485,1486,1487,1488,1489,1490,1491,1492,1493,1494,1495,1496,1497,1498,1499,1500,1501,1502,1503,1504,1505,1506,1507,1508,1509,1510,1511,1512,1513,1514,1515,1516,1517,1518,1519,1520,1521,1522,1523,1524,1525,1526,1527,1528,1529,1530,1531,1532,1533,1534,1535,1536,1537,1538,1539,1540,1541,1542,1543,1544,1545,1546,1547,1548,1549,1550,1551,1552,1553,1554,1555,1556,1557,1558,1559,1560,1561,1562,1563,1564,1565,1566,1567,1568,1569,1570,1571,1572,1573,1574,1575,1576,1577,1578,1579,1580,1581,1582,1583,1584,1585,1586,1587,1588,1589,1590,1591,1592,1593,1594,1595,1596,1597,1598,1599,1600,1601,1602,1603,1604,1605,1606,1607,1608,1609,1610,1611,1612,1613,1614,1615,1616,1617,1618,1619,1620,1621,1622,1623,1624,1625,1626,1627,1628,1629,1630,1631,1632,1633,1634,1635,1636,1637,1638,1639,1640,1641,1642,1643,1644,1645,1646,1647,1648,1649,1650,1651,1652,1653,1654,1655,1656,1657,1658,1659,1660,1661,1662,1663,1664,1665,1666,1667,1668,1669,1670,1671,1672,1673,1674,1675,1676,1677,1678,1679,1680,1681,1682,1683,1684,1685,1686,1687,1688,1689,1690,1691,1692,1693,1694,1695,1696,1697,1698,1699,1700,1701,1702,1703,1704,1705,1706,1707,1708,1709,1710,1711,1712,1713,1714,1715,1716,1717,1718,1719,1720,1721,1722,1723,1724,1725,1726,1727,1728,1729,1730,1731,1732,1733,1734,1735,1736,1737,1738,1739,1740,1741,1742,1743,1744,1745,1746,1747,1748,1749,1750,1751,1752,1753,1754,1755,1756,1757,1758,1759,1760,1761,1762,1763,1764,1765,1766,1767,1768,1769,1770,1771,1772,1773,1774,1775,1776,1777,1778,1779,1780,1781,1782,1783,1784,1785,1786,1787,1788,1789,1790,1791,1792,1793,1794,1795,1796,1797,1798,1799,1800,1801,1802,1803,1804,1805,1806,1807,1808,1809,1810,1811,1812,1813,1814,1815,1816,1817,1818,1819,1820,1821,1822,1823,1824,1825,1826,1827,1828,1829,1830,1831,1832,1833,1834,1835,1836,1837,1838,1839,1840,1841,1842,1843,1844,1845,1846,1847,1848,1849,1850,1851,1852,1853,1854,1855,1856,1857,1858,1859,1860,1861,1862,1863,1864,1865,1866,1867,1868,1869,1870,1871,1872,1873,1874,1875,1876,1877,1878,1879,1880,1881,1882,1883,1884,1885,1886,1887,1888,1889,1890,1891,1892,1893,1894,1895,1896,1897,1898,1899,1900,1901,1902,1903,1904,1905,1906,1907,1908,1909,1910,1911,1912,1913,1914,1915,1916,1917,1918,1919,1920,1921,1922,1923,1924,1925,1926,1927,1928,1929,1930,1931,1932,1933,1934,1935,1936,1937,1938,1939,1940,1941,1942,1943,1944,1945,1946,1947,1948,1949,1950,1951,1952,1953,1954,1955,1956,1957,1958,1959,1960,1961,1962,1963,1964,1965,1966,1967,1968,1969,1970,1971,1972,1973,1974,1975,1976,1977,1978,1979,1980,1981,1982,1983,1984,1985,1986,1987,1988,1989,1990,1991,1992,1993,1994,1995,1996,1997,1998,1999,2000],\"y\":[963.3848266601562,605.2313232421875,429.363037109375,442.6555480957031,510.04888916015625,341.15289306640625,240.63587951660156,338.9712829589844,394.34588623046875,230.86109924316406,162.62725830078125,145.4730682373047,154.91273498535156,112.84879302978516,74.60071563720703,214.60894775390625,201.65513610839844,197.65731811523438,77.2763671875,250.22177124023438,116.74523162841797,120.31897735595703,105.75749206542969,159.15194702148438,103.91596221923828,45.526153564453125,105.9772720336914,105.16814422607422,106.540283203125,95.74212646484375,60.377532958984375,123.48894500732422,95.66938781738281,132.8170928955078,48.55839538574219,132.82102966308594,14.866003036499023,67.57758331298828,145.97300720214844,76.71163940429688,66.7508544921875,63.20895004272461,115.35421752929688,64.81743621826172,40.431854248046875,49.893836975097656,17.568323135375977,51.861595153808594,61.642311096191406,58.31271743774414,137.6051483154297,59.837249755859375,49.394325256347656,10.212557792663574,41.60307312011719,78.84111785888672,16.3106689453125,26.781476974487305,37.34450149536133,41.34205627441406,59.19389343261719,47.2240104675293,54.312469482421875,85.22079467773438,40.530792236328125,57.26179504394531,11.967092514038086,15.785618782043457,65.175048828125,64.94698333740234,6.441434383392334,51.383026123046875,28.107877731323242,18.539567947387695,52.24279022216797,61.55225372314453,28.449504852294922,17.139808654785156,5.499520301818848,15.772506713867188,12.89987850189209,55.0304069519043,31.234439849853516,67.98825073242188,26.821630477905273,80.78272247314453,19.94232177734375,59.22892379760742,37.57061004638672,3.714463233947754,38.01673889160156,28.92275047302246,31.890581130981445,2.8195343017578125,64.39704895019531,46.26387023925781,28.08620834350586,51.33978271484375,16.82906723022461,6.816507339477539,64.37919616699219,22.07268714904785,53.63123321533203,4.873034477233887,4.520425796508789,48.21751403808594,32.2215461730957,17.213472366333008,25.541179656982422,24.42401695251465,42.400264739990234,15.63961410522461,0.0,11.33675765991211,33.50010681152344,26.619834899902344,35.33192443847656,26.76824951171875,17.546659469604492,42.661590576171875,17.197328567504883,32.55132293701172,5.124451637268066,18.53302764892578,27.470699310302734,24.7448787689209,47.426780700683594,44.446128845214844,14.208817481994629,58.57551574707031,25.99488067626953,12.020801544189453,17.012847900390625,31.369247436523438,20.83664321899414,28.681655883789062,35.80286407470703,19.619653701782227,0.22024011611938477,52.2120475769043,30.557456970214844,6.44487190246582,20.635780334472656,11.100584030151367,16.552555084228516,17.02005958557129,40.759681701660156,13.001794815063477,44.50625991821289,29.00657081604004,16.103076934814453,11.040177345275879,8.853107452392578,10.924592018127441,38.91035461425781,19.89952278137207,19.33659553527832,18.203718185424805,46.69355010986328,24.287620544433594,50.44170379638672,83.92704772949219,3.590993881225586,9.831137657165527,41.136085510253906,59.328330993652344,29.22241973876953,22.38029670715332,8.445125579833984,6.705444812774658,7.584344863891602,19.096229553222656,12.653924942016602,95.0260009765625,17.531787872314453,14.775832176208496,20.410621643066406,15.957494735717773,19.030851364135742,23.676647186279297,17.8903865814209,49.62828063964844,23.04876136779785,8.273454666137695,24.904178619384766,26.08307647705078,10.385370254516602,0.9681634902954102,14.069644927978516,15.829163551330566,31.69864273071289,29.98196792602539,2.0065817832946777,3.3483686447143555,0.0,18.629344940185547,21.57001304626465,10.047623634338379,20.18661880493164,9.694300651550293,14.928778648376465,32.67170333862305,39.064849853515625,4.752450466156006,8.279985427856445,30.533306121826172,9.446725845336914,7.120822906494141,30.6434383392334,15.618607521057129,14.699172973632812,4.114475250244141,36.96814727783203,34.742340087890625,26.42550277709961,18.854843139648438,48.89350128173828,22.524494171142578,20.67174530029297,41.25376510620117,11.337193489074707,14.20517349243164,0.9500417709350586,34.369354248046875,22.514848709106445,38.422218322753906,30.273128509521484,53.319091796875,15.104207992553711,18.109336853027344,25.299436569213867,10.758480072021484,26.54645538330078,12.237529754638672,27.849342346191406,13.07027816772461,0.3253912627696991,21.104276657104492,21.69990348815918,19.193523406982422,2.466301202774048,32.064735412597656,24.919403076171875,35.2604866027832,27.573118209838867,41.65406799316406,43.296607971191406,12.012487411499023,31.812484741210938,20.378164291381836,14.73288345336914,19.670242309570312,12.075876235961914,38.20553207397461,5.223976135253906,6.662174224853516,53.35334777832031,40.773563385009766,22.26486587524414,45.79317855834961,14.24685001373291,6.10615873336792,9.61694049835205,28.61835479736328,30.382976531982422,44.076908111572266,2.790614128112793,2.8745169639587402,10.886082649230957,38.05589294433594,3.219369888305664,60.07666778564453,81.58804321289062,1.109912633895874,31.129844665527344,32.57154846191406,24.79981231689453,13.709366798400879,30.02475357055664,9.046506881713867,12.205476760864258,17.05524444580078,1.384617805480957,7.96275520324707,60.11166763305664,17.929737091064453,8.78069019317627,13.571476936340332,11.468402862548828,33.249752044677734,15.609463691711426,19.837589263916016,33.43678665161133,23.53516387939453,30.416065216064453,17.556808471679688,36.82862854003906,17.93839454650879,20.956233978271484,16.923152923583984,9.572757720947266,19.658985137939453,7.562194347381592,0.8870940208435059,12.434684753417969,39.176876068115234,5.431448936462402,0.8952770233154297,29.880327224731445,0.0,1.3982574939727783,8.964495658874512,2.2906527519226074,39.4031982421875,1.2258076667785645,11.40126895904541,12.966585159301758,17.01620864868164,15.29150390625,59.66001892089844,28.8677978515625,26.83426284790039,4.642724514007568,23.36554527282715,20.431787490844727,7.102950096130371,38.6460075378418,18.812089920043945,27.879796981811523,1.0701427459716797,11.978887557983398,5.528472900390625,5.476312637329102,10.915356636047363,2.4375057220458984,31.645627975463867,23.636106491088867,7.545794486999512,5.536255359649658,29.15947914123535,50.2850456237793,6.333716869354248,1.9917364120483398,48.40675354003906,20.814163208007812,6.377495765686035,11.48904037475586,6.083011150360107,15.731433868408203,3.398982048034668,33.57170486450195,12.61593246459961,19.22797393798828,10.976461410522461,19.6870059967041,21.82465171813965,13.660565376281738,24.332134246826172,12.053985595703125,16.144651412963867,28.743778228759766,27.380109786987305,6.608601093292236,35.61431884765625,15.038516998291016,51.95376205444336,23.510292053222656,12.676849365234375,18.50625991821289,7.8297119140625,25.94394302368164,6.465264320373535,3.19588565826416,19.38437843322754,7.2542524337768555,5.767845630645752,13.280555725097656,23.390560150146484,8.560709953308105,0.0,3.6351728439331055,12.578393936157227,7.698209285736084,37.603843688964844,29.944114685058594,15.276955604553223,20.22136688232422,6.360034942626953,12.220213890075684,19.540658950805664,19.668800354003906,24.846031188964844,12.632869720458984,32.73971939086914,19.104888916015625,20.1900691986084,41.869140625,3.6734180450439453,7.148210525512695,3.152737855911255,4.626824378967285,12.23324966430664,15.28579044342041,28.883892059326172,13.966215133666992,55.60939025878906,23.048110961914062,22.933338165283203,34.15909957885742,13.066179275512695,34.647132873535156,10.799141883850098,9.82361125946045,1.6138572692871094,12.53826904296875,4.154999732971191,28.247337341308594,14.754383087158203,27.169519424438477,16.971879959106445,18.881305694580078,17.382722854614258,32.9906120300293,13.295745849609375,6.027841567993164,0.0,13.756548881530762,15.574987411499023,17.132198333740234,18.816383361816406,8.905162811279297,8.593504905700684,27.427860260009766,7.9987030029296875,10.577285766601562,1.1860742568969727,36.750301361083984,18.2492618560791,25.85192108154297,21.0838565826416,9.720260620117188,3.2817978858947754,22.600322723388672,25.7532901763916,18.91390609741211,4.410571575164795,32.905174255371094,28.38945960998535,26.003007888793945,40.18126678466797,21.216163635253906,9.241338729858398,9.166509628295898,19.20763397216797,15.2374267578125,14.388655662536621,10.182470321655273,7.590238571166992,7.953371047973633,37.195831298828125,20.336692810058594,22.69683074951172,20.67455291748047,38.577537536621094,29.39668846130371,20.14029312133789,0.8313102126121521,3.478194236755371,13.036111831665039,4.051563739776611,20.67522430419922,12.298965454101562,23.53128433227539,23.452064514160156,5.551677703857422,1.9232158660888672,1.5854442119598389,8.688919067382812,0.7885022759437561,16.640605926513672,15.14542007446289,13.609559059143066,17.4964656829834,12.626296043395996,14.311507225036621,19.052288055419922,19.174026489257812,11.8326416015625,8.740589141845703,5.087841510772705,6.997603416442871,16.621131896972656,14.299613952636719,15.04948616027832,13.586984634399414,15.591317176818848,17.65459632873535,11.791919708251953,39.600215911865234,10.31624984741211,11.886839866638184,29.609886169433594,0.966362476348877,16.412805557250977,11.897313117980957,2.6087560653686523,19.352825164794922,2.2496700286865234,4.47094202041626,13.311400413513184,3.229297161102295,23.057966232299805,3.4688568115234375,9.600910186767578,0.26932185888290405,22.82141876220703,10.217973709106445,41.04896545410156,1.9721155166625977,1.2780351638793945,23.210432052612305,34.94165802001953,17.63839340209961,27.87093734741211,8.318269729614258,4.560089588165283,4.2524027824401855,9.264993667602539,4.2150678634643555,15.715595245361328,21.90062141418457,12.789104461669922,14.516776084899902,12.897714614868164,12.062255859375,0.6752375960350037,2.7595295906066895,12.641426086425781,16.4177188873291,0.0,7.78778076171875,5.829174518585205,2.7945973873138428,30.02627944946289,13.302179336547852,1.2218828201293945,21.064769744873047,3.8561034202575684,36.527713775634766,9.81406307220459,3.6695289611816406,9.235359191894531,0.9660931825637817,4.453543663024902,11.423309326171875,12.523969650268555,34.561702728271484,5.932303428649902,8.415912628173828,10.414249420166016,6.196062088012695,19.299144744873047,21.144367218017578,4.591507911682129,9.73544979095459,26.019624710083008,0.10659371316432953,20.627042770385742,4.060758590698242,10.764945983886719,8.253692626953125,5.221322059631348,5.049772262573242,19.144060134887695,15.287090301513672,3.7023353576660156,4.627557277679443,22.613269805908203,14.919073104858398,0.0,0.2778869569301605,30.197023391723633,9.6238431930542,1.4829497337341309,5.245136737823486,18.67026138305664,0.0,3.174321174621582,5.594139099121094,2.890282154083252,5.5626606941223145,0.25309035181999207,7.31413459777832,2.5292859077453613,12.291936874389648,5.885568141937256,15.78054428100586,13.020021438598633,16.338315963745117,8.692399978637695,2.6049461364746094,16.429981231689453,8.116966247558594,6.880517482757568,7.8210625648498535,25.17322540283203,0.9317131042480469,5.971152305603027,1.8897180557250977,13.465593338012695,3.244748592376709,7.680023193359375,9.960164070129395,5.673504829406738,2.8442935943603516,3.8719639778137207,0.0,8.339106716448441e-05,11.546577453613281,31.070180892944336,1.711477518081665,0.001321011921390891,6.79331111907959,15.968733787536621,11.525995254516602,12.965804100036621,18.735151290893555,14.681896209716797,14.5979585647583,7.672855854034424,27.039653778076172,18.778804779052734,21.16046714782715,20.340442657470703,4.8937296867370605,18.248462677001953,0.08526835590600967,5.051210403442383,11.634485244750977,6.976789474487305,3.1624245643615723,9.342464447021484,16.51910972595215,6.881211280822754,4.238638877868652,5.674849033355713,20.79033660888672,19.36843490600586,11.423774719238281,37.01057434082031,7.153549671173096,4.096579074859619,6.870075225830078,21.812637329101562,8.09130573272705,17.408477783203125,12.374364852905273,6.547447204589844,13.85662841796875,3.709296703338623,11.446200370788574,5.2906389236450195,5.306064605712891,12.370644569396973,2.43851375579834,13.701327323913574,5.803772449493408,16.712726593017578,5.935883045196533,4.548114776611328,12.373950004577637,7.628538131713867,2.6445531845092773,9.049680709838867,9.096695899963379,17.864439010620117,5.3197832107543945,8.647234916687012,16.89181900024414,0.1750718057155609,4.487720012664795,0.5793847441673279,3.9049835205078125,3.919722557067871,11.092347145080566,14.999250411987305,16.955455780029297,14.485485076904297,3.2832717895507812,5.803463409392862e-06,4.690988063812256,27.945755004882812,12.067354202270508,21.73041534423828,20.32144546508789,0.41754990816116333,5.596941947937012,7.942953586578369,2.2524328231811523,2.0861556038198614e-07,1.7070209980010986,12.856721878051758,11.909505844116211,30.499448776245117,17.291532516479492,8.21246337890625,5.525362491607666,11.998677253723145,7.423845291137695,2.1868433952331543,19.37706184387207,12.457775115966797,10.018062591552734,5.601700782775879,10.275259017944336,3.977713108062744,0.0,1.761861801147461,0.7023407220840454,19.007709503173828,6.533740043640137,23.871978759765625,18.469032287597656,10.298246383666992,1.057995319366455,15.71812629699707,0.0,8.857484317559283e-06,3.360748291015625,8.925427436828613,12.385231018066406,2.600539445877075,9.249604225158691,18.693370819091797,2.5760226249694824,0.0,6.014212131500244,12.28691577911377,12.762887954711914,2.5256948471069336,5.381200790405273,6.306748867034912,0.0,2.3572399616241455,8.217942237854004,5.538888931274414,6.124353408813477,5.833751201629639,18.02667999267578,0.9553914666175842,4.484574794769287,20.100709915161133,6.647518157958984,0.6692529916763306,12.700162887573242,0.8337180018424988,8.566362380981445,3.385016918182373,19.443862915039062,7.093029022216797,3.873809337615967,0.6170368194580078,0.3570455014705658,7.7978515625,6.57944393157959,3.4946343898773193,11.744073867797852,3.591136932373047,10.72995376586914,20.207658767700195,2.88433837890625,10.18402099609375,6.053391933441162,10.043355941772461,18.17232322692871,6.664503574371338,7.043691635131836,1.2317578792572021,3.6811981201171875,10.147284507751465,0.9978697299957275,1.401418685913086,0.0,0.0,16.249046325683594,3.9830141067504883,6.616841793060303,0.3870795667171478,1.2129731178283691,9.41379165649414,16.099485397338867,0.4240158498287201,0.0,14.271881103515625,0.0,0.0,14.557279586791992,2.905850410461426,30.99985122680664,5.918216228485107,2.741842746734619,5.09860372543335,8.728673934936523,4.366561412811279,4.6803083419799805,10.961654663085938,30.4412841796875,15.038968086242676,0.481997013092041,4.596879959106445,2.1795806884765625,22.52495574951172,4.251689434051514,9.550603866577148,13.765838623046875,3.725290076417309e-09,4.629538536071777,0.9209122657775879,8.432318687438965,5.469417572021484,8.588414192199707,4.1222147941589355,2.085461139678955,5.240118980407715,22.33827018737793,15.617411613464355,2.915372848510742,1.3158447742462158,20.470874786376953,5.052475929260254,24.541276931762695,4.436550140380859,29.025714874267578,3.289045810699463,10.753498077392578,25.06017303466797,2.3222532272338867,6.880565166473389,3.5353524684906006,17.050113677978516,18.223907470703125,3.124556064605713,4.857119083404541,0.0,0.9790525436401367,2.8776001930236816,8.191673278808594,2.979329824447632,14.017499923706055,19.69997787475586,1.0801782608032227,14.014677047729492,0.0,1.7583589553833008,0.0,1.0446851253509521,5.921522617340088,5.128956317901611,5.506868839263916,11.595075607299805,11.08006763458252,9.248908042907715,11.647208213806152,8.330322265625,4.478909492492676,15.002339363098145,3.2993063926696777,3.782423496246338,2.6736366748809814,7.862700939178467,12.187324523925781,1.7645320892333984,0.0,10.489785194396973,2.4837088584899902,1.8126544952392578,0.0,3.145801067352295,6.686503887176514,10.132041931152344,2.7715604305267334,3.7543931007385254,1.3511075973510742,1.5363693237304688,2.2064449787139893,0.0,29.08551025390625,18.732900619506836,9.084434509277344,0.0,10.471364974975586,1.1370033025741577,10.778560638427734,11.081073760986328,7.730624198913574,16.75560760498047,1.3511123657226562,7.3207106590271,0.0,17.19489097595215,10.520206451416016,1.7175731658935547,5.42733097076416,7.16214656829834,11.149784088134766,9.958895683288574,5.520339012145996,7.353407382965088,4.676968574523926,11.465293884277344,4.67855978012085,19.27727699279785,13.761459350585938,4.617161273956299,1.9484105110168457,16.207420349121094,16.0827579498291,3.970710277557373,0.9383420944213867,10.166863441467285,3.3920536041259766,0.7238141298294067,7.362607002258301,5.616918563842773,16.171281814575195,3.075192451477051,2.690439462661743,15.145689010620117,6.658615589141846,8.060966491699219,1.9827842712402344,2.9211747646331787,14.16204833984375,3.4284963607788086,13.400370597839355,20.15567970275879,10.181641578674316,14.851309776306152,2.1469860076904297,16.107519149780273,7.558054447174072,20.788040161132812,13.065300941467285,0.0,2.8793537616729736,0.0,10.886213302612305,7.4505797087454084e-09,12.44992446899414,0.0013402749318629503,3.4869041442871094,2.489718437194824,9.622578620910645,3.9478282928466797,1.6390647888183594,6.502078533172607,2.5425753593444824,5.261427402496338,6.161171913146973,14.589951515197754,4.238597393035889,4.818131446838379,4.470655918121338,15.508118629455566,0.8360488414764404,1.2054791450500488,1.0197153091430664,6.5030517578125,0.0,6.6319990158081055,11.973527908325195,8.075027465820312,22.084651947021484,4.397456645965576,20.041526794433594,2.4576995372772217,1.9565885066986084,9.710439682006836,20.69481658935547,1.6177260875701904,3.3835067749023438,9.099820137023926,16.695594787597656,3.9922685623168945,0.0,3.315701961517334,13.582738876342773,12.907102584838867,1.1283109188079834,23.06430435180664,6.485143184661865,17.70705795288086,9.863868713378906,6.1534342765808105,5.0361433029174805,16.464126586914062,1.3790762424468994,1.0761518478393555,9.853581428527832,0.0,12.352320671081543,11.398364067077637,6.323452949523926,14.728414535522461,5.692777633666992,13.181960105895996,9.045194625854492,1.0942692756652832,5.763938903808594,0.7843670845031738,15.708208084106445,8.275325775146484,9.216649055480957,5.841663360595703,7.230368137359619,15.847676277160645,4.0978164861371624e-08,7.806127548217773,0.0,0.8636605143547058,24.585407257080078,5.952678203582764,2.121983051300049,3.743161201477051,21.715293884277344,1.55937922000885,10.008337020874023,11.80673885345459,12.296371459960938,0.8107824325561523,3.8929100036621094,8.945148468017578,5.256158828735352,7.406052112579346,6.388533115386963,14.066357612609863,4.529613494873047,2.403049945831299,11.407485961914062,2.6837708950042725,3.3233017921447754,7.971471786499023,9.401193618774414,5.272682189941406,6.80172872543335,0.0,0.0,4.437868595123291,2.355869770050049,0.5403580665588379,2.3654441833496094,3.3063130378723145,15.055411338806152,4.0016632080078125,3.946439504623413,15.166088104248047,1.7508814664779493e-07,0.0,3.2490034103393555,0.15789426863193512,0.004200154449790716,0.0,4.418322563171387,0.0,14.105279922485352,1.040696144104004,6.712177753448486,3.103115886915475e-05,4.551667213439941,0.0,0.9303850531578064,5.918348688283004e-05,4.06631326675415,4.032573223114014,0.0,9.794544219970703,3.4271457195281982,6.621464729309082,15.112628936767578,14.615180969238281,5.625096797943115,0.0,4.792933464050293,20.800228118896484,6.1731462478637695,3.0030641555786133,0.0,5.270874977111816,23.90489959716797,7.686591148376465,0.38655179738998413,12.003568649291992,3.927407741546631,2.4779510498046875,0.0,25.057809829711914,1.6203312873840332,0.0,14.960975646972656,4.851731300354004,11.403581619262695,13.13088321685791,1.761190414428711,5.049271583557129,0.0016902567585930228,0.0,4.408034324645996,2.923032760620117,25.387733459472656,4.3578691482543945,3.657163619995117,3.499253749847412,9.685739854603526e-08,14.736137390136719,4.860711097717285,10.8009614944458,9.688383102416992,0.6486177444458008,1.8835067749023438,0.0002084410807583481,6.771149635314941,2.3848915100097656,0.1048641949892044,7.168064117431641,12.268729209899902,8.14716625213623,17.352962493896484,12.906842231750488,15.065329551696777,9.048954963684082,7.500576972961426,8.837883949279785,11.651683807373047,4.955077648162842,5.876698970794678,0.0165376178920269,5.294182300567627,13.712594032287598,12.864522933959961,6.14898681640625,10.44459056854248,1.255152702331543,14.66254711151123,5.026251792907715,6.639369487762451,3.095259189605713,1.8059864044189453,5.378688812255859,14.259978294372559,0.6394785046577454,2.19952392578125,13.32541275024414,10.340764045715332,2.1822919845581055,8.411539077758789,1.7301439046859741,7.020368576049805,26.68009376525879,16.03822135925293,13.090555191040039,15.308996200561523,17.81307029724121,0.0,0.24169623851776123,7.08950138092041,7.5322794914245605,3.8597826957702637,19.113670349121094,12.396573066711426,5.218555927276611,13.488441467285156,0.0,5.40138053894043,27.09585952758789,4.292086124420166,7.312661647796631,6.2478156089782715,7.4080610275268555,5.265905857086182,10.996393203735352,12.056049346923828,4.913549900054932,17.828243255615234,0.8005270957946777,1.118076205253601,5.33858585357666,3.0221681594848633,5.471027374267578,3.63161039352417,1.9741082191467285,9.490267753601074,4.356120586395264,7.162940502166748,5.667136192321777,12.966877937316895,2.7981154918670654,4.696089267730713,14.576486587524414,2.2233123779296875,11.642457962036133,5.37748908996582,0.0,0.6466174125671387,9.254688262939453,2.287651300430298,3.781323194503784,21.09987449645996,2.9424023628234863,10.259355545043945,13.80803108215332,0.8508496284484863,13.840095520019531,5.80369758605957,1.7708139419555664,0.5725050568580627,1.8961701393127441,9.058908462524414,5.005791187286377,3.8278369903564453,13.842449188232422,2.8480515480041504,2.380403518676758,14.2531099319458,0.05963192507624626,9.433043479919434,0.6848726272583008,12.470833778381348,17.361284255981445,24.496559143066406,4.835620880126953,5.779475212097168,6.112844944000244,6.995980739593506,10.268463134765625,2.1624464988708496,3.993168830871582,0.3062470555305481,4.862517356872559,18.757328033447266,5.360027313232422,6.231341361999512,1.0503147840499878,19.110157012939453,7.910618782043457,9.557174682617188,7.907619476318359,4.018486499786377,0.8652095794677734,18.623868942260742,15.627493858337402,2.0837924480438232,11.128323554992676,1.0076146125793457,2.268599033355713,15.029821395874023,2.617003917694092,0.0,7.630322456359863,3.153261184692383,9.717988967895508,3.596930742263794,15.634810447692871,16.38519287109375,6.933613300323486,6.513604164123535,2.3392348289489746,3.7361955642700195,1.656975507736206,0.7222518920898438,18.772438049316406,13.573153495788574,0.1384229063987732,3.615584373474121,14.58375072479248,0.616096556186676,10.489006042480469,0.345042884349823,14.037874221801758,0.0,8.90091323852539,13.328568458557129,5.8690924644470215,0.0,2.44490647315979,4.555698069452774e-06,3.473416566848755,11.180014610290527,9.773733139038086,0.9489741325378418,24.224506378173828,29.833721160888672,14.116456031799316,5.194854736328125,13.80339241027832,11.567230224609375,17.503829956054688,5.863714694976807,8.10387134552002,16.53212547302246,11.939929962158203,12.694000244140625,7.689362525939941,3.535289764404297,3.097890853881836,9.162725448608398,7.307256698608398,1.632443904876709,6.777718544006348,6.070928573608398,14.074213027954102,6.961655616760254,5.7649970054626465,11.318928718566895,7.631832122802734,1.6957273483276367,2.2352538108825684,0.21719639003276825,0.0,5.50234317779541,5.474977970123291,4.772432804107666,0.11834679543972015,4.947922706604004,12.187082290649414,0.0,12.278674125671387,20.590240478515625,15.3551607131958,14.402135848999023,0.00020242716709617525,8.415334701538086,5.806375026702881,3.013786792755127,8.720367431640625,10.56270694732666,1.3629575967788696,18.93598747253418,1.9354510307312012,10.093168258666992,6.331196308135986,7.227108001708984,2.9650766849517822,6.734182834625244,4.750160217285156,8.054083824157715,8.450016975402832,0.15807762742042542,5.054189205169678,3.24063777923584,1.0636252164840698,0.0,0.0035210144706070423,4.600453848979669e-06,0.0,7.395646095275879,3.6632893085479736,4.608088493347168,10.039834976196289,5.243434906005859,0.0,19.12440299987793,8.282217025756836,2.7465455532073975,3.011063575744629,24.522708892822266,7.549459457397461,0.0,0.0,3.17752742767334,6.018920421600342,6.440011978149414,16.853469848632812,2.875119686126709,7.185377597808838,9.118783950805664,8.34453885545372e-07,7.4069976806640625,8.599637985229492,4.279820442199707,1.5884721279144287,8.939018249511719,5.365628719329834,5.671254634857178,2.833589553833008,1.7785391807556152,7.583924770355225,21.303030014038086,0.5738176107406616,8.459982872009277,10.196205139160156,4.435548305511475,0.0,0.729456901550293,0.2802964746952057,1.2744991779327393,4.285314559936523,1.735644817352295,5.990054607391357,12.761411666870117,0.09844052046537399,1.3519487380981445,7.627404689788818,15.97224235534668,10.180526733398438,0.15698088705539703,5.882592678070068,5.357112407684326,1.691819190979004,2.881542205810547,2.2670304775238037,13.958967208862305,0.86725252866745,8.194183349609375,2.2939395904541016,0.13852857053279877,4.8557209968566895,1.6673450469970703,3.725290076417309e-09,0.6467666625976562,14.037513732910156,15.996335983276367,3.7405474185943604,5.746765613555908,0.006344012450426817,5.869452476501465,25.1050968170166,0.36652836203575134,6.27635383605957,9.536597644910216e-07,0.0038630866911262274,5.718384742736816,11.53788948059082,1.0078492164611816,14.42203140258789,10.29688835144043,2.0115919596719323e-06,5.4085259437561035,2.7209644317626953,6.6912946701049805,3.2527427673339844,10.626477241516113,10.506118774414062,2.356598138809204,9.333727836608887,0.27679410576820374,17.214561462402344,29.98754119873047,5.491244316101074,6.215579986572266,12.063922882080078,13.443300247192383,9.785956382751465,1.1996259689331055,1.9656972885131836,2.2284607887268066,2.4715945720672607,8.534575462341309,2.3293144702911377,0.6412382125854492,4.638732433319092,11.196429252624512,0.0,5.9089765548706055,0.6941190958023071,7.971537113189697,3.347332000732422,0.044005926698446274,0.3502163589000702,12.411897659301758,5.179854393005371,1.6891584396362305,5.473868370056152,0.21481791138648987,7.826432228088379,3.725290076417309e-09,14.142757415771484,22.96341323852539,14.842576026916504,2.3842859268188477,9.30180835723877,2.6909213066101074,3.3884005546569824,4.417234897613525,17.728910446166992,12.625738143920898,3.5234813690185547,10.626424789428711,35.130428314208984,10.534591674804688,2.9189767837524414,20.46345329284668,5.466813087463379,8.08816909790039,0.2181258201599121,5.674473285675049,7.113339900970459,7.642041206359863,6.813883304595947,3.080470561981201,7.4505797087454084e-09,8.063478469848633,2.8275938034057617,2.1562373638153076,1.841019630432129,1.546804666519165,0.0,0.232661634683609,1.5433344841003418,7.398194789886475,3.275252103805542,0.010203542187809944,12.019281387329102,6.614771842956543,0.0,1.57420015335083,0.04931965470314026,8.456526756286621,3.0621275901794434,1.8063044548034668,2.1474533081054688,10.574750900268555,0.0006668836576864123,2.6191658973693848,0.0,3.2753050327301025,3.6585910320281982,4.698638916015625,11.283771514892578,4.9275031089782715,22.091039657592773,15.268411636352539,26.774402618408203,0.0,25.193557739257812,3.124824047088623,2.840386390686035,0.0005195190897211432,17.153696060180664,5.846317768096924,1.4224128723144531,2.0207529067993164,4.1795806884765625,0.6551375389099121,2.318803310394287,0.9048910140991211,1.2573537826538086,13.812294960021973,8.780502319335938,12.993908882141113,19.79332733154297,3.7511422306124587e-06,12.738824844360352,2.732011318206787,0.0,3.49800443649292,0.3309386670589447,0.0,7.513217926025391,0.2275363802909851,41.09550857543945,7.590118408203125,9.00866985321045,9.417070388793945,2.8483901023864746,3.7216544151306152,3.251741886138916,3.709913492202759,4.832153797149658,4.747227668762207,21.276187896728516,5.547142505645752,3.828819751739502,8.458898544311523,15.604181289672852,13.118727684020996,29.447566986083984,3.412794589996338,0.0,21.815946578979492,11.798912048339844,5.883929252624512,1.7059316635131836,6.23060417175293,0.0,17.55161476135254,22.61573600769043,11.61375617980957,11.898484230041504,0.7032360434532166,0.00043966935481876135,9.332405090332031,10.041790008544922,1.9621363878250122,13.833891868591309,0.0,0.0,4.266860008239746,4.3628058433532715,8.726919174194336,5.618564605712891,15.568819999694824,12.810633659362793,9.655649185180664,7.811090469360352,2.7286791801452637,9.13485336303711,4.470564365386963,3.0751566886901855,9.636466979980469,0.0,10.465202331542969,0.0,9.652153015136719,11.108733177185059,5.550884246826172,9.97433090209961,7.102390289306641,16.690183639526367,5.684275947714923e-06,0.0,1.2870054244995117,6.809385299682617,5.642317771911621,6.051074981689453,21.96051025390625,7.813108444213867,3.6356096267700195,12.942530632019043,6.045372486114502,17.572845458984375,11.997254371643066,1.8390655517578125,14.086793899536133,0.04009795933961868,7.506712913513184,12.842823028564453,4.181803226470947,2.7687549591064453,1.9053869247436523,0.0008883659029379487,0.0,0.0,0.0,0.0,0.0,0.005774803459644318,7.509633541107178,7.83953332901001,4.494861125946045,2.013881206512451,8.380374908447266,0.6483850479125977,9.204057693481445,6.733090877532959,13.46959114074707,16.938011169433594,0.0023657106794416904,0.0,0.920677661895752,0.08488154411315918,7.960117816925049,17.990501403808594,1.8349082469940186,16.711400985717773,0.22999082505702972,2.812565803527832,7.4505797087454084e-09,2.463947296142578,1.278818130493164,0.0,7.251734256744385,2.4460227489471436,4.8845696449279785,13.358194351196289,9.309934616088867,0.0,11.207990646362305,2.5706992149353027,0.5539498329162598,6.047870635986328,1.2805382013320923,2.343594551086426,10.625848770141602,12.191739082336426,5.671985149383545,1.188344981528644e-06,5.626476287841797,12.28735065460205,7.912424087524414,3.5768258571624756,5.428135871887207,0.0,0.0,0.8146207928657532,0.0,1.7926901578903198,0.16410890221595764,0.8740262985229492,0.0,2.454342842102051,11.559334754943848,2.327540874481201,0.5523052215576172,8.179403305053711,0.001449374482035637,6.761595726013184,0.1667918711900711,1.0934536457061768,0.616908073425293,4.792917251586914,1.9196218252182007,18.13242530822754,1.9755158424377441,3.4191296100616455,12.803302764892578,13.221881866455078,3.067110300064087,5.5502214431762695,2.4734601974487305,4.693475246429443,9.085113525390625,6.863821029663086,4.056145668029785,4.780738353729248,0.4444895088672638,1.8265290260314941,0.0,3.6636409759521484,2.577893018722534,15.959243774414062,0.0,3.5239241123199463,6.482019901275635,1.6169302463531494,13.325210571289062,18.75457763671875,0.08066257834434509,2.005289077758789,0.0,2.9281668663024902,0.2729374170303345,10.588825225830078,0.0013897112803533673,4.044624328613281,3.4186792373657227,6.109161853790283,10.252429008483887,3.8106276988983154,8.435853958129883,6.370181608872372e-07,1.4901157641133977e-08,0.18925607204437256,7.352775573730469,0.021630823612213135,2.2827587127685547,7.351330280303955,3.381204843521118,7.473301887512207,6.593538284301758,0.0,6.306859493255615,0.39864441752433777,1.9976427555084229,0.9852199554443359,8.337638854980469,10.963237762451172,2.813180923461914,1.4874777793884277,18.28392791748047,1.183335304260254,7.040536880493164,4.525142669677734,0.0,0.7423864006996155,0.0011362511431798339,5.94901180267334,3.5635135173797607,2.475041389465332,3.732919931411743,0.0,0.0,10.430805206298828,7.899073600769043,4.396670341491699,5.981186404824257e-05,0.0,3.0455808639526367,0.0,1.0937507152557373,5.606304168701172,5.498628616333008,2.6533265113830566,0.0,5.425895690917969,0.0,0.0,4.3145575523376465,7.712892532348633,3.2014122009277344,1.7991321086883545,3.4014482498168945,11.560940742492676,5.969128131866455,4.862617015838623,11.463435173034668,11.411401748657227,0.0,0.0,0.00014686664508190006,1.597758412361145,3.6341822147369385,5.669662952423096,1.873178482055664,4.0368828773498535,4.744869709014893,3.7778713703155518,0.00025507359532639384,0.4525566101074219,0.4921741485595703,0.0,3.803750991821289,3.0136145596770803e-06,2.1322550773620605,4.316236972808838,3.4654242992401123,3.4477996826171875,0.0,2.1479735374450684,0.0,1.6840686798095703,3.725290076417309e-09,0.0,4.199199676513672,0.0,0.0,0.0,1.2378654479980469,4.591585159301758,7.20673942565918,2.2351734685344127e-08,0.0,3.907663583755493,0.0,0.0,0.29897525906562805,2.1494186057680054e-06,2.2854161262512207,0.8629555702209473,1.0249347686767578,0.0,4.880599021911621,0.6101422309875488,0.0,2.493480682373047,8.294160842895508,3.1508846282958984,10.60130500793457,0.01918068714439869,3.6248507499694824,4.894829750061035,5.131442546844482,0.021671341732144356,0.0,0.0005556569085456431,0.9799675941467285,11.808574676513672,42.579322814941406,13.479537963867188,1.9820137023925781,3.15963077545166,0.14819049835205078,0.0,22.754751205444336,0.0007350377854891121,2.40324068069458,0.008885174989700317,9.794681549072266,0.0,26.316421508789062,3.4893646240234375,3.725290076417309e-09,0.844303548336029,6.929929733276367,2.2664413452148438,1.1968421936035156,0.6551923751831055,0.0,12.725689888000488,4.910115718841553,29.27784538269043,7.903594970703125,0.0,3.019683837890625,10.042485237121582,5.908136367797852,0.0,2.709754467010498,7.985144138336182,10.349692344665527,1.1770687103271484,13.454565048217773,0.9633649587631226,7.023937702178955,5.952854156494141,3.6869335174560547,11.795466423034668,5.938787460327148,5.498846530914307,2.8001980781555176,14.23672866821289,0.0,0.0,13.291068077087402,2.415611982345581,4.447208404541016,2.5389108657836914,20.79330062866211,9.381331443786621,2.52412748336792,4.372910499572754,0.0,13.195734024047852,0.0,3.2438554763793945,9.897377967834473,11.672164916992188,0.0,0.9374222755432129,4.533178806304932,0.0,0.0,0.0,4.753053665161133,1.3135457038879395,0.00016314201639033854,0.34478524327278137,4.283051013946533,8.793633460998535,2.627047061920166,7.497660160064697,0.0,4.487878799438477,8.543911933898926,1.001253366470337,3.2612006664276123,6.075846195220947,0.0,0.012765493243932724,4.412927627563477,3.2205891609191895,0.15714336931705475,0.9352803230285645,0.0,3.2271523475646973,0.0,1.4776312112808228,2.9993438720703125,23.182722091674805,1.5458240509033203,9.586393356323242,3.5200157165527344,4.393054962158203,0.4394655227661133,1.7560391426086426,3.2486352920532227,0.0,0.3608601987361908,1.7109006643295288,11.089980125427246,2.032832145690918,7.113317489624023,0.0,8.388227797695436e-06,0.0,6.913878917694092,2.2351738238057806e-08,2.8709945678710938,0.5652227401733398,2.916924476623535,5.260179042816162,7.69685697555542,2.000255823135376,2.1586990356445312,8.000591278076172,4.316536903381348,3.870393753051758,0.554804801940918,1.5090007781982422,3.4309682846069336,6.834341526031494,13.791131973266602,10.026668548583984,1.1173217296600342,1.5458011627197266,0.0,4.749245643615723,0.40329769253730774,0.0,5.669995307922363,7.371118068695068,2.0039215087890625]}},\"id\":\"5a25f5f9-b4c8-4580-8aba-eb7de9f9158c\",\"type\":\"ColumnDataSource\"},{\"attributes\":{\"below\":[{\"id\":\"651960b9-2660-4098-aee1-cf551bca9d3e\",\"type\":\"LinearAxis\"}],\"left\":[{\"id\":\"155711c7-affe-45a9-80fd-1beea5733a75\",\"type\":\"LinearAxis\"}],\"renderers\":[{\"id\":\"651960b9-2660-4098-aee1-cf551bca9d3e\",\"type\":\"LinearAxis\"},{\"id\":\"caba2ec8-0ad4-4b60-b20e-f8dffbaf8cab\",\"type\":\"Grid\"},{\"id\":\"155711c7-affe-45a9-80fd-1beea5733a75\",\"type\":\"LinearAxis\"},{\"id\":\"122ce6fb-7e26-4971-b035-a356c997f40c\",\"type\":\"Grid\"},{\"id\":\"cab02870-d083-40a0-bb49-080e7994774e\",\"type\":\"BoxAnnotation\"},{\"id\":\"9306d3f2-0be0-4cb4-9d7d-cb0e28489480\",\"type\":\"GlyphRenderer\"}],\"title\":{\"id\":\"28a5a5c4-43f3-4543-b4af-bb3781aea00d\",\"type\":\"Title\"},\"tool_events\":{\"id\":\"48b52f57-556d-4594-abc7-6aae3d27fde5\",\"type\":\"ToolEvents\"},\"toolbar\":{\"id\":\"82f58ad9-a42a-43be-b50e-94f96658200f\",\"type\":\"Toolbar\"},\"x_range\":{\"id\":\"9a41fa92-1249-4962-bb49-4f3ac01d17db\",\"type\":\"DataRange1d\"},\"y_range\":{\"id\":\"ab386bbd-cac1-4e70-8923-20d04bad0c21\",\"type\":\"DataRange1d\"}},\"id\":\"ddadc3f5-30f0-4451-9de7-06bd839e45bb\",\"subtype\":\"Figure\",\"type\":\"Plot\"},{\"attributes\":{\"line_color\":{\"value\":\"#1f77b4\"},\"x\":{\"field\":\"x\"},\"y\":{\"field\":\"y\"}},\"id\":\"e4982d20-518c-4b96-8923-9a62e9803fbb\",\"type\":\"Line\"},{\"attributes\":{\"plot\":{\"id\":\"ddadc3f5-30f0-4451-9de7-06bd839e45bb\",\"subtype\":\"Figure\",\"type\":\"Plot\"}},\"id\":\"13038679-54a6-41d6-bc2e-2d3ec0ebe87e\",\"type\":\"WheelZoomTool\"},{\"attributes\":{\"dimension\":1,\"plot\":{\"id\":\"ddadc3f5-30f0-4451-9de7-06bd839e45bb\",\"subtype\":\"Figure\",\"type\":\"Plot\"},\"ticker\":{\"id\":\"7c7334ef-148f-4a38-b9f1-6912c7c302b1\",\"type\":\"BasicTicker\"}},\"id\":\"122ce6fb-7e26-4971-b035-a356c997f40c\",\"type\":\"Grid\"},{\"attributes\":{},\"id\":\"4fce6c61-0417-4a29-b3ba-6da499d82d59\",\"type\":\"BasicTickFormatter\"},{\"attributes\":{\"overlay\":{\"id\":\"cab02870-d083-40a0-bb49-080e7994774e\",\"type\":\"BoxAnnotation\"},\"plot\":{\"id\":\"ddadc3f5-30f0-4451-9de7-06bd839e45bb\",\"subtype\":\"Figure\",\"type\":\"Plot\"}},\"id\":\"30311201-f0a7-4f78-b197-eab04b788111\",\"type\":\"BoxZoomTool\"},{\"attributes\":{\"plot\":{\"id\":\"ddadc3f5-30f0-4451-9de7-06bd839e45bb\",\"subtype\":\"Figure\",\"type\":\"Plot\"}},\"id\":\"b55df904-6a3c-447e-a033-9de8d3131d4d\",\"type\":\"SaveTool\"},{\"attributes\":{\"axis_label\":\"loss\",\"formatter\":{\"id\":\"4fce6c61-0417-4a29-b3ba-6da499d82d59\",\"type\":\"BasicTickFormatter\"},\"plot\":{\"id\":\"ddadc3f5-30f0-4451-9de7-06bd839e45bb\",\"subtype\":\"Figure\",\"type\":\"Plot\"},\"ticker\":{\"id\":\"7c7334ef-148f-4a38-b9f1-6912c7c302b1\",\"type\":\"BasicTicker\"}},\"id\":\"155711c7-affe-45a9-80fd-1beea5733a75\",\"type\":\"LinearAxis\"},{\"attributes\":{\"plot\":{\"id\":\"ddadc3f5-30f0-4451-9de7-06bd839e45bb\",\"subtype\":\"Figure\",\"type\":\"Plot\"}},\"id\":\"2084baad-ecd4-4be7-accc-4a8bbcd0ad93\",\"type\":\"HelpTool\"}],\"root_ids\":[\"ddadc3f5-30f0-4451-9de7-06bd839e45bb\"]},\"title\":\"Bokeh Application\",\"version\":\"0.12.2\"}};\n",
       "            var render_items = [{\"docid\":\"68d5a596-a1da-4358-b322-3f815f1a4562\",\"elementid\":\"b63ce5dd-0d39-43cd-a6de-137772cd76ab\",\"modelid\":\"ddadc3f5-30f0-4451-9de7-06bd839e45bb\"}];\n",
       "            \n",
       "            Bokeh.embed.embed_items(docs_json, render_items);\n",
       "        });\n",
       "      },\n",
       "      function(Bokeh) {\n",
       "      }\n",
       "    ];\n",
       "  \n",
       "    function run_inline_js() {\n",
       "      \n",
       "      if ((window.Bokeh !== undefined) || (force === \"1\")) {\n",
       "        for (var i = 0; i < inline_js.length; i++) {\n",
       "          inline_js[i](window.Bokeh);\n",
       "        }if (force === \"1\") {\n",
       "          display_loaded();\n",
       "        }} else if (Date.now() < window._bokeh_timeout) {\n",
       "        setTimeout(run_inline_js, 100);\n",
       "      } else if (!window._bokeh_failed_load) {\n",
       "        console.log(\"Bokeh: BokehJS failed to load within specified timeout.\");\n",
       "        window._bokeh_failed_load = true;\n",
       "      } else if (!force) {\n",
       "        var cell = $(\"#b63ce5dd-0d39-43cd-a6de-137772cd76ab\").parents('.cell').data().cell;\n",
       "        cell.output_area.append_execute_result(NB_LOAD_WARNING)\n",
       "      }\n",
       "  \n",
       "    }\n",
       "  \n",
       "    if (window._bokeh_is_loading === 0) {\n",
       "      console.log(\"Bokeh: BokehJS loaded, going straight to plotting\");\n",
       "      run_inline_js();\n",
       "    } else {\n",
       "      load_libs(js_urls, function() {\n",
       "        console.log(\"Bokeh: BokehJS plotting callback run at\", now());\n",
       "        run_inline_js();\n",
       "      });\n",
       "    }\n",
       "  }(this));\n",
       "</script>"
      ]
     },
     "metadata": {},
     "output_type": "display_data"
    }
   ],
   "source": [
    "p = figure(title=\"training loss\", x_axis_label='train steps', y_axis_label='loss')\n",
    "p.line(range(len(losses)),losses)\n",
    "show(p)"
   ]
  },
  {
   "cell_type": "markdown",
   "metadata": {},
   "source": [
    "## With Batch Norm"
   ]
  },
  {
   "cell_type": "code",
   "execution_count": 13,
   "metadata": {
    "collapsed": true
   },
   "outputs": [],
   "source": [
    "def createWeightsBN(s):\n",
    "    \"\"\"\n",
    "    Creates weights for batch normalization layer\n",
    "    \n",
    "    Parameters:\n",
    "    -----------\n",
    "    s: int\n",
    "        size of to be normalized\n",
    "    \"\"\"\n",
    "    gamma = tf.Variable(tf.truncated_normal([s]))\n",
    "    beta = tf.Variable(tf.ones([s]))\n",
    "    return [gamma,beta]\n",
    "\n",
    "def BN(x,variables,ri=[0,1,2],eps=.0001):\n",
    "    \"\"\"\n",
    "    Applies Batch Normalization\n",
    "    \n",
    "    Parameters:\n",
    "    ------------\n",
    "    x: tensor\n",
    "        the data to normalize\n",
    "        \n",
    "    variables: [gamma,beta]\n",
    "        parameters to learn\n",
    "        \n",
    "    ri (optional): [int]\n",
    "        reduction indicies\n",
    "    eps (optional): float\n",
    "        small number to keep from dividing by zero\n",
    "    \"\"\"\n",
    "    gamma,beta = variables[0],variables[1]\n",
    "    \n",
    "    mu = tf.reduce_mean(x,ri,keep_dims=True)\n",
    "    sigma = tf.reduce_mean(tf.square(x-mu),ri,keep_dims=True)\n",
    "    x_hat = (x-mu)/(tf.sqrt(sigma+eps))\n",
    "    y = gamma*x_hat+beta\n",
    "    return y"
   ]
  },
  {
   "cell_type": "code",
   "execution_count": 14,
   "metadata": {
    "collapsed": false
   },
   "outputs": [],
   "source": [
    "batch_size = 32\n",
    "g = tf.Graph()\n",
    "with g.as_default():\n",
    "    img_input = tf.placeholder(tf.float32,shape=(batch_size,img_size,img_size,nchannels))\n",
    "    targets = tf.placeholder(tf.float32,shape=(batch_size,10))\n",
    "    \n",
    "    testX = tf.constant(Xtest,dtype=tf.float32)\n",
    "    testy = tf.constant(ytest,dtype=tf.float32)\n",
    "    \n",
    "    bn_input = createWeightsBN(nchannels)\n",
    "    W_conv1 = createWeight([5,5,nchannels,64])\n",
    "    b_conv1 = createWeight([64])\n",
    "    \n",
    "    bn_1 = createWeightsBN(64)\n",
    "    W_conv2 = createWeight([5,5,64,128])\n",
    "    b_conv2 = createWeight([128])\n",
    "    \n",
    "    bn_2 = createWeightsBN(128)\n",
    "    W_logit = createWeight([128*7*7,10])\n",
    "    b_logit = createWeight([10])\n",
    "    bn_logit = createWeightsBN(10)\n",
    "    \n",
    "    #model\n",
    "    def model(img_input):\n",
    "        img_input_bn = BN(img_input,bn_input)\n",
    "        conv1 = tf.nn.conv2d(img_input_bn,W_conv1,strides=[1,2,2,1],padding=\"SAME\")\n",
    "        h1 = lrelu(conv1+b_conv1)\n",
    "\n",
    "        h1_bn = BN(h1,bn_1)\n",
    "        conv2 = tf.nn.conv2d(h1_bn,W_conv2,strides=[1,2,2,1],padding=\"SAME\")\n",
    "        h2 = lrelu(conv2+b_conv2)\n",
    "\n",
    "        h2_bn = BN(h2,bn_2)\n",
    "        h2_s = tf.shape(h2)\n",
    "        h2_flat = tf.reshape(h2_bn,[h2_s[0],128*(h2_s[1])*(h2_s[2])]) #512*2*2\n",
    "\n",
    "        logit = tf.matmul(h2_flat,W_logit)+b_logit\n",
    "        logit_bn = BN(logit,bn_logit,ri=[0])\n",
    "        \n",
    "        return logit_bn\n",
    "\n",
    "    \n",
    "    #train\n",
    "    logit_train = model(img_input)\n",
    "    loss = tf.reduce_mean(tf.nn.softmax_cross_entropy_with_logits(logit_train,targets))\n",
    "    \n",
    "    opt = tf.train.AdamOptimizer(learning_rate=.01).minimize(loss)\n",
    "    \n",
    "    train_accuracy = tf.reduce_mean(tf.cast(tf.equal(\n",
    "        tf.arg_max(tf.nn.softmax(logit_train),1),tf.arg_max(targets,1)),tf.float32))\n",
    "    \n",
    "    #test\n",
    "    logit_test = model(testX)\n",
    "    test_accuracy = tf.reduce_mean(tf.cast(tf.equal(\n",
    "        tf.arg_max(tf.nn.softmax(logit_test),1),tf.arg_max(testy,1)),tf.float32))\n",
    "    \n",
    "    init = tf.initialize_all_variables()"
   ]
  },
  {
   "cell_type": "code",
   "execution_count": 15,
   "metadata": {
    "collapsed": false
   },
   "outputs": [],
   "source": [
    "sess=tf.Session(graph=g)\n",
    "sess.run(init)\n",
    "losses = []"
   ]
  },
  {
   "cell_type": "code",
   "execution_count": 16,
   "metadata": {
    "collapsed": false
   },
   "outputs": [
    {
     "name": "stderr",
     "output_type": "stream",
     "text": [
      "\r",
      "  0%|          | 0/2001 [00:00<?, ?it/s]"
     ]
    },
    {
     "name": "stdout",
     "output_type": "stream",
     "text": [
      "train acc:  [0.78125]\n"
     ]
    },
    {
     "name": "stderr",
     "output_type": "stream",
     "text": [
      "  0%|          | 3/2001 [00:08<3:19:10,  5.98s/it]"
     ]
    },
    {
     "name": "stdout",
     "output_type": "stream",
     "text": [
      "test acc:  [0.3874]\n"
     ]
    },
    {
     "name": "stderr",
     "output_type": "stream",
     "text": [
      "  5%|▍         | 99/2001 [00:14<02:03, 15.36it/s] "
     ]
    },
    {
     "name": "stdout",
     "output_type": "stream",
     "text": [
      "train acc:  [0.875]\n"
     ]
    },
    {
     "name": "stderr",
     "output_type": "stream",
     "text": [
      "  5%|▌         | 103/2001 [00:22<27:13,  1.16it/s]"
     ]
    },
    {
     "name": "stdout",
     "output_type": "stream",
     "text": [
      "test acc:  [0.8998]\n"
     ]
    },
    {
     "name": "stderr",
     "output_type": "stream",
     "text": [
      " 10%|▉         | 199/2001 [00:28<01:50, 16.27it/s]"
     ]
    },
    {
     "name": "stdout",
     "output_type": "stream",
     "text": [
      "train acc:  [0.84375]\n"
     ]
    },
    {
     "name": "stderr",
     "output_type": "stream",
     "text": [
      " 10%|█         | 203/2001 [00:36<26:38,  1.12it/s]"
     ]
    },
    {
     "name": "stdout",
     "output_type": "stream",
     "text": [
      "test acc:  [0.92549998]\n"
     ]
    },
    {
     "name": "stderr",
     "output_type": "stream",
     "text": [
      " 15%|█▍        | 299/2001 [00:42<01:52, 15.11it/s]"
     ]
    },
    {
     "name": "stdout",
     "output_type": "stream",
     "text": [
      "train acc:  [0.90625]\n"
     ]
    },
    {
     "name": "stderr",
     "output_type": "stream",
     "text": [
      " 15%|█▌        | 303/2001 [00:52<28:08,  1.01it/s]"
     ]
    },
    {
     "name": "stdout",
     "output_type": "stream",
     "text": [
      "test acc:  [0.95340002]\n"
     ]
    },
    {
     "name": "stderr",
     "output_type": "stream",
     "text": [
      " 20%|█▉        | 399/2001 [00:59<02:10, 12.32it/s]"
     ]
    },
    {
     "name": "stdout",
     "output_type": "stream",
     "text": [
      "train acc:  [0.875]\n"
     ]
    },
    {
     "name": "stderr",
     "output_type": "stream",
     "text": [
      " 20%|██        | 403/2001 [01:07<24:01,  1.11it/s]"
     ]
    },
    {
     "name": "stdout",
     "output_type": "stream",
     "text": [
      "test acc:  [0.95709997]\n"
     ]
    },
    {
     "name": "stderr",
     "output_type": "stream",
     "text": [
      " 25%|██▍       | 499/2001 [01:13<01:33, 16.10it/s]"
     ]
    },
    {
     "name": "stdout",
     "output_type": "stream",
     "text": [
      "train acc:  [0.9375]\n"
     ]
    },
    {
     "name": "stderr",
     "output_type": "stream",
     "text": [
      " 25%|██▌       | 503/2001 [01:21<20:13,  1.23it/s]"
     ]
    },
    {
     "name": "stdout",
     "output_type": "stream",
     "text": [
      "test acc:  [0.96249998]\n"
     ]
    },
    {
     "name": "stderr",
     "output_type": "stream",
     "text": [
      " 30%|██▉       | 599/2001 [01:26<01:26, 16.22it/s]"
     ]
    },
    {
     "name": "stdout",
     "output_type": "stream",
     "text": [
      "train acc:  [1.0]\n"
     ]
    },
    {
     "name": "stderr",
     "output_type": "stream",
     "text": [
      " 30%|███       | 603/2001 [01:34<19:00,  1.23it/s]"
     ]
    },
    {
     "name": "stdout",
     "output_type": "stream",
     "text": [
      "test acc:  [0.97240001]\n"
     ]
    },
    {
     "name": "stderr",
     "output_type": "stream",
     "text": [
      " 35%|███▍      | 699/2001 [01:40<01:21, 16.04it/s]"
     ]
    },
    {
     "name": "stdout",
     "output_type": "stream",
     "text": [
      "train acc:  [0.96875]\n"
     ]
    },
    {
     "name": "stderr",
     "output_type": "stream",
     "text": [
      " 35%|███▌      | 703/2001 [01:47<17:40,  1.22it/s]"
     ]
    },
    {
     "name": "stdout",
     "output_type": "stream",
     "text": [
      "test acc:  [0.96749997]\n"
     ]
    },
    {
     "name": "stderr",
     "output_type": "stream",
     "text": [
      " 40%|███▉      | 799/2001 [01:53<01:14, 16.19it/s]"
     ]
    },
    {
     "name": "stdout",
     "output_type": "stream",
     "text": [
      "train acc:  [1.0]\n"
     ]
    },
    {
     "name": "stderr",
     "output_type": "stream",
     "text": [
      " 40%|████      | 803/2001 [02:02<18:13,  1.10it/s]"
     ]
    },
    {
     "name": "stdout",
     "output_type": "stream",
     "text": [
      "test acc:  [0.97469997]\n"
     ]
    },
    {
     "name": "stderr",
     "output_type": "stream",
     "text": [
      " 45%|████▍     | 899/2001 [02:08<01:07, 16.39it/s]"
     ]
    },
    {
     "name": "stdout",
     "output_type": "stream",
     "text": [
      "train acc:  [0.96875]\n"
     ]
    },
    {
     "name": "stderr",
     "output_type": "stream",
     "text": [
      " 45%|████▌     | 903/2001 [02:15<15:01,  1.22it/s]"
     ]
    },
    {
     "name": "stdout",
     "output_type": "stream",
     "text": [
      "test acc:  [0.97430003]\n"
     ]
    },
    {
     "name": "stderr",
     "output_type": "stream",
     "text": [
      " 50%|████▉     | 999/2001 [02:21<01:02, 16.03it/s]"
     ]
    },
    {
     "name": "stdout",
     "output_type": "stream",
     "text": [
      "train acc:  [0.96875]\n"
     ]
    },
    {
     "name": "stderr",
     "output_type": "stream",
     "text": [
      " 50%|█████     | 1003/2001 [02:28<13:31,  1.23it/s]"
     ]
    },
    {
     "name": "stdout",
     "output_type": "stream",
     "text": [
      "test acc:  [0.97399998]\n"
     ]
    },
    {
     "name": "stderr",
     "output_type": "stream",
     "text": [
      " 55%|█████▍    | 1099/2001 [02:34<00:55, 16.24it/s]"
     ]
    },
    {
     "name": "stdout",
     "output_type": "stream",
     "text": [
      "train acc:  [0.875]\n"
     ]
    },
    {
     "name": "stderr",
     "output_type": "stream",
     "text": [
      " 55%|█████▌    | 1103/2001 [02:42<12:29,  1.20it/s]"
     ]
    },
    {
     "name": "stdout",
     "output_type": "stream",
     "text": [
      "test acc:  [0.9716]\n"
     ]
    },
    {
     "name": "stderr",
     "output_type": "stream",
     "text": [
      " 60%|█████▉    | 1199/2001 [02:48<00:50, 15.99it/s]"
     ]
    },
    {
     "name": "stdout",
     "output_type": "stream",
     "text": [
      "train acc:  [0.96875]\n"
     ]
    },
    {
     "name": "stderr",
     "output_type": "stream",
     "text": [
      " 60%|██████    | 1203/2001 [02:55<10:48,  1.23it/s]"
     ]
    },
    {
     "name": "stdout",
     "output_type": "stream",
     "text": [
      "test acc:  [0.98030001]\n"
     ]
    },
    {
     "name": "stderr",
     "output_type": "stream",
     "text": [
      " 65%|██████▍   | 1299/2001 [03:02<00:41, 17.04it/s]"
     ]
    },
    {
     "name": "stdout",
     "output_type": "stream",
     "text": [
      "train acc:  [0.90625]\n"
     ]
    },
    {
     "name": "stderr",
     "output_type": "stream",
     "text": [
      " 65%|██████▌   | 1303/2001 [03:10<09:41,  1.20it/s]"
     ]
    },
    {
     "name": "stdout",
     "output_type": "stream",
     "text": [
      "test acc:  [0.97600001]\n"
     ]
    },
    {
     "name": "stderr",
     "output_type": "stream",
     "text": [
      " 70%|██████▉   | 1399/2001 [03:16<00:36, 16.66it/s]"
     ]
    },
    {
     "name": "stdout",
     "output_type": "stream",
     "text": [
      "train acc:  [0.90625]\n"
     ]
    },
    {
     "name": "stderr",
     "output_type": "stream",
     "text": [
      " 70%|███████   | 1403/2001 [03:23<08:06,  1.23it/s]"
     ]
    },
    {
     "name": "stdout",
     "output_type": "stream",
     "text": [
      "test acc:  [0.97920001]\n"
     ]
    },
    {
     "name": "stderr",
     "output_type": "stream",
     "text": [
      " 75%|███████▍  | 1499/2001 [03:29<00:30, 16.26it/s]"
     ]
    },
    {
     "name": "stdout",
     "output_type": "stream",
     "text": [
      "train acc:  [0.96875]\n"
     ]
    },
    {
     "name": "stderr",
     "output_type": "stream",
     "text": [
      " 75%|███████▌  | 1503/2001 [03:36<06:50,  1.21it/s]"
     ]
    },
    {
     "name": "stdout",
     "output_type": "stream",
     "text": [
      "test acc:  [0.97719997]\n"
     ]
    },
    {
     "name": "stderr",
     "output_type": "stream",
     "text": [
      " 80%|███████▉  | 1599/2001 [03:43<00:25, 16.00it/s]"
     ]
    },
    {
     "name": "stdout",
     "output_type": "stream",
     "text": [
      "train acc:  [0.96875]\n"
     ]
    },
    {
     "name": "stderr",
     "output_type": "stream",
     "text": [
      " 80%|████████  | 1603/2001 [03:50<05:38,  1.18it/s]"
     ]
    },
    {
     "name": "stdout",
     "output_type": "stream",
     "text": [
      "test acc:  [0.98140001]\n"
     ]
    },
    {
     "name": "stderr",
     "output_type": "stream",
     "text": [
      " 85%|████████▍ | 1699/2001 [03:57<00:19, 15.45it/s]"
     ]
    },
    {
     "name": "stdout",
     "output_type": "stream",
     "text": [
      "train acc:  [0.96875]\n"
     ]
    },
    {
     "name": "stderr",
     "output_type": "stream",
     "text": [
      " 85%|████████▌ | 1703/2001 [04:05<04:38,  1.07it/s]"
     ]
    },
    {
     "name": "stdout",
     "output_type": "stream",
     "text": [
      "test acc:  [0.97939998]\n"
     ]
    },
    {
     "name": "stderr",
     "output_type": "stream",
     "text": [
      " 90%|████████▉ | 1799/2001 [04:11<00:12, 16.03it/s]"
     ]
    },
    {
     "name": "stdout",
     "output_type": "stream",
     "text": [
      "train acc:  [0.90625]\n"
     ]
    },
    {
     "name": "stderr",
     "output_type": "stream",
     "text": [
      " 90%|█████████ | 1803/2001 [04:19<02:46,  1.19it/s]"
     ]
    },
    {
     "name": "stdout",
     "output_type": "stream",
     "text": [
      "test acc:  [0.98119998]\n"
     ]
    },
    {
     "name": "stderr",
     "output_type": "stream",
     "text": [
      " 95%|█████████▍| 1899/2001 [04:25<00:06, 16.21it/s]"
     ]
    },
    {
     "name": "stdout",
     "output_type": "stream",
     "text": [
      "train acc:  [0.9375]\n"
     ]
    },
    {
     "name": "stderr",
     "output_type": "stream",
     "text": [
      " 95%|█████████▌| 1903/2001 [04:32<01:20,  1.22it/s]"
     ]
    },
    {
     "name": "stdout",
     "output_type": "stream",
     "text": [
      "test acc:  [0.98220003]\n"
     ]
    },
    {
     "name": "stderr",
     "output_type": "stream",
     "text": [
      "100%|█████████▉| 1999/2001 [04:38<00:00, 16.39it/s]"
     ]
    },
    {
     "name": "stdout",
     "output_type": "stream",
     "text": [
      "train acc:  [0.96875]\n"
     ]
    },
    {
     "name": "stderr",
     "output_type": "stream",
     "text": [
      "\r",
      "100%|██████████| 2001/2001 [04:46<00:00,  1.18s/it]"
     ]
    },
    {
     "name": "stdout",
     "output_type": "stream",
     "text": [
      "test acc:  [0.9831]\n"
     ]
    },
    {
     "name": "stderr",
     "output_type": "stream",
     "text": [
      "\n"
     ]
    }
   ],
   "source": [
    "num_steps = 2001\n",
    "for s in tqdm(range(num_steps)):\n",
    "    offset = (s*batch_size) % (X.shape[0]-batch_size)\n",
    "    fd = {img_input:X[offset:offset+batch_size,:],\n",
    "         targets:y[offset:offset+batch_size,:]}\n",
    "    l,_ = sess.run([loss,opt],feed_dict=fd)\n",
    "    losses.append(l)\n",
    "    if s % 100 == 0:\n",
    "        print('train acc: ',sess.run([train_accuracy],feed_dict=fd))\n",
    "        print('test acc: ',sess.run([test_accuracy],feed_dict=fd))"
   ]
  },
  {
   "cell_type": "code",
   "execution_count": 17,
   "metadata": {
    "collapsed": false
   },
   "outputs": [
    {
     "data": {
      "text/html": [
       "\n",
       "\n",
       "    <div class=\"bk-root\">\n",
       "        <div class=\"plotdiv\" id=\"03adbcea-90b3-40e3-aaa2-a02df5f888cc\"></div>\n",
       "    </div>\n",
       "<script type=\"text/javascript\">\n",
       "  \n",
       "  (function(global) {\n",
       "    function now() {\n",
       "      return new Date();\n",
       "    }\n",
       "  \n",
       "    var force = \"\";\n",
       "  \n",
       "    if (typeof (window._bokeh_onload_callbacks) === \"undefined\" || force !== \"\") {\n",
       "      window._bokeh_onload_callbacks = [];\n",
       "      window._bokeh_is_loading = undefined;\n",
       "    }\n",
       "  \n",
       "  \n",
       "    \n",
       "    if (typeof (window._bokeh_timeout) === \"undefined\" || force !== \"\") {\n",
       "      window._bokeh_timeout = Date.now() + 0;\n",
       "      window._bokeh_failed_load = false;\n",
       "    }\n",
       "  \n",
       "    var NB_LOAD_WARNING = {'data': {'text/html':\n",
       "       \"<div style='background-color: #fdd'>\\n\"+\n",
       "       \"<p>\\n\"+\n",
       "       \"BokehJS does not appear to have successfully loaded. If loading BokehJS from CDN, this \\n\"+\n",
       "       \"may be due to a slow or bad network connection. Possible fixes:\\n\"+\n",
       "       \"</p>\\n\"+\n",
       "       \"<ul>\\n\"+\n",
       "       \"<li>re-rerun `output_notebook()` to attempt to load from CDN again, or</li>\\n\"+\n",
       "       \"<li>use INLINE resources instead, as so:</li>\\n\"+\n",
       "       \"</ul>\\n\"+\n",
       "       \"<code>\\n\"+\n",
       "       \"from bokeh.resources import INLINE\\n\"+\n",
       "       \"output_notebook(resources=INLINE)\\n\"+\n",
       "       \"</code>\\n\"+\n",
       "       \"</div>\"}};\n",
       "  \n",
       "    function display_loaded() {\n",
       "      if (window.Bokeh !== undefined) {\n",
       "        Bokeh.$(\"#03adbcea-90b3-40e3-aaa2-a02df5f888cc\").text(\"BokehJS successfully loaded.\");\n",
       "      } else if (Date.now() < window._bokeh_timeout) {\n",
       "        setTimeout(display_loaded, 100)\n",
       "      }\n",
       "    }\n",
       "  \n",
       "    function run_callbacks() {\n",
       "      window._bokeh_onload_callbacks.forEach(function(callback) { callback() });\n",
       "      delete window._bokeh_onload_callbacks\n",
       "      console.info(\"Bokeh: all callbacks have finished\");\n",
       "    }\n",
       "  \n",
       "    function load_libs(js_urls, callback) {\n",
       "      window._bokeh_onload_callbacks.push(callback);\n",
       "      if (window._bokeh_is_loading > 0) {\n",
       "        console.log(\"Bokeh: BokehJS is being loaded, scheduling callback at\", now());\n",
       "        return null;\n",
       "      }\n",
       "      if (js_urls == null || js_urls.length === 0) {\n",
       "        run_callbacks();\n",
       "        return null;\n",
       "      }\n",
       "      console.log(\"Bokeh: BokehJS not loaded, scheduling load and callback at\", now());\n",
       "      window._bokeh_is_loading = js_urls.length;\n",
       "      for (var i = 0; i < js_urls.length; i++) {\n",
       "        var url = js_urls[i];\n",
       "        var s = document.createElement('script');\n",
       "        s.src = url;\n",
       "        s.async = false;\n",
       "        s.onreadystatechange = s.onload = function() {\n",
       "          window._bokeh_is_loading--;\n",
       "          if (window._bokeh_is_loading === 0) {\n",
       "            console.log(\"Bokeh: all BokehJS libraries loaded\");\n",
       "            run_callbacks()\n",
       "          }\n",
       "        };\n",
       "        s.onerror = function() {\n",
       "          console.warn(\"failed to load library \" + url);\n",
       "        };\n",
       "        console.log(\"Bokeh: injecting script tag for BokehJS library: \", url);\n",
       "        document.getElementsByTagName(\"head\")[0].appendChild(s);\n",
       "      }\n",
       "    };var element = document.getElementById(\"03adbcea-90b3-40e3-aaa2-a02df5f888cc\");\n",
       "    if (element == null) {\n",
       "      console.log(\"Bokeh: ERROR: autoload.js configured with elementid '03adbcea-90b3-40e3-aaa2-a02df5f888cc' but no matching script tag was found. \")\n",
       "      return false;\n",
       "    }\n",
       "  \n",
       "    var js_urls = [];\n",
       "  \n",
       "    var inline_js = [\n",
       "      function(Bokeh) {\n",
       "        Bokeh.$(function() {\n",
       "            var docs_json = {\"bba191a0-4b56-4ca8-b549-7794ccdf6f8c\":{\"roots\":{\"references\":[{\"attributes\":{\"line_color\":{\"value\":\"#1f77b4\"},\"x\":{\"field\":\"x\"},\"y\":{\"field\":\"y\"}},\"id\":\"d7973b08-abaa-4255-b599-1444c6f4042e\",\"type\":\"Line\"},{\"attributes\":{\"bottom_units\":\"screen\",\"fill_alpha\":{\"value\":0.5},\"fill_color\":{\"value\":\"lightgrey\"},\"left_units\":\"screen\",\"level\":\"overlay\",\"line_alpha\":{\"value\":1.0},\"line_color\":{\"value\":\"black\"},\"line_dash\":[4,4],\"line_width\":{\"value\":2},\"plot\":null,\"render_mode\":\"css\",\"right_units\":\"screen\",\"top_units\":\"screen\"},\"id\":\"03d357ff-7915-4a65-9347-88c33d5237f7\",\"type\":\"BoxAnnotation\"},{\"attributes\":{\"formatter\":{\"id\":\"ae415e1c-2662-4c78-9068-df17702aa442\",\"type\":\"BasicTickFormatter\"},\"plot\":{\"id\":\"31c53704-3496-4943-aff6-f949ec64cf20\",\"subtype\":\"Figure\",\"type\":\"Plot\"},\"ticker\":{\"id\":\"5d17343d-fba8-4e0e-a8fc-e7c72d698df8\",\"type\":\"BasicTicker\"}},\"id\":\"c84f414b-0c17-4a3e-9245-17d80a3d3ede\",\"type\":\"LinearAxis\"},{\"attributes\":{},\"id\":\"ae415e1c-2662-4c78-9068-df17702aa442\",\"type\":\"BasicTickFormatter\"},{\"attributes\":{\"overlay\":{\"id\":\"03d357ff-7915-4a65-9347-88c33d5237f7\",\"type\":\"BoxAnnotation\"},\"plot\":{\"id\":\"31c53704-3496-4943-aff6-f949ec64cf20\",\"subtype\":\"Figure\",\"type\":\"Plot\"}},\"id\":\"6679daeb-99c9-40ab-8de0-4edeb06d54f8\",\"type\":\"BoxZoomTool\"},{\"attributes\":{},\"id\":\"cfa9503d-059a-40d4-a0d5-e545f5894c7b\",\"type\":\"ToolEvents\"},{\"attributes\":{\"line_alpha\":{\"value\":0.1},\"line_color\":{\"value\":\"#1f77b4\"},\"x\":{\"field\":\"x\"},\"y\":{\"field\":\"y\"}},\"id\":\"514eb631-bbce-4248-8ee2-c4ce419a397e\",\"type\":\"Line\"},{\"attributes\":{\"callback\":null},\"id\":\"ebf4ecb4-8067-4002-86bb-f10fa3180ced\",\"type\":\"DataRange1d\"},{\"attributes\":{\"plot\":{\"id\":\"31c53704-3496-4943-aff6-f949ec64cf20\",\"subtype\":\"Figure\",\"type\":\"Plot\"},\"ticker\":{\"id\":\"d75c7768-d299-483b-a0eb-911735d4c7bd\",\"type\":\"BasicTicker\"}},\"id\":\"b1ec9f40-e3b3-4281-bd79-9b1ae5f4fe70\",\"type\":\"Grid\"},{\"attributes\":{\"plot\":{\"id\":\"31c53704-3496-4943-aff6-f949ec64cf20\",\"subtype\":\"Figure\",\"type\":\"Plot\"}},\"id\":\"4ca9491f-b199-459e-98fd-745231464581\",\"type\":\"WheelZoomTool\"},{\"attributes\":{},\"id\":\"d75c7768-d299-483b-a0eb-911735d4c7bd\",\"type\":\"BasicTicker\"},{\"attributes\":{\"below\":[{\"id\":\"81edf3d4-377e-40f4-8f26-b62d70195ee3\",\"type\":\"LinearAxis\"}],\"left\":[{\"id\":\"c84f414b-0c17-4a3e-9245-17d80a3d3ede\",\"type\":\"LinearAxis\"}],\"renderers\":[{\"id\":\"81edf3d4-377e-40f4-8f26-b62d70195ee3\",\"type\":\"LinearAxis\"},{\"id\":\"b1ec9f40-e3b3-4281-bd79-9b1ae5f4fe70\",\"type\":\"Grid\"},{\"id\":\"c84f414b-0c17-4a3e-9245-17d80a3d3ede\",\"type\":\"LinearAxis\"},{\"id\":\"dcb3908f-acbc-4534-8800-6f841696a31f\",\"type\":\"Grid\"},{\"id\":\"03d357ff-7915-4a65-9347-88c33d5237f7\",\"type\":\"BoxAnnotation\"},{\"id\":\"b2a73850-7f2a-41e8-a0a1-135cb0df199c\",\"type\":\"GlyphRenderer\"}],\"title\":{\"id\":\"31b6570b-c291-44fb-8e38-2792bd9b7b9f\",\"type\":\"Title\"},\"tool_events\":{\"id\":\"cfa9503d-059a-40d4-a0d5-e545f5894c7b\",\"type\":\"ToolEvents\"},\"toolbar\":{\"id\":\"e8ab133d-b58b-429d-b8ea-c816691213ec\",\"type\":\"Toolbar\"},\"x_range\":{\"id\":\"ebf4ecb4-8067-4002-86bb-f10fa3180ced\",\"type\":\"DataRange1d\"},\"y_range\":{\"id\":\"2edf10b3-c725-46e4-b00a-951a67867f01\",\"type\":\"DataRange1d\"}},\"id\":\"31c53704-3496-4943-aff6-f949ec64cf20\",\"subtype\":\"Figure\",\"type\":\"Plot\"},{\"attributes\":{\"plot\":null,\"text\":null},\"id\":\"31b6570b-c291-44fb-8e38-2792bd9b7b9f\",\"type\":\"Title\"},{\"attributes\":{\"formatter\":{\"id\":\"1e097000-2a4d-4e87-8402-f13a77372e75\",\"type\":\"BasicTickFormatter\"},\"plot\":{\"id\":\"31c53704-3496-4943-aff6-f949ec64cf20\",\"subtype\":\"Figure\",\"type\":\"Plot\"},\"ticker\":{\"id\":\"d75c7768-d299-483b-a0eb-911735d4c7bd\",\"type\":\"BasicTicker\"}},\"id\":\"81edf3d4-377e-40f4-8f26-b62d70195ee3\",\"type\":\"LinearAxis\"},{\"attributes\":{\"active_drag\":\"auto\",\"active_scroll\":\"auto\",\"active_tap\":\"auto\",\"tools\":[{\"id\":\"b55ed04b-6c38-4598-8a6c-a11425e0ea57\",\"type\":\"PanTool\"},{\"id\":\"4ca9491f-b199-459e-98fd-745231464581\",\"type\":\"WheelZoomTool\"},{\"id\":\"6679daeb-99c9-40ab-8de0-4edeb06d54f8\",\"type\":\"BoxZoomTool\"},{\"id\":\"5ad837ab-6e2b-43ba-be5e-d9b624cdb1d5\",\"type\":\"SaveTool\"},{\"id\":\"70636e2b-e9fe-43b7-8090-5406749c3f09\",\"type\":\"ResetTool\"},{\"id\":\"110e5de2-d098-4cb1-a7d0-1087025e4565\",\"type\":\"HelpTool\"}]},\"id\":\"e8ab133d-b58b-429d-b8ea-c816691213ec\",\"type\":\"Toolbar\"},{\"attributes\":{\"dimension\":1,\"plot\":{\"id\":\"31c53704-3496-4943-aff6-f949ec64cf20\",\"subtype\":\"Figure\",\"type\":\"Plot\"},\"ticker\":{\"id\":\"5d17343d-fba8-4e0e-a8fc-e7c72d698df8\",\"type\":\"BasicTicker\"}},\"id\":\"dcb3908f-acbc-4534-8800-6f841696a31f\",\"type\":\"Grid\"},{\"attributes\":{\"callback\":null},\"id\":\"2edf10b3-c725-46e4-b00a-951a67867f01\",\"type\":\"DataRange1d\"},{\"attributes\":{\"plot\":{\"id\":\"31c53704-3496-4943-aff6-f949ec64cf20\",\"subtype\":\"Figure\",\"type\":\"Plot\"}},\"id\":\"5ad837ab-6e2b-43ba-be5e-d9b624cdb1d5\",\"type\":\"SaveTool\"},{\"attributes\":{\"data_source\":{\"id\":\"0e49b138-a1ab-49e1-a158-8251b5d74c67\",\"type\":\"ColumnDataSource\"},\"glyph\":{\"id\":\"d7973b08-abaa-4255-b599-1444c6f4042e\",\"type\":\"Line\"},\"hover_glyph\":null,\"nonselection_glyph\":{\"id\":\"514eb631-bbce-4248-8ee2-c4ce419a397e\",\"type\":\"Line\"},\"selection_glyph\":null},\"id\":\"b2a73850-7f2a-41e8-a0a1-135cb0df199c\",\"type\":\"GlyphRenderer\"},{\"attributes\":{\"plot\":{\"id\":\"31c53704-3496-4943-aff6-f949ec64cf20\",\"subtype\":\"Figure\",\"type\":\"Plot\"}},\"id\":\"70636e2b-e9fe-43b7-8090-5406749c3f09\",\"type\":\"ResetTool\"},{\"attributes\":{},\"id\":\"1e097000-2a4d-4e87-8402-f13a77372e75\",\"type\":\"BasicTickFormatter\"},{\"attributes\":{},\"id\":\"5d17343d-fba8-4e0e-a8fc-e7c72d698df8\",\"type\":\"BasicTicker\"},{\"attributes\":{\"plot\":{\"id\":\"31c53704-3496-4943-aff6-f949ec64cf20\",\"subtype\":\"Figure\",\"type\":\"Plot\"}},\"id\":\"b55ed04b-6c38-4598-8a6c-a11425e0ea57\",\"type\":\"PanTool\"},{\"attributes\":{\"callback\":null,\"column_names\":[\"y\",\"x\"],\"data\":{\"x\":[0,1,2,3,4,5,6,7,8,9,10,11,12,13,14,15,16,17,18,19,20,21,22,23,24,25,26,27,28,29,30,31,32,33,34,35,36,37,38,39,40,41,42,43,44,45,46,47,48,49,50,51,52,53,54,55,56,57,58,59,60,61,62,63,64,65,66,67,68,69,70,71,72,73,74,75,76,77,78,79,80,81,82,83,84,85,86,87,88,89,90,91,92,93,94,95,96,97,98,99,100,101,102,103,104,105,106,107,108,109,110,111,112,113,114,115,116,117,118,119,120,121,122,123,124,125,126,127,128,129,130,131,132,133,134,135,136,137,138,139,140,141,142,143,144,145,146,147,148,149,150,151,152,153,154,155,156,157,158,159,160,161,162,163,164,165,166,167,168,169,170,171,172,173,174,175,176,177,178,179,180,181,182,183,184,185,186,187,188,189,190,191,192,193,194,195,196,197,198,199,200,201,202,203,204,205,206,207,208,209,210,211,212,213,214,215,216,217,218,219,220,221,222,223,224,225,226,227,228,229,230,231,232,233,234,235,236,237,238,239,240,241,242,243,244,245,246,247,248,249,250,251,252,253,254,255,256,257,258,259,260,261,262,263,264,265,266,267,268,269,270,271,272,273,274,275,276,277,278,279,280,281,282,283,284,285,286,287,288,289,290,291,292,293,294,295,296,297,298,299,300,301,302,303,304,305,306,307,308,309,310,311,312,313,314,315,316,317,318,319,320,321,322,323,324,325,326,327,328,329,330,331,332,333,334,335,336,337,338,339,340,341,342,343,344,345,346,347,348,349,350,351,352,353,354,355,356,357,358,359,360,361,362,363,364,365,366,367,368,369,370,371,372,373,374,375,376,377,378,379,380,381,382,383,384,385,386,387,388,389,390,391,392,393,394,395,396,397,398,399,400,401,402,403,404,405,406,407,408,409,410,411,412,413,414,415,416,417,418,419,420,421,422,423,424,425,426,427,428,429,430,431,432,433,434,435,436,437,438,439,440,441,442,443,444,445,446,447,448,449,450,451,452,453,454,455,456,457,458,459,460,461,462,463,464,465,466,467,468,469,470,471,472,473,474,475,476,477,478,479,480,481,482,483,484,485,486,487,488,489,490,491,492,493,494,495,496,497,498,499,500,501,502,503,504,505,506,507,508,509,510,511,512,513,514,515,516,517,518,519,520,521,522,523,524,525,526,527,528,529,530,531,532,533,534,535,536,537,538,539,540,541,542,543,544,545,546,547,548,549,550,551,552,553,554,555,556,557,558,559,560,561,562,563,564,565,566,567,568,569,570,571,572,573,574,575,576,577,578,579,580,581,582,583,584,585,586,587,588,589,590,591,592,593,594,595,596,597,598,599,600,601,602,603,604,605,606,607,608,609,610,611,612,613,614,615,616,617,618,619,620,621,622,623,624,625,626,627,628,629,630,631,632,633,634,635,636,637,638,639,640,641,642,643,644,645,646,647,648,649,650,651,652,653,654,655,656,657,658,659,660,661,662,663,664,665,666,667,668,669,670,671,672,673,674,675,676,677,678,679,680,681,682,683,684,685,686,687,688,689,690,691,692,693,694,695,696,697,698,699,700,701,702,703,704,705,706,707,708,709,710,711,712,713,714,715,716,717,718,719,720,721,722,723,724,725,726,727,728,729,730,731,732,733,734,735,736,737,738,739,740,741,742,743,744,745,746,747,748,749,750,751,752,753,754,755,756,757,758,759,760,761,762,763,764,765,766,767,768,769,770,771,772,773,774,775,776,777,778,779,780,781,782,783,784,785,786,787,788,789,790,791,792,793,794,795,796,797,798,799,800,801,802,803,804,805,806,807,808,809,810,811,812,813,814,815,816,817,818,819,820,821,822,823,824,825,826,827,828,829,830,831,832,833,834,835,836,837,838,839,840,841,842,843,844,845,846,847,848,849,850,851,852,853,854,855,856,857,858,859,860,861,862,863,864,865,866,867,868,869,870,871,872,873,874,875,876,877,878,879,880,881,882,883,884,885,886,887,888,889,890,891,892,893,894,895,896,897,898,899,900,901,902,903,904,905,906,907,908,909,910,911,912,913,914,915,916,917,918,919,920,921,922,923,924,925,926,927,928,929,930,931,932,933,934,935,936,937,938,939,940,941,942,943,944,945,946,947,948,949,950,951,952,953,954,955,956,957,958,959,960,961,962,963,964,965,966,967,968,969,970,971,972,973,974,975,976,977,978,979,980,981,982,983,984,985,986,987,988,989,990,991,992,993,994,995,996,997,998,999,1000,1001,1002,1003,1004,1005,1006,1007,1008,1009,1010,1011,1012,1013,1014,1015,1016,1017,1018,1019,1020,1021,1022,1023,1024,1025,1026,1027,1028,1029,1030,1031,1032,1033,1034,1035,1036,1037,1038,1039,1040,1041,1042,1043,1044,1045,1046,1047,1048,1049,1050,1051,1052,1053,1054,1055,1056,1057,1058,1059,1060,1061,1062,1063,1064,1065,1066,1067,1068,1069,1070,1071,1072,1073,1074,1075,1076,1077,1078,1079,1080,1081,1082,1083,1084,1085,1086,1087,1088,1089,1090,1091,1092,1093,1094,1095,1096,1097,1098,1099,1100,1101,1102,1103,1104,1105,1106,1107,1108,1109,1110,1111,1112,1113,1114,1115,1116,1117,1118,1119,1120,1121,1122,1123,1124,1125,1126,1127,1128,1129,1130,1131,1132,1133,1134,1135,1136,1137,1138,1139,1140,1141,1142,1143,1144,1145,1146,1147,1148,1149,1150,1151,1152,1153,1154,1155,1156,1157,1158,1159,1160,1161,1162,1163,1164,1165,1166,1167,1168,1169,1170,1171,1172,1173,1174,1175,1176,1177,1178,1179,1180,1181,1182,1183,1184,1185,1186,1187,1188,1189,1190,1191,1192,1193,1194,1195,1196,1197,1198,1199,1200,1201,1202,1203,1204,1205,1206,1207,1208,1209,1210,1211,1212,1213,1214,1215,1216,1217,1218,1219,1220,1221,1222,1223,1224,1225,1226,1227,1228,1229,1230,1231,1232,1233,1234,1235,1236,1237,1238,1239,1240,1241,1242,1243,1244,1245,1246,1247,1248,1249,1250,1251,1252,1253,1254,1255,1256,1257,1258,1259,1260,1261,1262,1263,1264,1265,1266,1267,1268,1269,1270,1271,1272,1273,1274,1275,1276,1277,1278,1279,1280,1281,1282,1283,1284,1285,1286,1287,1288,1289,1290,1291,1292,1293,1294,1295,1296,1297,1298,1299,1300,1301,1302,1303,1304,1305,1306,1307,1308,1309,1310,1311,1312,1313,1314,1315,1316,1317,1318,1319,1320,1321,1322,1323,1324,1325,1326,1327,1328,1329,1330,1331,1332,1333,1334,1335,1336,1337,1338,1339,1340,1341,1342,1343,1344,1345,1346,1347,1348,1349,1350,1351,1352,1353,1354,1355,1356,1357,1358,1359,1360,1361,1362,1363,1364,1365,1366,1367,1368,1369,1370,1371,1372,1373,1374,1375,1376,1377,1378,1379,1380,1381,1382,1383,1384,1385,1386,1387,1388,1389,1390,1391,1392,1393,1394,1395,1396,1397,1398,1399,1400,1401,1402,1403,1404,1405,1406,1407,1408,1409,1410,1411,1412,1413,1414,1415,1416,1417,1418,1419,1420,1421,1422,1423,1424,1425,1426,1427,1428,1429,1430,1431,1432,1433,1434,1435,1436,1437,1438,1439,1440,1441,1442,1443,1444,1445,1446,1447,1448,1449,1450,1451,1452,1453,1454,1455,1456,1457,1458,1459,1460,1461,1462,1463,1464,1465,1466,1467,1468,1469,1470,1471,1472,1473,1474,1475,1476,1477,1478,1479,1480,1481,1482,1483,1484,1485,1486,1487,1488,1489,1490,1491,1492,1493,1494,1495,1496,1497,1498,1499,1500,1501,1502,1503,1504,1505,1506,1507,1508,1509,1510,1511,1512,1513,1514,1515,1516,1517,1518,1519,1520,1521,1522,1523,1524,1525,1526,1527,1528,1529,1530,1531,1532,1533,1534,1535,1536,1537,1538,1539,1540,1541,1542,1543,1544,1545,1546,1547,1548,1549,1550,1551,1552,1553,1554,1555,1556,1557,1558,1559,1560,1561,1562,1563,1564,1565,1566,1567,1568,1569,1570,1571,1572,1573,1574,1575,1576,1577,1578,1579,1580,1581,1582,1583,1584,1585,1586,1587,1588,1589,1590,1591,1592,1593,1594,1595,1596,1597,1598,1599,1600,1601,1602,1603,1604,1605,1606,1607,1608,1609,1610,1611,1612,1613,1614,1615,1616,1617,1618,1619,1620,1621,1622,1623,1624,1625,1626,1627,1628,1629,1630,1631,1632,1633,1634,1635,1636,1637,1638,1639,1640,1641,1642,1643,1644,1645,1646,1647,1648,1649,1650,1651,1652,1653,1654,1655,1656,1657,1658,1659,1660,1661,1662,1663,1664,1665,1666,1667,1668,1669,1670,1671,1672,1673,1674,1675,1676,1677,1678,1679,1680,1681,1682,1683,1684,1685,1686,1687,1688,1689,1690,1691,1692,1693,1694,1695,1696,1697,1698,1699,1700,1701,1702,1703,1704,1705,1706,1707,1708,1709,1710,1711,1712,1713,1714,1715,1716,1717,1718,1719,1720,1721,1722,1723,1724,1725,1726,1727,1728,1729,1730,1731,1732,1733,1734,1735,1736,1737,1738,1739,1740,1741,1742,1743,1744,1745,1746,1747,1748,1749,1750,1751,1752,1753,1754,1755,1756,1757,1758,1759,1760,1761,1762,1763,1764,1765,1766,1767,1768,1769,1770,1771,1772,1773,1774,1775,1776,1777,1778,1779,1780,1781,1782,1783,1784,1785,1786,1787,1788,1789,1790,1791,1792,1793,1794,1795,1796,1797,1798,1799,1800,1801,1802,1803,1804,1805,1806,1807,1808,1809,1810,1811,1812,1813,1814,1815,1816,1817,1818,1819,1820,1821,1822,1823,1824,1825,1826,1827,1828,1829,1830,1831,1832,1833,1834,1835,1836,1837,1838,1839,1840,1841,1842,1843,1844,1845,1846,1847,1848,1849,1850,1851,1852,1853,1854,1855,1856,1857,1858,1859,1860,1861,1862,1863,1864,1865,1866,1867,1868,1869,1870,1871,1872,1873,1874,1875,1876,1877,1878,1879,1880,1881,1882,1883,1884,1885,1886,1887,1888,1889,1890,1891,1892,1893,1894,1895,1896,1897,1898,1899,1900,1901,1902,1903,1904,1905,1906,1907,1908,1909,1910,1911,1912,1913,1914,1915,1916,1917,1918,1919,1920,1921,1922,1923,1924,1925,1926,1927,1928,1929,1930,1931,1932,1933,1934,1935,1936,1937,1938,1939,1940,1941,1942,1943,1944,1945,1946,1947,1948,1949,1950,1951,1952,1953,1954,1955,1956,1957,1958,1959,1960,1961,1962,1963,1964,1965,1966,1967,1968,1969,1970,1971,1972,1973,1974,1975,1976,1977,1978,1979,1980,1981,1982,1983,1984,1985,1986,1987,1988,1989,1990,1991,1992,1993,1994,1995,1996,1997,1998,1999,2000],\"y\":[2.5983829498291016,1.7254633903503418,1.2432267665863037,1.4527697563171387,1.5827515125274658,1.4800493717193604,1.169524908065796,1.478609561920166,1.5917870998382568,1.1726031303405762,1.2465709447860718,1.217824101448059,1.0897852182388306,1.1523491144180298,1.0591928958892822,1.3680789470672607,1.2987624406814575,1.1999214887619019,1.185121774673462,1.4002394676208496,1.1553826332092285,1.0025966167449951,1.1042430400848389,1.1229112148284912,1.1386680603027344,0.9629614353179932,1.2549439668655396,1.2270841598510742,1.1690490245819092,1.0444269180297852,1.0445332527160645,1.0726830959320068,1.151493787765503,1.2148600816726685,1.0913169384002686,1.2236851453781128,1.0343022346496582,0.9013370275497437,1.2807831764221191,1.0851199626922607,0.984937846660614,1.092778205871582,1.059686541557312,0.8868405818939209,0.9931700229644775,0.8964405059814453,0.7313450574874878,0.9412676095962524,0.900665283203125,0.8829027414321899,0.8938238620758057,0.8367326855659485,0.7414020299911499,0.6339336633682251,0.8265997767448425,0.9051865935325623,0.6691790223121643,0.7131407260894775,0.7200813293457031,0.7838733196258545,0.8773152828216553,0.8631927967071533,0.6506202220916748,0.9331681728363037,0.9232048988342285,0.6359533071517944,0.6400753259658813,0.5805270671844482,0.7240322828292847,0.7156721949577332,0.5338478684425354,0.6391196250915527,0.5944944620132446,0.6373555064201355,0.7567166686058044,0.910643458366394,0.6818137168884277,0.6427596807479858,0.44802170991897583,0.6328662633895874,0.5485917925834656,0.6418773531913757,0.5514371991157532,0.8789345026016235,0.653012216091156,0.8095080256462097,0.620070219039917,0.8037802577018738,0.6869868040084839,0.4763360619544983,0.6467862129211426,0.5384049415588379,0.5564804077148438,0.5249429941177368,0.9108273983001709,0.7194194793701172,0.7121133804321289,0.5594888925552368,0.5763832330703735,0.4496867060661316,0.6417406797409058,0.6308355331420898,0.6997624635696411,0.5218222737312317,0.4417297840118408,0.5207207798957825,0.5273956656455994,0.3996949791908264,0.4620048999786377,1.00356924533844,0.4463004469871521,0.5159091353416443,0.46916908025741577,0.5364850759506226,0.6670154929161072,0.7011187076568604,0.7070914506912231,0.6618049740791321,0.628626823425293,0.5345945954322815,0.48224031925201416,0.5307734608650208,0.46936967968940735,0.4849286675453186,0.5401532649993896,0.5895174741744995,0.5995083451271057,0.40459078550338745,0.414751261472702,0.7020828723907471,0.6751127243041992,0.3667093813419342,0.5070216655731201,0.7970185279846191,0.5609642863273621,0.6638033986091614,0.7227455377578735,0.32651081681251526,0.35328057408332825,0.5763158798217773,0.5278461575508118,0.36139529943466187,0.338837206363678,0.3098379373550415,0.5775279998779297,0.6051574945449829,0.4794856905937195,0.3626635670661926,0.5293349027633667,0.4315035343170166,0.41518890857696533,0.46393102407455444,0.3470744490623474,0.27253177762031555,0.4789012670516968,0.44459331035614014,0.41455861926078796,0.5097782611846924,0.5014258623123169,0.3459721803665161,0.48781782388687134,0.6821891069412231,0.42244672775268555,0.42803728580474854,0.23400133848190308,0.5474284291267395,0.5264961123466492,0.4020252823829651,0.4432489275932312,0.4462037682533264,0.41334548592567444,0.21695151925086975,0.2295803427696228,0.5765937566757202,0.3819563090801239,0.42353472113609314,0.29368335008621216,0.3408401310443878,0.40087002515792847,0.35972288250923157,0.3329392075538635,0.5164853930473328,0.37723344564437866,0.4360096752643585,0.4889850318431854,0.29066407680511475,0.3868659734725952,0.2195526510477066,0.22190222144126892,0.3947557210922241,0.3301103115081787,0.3057821989059448,0.3907787501811981,0.25533807277679443,0.26622751355171204,0.4367998242378235,0.4058341383934021,0.30939143896102905,0.29973703622817993,0.31225740909576416,0.6418659687042236,0.2501458525657654,0.46884673833847046,0.31490781903266907,0.20127646625041962,0.45388489961624146,0.3876875936985016,0.4201376438140869,0.3349812626838684,0.3009556531906128,0.24915730953216553,0.24682900309562683,0.546711802482605,0.44682562351226807,0.45635074377059937,0.35880327224731445,0.515122652053833,0.3896980881690979,0.43776190280914307,0.41893064975738525,0.3362938463687897,0.23942258954048157,0.20226426422595978,0.3990246057510376,0.3194733262062073,0.374362051486969,0.6718815565109253,0.4718177914619446,0.372855007648468,0.3450198769569397,0.44652795791625977,0.319820761680603,0.3445863723754883,0.2256232500076294,0.28548455238342285,0.34917575120925903,0.2015838325023651,0.2828051447868347,0.45221787691116333,0.2319096475839615,0.2546316385269165,0.39650142192840576,0.35446876287460327,0.404205858707428,0.23440545797348022,0.3535059690475464,0.47007179260253906,0.3007081151008606,0.2704242169857025,0.3050088882446289,0.3092952370643616,0.1443483680486679,0.2856340706348419,0.47478216886520386,0.37362968921661377,0.4301530718803406,0.6900850534439087,0.39727821946144104,0.3186982274055481,0.3445766568183899,0.3058229684829712,0.2773696780204773,0.17842844128608704,0.47291046380996704,0.46910277009010315,0.5079198479652405,0.25463393330574036,0.27945250272750854,0.3538874387741089,0.39935892820358276,0.35145431756973267,0.536828875541687,0.7091451287269592,0.6842694282531738,0.4073232412338257,0.3265259861946106,0.5276411771774292,0.4773983955383301,0.5775226354598999,0.23147481679916382,0.2437644749879837,0.19864778220653534,0.3200635313987732,0.23585116863250732,0.39762479066848755,0.30238789319992065,0.24314886331558228,0.23613578081130981,0.30914416909217834,0.38857129216194153,0.3044324815273285,0.37269318103790283,0.5392125844955444,0.47665077447891235,0.4232954680919647,0.4254002571105957,0.2569059133529663,0.19048139452934265,0.46205705404281616,0.3657382130622864,0.3470728397369385,0.33729249238967896,0.22615933418273926,0.24958761036396027,0.31510910391807556,0.3735842704772949,0.2447030395269394,0.23995551466941833,0.22727663815021515,0.1006220355629921,0.31356704235076904,0.16681212186813354,0.20512136816978455,0.25666508078575134,0.2031584531068802,0.2517333924770355,0.34686991572380066,0.31430208683013916,0.34481245279312134,0.39242470264434814,0.45982450246810913,0.3514297902584076,0.21844066679477692,0.16811367869377136,0.20466819405555725,0.2495977133512497,0.29314613342285156,0.12139816582202911,0.132164865732193,0.16129741072654724,0.13806872069835663,0.12359575927257538,0.30475467443466187,0.24812567234039307,0.168169766664505,0.3222748041152954,0.2625022232532501,0.21736712753772736,0.08070023357868195,0.3853417634963989,0.2662298381328583,0.18039095401763916,0.1399957835674286,0.3496001958847046,0.6950664520263672,0.18111473321914673,0.26241496205329895,0.24939197301864624,0.29204460978507996,0.1968940645456314,0.38133466243743896,0.24627655744552612,0.22558993101119995,0.14974883198738098,0.1289251297712326,0.389357328414917,0.18146368861198425,0.22942836582660675,0.29753074049949646,0.1616310477256775,0.28502094745635986,0.2590599060058594,0.46913641691207886,0.2979300022125244,0.14547017216682434,0.24047601222991943,0.2576247751712799,0.2545968294143677,0.4075102210044861,0.20054763555526733,0.28954124450683594,0.31561920046806335,0.3593601882457733,0.380642831325531,0.15636321902275085,0.2269817441701889,0.28716975450515747,0.24036905169487,0.21770352125167847,0.17798340320587158,0.2349214255809784,0.3221580982208252,0.1447649896144867,0.2955947518348694,0.351948082447052,0.48869964480400085,0.2866531014442444,0.2601751685142517,0.3996279835700989,0.2931582033634186,0.34465277194976807,0.175767183303833,0.40035849809646606,0.38810092210769653,0.2874857485294342,0.4781174659729004,0.49641984701156616,0.06282183527946472,0.211812362074852,0.3460162281990051,0.37727195024490356,0.31060168147087097,0.17066991329193115,0.24764978885650635,0.2590348422527313,0.34270766377449036,0.18446026742458344,0.41207852959632874,0.5045610666275024,0.22255349159240723,0.30939075350761414,0.10583602637052536,0.3607538938522339,0.2240370512008667,0.3321113884449005,0.15020248293876648,0.2156769037246704,0.26080572605133057,0.30389267206192017,0.32688474655151367,0.12684129178524017,0.14454230666160583,0.4877288043498993,0.1939811259508133,0.1740954965353012,0.1581047624349594,0.2063922882080078,0.24586209654808044,0.2955920994281769,0.3619098663330078,0.11525002121925354,0.23888911306858063,0.3593408763408661,0.17648255825042725,0.35976314544677734,0.1633068323135376,0.3290902376174927,0.20188096165657043,0.24071058630943298,0.3471585512161255,0.17018312215805054,0.2694122791290283,0.18183842301368713,0.4515182673931122,0.1903267204761505,0.1397881805896759,0.2856813967227936,0.26507988572120667,0.39182665944099426,0.3328745365142822,0.20052829384803772,0.19684553146362305,0.13924403488636017,0.14880141615867615,0.45692819356918335,0.3231366276741028,0.24415886402130127,0.1774217039346695,0.20610716938972473,0.3255804181098938,0.23297801613807678,0.3046017289161682,0.38086146116256714,0.42930901050567627,0.276832640171051,0.17583683133125305,0.11144557595252991,0.26640626788139343,0.13260766863822937,0.07701806724071503,0.2326381355524063,0.10026530176401138,0.26901090145111084,0.2714451849460602,0.30469977855682373,0.23833845555782318,0.12010691314935684,0.23991897702217102,0.14412525296211243,0.23300187289714813,0.2635294198989868,0.17435932159423828,0.28702837228775024,0.32443034648895264,0.3705252408981323,0.18387702107429504,0.32533013820648193,0.25127530097961426,0.26152926683425903,0.11521497368812561,0.0709298700094223,0.2941415011882782,0.3878602981567383,0.24763920903205872,0.16192856431007385,0.25200217962265015,0.28909537196159363,0.1552436798810959,0.3280235528945923,0.15980111062526703,0.33482539653778076,0.3482602834701538,0.14702412486076355,0.08697953820228577,0.1696377992630005,0.08910107612609863,0.18884320557117462,0.10525168478488922,0.23265737295150757,0.12568214535713196,0.06951211392879486,0.3436730206012726,0.15862075984477997,0.16986794769763947,0.1198081448674202,0.19071117043495178,0.1173667311668396,0.23818108439445496,0.14621904492378235,0.10115799307823181,0.17359057068824768,0.3595165014266968,0.21438613533973694,0.282768189907074,0.2073889970779419,0.16245606541633606,0.20307448506355286,0.19815444946289062,0.1794888973236084,0.14850914478302002,0.4127652049064636,0.3844321072101593,0.3085930347442627,0.30237236618995667,0.20538559556007385,0.15706345438957214,0.1321180760860443,0.16548772156238556,0.25339606404304504,0.18822982907295227,0.24671882390975952,0.1376536339521408,0.14662186801433563,0.3162863850593567,0.1593209207057953,0.31270667910575867,0.4113121032714844,0.08299309015274048,0.37235867977142334,0.39747855067253113,0.07089148461818695,0.12270424515008926,0.1433485448360443,0.26683375239372253,0.3370368182659149,0.24706991016864777,0.44674891233444214,0.25251305103302,0.11621668189764023,0.20193293690681458,0.1507594734430313,0.20529107749462128,0.33955106139183044,0.13641829788684845,0.23817026615142822,0.17625844478607178,0.09805562347173691,0.19891707599163055,0.16695046424865723,0.3249824345111847,0.11557263135910034,0.057799071073532104,0.18319551646709442,0.17209920287132263,0.17608734965324402,0.3106610178947449,0.08847571909427643,0.15799015760421753,0.13437891006469727,0.07299652695655823,0.21442916989326477,0.09932992607355118,0.20850299298763275,0.14811652898788452,0.21408666670322418,0.27281612157821655,0.08253052085638046,0.11288480460643768,0.18565092980861664,0.08058717846870422,0.1120649203658104,0.25093352794647217,0.11130783706903458,0.13058939576148987,0.12520170211791992,0.11991512775421143,0.2471657246351242,0.2607666254043579,0.10481876134872437,0.12254317104816437,0.10031325370073318,0.35108160972595215,0.17249076068401337,0.08671054244041443,0.27766239643096924,0.21411722898483276,0.19305597245693207,0.16000664234161377,0.09992477297782898,0.14562451839447021,0.08532178401947021,0.14175105094909668,0.3388140797615051,0.08881478011608124,0.0915139839053154,0.0795178934931755,0.061037175357341766,0.1505460888147354,0.12685275077819824,0.23920731246471405,0.23050817847251892,0.19117286801338196,0.1066633015871048,0.15949904918670654,0.09002760797739029,0.22807401418685913,0.240634948015213,0.1697750687599182,0.11427588015794754,0.21757011115550995,0.3169620633125305,0.1810784935951233,0.20287847518920898,0.07996853440999985,0.17706260085105896,0.34754669666290283,0.1075616404414177,0.08797750622034073,0.10414369404315948,0.16212040185928345,0.1896733045578003,0.2103983759880066,0.15883119404315948,0.15696921944618225,0.1304289847612381,0.2782497704029083,0.2323530614376068,0.31515711545944214,0.14201587438583374,0.37890464067459106,0.2593756318092346,0.10960380733013153,0.0927789956331253,0.2910726070404053,0.42183375358581543,0.24702337384223938,0.29813605546951294,0.07033603638410568,0.17935341596603394,0.3044707179069519,0.28968143463134766,0.28099024295806885,0.18178865313529968,0.0955449789762497,0.08288615196943283,0.11927902698516846,0.07657846808433533,0.24458806216716766,0.22571030259132385,0.17047514021396637,0.1781560480594635,0.0719088688492775,0.2920109033584595,0.09136269986629486,0.16273927688598633,0.1669677495956421,0.15158811211585999,0.2663850784301758,0.23269522190093994,0.17772072553634644,0.20327575504779816,0.09727145731449127,0.09798090904951096,0.11159607768058777,0.14330080151557922,0.2901298999786377,0.27276915311813354,0.1387256383895874,0.16061736643314362,0.0970771387219429,0.15499038994312286,0.46520304679870605,0.08620265871286392,0.3455383777618408,0.24682007730007172,0.07308507710695267,0.30393069982528687,0.1413402110338211,0.12504512071609497,0.12785768508911133,0.12300656735897064,0.22980386018753052,0.2734658420085907,0.3463491201400757,0.31865617632865906,0.2630578279495239,0.24331584572792053,0.18432793021202087,0.2466067224740982,0.1793990582227707,0.11841706186532974,0.1818760484457016,0.1861441731452942,0.2890308201313019,0.0887913629412651,0.10682112723588943,0.09008777141571045,0.028519339859485626,0.13631319999694824,0.13832351565361023,0.11536934971809387,0.3374696969985962,0.13512414693832397,0.12725631892681122,0.19225293397903442,0.22510835528373718,0.1974395513534546,0.07954622805118561,0.04012221843004227,0.10323633253574371,0.15968509018421173,0.16664597392082214,0.18232418596744537,0.2331438660621643,0.11487403512001038,0.10085424035787582,0.07183733582496643,0.25670790672302246,0.26168474555015564,0.06644938886165619,0.19257688522338867,0.18351146578788757,0.05014704167842865,0.17151936888694763,0.2805232107639313,0.11746998131275177,0.0814899355173111,0.2983609437942505,0.22741173207759857,0.09244413673877716,0.08090182393789291,0.29371708631515503,0.12078793346881866,0.2485623061656952,0.11977172642946243,0.08162900060415268,0.27010589838027954,0.04481114447116852,0.41379213333129883,0.17332124710083008,0.06753817945718765,0.07870426774024963,0.06186457723379135,0.15507003664970398,0.07817110419273376,0.2876504957675934,0.19108335673809052,0.167239710688591,0.13817910850048065,0.37599775195121765,0.19638851284980774,0.20785367488861084,0.1435338258743286,0.19507327675819397,0.3077488839626312,0.21603697538375854,0.24977728724479675,0.07380427420139313,0.1644527167081833,0.21965187788009644,0.059952933341264725,0.05958547815680504,0.14999400079250336,0.08876986801624298,0.17296575009822845,0.4211946427822113,0.23879683017730713,0.13036245107650757,0.13991257548332214,0.21401375532150269,0.13179586827754974,0.12542405724525452,0.040599338710308075,0.10265614092350006,0.03561094403266907,0.05030757933855057,0.2049192190170288,0.08657325804233551,0.20036081969738007,0.05076458305120468,0.08351235091686249,0.20963223278522491,0.13422685861587524,0.08445702493190765,0.06750448793172836,0.0898175984621048,0.3058779537677765,0.09797123819589615,0.21087312698364258,0.17223596572875977,0.08193255960941315,0.17710499465465546,0.0837688148021698,0.3086075484752655,0.10479643195867538,0.04533045366406441,0.15791958570480347,0.0657113790512085,0.20915478467941284,0.15326833724975586,0.07765395939350128,0.117930106818676,0.04956510663032532,0.24984651803970337,0.6880024075508118,0.37549638748168945,0.09256747364997864,0.15898320078849792,0.25841712951660156,0.055897682905197144,0.255498468875885,0.11090397834777832,0.6855200529098511,0.12671682238578796,0.22376596927642822,0.355408638715744,0.11252450197935104,0.09816629439592361,0.2508588433265686,0.27272337675094604,0.15345248579978943,0.22669793665409088,0.08639262616634369,0.0653846487402916,0.13443604111671448,0.14049132168293,0.17203208804130554,0.15920104086399078,0.30033016204833984,0.3127578794956207,0.12040864676237106,0.15798601508140564,0.06596841663122177,0.10367192327976227,0.0419926792383194,0.09048931300640106,0.11819902807474136,0.11520794779062271,0.151475191116333,0.11683228611946106,0.1875036358833313,0.04376654326915741,0.12179646641016006,0.05838729068636894,0.11118128895759583,0.11128801107406616,0.17211291193962097,0.055671222507953644,0.2890956401824951,0.13163341581821442,0.12783409655094147,0.13913680613040924,0.11315679550170898,0.10806329548358917,0.19634947180747986,0.21429449319839478,0.04373467341065407,0.09483100473880768,0.10775184631347656,0.14276821911334991,0.0847654789686203,0.166975200176239,0.05927332490682602,0.43233755230903625,0.06639445573091507,0.056614991277456284,0.1404379904270172,0.21903690695762634,0.07529330998659134,0.08405399322509766,0.1832217276096344,0.1826615035533905,0.1639757752418518,0.14241591095924377,0.13499999046325684,0.38252633810043335,0.057291094213724136,0.2678679823875427,0.04643941670656204,0.20966216921806335,0.2023494839668274,0.05608198046684265,0.06922665983438492,0.121782585978508,0.3582901358604431,0.0986623615026474,0.22297866642475128,0.15312781929969788,0.17112824320793152,0.12594029307365417,0.39853647351264954,0.21989166736602783,0.18308202922344208,0.3034866452217102,0.16969361901283264,0.29156795144081116,0.15426790714263916,0.09725973010063171,0.07860102504491806,0.16811226308345795,0.18854419887065887,0.0956365317106247,0.0632658451795578,0.1061684787273407,0.15366603434085846,0.05375541001558304,0.17146089673042297,0.14482545852661133,0.20787447690963745,0.16436737775802612,0.09410299360752106,0.1313832849264145,0.23395505547523499,0.23107579350471497,0.15477362275123596,0.16577857732772827,0.24495483934879303,0.13675250113010406,0.13816508650779724,0.4145457148551941,0.15564663708209991,0.14766941964626312,0.316499263048172,0.15204736590385437,0.06486672908067703,0.22051307559013367,0.18479707837104797,0.11206530034542084,0.19994240999221802,0.07179832458496094,0.08532338589429855,0.06538722664117813,0.08016340434551239,0.26309478282928467,0.08677715063095093,0.08464866876602173,0.19747278094291687,0.0827924907207489,0.24084149301052094,0.1268814653158188,0.13723298907279968,0.10381448268890381,0.19804251194000244,0.24249327182769775,0.11407595872879028,0.10701920092105865,0.05424804612994194,0.11755508184432983,0.0658053606748581,0.09396769106388092,0.10660605132579803,0.1931295096874237,0.24691051244735718,0.036075737327337265,0.40986064076423645,0.11616002023220062,0.1287860870361328,0.13601574301719666,0.25735095143318176,0.18860837817192078,0.2379509061574936,0.06805203855037689,0.23079749941825867,0.08978763967752457,0.18639814853668213,0.19814498722553253,0.24550992250442505,0.23268887400627136,0.1524381786584854,0.19608987867832184,0.0762031301856041,0.27437326312065125,0.21359539031982422,0.11317136883735657,0.12173518538475037,0.3543964922428131,0.03238293528556824,0.08454416692256927,0.2197677493095398,0.07720764726400375,0.23065298795700073,0.14475464820861816,0.2444937527179718,0.21862418949604034,0.11888930201530457,0.24247461557388306,0.21255093812942505,0.2363223433494568,0.34331458806991577,0.1553242802619934,0.33603525161743164,0.18440178036689758,0.19505634903907776,0.27480757236480713,0.25406885147094727,0.23181495070457458,0.08599850535392761,0.24084077775478363,0.05656575411558151,0.0489550344645977,0.29017215967178345,0.0962589681148529,0.05622822046279907,0.08822328597307205,0.24392937123775482,0.1094382181763649,0.09231672435998917,0.1794375777244568,0.14838114380836487,0.04019562527537346,0.04786480963230133,0.02688351273536682,0.04195135459303856,0.21354851126670837,0.09086725860834122,0.19191405177116394,0.08171281963586807,0.11946327239274979,0.2817637324333191,0.04765629768371582,0.12324058264493942,0.19790413975715637,0.14543814957141876,0.20637178421020508,0.21827125549316406,0.11521457880735397,0.037323884665966034,0.15802697837352753,0.1488950103521347,0.09053698182106018,0.07009433209896088,0.10985618084669113,0.2556658983230591,0.0859786868095398,0.03376332297921181,0.3190698027610779,0.05752133950591087,0.2144223302602768,0.037742629647254944,0.06919144093990326,0.06594719737768173,0.06077171117067337,0.1099061444401741,0.10638417303562164,0.12035414576530457,0.03350995108485222,0.20148968696594238,0.03809094801545143,0.08608781546354294,0.06985503435134888,0.03897009789943695,0.046073414385318756,0.35619714856147766,0.23998507857322693,0.06262989342212677,0.2605118751525879,0.32529881596565247,0.09014291316270828,0.07507625967264175,0.11098633706569672,0.05538629740476608,0.058293621987104416,0.18156678974628448,0.4192051291465759,0.24104082584381104,0.17591047286987305,0.17206048965454102,0.19175982475280762,0.23720379173755646,0.1562022566795349,0.05662466958165169,0.2078089714050293,0.13533613085746765,0.047283023595809937,0.1663167029619217,0.20172299444675446,0.04233257472515106,0.1505095213651657,0.28217336535453796,0.15129037201404572,0.2115001529455185,0.3834278881549835,0.07320784032344818,0.15623024106025696,0.1331224888563156,0.09521681815385818,0.3005983233451843,0.03650534525513649,0.37519049644470215,0.07928451150655746,0.11275418102741241,0.09236939251422882,0.10050360858440399,0.23567941784858704,0.13741043210029602,0.1632997989654541,0.18679621815681458,0.12162311375141144,0.030925508588552475,0.04555036872625351,0.18340864777565002,0.09094151854515076,0.17313152551651,0.11908019334077835,0.12310218065977097,0.15938985347747803,0.11512893438339233,0.07341237366199493,0.14204208552837372,0.19899417459964752,0.1560317724943161,0.26228588819503784,0.10213112831115723,0.040755391120910645,0.06625086069107056,0.1350984275341034,0.10395719110965729,0.07185950130224228,0.2062755823135376,0.121663399040699,0.09740830957889557,0.022711310535669327,0.11359525471925735,0.11296914517879486,0.0378006249666214,0.07288752496242523,0.193520188331604,0.16824601590633392,0.2807771861553192,0.1222483217716217,0.056453656405210495,0.059525586664676666,0.17883244156837463,0.03991921991109848,0.13517358899116516,0.03934566304087639,0.08970615267753601,0.4280300438404083,0.17376473546028137,0.18619224429130554,0.07546784728765488,0.15589334070682526,0.17380701005458832,0.12503571808338165,0.1898840069770813,0.08957776427268982,0.09650032967329025,0.3262099325656891,0.20404675602912903,0.3248884677886963,0.2493230402469635,0.17512543499469757,0.12018130719661713,0.2057991772890091,0.09305739402770996,0.06040055304765701,0.15351933240890503,0.12257890403270721,0.17545916140079498,0.2256196290254593,0.057302601635456085,0.15818151831626892,0.18910028040409088,0.04593411460518837,0.06539853662252426,0.22959725558757782,0.19661478698253632,0.07491317391395569,0.1035538911819458,0.08501342684030533,0.07597857713699341,0.04802241921424866,0.06627839058637619,0.16731402277946472,0.07226495444774628,0.1649872362613678,0.07364639639854431,0.1341155469417572,0.05020403116941452,0.47539836168289185,0.19569258391857147,0.07625923305749893,0.1248905286192894,0.19632607698440552,0.020623475313186646,0.06965591758489609,0.4038201868534088,0.11534027755260468,0.03695723041892052,0.31272611021995544,0.06572317332029343,0.1872391700744629,0.07938286662101746,0.05575960874557495,0.05495530739426613,0.1006612479686737,0.09460019320249557,0.03397933021187782,0.2606703042984009,0.2171878069639206,0.05308273434638977,0.0265810489654541,0.10323136299848557,0.056491002440452576,0.22465284168720245,0.06985840201377869,0.08156310021877289,0.11786224693059921,0.31787392497062683,0.14119325578212738,0.23523935675621033,0.22336404025554657,0.11668144166469574,0.05617755651473999,0.04285319149494171,0.18713538348674774,0.029899969696998596,0.13239462673664093,0.1890454888343811,0.14222939312458038,0.13511350750923157,0.05593129247426987,0.23661240935325623,0.09545774012804031,0.07844703644514084,0.2562370002269745,0.0982242077589035,0.07810845226049423,0.26151469349861145,0.14156991243362427,0.11063014715909958,0.10867815464735031,0.09482743591070175,0.03736415505409241,0.29476824402809143,0.0686347559094429,0.09490489959716797,0.28832104802131653,0.18189583718776703,0.054407212883234024,0.030740655958652496,0.09592227637767792,0.22769859433174133,0.06757377088069916,0.19135218858718872,0.0632416382431984,0.15132629871368408,0.14183808863162994,0.16829156875610352,0.053256019949913025,0.28429993987083435,0.026232939213514328,0.18893525004386902,0.13437294960021973,0.06391028314828873,0.1396304816007614,0.045112572610378265,0.10451924800872803,0.07973343133926392,0.10985739529132843,0.32393601536750793,0.1292906105518341,0.06170286610722542,0.09803497046232224,0.11130741238594055,0.034252364188432693,0.14317721128463745,0.1692349910736084,0.08582879602909088,0.2982798218727112,0.32349252700805664,0.2327202707529068,0.18980750441551208,0.2589948773384094,0.21000231802463531,0.11903001368045807,0.06249300763010979,0.1405358612537384,0.1486184149980545,0.04879095032811165,0.30532586574554443,0.021685708314180374,0.0639595314860344,0.09360679239034653,0.16458603739738464,0.13758717477321625,0.1283092200756073,0.10869582742452621,0.0402032807469368,0.1931127905845642,0.1367170810699463,0.11800321191549301,0.13637657463550568,0.1552344262599945,0.06192048639059067,0.03410205617547035,0.22061249613761902,0.10628202557563782,0.1529829204082489,0.12107178568840027,0.14852793514728546,0.05627373605966568,0.20092470943927765,0.12920059263706207,0.04373305290937424,0.13329343497753143,0.28115785121917725,0.09647536277770996,0.10990390181541443,0.02881506085395813,0.11830788850784302,0.10045348107814789,0.07352201640605927,0.14895805716514587,0.12254396826028824,0.1276562213897705,0.11785513162612915,0.05083177238702774,0.0866151675581932,0.2081214040517807,0.07839319109916687,0.17691871523857117,0.04225604608654976,0.10827943682670593,0.25568076968193054,0.1315843015909195,0.07917652279138565,0.17338994145393372,0.06399532407522202,0.15605218708515167,0.0920310765504837,0.03296012803912163,0.0758146271109581,0.03286565840244293,0.07059954106807709,0.17066797614097595,0.02091418206691742,0.218959778547287,0.07924900203943253,0.059116970747709274,0.1816834956407547,0.20374807715415955,0.048358071595430374,0.16971518099308014,0.296062707901001,0.026712259277701378,0.05471495911478996,0.05215557664632797,0.05034050717949867,0.07740447670221329,0.1598474681377411,0.19048528373241425,0.08024740219116211,0.21363481879234314,0.08873376995325089,0.08805645257234573,0.0871691107749939,0.2023106962442398,0.10046232491731644,0.07929074019193649,0.054282646626234055,0.04908820241689682,0.1182459145784378,0.04609799385070801,0.11789318919181824,0.11142431944608688,0.18076154589653015,0.04642367362976074,0.16408373415470123,0.1450846791267395,0.1910519003868103,0.07503072917461395,0.12091035395860672,0.07989373803138733,0.03368628770112991,0.05941220372915268,0.12143246084451675,0.13331317901611328,0.2237163484096527,0.045346371829509735,0.23932203650474548,0.15804773569107056,0.07300475984811783,0.1447005718946457,0.05246676504611969,0.21257691085338593,0.1315588653087616,0.17806123197078705,0.04842974990606308,0.1901220679283142,0.1325598806142807,0.02346070297062397,0.11123804748058319,0.04409395158290863,0.21787017583847046,0.036152057349681854,0.030846457928419113,0.23547720909118652,0.04875718802213669,0.1958291381597519,0.1791280210018158,0.045294180512428284,0.07551783323287964,0.04146258160471916,0.1466081589460373,0.40877628326416016,0.16788433492183685,0.05138181149959564,0.03809623420238495,0.10735850781202316,0.11685317009687424,0.14182141423225403,0.05395887419581413,0.26868322491645813,0.08542884886264801,0.04286091774702072,0.16906842589378357,0.12054389715194702,0.16330504417419434,0.146367147564888,0.2637718915939331,0.15686582028865814,0.1296125054359436,0.13401055335998535,0.13778512179851532,0.5242252349853516,0.27411961555480957,0.1933707892894745,0.11293181777000427,0.2519102394580841,0.2768087685108185,0.05406668409705162,0.06953505426645279,0.13007743656635284,0.03406506031751633,0.059531234204769135,0.09443653374910355,0.12260309606790543,0.03372495248913765,0.1198243573307991,0.30922019481658936,0.1879170835018158,0.1293487548828125,0.022987788543105125,0.13288477063179016,0.08436869084835052,0.10209530591964722,0.08272691071033478,0.1579299122095108,0.22099506855010986,0.027458522468805313,0.07708655297756195,0.031306371092796326,0.10859772562980652,0.0321345254778862,0.09491179138422012,0.27858442068099976,0.1367853879928589,0.16981767117977142,0.1521206945180893,0.1195303201675415,0.0671805590391159,0.19435925781726837,0.2675226926803589,0.04037650674581528,0.11293324828147888,0.08056680113077164,0.40354490280151367,0.05130913108587265,0.23682034015655518,0.2713809907436371,0.0512295737862587,0.13197219371795654,0.07997320592403412,0.033023230731487274,0.1215369775891304,0.08015895634889603,0.22318348288536072,0.13242465257644653,0.0905160903930664,0.1674671322107315,0.029333969578146935,0.14756189286708832,0.39906513690948486,0.12630800902843475,0.04971674084663391,0.0771058201789856,0.10705398768186569,0.11610877513885498,0.052305012941360474,0.04636886715888977,0.26132211089134216,0.059816326946020126,0.014272736385464668,0.04931975528597832,0.062332380563020706,0.08339446038007736,0.026695674285292625,0.16179417073726654,0.07056644558906555,0.027682596817612648,0.05173731595277786,0.17742367088794708,0.04515881836414337,0.05948701873421669,0.07991375029087067,0.09179122745990753,0.08110925555229187,0.14643150568008423,0.3580859303474426,0.31383514404296875,0.2963305711746216,0.1052662804722786,0.05754521116614342,0.03568840026855469,0.15509408712387085,0.12746687233448029,0.21512314677238464,0.11356453597545624,0.0866408422589302,0.12629854679107666,0.04644518345594406,0.05866781622171402,0.04114944487810135,0.17125198245048523,0.2461899369955063,0.25351354479789734,0.14214134216308594,0.3447393774986267,0.2888900637626648,0.03418634086847305,0.18370181322097778,0.06032530590891838,0.024910230189561844,0.13961902260780334,0.20869453251361847,0.0491076335310936,0.0727308988571167,0.04033840447664261,0.2603757381439209,0.048738446086645126,0.08592785894870758,0.10148154199123383,0.03970128297805786,0.03766874969005585,0.13742870092391968,0.19255785644054413,0.08238185942173004,0.08484973758459091,0.3470149040222168,0.04919224977493286,0.06561868637800217,0.06650535762310028,0.2858239412307739,0.2496599555015564,0.32805079221725464,0.258012980222702,0.04674943909049034,0.3704701364040375,0.021743010729551315,0.20808172225952148,0.21114158630371094,0.21715140342712402,0.015043200924992561,0.2835318446159363,0.07226181775331497,0.12349824607372284,0.07501746714115143,0.10877609252929688,0.06028267741203308,0.23690153658390045,0.08416776359081268,0.05524567514657974,0.12358959019184113,0.030729644000530243,0.04213010147213936,0.0404764860868454,0.04372606426477432,0.058401934802532196,0.05197945237159729,0.2348625808954239,0.10725422203540802,0.07584333419799805,0.09944379329681396,0.22936709225177765,0.13372334837913513,0.015643179416656494,0.05279518663883209,0.16001321375370026,0.055945511907339096,0.24759452044963837,0.04823162406682968,0.04087768495082855,0.06909633427858353,0.06019444018602371,0.1257752627134323,0.05344121530652046,0.09764757752418518,0.03975537791848183,0.12666717171669006,0.045321397483348846,0.07949281483888626,0.036813728511333466,0.1390334963798523,0.19002914428710938,0.032298434525728226,0.10704763233661652,0.10839667916297913,0.10538427531719208,0.18573538959026337,0.08269481360912323,0.05866912379860878,0.13704204559326172,0.09897363930940628,0.12828536331653595,0.17638735473155975,0.11850626021623611,0.10924207419157028,0.08447466790676117,0.056763432919979095,0.02020576223731041,0.06589552760124207,0.0572575218975544,0.12925346195697784,0.1276530921459198,0.05238817259669304,0.19573795795440674,0.11367028951644897,0.06099148094654083,0.0263021569699049,0.059041015803813934,0.13965648412704468,0.1056789755821228,0.16135841608047485,0.41285622119903564,0.19229164719581604,0.09354718774557114,0.16584421694278717,0.05499890819191933,0.11770381778478622,0.0387151837348938,0.4297967553138733,0.026025736704468727,0.18967440724372864,0.05396819859743118,0.01887189969420433,0.03233086317777634,0.05483022332191467,0.32130077481269836,0.019925136119127274,0.0966578871011734,0.08061623573303223,0.02413780242204666,0.11331231892108917,0.08960887789726257,0.024573473259806633,0.37515729665756226,0.068657785654068,0.05903402715921402,0.37072187662124634,0.05151284486055374,0.050617653876543045,0.10409601032733917,0.18508408963680267,0.19158662855625153,0.12414997816085815,0.1368161290884018,0.08691421896219254,0.09584125876426697,0.1467817723751068,0.13338619470596313,0.011363987810909748,0.030842281877994537,0.2388697862625122,0.05188867822289467,0.04852994531393051,0.13534587621688843,0.15925177931785583,0.06186755746603012,0.037031952291727066,0.12747032940387726,0.11838528513908386,0.13940463960170746,0.053212493658065796,0.20432209968566895,0.12296851724386215,0.03482099249958992,0.020778581500053406,0.03916730359196663,0.12176649272441864,0.13058561086654663,0.1892676055431366,0.07246395945549011,0.10702788084745407,0.20501339435577393,0.07485555112361908,0.24156877398490906,0.05179748684167862,0.09717407822608948,0.0933084487915039,0.055932894349098206,0.06606857478618622,0.04103595018386841,0.07292473316192627,0.17360901832580566,0.06505648791790009,0.09889805316925049,0.16004277765750885,0.16831320524215698,0.35543903708457947,0.09238144010305405,0.0403275340795517,0.17011591792106628,0.14185136556625366,0.1817425638437271,0.0782952606678009,0.041590336710214615,0.13742516934871674,0.10329064726829529,0.09094104915857315,0.030995968729257584,0.3806055188179016,0.03777695447206497,0.2092188447713852,0.20003964006900787,0.1502925306558609,0.2685766816139221,0.1550142765045166,0.05749942734837532,0.018544329330325127,0.12627628445625305,0.09303009510040283,0.34046876430511475,0.09885793924331665,0.039231542497873306,0.1669308990240097,0.13445153832435608,0.14946243166923523,0.10692443698644638,0.08395420014858246,0.11091607809066772,0.05908382683992386,0.10476666688919067,0.029809623956680298,0.2684444487094879,0.17985089123249054,0.030550917610526085,0.16684956848621368,0.19644978642463684,0.02909327670931816,0.06728208810091019,0.07345514744520187,0.04587326943874359,0.04222101718187332,0.04132775217294693,0.25976642966270447,0.13259322941303253,0.2596244215965271,0.04147408902645111,0.027969371527433395,0.0850808247923851,0.05431878939270973,0.12850601971149445,0.10763232409954071,0.027992641553282738,0.09128841757774353,0.060360465198755264,0.08172031491994858,0.057246558368206024,0.08717808127403259,0.25016266107559204,0.07320259511470795,0.028395522385835648,0.1009887307882309,0.03358982130885124,0.051952071487903595,0.08533219993114471,0.025097062811255455,0.31433165073394775,0.041661810129880905,0.21276909112930298,0.09894591569900513,0.045423053205013275,0.13231493532657623,0.16933797299861908,0.16983957588672638,0.05080658942461014,0.03422554209828377,0.10713861137628555,0.17857564985752106,0.05838921666145325,0.31297188997268677,0.035899557173252106,0.06416871398687363,0.3473641276359558,0.06749288737773895,0.029579825699329376,0.02881651744246483,0.04941238462924957,0.019121453166007996,0.026615653187036514,0.009741107933223248,0.04023035615682602,0.10029502213001251,0.05173567682504654,0.05539223924279213,0.010637106373906136,0.03951162099838257,0.005577047821134329,0.06526189297437668,0.0703752338886261,0.019970238208770752,0.24325057864189148,0.017478495836257935,0.014158539474010468,0.007744683884084225,0.021567363291978836,0.25197815895080566,0.11617831885814667,0.016636967658996582,0.025742072612047195,0.006891495548188686,0.0060515813529491425,0.030062459409236908,0.006176899187266827,0.015122393146157265,0.004119677469134331,0.00616520456969738,0.011439256370067596,0.0031914825085550547,0.0073458049446344376,0.006447799503803253,0.06446880102157593,0.0442550890147686,0.035999711602926254,0.06715069711208344,0.2837672531604767,0.045531343668699265,0.04537968337535858,0.0028035128489136696,0.005359397269785404,0.007012724876403809,0.010409084148705006,0.03456666320562363,0.03516756743192673,0.19850033521652222,0.6741371154785156,0.17016839981079102,0.048720333725214005,0.028569815680384636,0.019854610785841942,0.01748490333557129,0.40302297472953796,0.014240020886063576,0.07712593674659729,0.2477881908416748,0.2023121863603592,0.046246275305747986,0.15794585645198822,0.2216092050075531,0.04149680957198143,0.134556382894516,0.07542341947555542,0.01788995787501335,0.03219921886920929,0.0464131236076355,0.04563865065574646,0.11451810598373413,0.022927071899175644,0.40307748317718506,0.12402547895908356,0.08558308333158493,0.07111748307943344,0.18014007806777954,0.0712306797504425,0.04744423180818558,0.10861224681138992,0.047933340072631836,0.22550079226493835,0.12568777799606323,0.2628086805343628,0.08666437864303589,0.15558204054832458,0.07109855115413666,0.06351691484451294,0.2084369659423828,0.23307430744171143,0.15269145369529724,0.05796810984611511,0.24285882711410522,0.07353668659925461,0.04172798991203308,0.18866169452667236,0.1007927805185318,0.0639546811580658,0.20559903979301453,0.2641274034976959,0.14060117304325104,0.04620850831270218,0.08043872565031052,0.030123736709356308,0.192163348197937,0.11628004908561707,0.049516722559928894,0.2124308943748474,0.032653145492076874,0.0374627560377121,0.08053247630596161,0.2166353464126587,0.13433369994163513,0.025478851050138474,0.108469657599926,0.032395415008068085,0.07331240922212601,0.14920857548713684,0.04770024120807648,0.0359937809407711,0.12328353524208069,0.10153599083423615,0.03239037096500397,0.034714225679636,0.0975627601146698,0.08738713711500168,0.16466891765594482,0.03185918927192688,0.10278402268886566,0.026016511023044586,0.02901754528284073,0.05469018593430519,0.18666961789131165,0.03128042817115784,0.10426755249500275,0.015667058527469635,0.04436275362968445,0.07253411412239075,0.16148334741592407,0.026479428634047508,0.3519454300403595,0.0536305196583271,0.26591283082962036,0.052599936723709106,0.18865741789340973,0.11801401525735855,0.06127162277698517,0.0523596927523613,0.06880206614732742,0.029548991471529007,0.04304537922143936,0.2613200545310974,0.032814085483551025,0.05826878547668457,0.08614081144332886,0.04305470734834671,0.013440240174531937,0.16625386476516724,0.06353826075792313,0.1702788770198822,0.05536231771111488,0.020071767270565033,0.04331028833985329,0.04792681708931923,0.0526457279920578,0.09081283211708069,0.5303089618682861,0.07837464660406113,0.05415238440036774,0.03354136645793915,0.05859082192182541,0.1958831548690796,0.2591263949871063,0.19402500987052917,0.11645753681659698,0.21769572794437408,0.1029786467552185,0.03952951356768608,0.05606813356280327,0.0398336723446846,0.029181716963648796,0.1277836263179779,0.17052775621414185,0.1871330291032791]}},\"id\":\"0e49b138-a1ab-49e1-a158-8251b5d74c67\",\"type\":\"ColumnDataSource\"},{\"attributes\":{\"plot\":{\"id\":\"31c53704-3496-4943-aff6-f949ec64cf20\",\"subtype\":\"Figure\",\"type\":\"Plot\"}},\"id\":\"110e5de2-d098-4cb1-a7d0-1087025e4565\",\"type\":\"HelpTool\"}],\"root_ids\":[\"31c53704-3496-4943-aff6-f949ec64cf20\"]},\"title\":\"Bokeh Application\",\"version\":\"0.12.2\"}};\n",
       "            var render_items = [{\"docid\":\"bba191a0-4b56-4ca8-b549-7794ccdf6f8c\",\"elementid\":\"03adbcea-90b3-40e3-aaa2-a02df5f888cc\",\"modelid\":\"31c53704-3496-4943-aff6-f949ec64cf20\"}];\n",
       "            \n",
       "            Bokeh.embed.embed_items(docs_json, render_items);\n",
       "        });\n",
       "      },\n",
       "      function(Bokeh) {\n",
       "      }\n",
       "    ];\n",
       "  \n",
       "    function run_inline_js() {\n",
       "      \n",
       "      if ((window.Bokeh !== undefined) || (force === \"1\")) {\n",
       "        for (var i = 0; i < inline_js.length; i++) {\n",
       "          inline_js[i](window.Bokeh);\n",
       "        }if (force === \"1\") {\n",
       "          display_loaded();\n",
       "        }} else if (Date.now() < window._bokeh_timeout) {\n",
       "        setTimeout(run_inline_js, 100);\n",
       "      } else if (!window._bokeh_failed_load) {\n",
       "        console.log(\"Bokeh: BokehJS failed to load within specified timeout.\");\n",
       "        window._bokeh_failed_load = true;\n",
       "      } else if (!force) {\n",
       "        var cell = $(\"#03adbcea-90b3-40e3-aaa2-a02df5f888cc\").parents('.cell').data().cell;\n",
       "        cell.output_area.append_execute_result(NB_LOAD_WARNING)\n",
       "      }\n",
       "  \n",
       "    }\n",
       "  \n",
       "    if (window._bokeh_is_loading === 0) {\n",
       "      console.log(\"Bokeh: BokehJS loaded, going straight to plotting\");\n",
       "      run_inline_js();\n",
       "    } else {\n",
       "      load_libs(js_urls, function() {\n",
       "        console.log(\"Bokeh: BokehJS plotting callback run at\", now());\n",
       "        run_inline_js();\n",
       "      });\n",
       "    }\n",
       "  }(this));\n",
       "</script>"
      ]
     },
     "metadata": {},
     "output_type": "display_data"
    }
   ],
   "source": [
    "p = figure(title=\"training loss\", x_axis_label='train steps', y_axis_label='loss')\n",
    "p = figure()\n",
    "p.line(range(len(losses)),losses)\n",
    "show(p)"
   ]
  },
  {
   "cell_type": "code",
   "execution_count": null,
   "metadata": {
    "collapsed": true
   },
   "outputs": [],
   "source": []
  }
 ],
 "metadata": {
  "kernelspec": {
   "display_name": "Python [conda env:tensorflow]",
   "language": "python",
   "name": "conda-env-tensorflow-py"
  },
  "language_info": {
   "codemirror_mode": {
    "name": "ipython",
    "version": 2
   },
   "file_extension": ".py",
   "mimetype": "text/x-python",
   "name": "python",
   "nbconvert_exporter": "python",
   "pygments_lexer": "ipython2",
   "version": "2.7.12"
  }
 },
 "nbformat": 4,
 "nbformat_minor": 2
}
