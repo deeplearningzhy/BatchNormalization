{
 "cells": [
  {
   "cell_type": "markdown",
   "metadata": {},
   "source": [
    "[Orignal paper](https://arxiv.org/abs/1502.03167)"
   ]
  },
  {
   "cell_type": "code",
   "execution_count": 1,
   "metadata": {
    "collapsed": false
   },
   "outputs": [],
   "source": [
    "from __future__ import print_function\n",
    "import tensorflow as tf\n",
    "import numpy as np\n",
    "from matplotlib import pyplot as plt\n",
    "%matplotlib inline\n",
    "from tqdm import tqdm\n",
    "from MyHelper import *\n",
    "from bokeh.plotting import figure, show\n",
    "from bokeh.io import output_notebook"
   ]
  },
  {
   "cell_type": "code",
   "execution_count": 2,
   "metadata": {
    "collapsed": false
   },
   "outputs": [
    {
     "data": {
      "text/html": [
       "\n",
       "    <div class=\"bk-root\">\n",
       "        <a href=\"http://bokeh.pydata.org\" target=\"_blank\" class=\"bk-logo bk-logo-small bk-logo-notebook\"></a>\n",
       "        <span id=\"1ce7e489-45a7-472f-9815-78a0ce44b970\">Loading BokehJS ...</span>\n",
       "    </div>"
      ]
     },
     "metadata": {},
     "output_type": "display_data"
    },
    {
     "data": {
      "application/javascript": [
       "\n",
       "(function(global) {\n",
       "  function now() {\n",
       "    return new Date();\n",
       "  }\n",
       "\n",
       "  var force = \"1\";\n",
       "\n",
       "  if (typeof (window._bokeh_onload_callbacks) === \"undefined\" || force !== \"\") {\n",
       "    window._bokeh_onload_callbacks = [];\n",
       "    window._bokeh_is_loading = undefined;\n",
       "  }\n",
       "\n",
       "\n",
       "  \n",
       "  if (typeof (window._bokeh_timeout) === \"undefined\" || force !== \"\") {\n",
       "    window._bokeh_timeout = Date.now() + 5000;\n",
       "    window._bokeh_failed_load = false;\n",
       "  }\n",
       "\n",
       "  var NB_LOAD_WARNING = {'data': {'text/html':\n",
       "     \"<div style='background-color: #fdd'>\\n\"+\n",
       "     \"<p>\\n\"+\n",
       "     \"BokehJS does not appear to have successfully loaded. If loading BokehJS from CDN, this \\n\"+\n",
       "     \"may be due to a slow or bad network connection. Possible fixes:\\n\"+\n",
       "     \"</p>\\n\"+\n",
       "     \"<ul>\\n\"+\n",
       "     \"<li>re-rerun `output_notebook()` to attempt to load from CDN again, or</li>\\n\"+\n",
       "     \"<li>use INLINE resources instead, as so:</li>\\n\"+\n",
       "     \"</ul>\\n\"+\n",
       "     \"<code>\\n\"+\n",
       "     \"from bokeh.resources import INLINE\\n\"+\n",
       "     \"output_notebook(resources=INLINE)\\n\"+\n",
       "     \"</code>\\n\"+\n",
       "     \"</div>\"}};\n",
       "\n",
       "  function display_loaded() {\n",
       "    if (window.Bokeh !== undefined) {\n",
       "      Bokeh.$(\"#1ce7e489-45a7-472f-9815-78a0ce44b970\").text(\"BokehJS successfully loaded.\");\n",
       "    } else if (Date.now() < window._bokeh_timeout) {\n",
       "      setTimeout(display_loaded, 100)\n",
       "    }\n",
       "  }\n",
       "\n",
       "  function run_callbacks() {\n",
       "    window._bokeh_onload_callbacks.forEach(function(callback) { callback() });\n",
       "    delete window._bokeh_onload_callbacks\n",
       "    console.info(\"Bokeh: all callbacks have finished\");\n",
       "  }\n",
       "\n",
       "  function load_libs(js_urls, callback) {\n",
       "    window._bokeh_onload_callbacks.push(callback);\n",
       "    if (window._bokeh_is_loading > 0) {\n",
       "      console.log(\"Bokeh: BokehJS is being loaded, scheduling callback at\", now());\n",
       "      return null;\n",
       "    }\n",
       "    if (js_urls == null || js_urls.length === 0) {\n",
       "      run_callbacks();\n",
       "      return null;\n",
       "    }\n",
       "    console.log(\"Bokeh: BokehJS not loaded, scheduling load and callback at\", now());\n",
       "    window._bokeh_is_loading = js_urls.length;\n",
       "    for (var i = 0; i < js_urls.length; i++) {\n",
       "      var url = js_urls[i];\n",
       "      var s = document.createElement('script');\n",
       "      s.src = url;\n",
       "      s.async = false;\n",
       "      s.onreadystatechange = s.onload = function() {\n",
       "        window._bokeh_is_loading--;\n",
       "        if (window._bokeh_is_loading === 0) {\n",
       "          console.log(\"Bokeh: all BokehJS libraries loaded\");\n",
       "          run_callbacks()\n",
       "        }\n",
       "      };\n",
       "      s.onerror = function() {\n",
       "        console.warn(\"failed to load library \" + url);\n",
       "      };\n",
       "      console.log(\"Bokeh: injecting script tag for BokehJS library: \", url);\n",
       "      document.getElementsByTagName(\"head\")[0].appendChild(s);\n",
       "    }\n",
       "  };var element = document.getElementById(\"1ce7e489-45a7-472f-9815-78a0ce44b970\");\n",
       "  if (element == null) {\n",
       "    console.log(\"Bokeh: ERROR: autoload.js configured with elementid '1ce7e489-45a7-472f-9815-78a0ce44b970' but no matching script tag was found. \")\n",
       "    return false;\n",
       "  }\n",
       "\n",
       "  var js_urls = ['https://cdn.pydata.org/bokeh/release/bokeh-0.12.2.min.js', 'https://cdn.pydata.org/bokeh/release/bokeh-widgets-0.12.2.min.js', 'https://cdn.pydata.org/bokeh/release/bokeh-compiler-0.12.2.min.js'];\n",
       "\n",
       "  var inline_js = [\n",
       "    function(Bokeh) {\n",
       "      Bokeh.set_log_level(\"info\");\n",
       "    },\n",
       "    \n",
       "    function(Bokeh) {\n",
       "      \n",
       "      Bokeh.$(\"#1ce7e489-45a7-472f-9815-78a0ce44b970\").text(\"BokehJS is loading...\");\n",
       "    },\n",
       "    function(Bokeh) {\n",
       "      console.log(\"Bokeh: injecting CSS: https://cdn.pydata.org/bokeh/release/bokeh-0.12.2.min.css\");\n",
       "      Bokeh.embed.inject_css(\"https://cdn.pydata.org/bokeh/release/bokeh-0.12.2.min.css\");\n",
       "      console.log(\"Bokeh: injecting CSS: https://cdn.pydata.org/bokeh/release/bokeh-widgets-0.12.2.min.css\");\n",
       "      Bokeh.embed.inject_css(\"https://cdn.pydata.org/bokeh/release/bokeh-widgets-0.12.2.min.css\");\n",
       "    }\n",
       "  ];\n",
       "\n",
       "  function run_inline_js() {\n",
       "    \n",
       "    if ((window.Bokeh !== undefined) || (force === \"1\")) {\n",
       "      for (var i = 0; i < inline_js.length; i++) {\n",
       "        inline_js[i](window.Bokeh);\n",
       "      }if (force === \"1\") {\n",
       "        display_loaded();\n",
       "      }} else if (Date.now() < window._bokeh_timeout) {\n",
       "      setTimeout(run_inline_js, 100);\n",
       "    } else if (!window._bokeh_failed_load) {\n",
       "      console.log(\"Bokeh: BokehJS failed to load within specified timeout.\");\n",
       "      window._bokeh_failed_load = true;\n",
       "    } else if (!force) {\n",
       "      var cell = $(\"#1ce7e489-45a7-472f-9815-78a0ce44b970\").parents('.cell').data().cell;\n",
       "      cell.output_area.append_execute_result(NB_LOAD_WARNING)\n",
       "    }\n",
       "\n",
       "  }\n",
       "\n",
       "  if (window._bokeh_is_loading === 0) {\n",
       "    console.log(\"Bokeh: BokehJS loaded, going straight to plotting\");\n",
       "    run_inline_js();\n",
       "  } else {\n",
       "    load_libs(js_urls, function() {\n",
       "      console.log(\"Bokeh: BokehJS plotting callback run at\", now());\n",
       "      run_inline_js();\n",
       "    });\n",
       "  }\n",
       "}(this));"
      ]
     },
     "metadata": {},
     "output_type": "display_data"
    }
   ],
   "source": [
    "output_notebook()"
   ]
  },
  {
   "cell_type": "code",
   "execution_count": 3,
   "metadata": {
    "collapsed": false
   },
   "outputs": [],
   "source": [
    "downloadData(filename,loc)"
   ]
  },
  {
   "cell_type": "code",
   "execution_count": 4,
   "metadata": {
    "collapsed": false
   },
   "outputs": [],
   "source": [
    "X,y=getData(filename,loc,flat=False)"
   ]
  },
  {
   "cell_type": "code",
   "execution_count": 5,
   "metadata": {
    "collapsed": false
   },
   "outputs": [
    {
     "name": "stdout",
     "output_type": "stream",
     "text": [
      "(60000, 28, 28, 1) (60000, 10)\n"
     ]
    }
   ],
   "source": [
    "print(X.shape,y.shape)"
   ]
  },
  {
   "cell_type": "code",
   "execution_count": 6,
   "metadata": {
    "collapsed": false
   },
   "outputs": [
    {
     "name": "stdout",
     "output_type": "stream",
     "text": [
      "28\n"
     ]
    }
   ],
   "source": [
    "img_size,nchannels = X.shape[1],X.shape[-1]\n",
    "print(img_size)"
   ]
  },
  {
   "cell_type": "code",
   "execution_count": 7,
   "metadata": {
    "collapsed": false
   },
   "outputs": [
    {
     "data": {
      "text/plain": [
       "<matplotlib.image.AxesImage at 0x11cd3a090>"
      ]
     },
     "execution_count": 7,
     "metadata": {},
     "output_type": "execute_result"
    },
    {
     "data": {
      "image/png": "[encoded data removed]",
      "text/plain": [
       "<matplotlib.figure.Figure at 0x11c79b890>"
      ]
     },
     "metadata": {},
     "output_type": "display_data"
    }
   ],
   "source": [
    "plt.imshow(X[0,:,:,0],cmap='gray')"
   ]
  },
  {
   "cell_type": "markdown",
   "metadata": {},
   "source": [
    "# Model"
   ]
  },
  {
   "cell_type": "markdown",
   "metadata": {},
   "source": [
    "<img src=\"images/discrim-architecture.png\" width = \"50%\">"
   ]
  },
  {
   "cell_type": "code",
   "execution_count": 8,
   "metadata": {
    "collapsed": true
   },
   "outputs": [],
   "source": [
    "def createWeight(size):\n",
    "    return tf.Variable(tf.truncated_normal(size, stddev=0.1))\n",
    "\n",
    "def createBias(size):\n",
    "    return tf.Variable(tf.constant(0.1,shape=size))\n",
    "\n",
    "def lrelu(x, leak=0.2):\n",
    "    f1 = 0.5 * (1 + leak)\n",
    "    f2 = 0.5 * (1 - leak)\n",
    "    return f1 * x + f2 * abs(x)"
   ]
  },
  {
   "cell_type": "markdown",
   "metadata": {},
   "source": [
    "## No batch norm"
   ]
  },
  {
   "cell_type": "code",
   "execution_count": 9,
   "metadata": {
    "collapsed": false
   },
   "outputs": [],
   "source": [
    "batch_size = 32\n",
    "g = tf.Graph()\n",
    "with g.as_default():\n",
    "    img_input = tf.placeholder(tf.float32,shape=(batch_size,img_size,img_size,nchannels))\n",
    "    targets = tf.placeholder(tf.float32,shape=(batch_size,10))\n",
    "    \n",
    "    W_conv1 = createWeight([5,5,nchannels,64])\n",
    "    b_conv1 = createWeight([64])\n",
    "    \n",
    "    W_conv2 = createWeight([5,5,64,128])\n",
    "    b_conv2 = createWeight([128])\n",
    "    \n",
    "    W_logit = createWeight([128*7*7,10])\n",
    "    b_logit = createWeight([10])\n",
    "     \n",
    "    #model\n",
    "    conv1 = tf.nn.conv2d(img_input,W_conv1,strides=[1,2,2,1],padding=\"SAME\")\n",
    "    h1 = lrelu(conv1+b_conv1)\n",
    "    \n",
    "    conv2 = tf.nn.conv2d(h1,W_conv2,strides=[1,2,2,1],padding=\"SAME\")\n",
    "    h2 = lrelu(conv2+b_conv2)\n",
    "    \n",
    "    h2_s = tf.shape(h2)\n",
    "    h2_flat = tf.reshape(h2,[batch_size,128*(h2_s[1])*(h2_s[2])]) #512*2*2\n",
    "    \n",
    "    logit = tf.matmul(h2_flat,W_logit)+b_logit\n",
    "\n",
    "    \n",
    "    #train\n",
    "    loss = tf.reduce_mean(tf.nn.softmax_cross_entropy_with_logits(logit,targets))\n",
    "    \n",
    "    opt = tf.train.AdamOptimizer(learning_rate=.001).minimize(loss)\n",
    "    \n",
    "    train_accuracy = tf.reduce_mean(tf.cast(tf.equal(\n",
    "        tf.arg_max(tf.nn.softmax(logit),1),tf.arg_max(targets,1)),tf.float32))\n",
    "    \n",
    "    init = tf.initialize_all_variables()"
   ]
  },
  {
   "cell_type": "code",
   "execution_count": 10,
   "metadata": {
    "collapsed": true
   },
   "outputs": [],
   "source": [
    "sess=tf.Session(graph=g)\n",
    "sess.run(init)\n",
    "losses = []"
   ]
  },
  {
   "cell_type": "code",
   "execution_count": 11,
   "metadata": {
    "collapsed": false
   },
   "outputs": [
    {
     "name": "stderr",
     "output_type": "stream",
     "text": [
      "  0%|          | 5/1001 [00:00<00:59, 16.77it/s]"
     ]
    },
    {
     "name": "stdout",
     "output_type": "stream",
     "text": [
      "[0.25]\n"
     ]
    },
    {
     "name": "stderr",
     "output_type": "stream",
     "text": [
      " 10%|█         | 104/1001 [00:04<00:35, 25.04it/s]"
     ]
    },
    {
     "name": "stdout",
     "output_type": "stream",
     "text": [
      "[0.78125]\n"
     ]
    },
    {
     "name": "stderr",
     "output_type": "stream",
     "text": [
      " 21%|██        | 206/1001 [00:08<00:30, 26.07it/s]"
     ]
    },
    {
     "name": "stdout",
     "output_type": "stream",
     "text": [
      "[0.875]\n"
     ]
    },
    {
     "name": "stderr",
     "output_type": "stream",
     "text": [
      " 30%|███       | 305/1001 [00:12<00:27, 24.93it/s]"
     ]
    },
    {
     "name": "stdout",
     "output_type": "stream",
     "text": [
      "[0.9375]\n"
     ]
    },
    {
     "name": "stderr",
     "output_type": "stream",
     "text": [
      " 40%|████      | 404/1001 [00:16<00:23, 24.98it/s]"
     ]
    },
    {
     "name": "stdout",
     "output_type": "stream",
     "text": [
      "[0.9375]\n"
     ]
    },
    {
     "name": "stderr",
     "output_type": "stream",
     "text": [
      " 51%|█████     | 506/1001 [00:20<00:18, 26.10it/s]"
     ]
    },
    {
     "name": "stdout",
     "output_type": "stream",
     "text": [
      "[0.875]\n"
     ]
    },
    {
     "name": "stderr",
     "output_type": "stream",
     "text": [
      " 60%|██████    | 605/1001 [00:24<00:15, 25.49it/s]"
     ]
    },
    {
     "name": "stdout",
     "output_type": "stream",
     "text": [
      "[1.0]\n"
     ]
    },
    {
     "name": "stderr",
     "output_type": "stream",
     "text": [
      " 70%|███████   | 704/1001 [00:27<00:11, 26.16it/s]"
     ]
    },
    {
     "name": "stdout",
     "output_type": "stream",
     "text": [
      "[1.0]\n"
     ]
    },
    {
     "name": "stderr",
     "output_type": "stream",
     "text": [
      " 80%|████████  | 803/1001 [00:31<00:08, 23.69it/s]"
     ]
    },
    {
     "name": "stdout",
     "output_type": "stream",
     "text": [
      "[0.9375]\n"
     ]
    },
    {
     "name": "stderr",
     "output_type": "stream",
     "text": [
      " 90%|█████████ | 905/1001 [00:36<00:03, 24.67it/s]"
     ]
    },
    {
     "name": "stdout",
     "output_type": "stream",
     "text": [
      "[1.0]\n"
     ]
    },
    {
     "name": "stderr",
     "output_type": "stream",
     "text": [
      "100%|██████████| 1001/1001 [00:40<00:00, 24.75it/s]"
     ]
    },
    {
     "name": "stdout",
     "output_type": "stream",
     "text": [
      "[0.9375]\n"
     ]
    },
    {
     "name": "stderr",
     "output_type": "stream",
     "text": [
      "\n"
     ]
    }
   ],
   "source": [
    "num_steps = 1001\n",
    "for s in tqdm(range(num_steps)):\n",
    "    fd = {img_input:X[(s*batch_size)%X.shape[0]:(s*batch_size+batch_size) % X.shape[0],:],\n",
    "         targets:y[(s*batch_size)%y.shape[0]:(s*batch_size+batch_size)%y.shape[0],:]}\n",
    "    l,_ = sess.run([loss,opt],feed_dict=fd)\n",
    "    losses.append(l)\n",
    "    if s % 100 == 0:\n",
    "        print(sess.run([train_accuracy],feed_dict=fd))"
   ]
  },
  {
   "cell_type": "code",
   "execution_count": 12,
   "metadata": {
    "collapsed": false
   },
   "outputs": [
    {
     "data": {
      "text/html": [
       "\n",
       "\n",
       "    <div class=\"bk-root\">\n",
       "        <div class=\"plotdiv\" id=\"074b69ee-7215-49b1-80ec-502ac0efb346\"></div>\n",
       "    </div>\n",
       "<script type=\"text/javascript\">\n",
       "  \n",
       "  (function(global) {\n",
       "    function now() {\n",
       "      return new Date();\n",
       "    }\n",
       "  \n",
       "    var force = \"\";\n",
       "  \n",
       "    if (typeof (window._bokeh_onload_callbacks) === \"undefined\" || force !== \"\") {\n",
       "      window._bokeh_onload_callbacks = [];\n",
       "      window._bokeh_is_loading = undefined;\n",
       "    }\n",
       "  \n",
       "  \n",
       "    \n",
       "    if (typeof (window._bokeh_timeout) === \"undefined\" || force !== \"\") {\n",
       "      window._bokeh_timeout = Date.now() + 0;\n",
       "      window._bokeh_failed_load = false;\n",
       "    }\n",
       "  \n",
       "    var NB_LOAD_WARNING = {'data': {'text/html':\n",
       "       \"<div style='background-color: #fdd'>\\n\"+\n",
       "       \"<p>\\n\"+\n",
       "       \"BokehJS does not appear to have successfully loaded. If loading BokehJS from CDN, this \\n\"+\n",
       "       \"may be due to a slow or bad network connection. Possible fixes:\\n\"+\n",
       "       \"</p>\\n\"+\n",
       "       \"<ul>\\n\"+\n",
       "       \"<li>re-rerun `output_notebook()` to attempt to load from CDN again, or</li>\\n\"+\n",
       "       \"<li>use INLINE resources instead, as so:</li>\\n\"+\n",
       "       \"</ul>\\n\"+\n",
       "       \"<code>\\n\"+\n",
       "       \"from bokeh.resources import INLINE\\n\"+\n",
       "       \"output_notebook(resources=INLINE)\\n\"+\n",
       "       \"</code>\\n\"+\n",
       "       \"</div>\"}};\n",
       "  \n",
       "    function display_loaded() {\n",
       "      if (window.Bokeh !== undefined) {\n",
       "        Bokeh.$(\"#074b69ee-7215-49b1-80ec-502ac0efb346\").text(\"BokehJS successfully loaded.\");\n",
       "      } else if (Date.now() < window._bokeh_timeout) {\n",
       "        setTimeout(display_loaded, 100)\n",
       "      }\n",
       "    }\n",
       "  \n",
       "    function run_callbacks() {\n",
       "      window._bokeh_onload_callbacks.forEach(function(callback) { callback() });\n",
       "      delete window._bokeh_onload_callbacks\n",
       "      console.info(\"Bokeh: all callbacks have finished\");\n",
       "    }\n",
       "  \n",
       "    function load_libs(js_urls, callback) {\n",
       "      window._bokeh_onload_callbacks.push(callback);\n",
       "      if (window._bokeh_is_loading > 0) {\n",
       "        console.log(\"Bokeh: BokehJS is being loaded, scheduling callback at\", now());\n",
       "        return null;\n",
       "      }\n",
       "      if (js_urls == null || js_urls.length === 0) {\n",
       "        run_callbacks();\n",
       "        return null;\n",
       "      }\n",
       "      console.log(\"Bokeh: BokehJS not loaded, scheduling load and callback at\", now());\n",
       "      window._bokeh_is_loading = js_urls.length;\n",
       "      for (var i = 0; i < js_urls.length; i++) {\n",
       "        var url = js_urls[i];\n",
       "        var s = document.createElement('script');\n",
       "        s.src = url;\n",
       "        s.async = false;\n",
       "        s.onreadystatechange = s.onload = function() {\n",
       "          window._bokeh_is_loading--;\n",
       "          if (window._bokeh_is_loading === 0) {\n",
       "            console.log(\"Bokeh: all BokehJS libraries loaded\");\n",
       "            run_callbacks()\n",
       "          }\n",
       "        };\n",
       "        s.onerror = function() {\n",
       "          console.warn(\"failed to load library \" + url);\n",
       "        };\n",
       "        console.log(\"Bokeh: injecting script tag for BokehJS library: \", url);\n",
       "        document.getElementsByTagName(\"head\")[0].appendChild(s);\n",
       "      }\n",
       "    };var element = document.getElementById(\"074b69ee-7215-49b1-80ec-502ac0efb346\");\n",
       "    if (element == null) {\n",
       "      console.log(\"Bokeh: ERROR: autoload.js configured with elementid '074b69ee-7215-49b1-80ec-502ac0efb346' but no matching script tag was found. \")\n",
       "      return false;\n",
       "    }\n",
       "  \n",
       "    var js_urls = [];\n",
       "  \n",
       "    var inline_js = [\n",
       "      function(Bokeh) {\n",
       "        Bokeh.$(function() {\n",
       "            var docs_json = {\"6527eed3-539e-40dd-b8da-46dd543a7554\":{\"roots\":{\"references\":[{\"attributes\":{\"line_alpha\":{\"value\":0.1},\"line_color\":{\"value\":\"#1f77b4\"},\"x\":{\"field\":\"x\"},\"y\":{\"field\":\"y\"}},\"id\":\"a86839c9-00ec-4b20-8b1c-7f033f4bb84c\",\"type\":\"Line\"},{\"attributes\":{\"data_source\":{\"id\":\"4995ac58-da15-45a2-9ed3-29b6e5f9952c\",\"type\":\"ColumnDataSource\"},\"glyph\":{\"id\":\"5c0590fd-19eb-4607-98ac-aafb16b7b9b1\",\"type\":\"Line\"},\"hover_glyph\":null,\"nonselection_glyph\":{\"id\":\"a86839c9-00ec-4b20-8b1c-7f033f4bb84c\",\"type\":\"Line\"},\"selection_glyph\":null},\"id\":\"5d6e90ed-b36d-45cd-8c8d-b37d0f79ae84\",\"type\":\"GlyphRenderer\"},{\"attributes\":{\"axis_label\":\"train steps\",\"formatter\":{\"id\":\"ca6f5213-59b1-4d30-8341-63b79c3248b6\",\"type\":\"BasicTickFormatter\"},\"plot\":{\"id\":\"71eccd17-6d95-452d-8765-a2a1e4caaf4c\",\"subtype\":\"Figure\",\"type\":\"Plot\"},\"ticker\":{\"id\":\"2c2c8d13-be17-4512-a3b2-d51bf7fc8e32\",\"type\":\"BasicTicker\"}},\"id\":\"030ddd47-66a3-476e-88ef-f4491f8e5181\",\"type\":\"LinearAxis\"},{\"attributes\":{},\"id\":\"1550b95e-c71a-461c-ada5-afb4aeae35dd\",\"type\":\"BasicTicker\"},{\"attributes\":{\"plot\":{\"id\":\"71eccd17-6d95-452d-8765-a2a1e4caaf4c\",\"subtype\":\"Figure\",\"type\":\"Plot\"}},\"id\":\"732a2070-e82a-4863-bccf-0b38a27a352e\",\"type\":\"HelpTool\"},{\"attributes\":{\"overlay\":{\"id\":\"97746aa8-fefe-4172-bdc5-ef308a524ee0\",\"type\":\"BoxAnnotation\"},\"plot\":{\"id\":\"71eccd17-6d95-452d-8765-a2a1e4caaf4c\",\"subtype\":\"Figure\",\"type\":\"Plot\"}},\"id\":\"5555f3da-5a85-41f5-adab-64f659e2372c\",\"type\":\"BoxZoomTool\"},{\"attributes\":{\"line_color\":{\"value\":\"#1f77b4\"},\"x\":{\"field\":\"x\"},\"y\":{\"field\":\"y\"}},\"id\":\"5c0590fd-19eb-4607-98ac-aafb16b7b9b1\",\"type\":\"Line\"},{\"attributes\":{\"plot\":{\"id\":\"71eccd17-6d95-452d-8765-a2a1e4caaf4c\",\"subtype\":\"Figure\",\"type\":\"Plot\"}},\"id\":\"d564b1c1-e218-4400-8481-a1e9c104f995\",\"type\":\"PanTool\"},{\"attributes\":{\"plot\":{\"id\":\"71eccd17-6d95-452d-8765-a2a1e4caaf4c\",\"subtype\":\"Figure\",\"type\":\"Plot\"}},\"id\":\"d7275568-84ca-410a-ad39-a49a8d5be3c7\",\"type\":\"ResetTool\"},{\"attributes\":{\"callback\":null},\"id\":\"a6d953d5-d5fe-4f2f-94f0-791b8629b39e\",\"type\":\"DataRange1d\"},{\"attributes\":{\"active_drag\":\"auto\",\"active_scroll\":\"auto\",\"active_tap\":\"auto\",\"tools\":[{\"id\":\"d564b1c1-e218-4400-8481-a1e9c104f995\",\"type\":\"PanTool\"},{\"id\":\"540b38cd-ff58-4d58-a2e1-e7101ff97a4d\",\"type\":\"WheelZoomTool\"},{\"id\":\"5555f3da-5a85-41f5-adab-64f659e2372c\",\"type\":\"BoxZoomTool\"},{\"id\":\"849af8b6-ef96-448f-96f2-0c9bcebe16d2\",\"type\":\"SaveTool\"},{\"id\":\"d7275568-84ca-410a-ad39-a49a8d5be3c7\",\"type\":\"ResetTool\"},{\"id\":\"732a2070-e82a-4863-bccf-0b38a27a352e\",\"type\":\"HelpTool\"}]},\"id\":\"ed02e17c-8139-4f47-bb8d-0ebab62c12c7\",\"type\":\"Toolbar\"},{\"attributes\":{\"dimension\":1,\"plot\":{\"id\":\"71eccd17-6d95-452d-8765-a2a1e4caaf4c\",\"subtype\":\"Figure\",\"type\":\"Plot\"},\"ticker\":{\"id\":\"1550b95e-c71a-461c-ada5-afb4aeae35dd\",\"type\":\"BasicTicker\"}},\"id\":\"394ea65e-9d1e-4fbd-a9eb-22b36c6a5a8b\",\"type\":\"Grid\"},{\"attributes\":{\"callback\":null},\"id\":\"071f6978-061a-4559-b6c4-38096a55a696\",\"type\":\"DataRange1d\"},{\"attributes\":{},\"id\":\"2c2c8d13-be17-4512-a3b2-d51bf7fc8e32\",\"type\":\"BasicTicker\"},{\"attributes\":{},\"id\":\"ca6f5213-59b1-4d30-8341-63b79c3248b6\",\"type\":\"BasicTickFormatter\"},{\"attributes\":{\"callback\":null,\"column_names\":[\"y\",\"x\"],\"data\":{\"x\":[0,1,2,3,4,5,6,7,8,9,10,11,12,13,14,15,16,17,18,19,20,21,22,23,24,25,26,27,28,29,30,31,32,33,34,35,36,37,38,39,40,41,42,43,44,45,46,47,48,49,50,51,52,53,54,55,56,57,58,59,60,61,62,63,64,65,66,67,68,69,70,71,72,73,74,75,76,77,78,79,80,81,82,83,84,85,86,87,88,89,90,91,92,93,94,95,96,97,98,99,100,101,102,103,104,105,106,107,108,109,110,111,112,113,114,115,116,117,118,119,120,121,122,123,124,125,126,127,128,129,130,131,132,133,134,135,136,137,138,139,140,141,142,143,144,145,146,147,148,149,150,151,152,153,154,155,156,157,158,159,160,161,162,163,164,165,166,167,168,169,170,171,172,173,174,175,176,177,178,179,180,181,182,183,184,185,186,187,188,189,190,191,192,193,194,195,196,197,198,199,200,201,202,203,204,205,206,207,208,209,210,211,212,213,214,215,216,217,218,219,220,221,222,223,224,225,226,227,228,229,230,231,232,233,234,235,236,237,238,239,240,241,242,243,244,245,246,247,248,249,250,251,252,253,254,255,256,257,258,259,260,261,262,263,264,265,266,267,268,269,270,271,272,273,274,275,276,277,278,279,280,281,282,283,284,285,286,287,288,289,290,291,292,293,294,295,296,297,298,299,300,301,302,303,304,305,306,307,308,309,310,311,312,313,314,315,316,317,318,319,320,321,322,323,324,325,326,327,328,329,330,331,332,333,334,335,336,337,338,339,340,341,342,343,344,345,346,347,348,349,350,351,352,353,354,355,356,357,358,359,360,361,362,363,364,365,366,367,368,369,370,371,372,373,374,375,376,377,378,379,380,381,382,383,384,385,386,387,388,389,390,391,392,393,394,395,396,397,398,399,400,401,402,403,404,405,406,407,408,409,410,411,412,413,414,415,416,417,418,419,420,421,422,423,424,425,426,427,428,429,430,431,432,433,434,435,436,437,438,439,440,441,442,443,444,445,446,447,448,449,450,451,452,453,454,455,456,457,458,459,460,461,462,463,464,465,466,467,468,469,470,471,472,473,474,475,476,477,478,479,480,481,482,483,484,485,486,487,488,489,490,491,492,493,494,495,496,497,498,499,500,501,502,503,504,505,506,507,508,509,510,511,512,513,514,515,516,517,518,519,520,521,522,523,524,525,526,527,528,529,530,531,532,533,534,535,536,537,538,539,540,541,542,543,544,545,546,547,548,549,550,551,552,553,554,555,556,557,558,559,560,561,562,563,564,565,566,567,568,569,570,571,572,573,574,575,576,577,578,579,580,581,582,583,584,585,586,587,588,589,590,591,592,593,594,595,596,597,598,599,600,601,602,603,604,605,606,607,608,609,610,611,612,613,614,615,616,617,618,619,620,621,622,623,624,625,626,627,628,629,630,631,632,633,634,635,636,637,638,639,640,641,642,643,644,645,646,647,648,649,650,651,652,653,654,655,656,657,658,659,660,661,662,663,664,665,666,667,668,669,670,671,672,673,674,675,676,677,678,679,680,681,682,683,684,685,686,687,688,689,690,691,692,693,694,695,696,697,698,699,700,701,702,703,704,705,706,707,708,709,710,711,712,713,714,715,716,717,718,719,720,721,722,723,724,725,726,727,728,729,730,731,732,733,734,735,736,737,738,739,740,741,742,743,744,745,746,747,748,749,750,751,752,753,754,755,756,757,758,759,760,761,762,763,764,765,766,767,768,769,770,771,772,773,774,775,776,777,778,779,780,781,782,783,784,785,786,787,788,789,790,791,792,793,794,795,796,797,798,799,800,801,802,803,804,805,806,807,808,809,810,811,812,813,814,815,816,817,818,819,820,821,822,823,824,825,826,827,828,829,830,831,832,833,834,835,836,837,838,839,840,841,842,843,844,845,846,847,848,849,850,851,852,853,854,855,856,857,858,859,860,861,862,863,864,865,866,867,868,869,870,871,872,873,874,875,876,877,878,879,880,881,882,883,884,885,886,887,888,889,890,891,892,893,894,895,896,897,898,899,900,901,902,903,904,905,906,907,908,909,910,911,912,913,914,915,916,917,918,919,920,921,922,923,924,925,926,927,928,929,930,931,932,933,934,935,936,937,938,939,940,941,942,943,944,945,946,947,948,949,950,951,952,953,954,955,956,957,958,959,960,961,962,963,964,965,966,967,968,969,970,971,972,973,974,975,976,977,978,979,980,981,982,983,984,985,986,987,988,989,990,991,992,993,994,995,996,997,998,999,1000],\"y\":[680.585693359375,565.8170776367188,299.17010498046875,310.34771728515625,414.18292236328125,413.616455078125,117.30857849121094,336.3667907714844,419.8457336425781,135.79608154296875,209.12939453125,75.1781005859375,168.59637451171875,77.53718566894531,151.72567749023438,265.45635986328125,127.07603454589844,77.93293762207031,139.95492553710938,135.20779418945312,174.68881225585938,123.50857543945312,119.86306762695312,141.6888427734375,64.25286102294922,46.631004333496094,126.08279418945312,65.48980712890625,144.69143676757812,91.51644897460938,59.15309143066406,74.16162109375,87.3521728515625,117.1307601928711,75.62580871582031,159.81399536132812,9.827850341796875,15.154422760009766,84.44914245605469,29.6618709564209,40.77191925048828,31.84591293334961,77.509765625,65.59481048583984,74.60868835449219,22.790882110595703,27.285322189331055,43.679874420166016,20.174312591552734,31.92475128173828,80.66961669921875,46.96564483642578,49.97334289550781,16.915542602539062,29.24667739868164,42.365806579589844,39.70988845825195,12.528364181518555,31.357437133789062,31.782209396362305,35.32776641845703,45.866573333740234,57.31370544433594,54.034358978271484,56.78289031982422,61.68148422241211,38.851402282714844,1.9506683349609375,21.258073806762695,33.80052185058594,5.547815322875977,12.851685523986816,23.11845588684082,35.030582427978516,11.882723808288574,42.67235565185547,47.54057312011719,36.090065002441406,4.022669792175293,6.915018081665039,5.357575416564941,42.287357330322266,44.840110778808594,69.37481689453125,9.16663932800293,55.042877197265625,40.06684112548828,27.83609962463379,36.62246322631836,16.320594787597656,57.497962951660156,39.999916076660156,23.4451961517334,23.832263946533203,50.80754852294922,37.75965118408203,24.084442138671875,7.141480445861816,17.84490203857422,3.451540946960449,78.68582916259766,20.083553314208984,59.208282470703125,17.229421615600586,10.302783012390137,52.04765319824219,42.517398834228516,4.723356246948242,21.329845428466797,30.153564453125,35.410057067871094,10.873167991638184,9.424979209899902,10.611688613891602,26.824888229370117,49.46321105957031,66.18538665771484,39.74357604980469,31.608701705932617,21.967575073242188,9.137872695922852,10.65391731262207,12.092754364013672,38.41676330566406,14.07585334777832,31.106658935546875,33.04536437988281,34.58927536010742,9.295768737792969,55.13287353515625,43.47161865234375,9.139116287231445,6.570241928100586,43.33476257324219,15.65621280670166,39.38700866699219,48.85478973388672,21.723678588867188,1.0261590480804443,24.853008270263672,47.614383697509766,9.429912567138672,15.126704216003418,21.303852081298828,46.536415100097656,38.91019058227539,50.54359436035156,9.451236724853516,40.0890007019043,26.75518035888672,19.734058380126953,16.25052261352539,13.811785697937012,12.889557838439941,47.5018310546875,20.83769989013672,33.475162506103516,15.871960639953613,19.913715362548828,21.19093894958496,20.50885009765625,78.5224380493164,27.065170288085938,7.966811180114746,16.18802833557129,35.69788360595703,36.7861328125,19.519304275512695,15.157155990600586,21.947391510009766,4.621402263641357,0.0,2.5658063888549805,54.91448211669922,16.581928253173828,39.62405014038086,42.828857421875,22.332778930664062,27.988662719726562,27.921838760375977,16.272220611572266,43.82270812988281,23.37891960144043,9.371997833251953,28.587417602539062,20.538890838623047,26.577613830566406,2.2216238975524902,13.906974792480469,22.398040771484375,35.0257453918457,21.063312530517578,3.4523580074310303,0.0,0.3275398313999176,14.988920211791992,27.381290435791016,14.107900619506836,8.598825454711914,12.423628807067871,34.53304672241211,0.02071063220500946,23.096744537353516,12.545717239379883,30.74813461303711,16.79998779296875,16.051624298095703,15.419997215270996,3.776219367980957,7.751137733459473,9.580751419067383,2.730900764465332,26.066749572753906,37.09160614013672,21.43488883972168,12.890129089355469,69.47496032714844,19.095035552978516,16.764293670654297,64.59873962402344,5.617280006408691,10.751108169555664,16.928741455078125,26.668777465820312,8.707908630371094,22.0361385345459,68.69307708740234,33.70521545410156,6.349497318267822,0.2722600996494293,12.59977912902832,2.9768147468566895,12.502305030822754,4.777963638305664,14.192499160766602,13.108453750610352,2.4947452545166016,37.04456329345703,25.91271209716797,13.27690315246582,4.768852233886719,17.156147003173828,21.990373611450195,22.379344940185547,11.040428161621094,18.571537017822266,44.82763671875,12.04269027709961,6.251031875610352,4.912297248840332,10.731405258178711,19.32168197631836,0.9530558586120605,36.07530212402344,11.672999382019043,4.233912467956543,40.480926513671875,37.363853454589844,16.322458267211914,23.29448699951172,9.142956733703613,4.485823631286621,2.967674970626831,19.7971134185791,38.55735778808594,25.060667037963867,2.3407821655273438,3.496940851211548,9.91011905670166,30.506332397460938,39.60976791381836,53.21125793457031,76.4374008178711,26.27669906616211,8.554779052734375,24.602615356445312,35.32524871826172,32.189414978027344,33.86066436767578,14.122718811035156,23.541215896606445,30.583911895751953,12.299884796142578,1.620473027229309,29.129188537597656,17.645156860351562,20.631296157836914,0.01619120128452778,14.98384952545166,13.663705825805664,28.974529266357422,11.15279769897461,25.72422218322754,44.81043243408203,42.70965576171875,16.598817825317383,30.6666202545166,11.596571922302246,32.109771728515625,35.148983001708984,13.846370697021484,23.73305320739746,15.831066131591797,7.639566421508789,22.47395133972168,25.846973419189453,8.879140853881836,7.938570022583008,27.2351131439209,0.29927995800971985,7.4468488693237305,14.180108070373535,4.630678176879883,41.49652862548828,9.990888595581055,8.789273262023926,14.770153045654297,22.169187545776367,26.89194107055664,40.6528205871582,28.302509307861328,14.029462814331055,15.515954971313477,17.18198013305664,5.437676906585693,6.416529178619385,56.97975158691406,33.33522033691406,20.721227645874023,0.7483878135681152,2.9426021575927734,7.718200206756592,14.07547378540039,12.851033210754395,5.230515003204346,20.94320297241211,17.6387939453125,18.47209930419922,17.461362838745117,21.89952850341797,12.586841583251953,7.468522548675537,8.26893138885498,40.64971923828125,27.27838897705078,0.9695547819137573,4.251266002655029,11.133780479431152,4.885974884033203,0.2830072045326233,20.62510871887207,21.482410430908203,17.817066192626953,2.814481735229492,6.502897262573242,13.59985637664795,10.997512817382812,12.987052917480469,15.702460289001465,17.429325103759766,19.374584197998047,39.147438049316406,15.493280410766602,42.6068115234375,10.748703956604004,34.779571533203125,23.2471923828125,11.75201416015625,4.965417247149162e-06,8.954882621765137,5.476103782653809,8.33911418914795,7.418773651123047,14.560417175292969,15.657183647155762,20.554367065429688,10.836069107055664,19.048152923583984,12.325953483581543,0.0,0.7364740371704102,32.787410736083984,2.0903546810150146,40.848968505859375,22.763469696044922,16.71123504638672,13.856974601745605,6.768783092498779,3.286388874053955,9.834564208984375,17.888843536376953,11.749159812927246,14.629714012145996,15.22105884552002,6.4651288986206055,16.137672424316406,13.350382804870605,0.13349176943302155,3.7237424850463867,16.51960563659668,6.557543754577637,9.317352294921875,2.4548535346984863,12.555037498474121,15.300820350646973,15.844179153442383,15.161163330078125,22.467363357543945,29.418170928955078,16.433456420898438,30.82964324951172,4.278275966644287,28.745059967041016,4.929062843322754,7.227329254150391,5.32085657119751,8.41579818725586,17.83586883544922,19.018123626708984,19.699447631835938,5.08822774887085,4.640937328338623,28.009777069091797,12.165323257446289,0.0004956398624926805,0.0,3.0352656841278076,16.72028923034668,21.883264541625977,15.954584121704102,1.1316109895706177,2.2050108909606934,16.451189041137695,15.265828132629395,0.5735349655151367,5.077808380126953,44.9610595703125,21.585613250732422,12.009321212768555,21.725799560546875,13.28599739074707,10.76642894744873,11.060354232788086,23.377384185791016,14.555667877197266,4.36289644241333,16.972414016723633,27.291133880615234,17.15192985534668,26.787574768066406,9.178478240966797,1.3803496360778809,2.9043397903442383,7.435855865478516,50.69560623168945,5.261246204376221,20.53186798095703,11.102697372436523,9.281429290771484,21.311363220214844,21.632431030273438,22.454132080078125,16.233062744140625,15.769669532775879,16.85373878479004,13.192839622497559,11.231282234191895,12.890323638916016,11.906147956848145,5.237982749938965,11.316400527954102,10.681551933288574,29.87415313720703,26.433387756347656,8.820089340209961,16.824222564697266,31.012794494628906,20.121685028076172,6.010480880737305,6.742494583129883,5.033592224121094,8.955016136169434,16.44624900817871,8.342498779296875,14.732521057128906,2.8076815605163574,3.4548630714416504,9.970312118530273,5.19346809387207,9.524913787841797,13.418684005737305,31.99016571044922,13.313003540039062,14.974296569824219,10.970990180969238,13.98025131225586,12.508139610290527,5.1559739112854,30.190460205078125,24.18964195251465,20.93133544921875,34.633018493652344,3.5730371475219727,8.324675559997559,5.123929500579834,1.0803323391428421e-07,2.2269933223724365,0.8416929244995117,4.552350044250488,10.293157577514648,11.425798416137695,18.039470672607422,1.5511665344238281,8.115755081176758,2.119922161102295,29.333494186401367,2.911778688430786,18.80193328857422,8.757683753967285,0.8439363837242126,6.781403064727783,17.758895874023438,8.378536224365234,22.82558822631836,11.338338851928711,0.0,0.0,8.523599624633789,12.203670501708984,15.171442031860352,16.37318992614746,7.364660263061523,13.79802131652832,12.507072448730469,8.101814270019531,1.0058267463364245e-07,18.280288696289062,22.878999710083008,17.019052505493164,1.2659993171691895,4.2621259689331055,2.6461000442504883,4.947444438934326,14.521398544311523,10.864301681518555,3.324338912963867,15.738664627075195,0.828295886516571,30.12481117248535,11.239946365356445,5.428266525268555,2.569967269897461,5.871002674102783,5.933653831481934,11.558974266052246,11.7152099609375,11.562610626220703,14.248883247375488,3.18654465675354,3.3101329803466797,9.935222625732422,15.87516975402832,18.49163246154785,0.555665910243988,6.604882717132568,15.101181983947754,5.683757781982422,10.01980209350586,1.4320225715637207,4.509658336639404,1.1961216926574707,1.1714940071105957,8.787097930908203,10.894065856933594,5.891073226928711,7.0179595947265625,2.1960935592651367,6.323409080505371,13.735694885253906,3.628183364868164,6.862415313720703,11.447678565979004,7.988718032836914,4.156256675720215,9.190446853637695,9.904966354370117,5.499887943267822,0.0,4.139804840087891,4.196323394775391,6.577367305755615,3.678537130355835,4.274407386779785,3.330976963043213,3.9090137481689453,8.119537353515625,9.261960983276367,14.732871055603027,9.397773742675781,4.006035327911377,0.0,27.944007873535156,1.7003669738769531,0.0,4.820613861083984,11.0911226272583,0.28089627623558044,9.530821800231934,0.575483500957489,15.966277122497559,6.522343158721924,8.207425117492676,5.541993141174316,1.6824827194213867,6.80024528503418,8.162647247314453,3.6868200302124023,1.4803333282470703,9.173894882202148,7.177041053771973,3.8864338397979736,4.863509178161621,8.788213729858398,17.123497009277344,7.377030372619629,13.373319625854492,4.599450588226318,19.05966567993164,1.9499313831329346,2.584630012512207,21.944358825683594,1.2781965732574463,14.050321578979492,7.657533645629883,0.0,18.830211639404297,7.004867076873779,3.732440948486328,3.725290076417309e-09,0.2507697343826294,0.0,15.268259048461914,4.073880195617676,0.23258846998214722,5.157254219055176,9.786063194274902,8.425680160522461,6.302425861358643,8.564108848571777,16.306598663330078,7.389318466186523,3.7732582092285156,8.702667236328125,24.25885009765625,7.756841659545898,1.0150712728500366,14.145090103149414,11.044408798217773,16.06671142578125,7.063052177429199,14.130250930786133,9.503984451293945,19.746273040771484,13.939249992370605,0.0,16.97665786743164,7.99692440032959,12.717412948608398,13.87717056274414,9.345087051391602,11.605923652648926,5.213510036468506,0.9332348704338074,12.220016479492188,17.266756057739258,19.5146484375,1.070016860961914,2.5942840576171875,11.376653671264648,1.8799583911895752,0.7522716522216797,7.2671332359313965,0.0,0.0,4.048892498016357,9.86296272277832,14.18270492553711,4.73075532913208,4.930112838745117,8.222101211547852,0.0,18.244112014770508,11.737753868103027,8.896726608276367,18.882335662841797,3.2923073768615723,15.526854515075684,9.176047325134277,0.0,0.0,0.9141886830329895,8.806676864624023,10.442086219787598,35.147621154785156,29.425052642822266,11.213800430297852,21.522977828979492,8.853107452392578,9.01867389678955,6.687151908874512,15.571563720703125,11.603655815124512,10.226067543029785,1.7891261577606201,2.393465757369995,5.869619369506836,0.0,0.0,3.6715149879455566,5.366280555725098,8.923355102539062,24.483966827392578,15.539557456970215,8.292106628417969,3.7555341720581055,11.151313781738281,1.1211763620376587,1.6908578872680664,6.699782371520996,11.080610275268555,5.099311828613281,0.0,1.494781494140625,8.95409870147705,4.795139312744141,6.069459915161133,4.23557710647583,6.19234037399292,19.80528450012207,4.236931800842285,10.021947860717773,18.897981643676758,2.209373712539673,8.393959999084473,4.563098430633545,6.40184211730957,6.793895721435547,10.299412727355957,19.804346084594727,1.4551801681518555,1.9389543533325195,9.453893661499023,9.054883003234863,2.822159767150879,1.7113637924194336,2.9752604961395264,3.8179097175598145,1.896456003189087,6.263936996459961,16.429536819458008,1.04502534866333,3.0057926177978516,9.87611198425293,13.028520584106445,5.951217174530029,10.604301452636719,12.336152076721191,3.8346331119537354,0.25280576944351196,30.508411407470703,6.844056606292725,5.579364776611328,2.121246099472046,12.886527061462402,16.337182998657227,0.0,1.0754562616348267,0.5167003273963928,9.169548034667969,22.186424255371094,11.405324935913086,0.5063320994377136,4.78882360458374,0.0033296842593699694,24.301734924316406,3.417952060699463,14.48269271850586,13.986156463623047,2.1294620037078857,2.995182752609253,14.537626266479492,3.6340513229370117,0.0,5.902937889099121,2.273749351501465,6.059443473815918,9.618200302124023,1.3623638153076172,15.223495483398438,3.2112388610839844,2.239847183227539,5.445766448974609,4.888174057006836,7.484854698181152,7.569831848144531,3.4540719985961914,14.313870429992676,11.811538696289062,0.0,22.308277130126953,9.341558456420898,4.1669111251831055,32.25123596191406,5.383457183837891,8.5177001953125,2.597285270690918,4.265166808181675e-06,5.713017463684082,9.216459274291992,5.692174911499023,0.15461774170398712,1.2459626197814941,2.1466283798217773,2.7240872383117676,31.84918212890625,15.928834915161133,5.072603702545166,1.6704273223876953,13.689176559448242,2.6111626625061035,22.737995147705078,6.474822998046875,36.74188995361328,0.0,6.810574531555176,24.037921905517578,6.568850040435791,0.00010821835167007521,6.482797622680664,13.761691093444824,24.851985931396484,7.078044461650279e-08,0.543846607208252,0.0,1.892599105834961,0.034626200795173645,6.2694196701049805,4.995372295379639,5.545877456665039,16.786916732788086,2.5936784744262695,7.912444114685059,0.38190022110939026,4.483749866485596,6.207277297973633,0.13232538104057312,2.295497179031372,12.041587829589844,15.442726135253906,13.1972017288208,9.111507415771484,1.4213199615478516,17.721439361572266,8.98969554901123,10.782670974731445,12.67159652709961,15.595733642578125,0.0,6.189338684082031,13.90005874633789,8.479948997497559,6.410405158996582,0.0,0.3033027648925781,0.0,2.858339309692383,0.0,2.6200742721557617,2.228029727935791,1.3549046516418457,6.399542331695557,6.173372745513916,0.0,6.828246593475342,5.091592311859131,0.0,18.49387550354004,21.950565338134766,8.709593772888184,0.0,9.893348693847656,2.6187692583334865e-06,10.584324836730957,1.1131885051727295,11.297883033752441,27.680999755859375,1.5348186492919922,11.017101287841797,0.03933534771203995,13.87816047668457,1.7705583572387695,1.980837106704712,0.40813255310058594,4.112086772918701,8.56391716003418,14.233760833740234,7.121156215667725,2.559779167175293,6.478771686553955,3.9361419677734375,3.688253402709961,7.866206169128418,8.103998184204102,8.436796188354492,2.603849411010742,10.720077514648438,9.329233169555664,3.8128185272216797,4.355442523956299,13.79042911529541,11.970802307128906,11.716350555419922,6.08268928527832,5.22155237197876,7.458148002624512,2.0251550674438477,5.406966209411621,12.636872291564941,5.406512260437012,0.2668246924877167,3.174870491027832,1.3082337379455566,6.538708686828613,9.337244033813477,0.9806256294250488,10.694355010986328,4.602724075317383,7.039453983306885,23.453086853027344,14.865095138549805,3.918903350830078,15.606422424316406,20.090957641601562,8.076082229614258,2.1122467517852783,9.825654029846191,11.191193580627441,3.6247005462646484,0.5875284671783447,0.0,3.5679054260253906,1.284167766571045,4.519018650054932,10.486174583435059,4.31766939163208,4.720104217529297,19.060083389282227,0.0,2.6577348709106445,9.280344009399414,0.006836568471044302,0.6809396743774414,2.037229061126709,16.670135498046875,11.788113594055176,9.555183410644531,3.693542242050171,7.303534030914307,0.0,2.325096607208252,16.439208984375,10.449260711669922,16.242420196533203,3.725290076417309e-09,25.58563232421875,11.453703880310059,13.836647033691406,8.0439453125,24.780174255371094,16.511009216308594,3.7225441932678223,7.696171760559082,18.1070613861084,2.4977965354919434,8.485124588012695,12.265741348266602,13.75290298461914,21.63426971435547,0.47339439392089844,27.70531463623047,18.561542510986328,14.305667877197266,14.964503288269043,2.5557141304016113,0.06717048585414886,6.9771270751953125,0.0,1.7211118936538696,12.475330352783203,1.7415536642074585,3.7373931407928467]}},\"id\":\"4995ac58-da15-45a2-9ed3-29b6e5f9952c\",\"type\":\"ColumnDataSource\"},{\"attributes\":{\"bottom_units\":\"screen\",\"fill_alpha\":{\"value\":0.5},\"fill_color\":{\"value\":\"lightgrey\"},\"left_units\":\"screen\",\"level\":\"overlay\",\"line_alpha\":{\"value\":1.0},\"line_color\":{\"value\":\"black\"},\"line_dash\":[4,4],\"line_width\":{\"value\":2},\"plot\":null,\"render_mode\":\"css\",\"right_units\":\"screen\",\"top_units\":\"screen\"},\"id\":\"97746aa8-fefe-4172-bdc5-ef308a524ee0\",\"type\":\"BoxAnnotation\"},{\"attributes\":{\"plot\":{\"id\":\"71eccd17-6d95-452d-8765-a2a1e4caaf4c\",\"subtype\":\"Figure\",\"type\":\"Plot\"},\"ticker\":{\"id\":\"2c2c8d13-be17-4512-a3b2-d51bf7fc8e32\",\"type\":\"BasicTicker\"}},\"id\":\"248de1a7-4f5d-4ea6-a307-c19518cdc8aa\",\"type\":\"Grid\"},{\"attributes\":{\"plot\":null,\"text\":\"training loss\"},\"id\":\"b38bc3cf-6437-495a-b2f8-c01598a9222f\",\"type\":\"Title\"},{\"attributes\":{},\"id\":\"b46e4bd1-735a-4448-8dd6-d24a9ae23b72\",\"type\":\"BasicTickFormatter\"},{\"attributes\":{},\"id\":\"fdd8ca65-30db-4f95-bea2-de584d00d042\",\"type\":\"ToolEvents\"},{\"attributes\":{\"plot\":{\"id\":\"71eccd17-6d95-452d-8765-a2a1e4caaf4c\",\"subtype\":\"Figure\",\"type\":\"Plot\"}},\"id\":\"540b38cd-ff58-4d58-a2e1-e7101ff97a4d\",\"type\":\"WheelZoomTool\"},{\"attributes\":{\"plot\":{\"id\":\"71eccd17-6d95-452d-8765-a2a1e4caaf4c\",\"subtype\":\"Figure\",\"type\":\"Plot\"}},\"id\":\"849af8b6-ef96-448f-96f2-0c9bcebe16d2\",\"type\":\"SaveTool\"},{\"attributes\":{\"below\":[{\"id\":\"030ddd47-66a3-476e-88ef-f4491f8e5181\",\"type\":\"LinearAxis\"}],\"left\":[{\"id\":\"ae5a99bd-9796-4183-a355-0a9ca7f2299a\",\"type\":\"LinearAxis\"}],\"renderers\":[{\"id\":\"030ddd47-66a3-476e-88ef-f4491f8e5181\",\"type\":\"LinearAxis\"},{\"id\":\"248de1a7-4f5d-4ea6-a307-c19518cdc8aa\",\"type\":\"Grid\"},{\"id\":\"ae5a99bd-9796-4183-a355-0a9ca7f2299a\",\"type\":\"LinearAxis\"},{\"id\":\"394ea65e-9d1e-4fbd-a9eb-22b36c6a5a8b\",\"type\":\"Grid\"},{\"id\":\"97746aa8-fefe-4172-bdc5-ef308a524ee0\",\"type\":\"BoxAnnotation\"},{\"id\":\"5d6e90ed-b36d-45cd-8c8d-b37d0f79ae84\",\"type\":\"GlyphRenderer\"}],\"title\":{\"id\":\"b38bc3cf-6437-495a-b2f8-c01598a9222f\",\"type\":\"Title\"},\"tool_events\":{\"id\":\"fdd8ca65-30db-4f95-bea2-de584d00d042\",\"type\":\"ToolEvents\"},\"toolbar\":{\"id\":\"ed02e17c-8139-4f47-bb8d-0ebab62c12c7\",\"type\":\"Toolbar\"},\"x_range\":{\"id\":\"a6d953d5-d5fe-4f2f-94f0-791b8629b39e\",\"type\":\"DataRange1d\"},\"y_range\":{\"id\":\"071f6978-061a-4559-b6c4-38096a55a696\",\"type\":\"DataRange1d\"}},\"id\":\"71eccd17-6d95-452d-8765-a2a1e4caaf4c\",\"subtype\":\"Figure\",\"type\":\"Plot\"},{\"attributes\":{\"axis_label\":\"loss\",\"formatter\":{\"id\":\"b46e4bd1-735a-4448-8dd6-d24a9ae23b72\",\"type\":\"BasicTickFormatter\"},\"plot\":{\"id\":\"71eccd17-6d95-452d-8765-a2a1e4caaf4c\",\"subtype\":\"Figure\",\"type\":\"Plot\"},\"ticker\":{\"id\":\"1550b95e-c71a-461c-ada5-afb4aeae35dd\",\"type\":\"BasicTicker\"}},\"id\":\"ae5a99bd-9796-4183-a355-0a9ca7f2299a\",\"type\":\"LinearAxis\"}],\"root_ids\":[\"71eccd17-6d95-452d-8765-a2a1e4caaf4c\"]},\"title\":\"Bokeh Application\",\"version\":\"0.12.2\"}};\n",
       "            var render_items = [{\"docid\":\"6527eed3-539e-40dd-b8da-46dd543a7554\",\"elementid\":\"074b69ee-7215-49b1-80ec-502ac0efb346\",\"modelid\":\"71eccd17-6d95-452d-8765-a2a1e4caaf4c\"}];\n",
       "            \n",
       "            Bokeh.embed.embed_items(docs_json, render_items);\n",
       "        });\n",
       "      },\n",
       "      function(Bokeh) {\n",
       "      }\n",
       "    ];\n",
       "  \n",
       "    function run_inline_js() {\n",
       "      \n",
       "      if ((window.Bokeh !== undefined) || (force === \"1\")) {\n",
       "        for (var i = 0; i < inline_js.length; i++) {\n",
       "          inline_js[i](window.Bokeh);\n",
       "        }if (force === \"1\") {\n",
       "          display_loaded();\n",
       "        }} else if (Date.now() < window._bokeh_timeout) {\n",
       "        setTimeout(run_inline_js, 100);\n",
       "      } else if (!window._bokeh_failed_load) {\n",
       "        console.log(\"Bokeh: BokehJS failed to load within specified timeout.\");\n",
       "        window._bokeh_failed_load = true;\n",
       "      } else if (!force) {\n",
       "        var cell = $(\"#074b69ee-7215-49b1-80ec-502ac0efb346\").parents('.cell').data().cell;\n",
       "        cell.output_area.append_execute_result(NB_LOAD_WARNING)\n",
       "      }\n",
       "  \n",
       "    }\n",
       "  \n",
       "    if (window._bokeh_is_loading === 0) {\n",
       "      console.log(\"Bokeh: BokehJS loaded, going straight to plotting\");\n",
       "      run_inline_js();\n",
       "    } else {\n",
       "      load_libs(js_urls, function() {\n",
       "        console.log(\"Bokeh: BokehJS plotting callback run at\", now());\n",
       "        run_inline_js();\n",
       "      });\n",
       "    }\n",
       "  }(this));\n",
       "</script>"
      ]
     },
     "metadata": {},
     "output_type": "display_data"
    }
   ],
   "source": [
    "p = figure(title=\"training loss\", x_axis_label='train steps', y_axis_label='loss')\n",
    "p.line(range(len(losses)),losses)\n",
    "show(p)"
   ]
  },
  {
   "cell_type": "markdown",
   "metadata": {},
   "source": [
    "## With Batch Norm"
   ]
  },
  {
   "cell_type": "code",
   "execution_count": 13,
   "metadata": {
    "collapsed": true
   },
   "outputs": [],
   "source": [
    "def createWeightsBN(s):\n",
    "    \"\"\"\n",
    "    Creates weights for batch normalization layer\n",
    "    \n",
    "    Parameters:\n",
    "    -----------\n",
    "    s: int\n",
    "        size of to be normalized\n",
    "    \"\"\"\n",
    "    gamma = tf.Variable(tf.truncated_normal([s]))\n",
    "    beta = tf.Variable(tf.ones([s]))\n",
    "    return [gamma,beta]\n",
    "\n",
    "def BN(x,variables,ri=[0,1,2],eps=.0001):\n",
    "    \"\"\"\n",
    "    Applies Batch Normalization\n",
    "    \n",
    "    Parameters:\n",
    "    ------------\n",
    "    x: tensor\n",
    "        the data to normalize\n",
    "        \n",
    "    variables: [gamma,beta]\n",
    "        parameters to learn\n",
    "        \n",
    "    ri (optional): [int]\n",
    "        reduction indicies\n",
    "    eps (optional): float\n",
    "        small number to keep from dividing by zero\n",
    "    \"\"\"\n",
    "    gamma,beta = variables[0],variables[1]\n",
    "    \n",
    "    mu = tf.reduce_mean(x,ri,keep_dims=True)\n",
    "    sigma = tf.reduce_mean(tf.square(x-mu),ri,keep_dims=True)\n",
    "    x_hat = (x-mu)/(tf.sqrt(sigma+eps))\n",
    "    y = gamma*x_hat+beta\n",
    "    return y"
   ]
  },
  {
   "cell_type": "code",
   "execution_count": 14,
   "metadata": {
    "collapsed": false
   },
   "outputs": [],
   "source": [
    "batch_size = 32\n",
    "g = tf.Graph()\n",
    "with g.as_default():\n",
    "    img_input = tf.placeholder(tf.float32,shape=(batch_size,img_size,img_size,nchannels))\n",
    "    targets = tf.placeholder(tf.float32,shape=(batch_size,10))\n",
    "    \n",
    "    bn_input = createWeightsBN(nchannels)\n",
    "    W_conv1 = createWeight([5,5,nchannels,64])\n",
    "    b_conv1 = createWeight([64])\n",
    "    \n",
    "    bn_1 = createWeightsBN(64)\n",
    "    W_conv2 = createWeight([5,5,64,128])\n",
    "    b_conv2 = createWeight([128])\n",
    "    \n",
    "    bn_2 = createWeightsBN(128)\n",
    "    W_logit = createWeight([128*7*7,10])\n",
    "    b_logit = createWeight([10])\n",
    "    bn_logit = createWeightsBN(10)\n",
    "    \n",
    "    #model\n",
    "    img_input_bn = BN(img_input,bn_input)\n",
    "    conv1 = tf.nn.conv2d(img_input_bn,W_conv1,strides=[1,2,2,1],padding=\"SAME\")\n",
    "    h1 = lrelu(conv1+b_conv1)\n",
    "    \n",
    "    h1_bn = BN(h1,bn_1)\n",
    "    conv2 = tf.nn.conv2d(h1_bn,W_conv2,strides=[1,2,2,1],padding=\"SAME\")\n",
    "    h2 = lrelu(conv2+b_conv2)\n",
    "    \n",
    "    h2_bn = BN(h2,bn_2)\n",
    "    h2_s = tf.shape(h2)\n",
    "    h2_flat = tf.reshape(h2_bn,[batch_size,128*(h2_s[1])*(h2_s[2])]) #512*2*2\n",
    "\n",
    "    logit = tf.matmul(h2_flat,W_logit)+b_logit\n",
    "    logit_bn = BN(logit,bn_logit,ri=[0])\n",
    "\n",
    "    \n",
    "    #train\n",
    "    loss = tf.reduce_mean(tf.nn.softmax_cross_entropy_with_logits(logit_bn,targets))\n",
    "    \n",
    "    opt = tf.train.AdamOptimizer(learning_rate=.01).minimize(loss)\n",
    "    \n",
    "    train_accuracy = tf.reduce_mean(tf.cast(tf.equal(\n",
    "        tf.arg_max(tf.nn.softmax(logit_bn),1),tf.arg_max(targets,1)),tf.float32))\n",
    "    \n",
    "    init = tf.initialize_all_variables()"
   ]
  },
  {
   "cell_type": "code",
   "execution_count": 15,
   "metadata": {
    "collapsed": false
   },
   "outputs": [
    {
     "data": {
      "text/plain": [
       "TensorShape([Dimension(32), Dimension(14), Dimension(14), Dimension(64)])"
      ]
     },
     "execution_count": 15,
     "metadata": {},
     "output_type": "execute_result"
    }
   ],
   "source": [
    "h1_bn.get_shape()"
   ]
  },
  {
   "cell_type": "code",
   "execution_count": 16,
   "metadata": {
    "collapsed": false
   },
   "outputs": [],
   "source": [
    "sess=tf.Session(graph=g)\n",
    "sess.run(init)\n",
    "losses = []"
   ]
  },
  {
   "cell_type": "code",
   "execution_count": 17,
   "metadata": {
    "collapsed": false
   },
   "outputs": [
    {
     "name": "stderr",
     "output_type": "stream",
     "text": [
      "  0%|          | 3/1001 [00:00<01:45,  9.44it/s]"
     ]
    },
    {
     "name": "stdout",
     "output_type": "stream",
     "text": [
      "[0.53125]\n"
     ]
    },
    {
     "name": "stderr",
     "output_type": "stream",
     "text": [
      " 10%|█         | 103/1001 [00:08<01:06, 13.52it/s]"
     ]
    },
    {
     "name": "stdout",
     "output_type": "stream",
     "text": [
      "[0.875]\n"
     ]
    },
    {
     "name": "stderr",
     "output_type": "stream",
     "text": [
      " 20%|██        | 203/1001 [00:15<00:52, 15.18it/s]"
     ]
    },
    {
     "name": "stdout",
     "output_type": "stream",
     "text": [
      "[0.875]\n"
     ]
    },
    {
     "name": "stderr",
     "output_type": "stream",
     "text": [
      " 30%|███       | 303/1001 [00:21<00:46, 15.04it/s]"
     ]
    },
    {
     "name": "stdout",
     "output_type": "stream",
     "text": [
      "[0.96875]\n"
     ]
    },
    {
     "name": "stderr",
     "output_type": "stream",
     "text": [
      " 40%|████      | 403/1001 [00:28<00:39, 14.95it/s]"
     ]
    },
    {
     "name": "stdout",
     "output_type": "stream",
     "text": [
      "[0.9375]\n"
     ]
    },
    {
     "name": "stderr",
     "output_type": "stream",
     "text": [
      " 50%|█████     | 503/1001 [00:35<00:32, 15.46it/s]"
     ]
    },
    {
     "name": "stdout",
     "output_type": "stream",
     "text": [
      "[0.9375]\n"
     ]
    },
    {
     "name": "stderr",
     "output_type": "stream",
     "text": [
      " 60%|██████    | 603/1001 [00:42<00:27, 14.41it/s]"
     ]
    },
    {
     "name": "stdout",
     "output_type": "stream",
     "text": [
      "[1.0]\n"
     ]
    },
    {
     "name": "stderr",
     "output_type": "stream",
     "text": [
      " 70%|███████   | 703/1001 [00:48<00:22, 13.23it/s]"
     ]
    },
    {
     "name": "stdout",
     "output_type": "stream",
     "text": [
      "[0.9375]\n"
     ]
    },
    {
     "name": "stderr",
     "output_type": "stream",
     "text": [
      " 80%|████████  | 803/1001 [00:55<00:13, 15.21it/s]"
     ]
    },
    {
     "name": "stdout",
     "output_type": "stream",
     "text": [
      "[0.9375]\n"
     ]
    },
    {
     "name": "stderr",
     "output_type": "stream",
     "text": [
      " 90%|█████████ | 903/1001 [01:02<00:07, 13.08it/s]"
     ]
    },
    {
     "name": "stdout",
     "output_type": "stream",
     "text": [
      "[0.96875]\n"
     ]
    },
    {
     "name": "stderr",
     "output_type": "stream",
     "text": [
      "100%|██████████| 1001/1001 [01:08<00:00, 15.24it/s]"
     ]
    },
    {
     "name": "stdout",
     "output_type": "stream",
     "text": [
      "[0.9375]\n"
     ]
    },
    {
     "name": "stderr",
     "output_type": "stream",
     "text": [
      "\n"
     ]
    }
   ],
   "source": [
    "num_steps = 1001\n",
    "for s in tqdm(range(num_steps)):\n",
    "    fd = {img_input:X[(s*batch_size)%X.shape[0]:(s*batch_size+batch_size) % X.shape[0],:],\n",
    "         targets:y[(s*batch_size)%y.shape[0]:(s*batch_size+batch_size)%y.shape[0],:]}\n",
    "    l,_ = sess.run([loss,opt],feed_dict=fd)\n",
    "    losses.append(l)\n",
    "    if s % 100 == 0:\n",
    "        print(sess.run([train_accuracy],feed_dict=fd))"
   ]
  },
  {
   "cell_type": "code",
   "execution_count": 18,
   "metadata": {
    "collapsed": false
   },
   "outputs": [
    {
     "data": {
      "text/html": [
       "\n",
       "\n",
       "    <div class=\"bk-root\">\n",
       "        <div class=\"plotdiv\" id=\"a813f709-4f0e-4705-b70c-4d8f787a0d61\"></div>\n",
       "    </div>\n",
       "<script type=\"text/javascript\">\n",
       "  \n",
       "  (function(global) {\n",
       "    function now() {\n",
       "      return new Date();\n",
       "    }\n",
       "  \n",
       "    var force = \"\";\n",
       "  \n",
       "    if (typeof (window._bokeh_onload_callbacks) === \"undefined\" || force !== \"\") {\n",
       "      window._bokeh_onload_callbacks = [];\n",
       "      window._bokeh_is_loading = undefined;\n",
       "    }\n",
       "  \n",
       "  \n",
       "    \n",
       "    if (typeof (window._bokeh_timeout) === \"undefined\" || force !== \"\") {\n",
       "      window._bokeh_timeout = Date.now() + 0;\n",
       "      window._bokeh_failed_load = false;\n",
       "    }\n",
       "  \n",
       "    var NB_LOAD_WARNING = {'data': {'text/html':\n",
       "       \"<div style='background-color: #fdd'>\\n\"+\n",
       "       \"<p>\\n\"+\n",
       "       \"BokehJS does not appear to have successfully loaded. If loading BokehJS from CDN, this \\n\"+\n",
       "       \"may be due to a slow or bad network connection. Possible fixes:\\n\"+\n",
       "       \"</p>\\n\"+\n",
       "       \"<ul>\\n\"+\n",
       "       \"<li>re-rerun `output_notebook()` to attempt to load from CDN again, or</li>\\n\"+\n",
       "       \"<li>use INLINE resources instead, as so:</li>\\n\"+\n",
       "       \"</ul>\\n\"+\n",
       "       \"<code>\\n\"+\n",
       "       \"from bokeh.resources import INLINE\\n\"+\n",
       "       \"output_notebook(resources=INLINE)\\n\"+\n",
       "       \"</code>\\n\"+\n",
       "       \"</div>\"}};\n",
       "  \n",
       "    function display_loaded() {\n",
       "      if (window.Bokeh !== undefined) {\n",
       "        Bokeh.$(\"#a813f709-4f0e-4705-b70c-4d8f787a0d61\").text(\"BokehJS successfully loaded.\");\n",
       "      } else if (Date.now() < window._bokeh_timeout) {\n",
       "        setTimeout(display_loaded, 100)\n",
       "      }\n",
       "    }\n",
       "  \n",
       "    function run_callbacks() {\n",
       "      window._bokeh_onload_callbacks.forEach(function(callback) { callback() });\n",
       "      delete window._bokeh_onload_callbacks\n",
       "      console.info(\"Bokeh: all callbacks have finished\");\n",
       "    }\n",
       "  \n",
       "    function load_libs(js_urls, callback) {\n",
       "      window._bokeh_onload_callbacks.push(callback);\n",
       "      if (window._bokeh_is_loading > 0) {\n",
       "        console.log(\"Bokeh: BokehJS is being loaded, scheduling callback at\", now());\n",
       "        return null;\n",
       "      }\n",
       "      if (js_urls == null || js_urls.length === 0) {\n",
       "        run_callbacks();\n",
       "        return null;\n",
       "      }\n",
       "      console.log(\"Bokeh: BokehJS not loaded, scheduling load and callback at\", now());\n",
       "      window._bokeh_is_loading = js_urls.length;\n",
       "      for (var i = 0; i < js_urls.length; i++) {\n",
       "        var url = js_urls[i];\n",
       "        var s = document.createElement('script');\n",
       "        s.src = url;\n",
       "        s.async = false;\n",
       "        s.onreadystatechange = s.onload = function() {\n",
       "          window._bokeh_is_loading--;\n",
       "          if (window._bokeh_is_loading === 0) {\n",
       "            console.log(\"Bokeh: all BokehJS libraries loaded\");\n",
       "            run_callbacks()\n",
       "          }\n",
       "        };\n",
       "        s.onerror = function() {\n",
       "          console.warn(\"failed to load library \" + url);\n",
       "        };\n",
       "        console.log(\"Bokeh: injecting script tag for BokehJS library: \", url);\n",
       "        document.getElementsByTagName(\"head\")[0].appendChild(s);\n",
       "      }\n",
       "    };var element = document.getElementById(\"a813f709-4f0e-4705-b70c-4d8f787a0d61\");\n",
       "    if (element == null) {\n",
       "      console.log(\"Bokeh: ERROR: autoload.js configured with elementid 'a813f709-4f0e-4705-b70c-4d8f787a0d61' but no matching script tag was found. \")\n",
       "      return false;\n",
       "    }\n",
       "  \n",
       "    var js_urls = [];\n",
       "  \n",
       "    var inline_js = [\n",
       "      function(Bokeh) {\n",
       "        Bokeh.$(function() {\n",
       "            var docs_json = {\"ef4499d5-0e90-4dc2-84a6-176ee2eac4ed\":{\"roots\":{\"references\":[{\"attributes\":{\"plot\":{\"id\":\"98d2810d-fb30-4b82-b66a-0e41194f34a5\",\"subtype\":\"Figure\",\"type\":\"Plot\"}},\"id\":\"7779f22d-f262-4c8e-a194-82dc31d7a368\",\"type\":\"WheelZoomTool\"},{\"attributes\":{\"plot\":{\"id\":\"98d2810d-fb30-4b82-b66a-0e41194f34a5\",\"subtype\":\"Figure\",\"type\":\"Plot\"},\"ticker\":{\"id\":\"979789eb-f60f-4b95-967a-6fa84b6db88b\",\"type\":\"BasicTicker\"}},\"id\":\"2a3253a5-dd84-4a0f-9189-8a6d73f7e6bf\",\"type\":\"Grid\"},{\"attributes\":{\"active_drag\":\"auto\",\"active_scroll\":\"auto\",\"active_tap\":\"auto\",\"tools\":[{\"id\":\"9044dcbf-1a1a-416b-b063-9724df662226\",\"type\":\"PanTool\"},{\"id\":\"7779f22d-f262-4c8e-a194-82dc31d7a368\",\"type\":\"WheelZoomTool\"},{\"id\":\"0edd4881-0857-4cd7-b182-0dfc82ca56fd\",\"type\":\"BoxZoomTool\"},{\"id\":\"5613bf98-bebe-4fbd-8f3b-300ab13c156f\",\"type\":\"SaveTool\"},{\"id\":\"531aa6af-0941-467b-8a6d-6e83aeb96690\",\"type\":\"ResetTool\"},{\"id\":\"d1794eb3-1e56-4a30-99b5-f5f1aad3dab0\",\"type\":\"HelpTool\"}]},\"id\":\"03625d7f-e3bd-4ce8-bb24-44de82107ab4\",\"type\":\"Toolbar\"},{\"attributes\":{\"formatter\":{\"id\":\"cb0dce4b-fc61-4b63-a57e-90ebf327d390\",\"type\":\"BasicTickFormatter\"},\"plot\":{\"id\":\"98d2810d-fb30-4b82-b66a-0e41194f34a5\",\"subtype\":\"Figure\",\"type\":\"Plot\"},\"ticker\":{\"id\":\"979789eb-f60f-4b95-967a-6fa84b6db88b\",\"type\":\"BasicTicker\"}},\"id\":\"50f559f6-c08a-4ce9-a8f8-dc165c96f894\",\"type\":\"LinearAxis\"},{\"attributes\":{\"plot\":{\"id\":\"98d2810d-fb30-4b82-b66a-0e41194f34a5\",\"subtype\":\"Figure\",\"type\":\"Plot\"}},\"id\":\"531aa6af-0941-467b-8a6d-6e83aeb96690\",\"type\":\"ResetTool\"},{\"attributes\":{\"callback\":null},\"id\":\"6f9d29f4-07df-4f40-9727-b6c6dc46efc0\",\"type\":\"DataRange1d\"},{\"attributes\":{\"line_color\":{\"value\":\"#1f77b4\"},\"x\":{\"field\":\"x\"},\"y\":{\"field\":\"y\"}},\"id\":\"146aab85-f9f8-4fe1-9d86-979724892f13\",\"type\":\"Line\"},{\"attributes\":{\"below\":[{\"id\":\"50f559f6-c08a-4ce9-a8f8-dc165c96f894\",\"type\":\"LinearAxis\"}],\"left\":[{\"id\":\"1e82d670-57b8-4b69-9457-73e6db329d8a\",\"type\":\"LinearAxis\"}],\"renderers\":[{\"id\":\"50f559f6-c08a-4ce9-a8f8-dc165c96f894\",\"type\":\"LinearAxis\"},{\"id\":\"2a3253a5-dd84-4a0f-9189-8a6d73f7e6bf\",\"type\":\"Grid\"},{\"id\":\"1e82d670-57b8-4b69-9457-73e6db329d8a\",\"type\":\"LinearAxis\"},{\"id\":\"516697c5-4597-473a-9b7d-428fbf9344b6\",\"type\":\"Grid\"},{\"id\":\"bdb02f29-6ca1-4845-957d-0998890b477a\",\"type\":\"BoxAnnotation\"},{\"id\":\"50a859a9-09b1-40b7-9347-7aed549cb1f6\",\"type\":\"GlyphRenderer\"}],\"title\":{\"id\":\"622b8f19-7631-4649-a591-ac9821c56208\",\"type\":\"Title\"},\"tool_events\":{\"id\":\"29b04c74-7387-48a5-bd0b-57bbb5ff031e\",\"type\":\"ToolEvents\"},\"toolbar\":{\"id\":\"03625d7f-e3bd-4ce8-bb24-44de82107ab4\",\"type\":\"Toolbar\"},\"x_range\":{\"id\":\"6f9d29f4-07df-4f40-9727-b6c6dc46efc0\",\"type\":\"DataRange1d\"},\"y_range\":{\"id\":\"01b4aeec-2b02-4cd6-a9cc-e9628fe05095\",\"type\":\"DataRange1d\"}},\"id\":\"98d2810d-fb30-4b82-b66a-0e41194f34a5\",\"subtype\":\"Figure\",\"type\":\"Plot\"},{\"attributes\":{\"dimension\":1,\"plot\":{\"id\":\"98d2810d-fb30-4b82-b66a-0e41194f34a5\",\"subtype\":\"Figure\",\"type\":\"Plot\"},\"ticker\":{\"id\":\"b12010f4-5203-465f-83a0-c5a9ae58b6bc\",\"type\":\"BasicTicker\"}},\"id\":\"516697c5-4597-473a-9b7d-428fbf9344b6\",\"type\":\"Grid\"},{\"attributes\":{\"bottom_units\":\"screen\",\"fill_alpha\":{\"value\":0.5},\"fill_color\":{\"value\":\"lightgrey\"},\"left_units\":\"screen\",\"level\":\"overlay\",\"line_alpha\":{\"value\":1.0},\"line_color\":{\"value\":\"black\"},\"line_dash\":[4,4],\"line_width\":{\"value\":2},\"plot\":null,\"render_mode\":\"css\",\"right_units\":\"screen\",\"top_units\":\"screen\"},\"id\":\"bdb02f29-6ca1-4845-957d-0998890b477a\",\"type\":\"BoxAnnotation\"},{\"attributes\":{\"data_source\":{\"id\":\"b952fdf7-95e2-440a-ba82-684ed573bd78\",\"type\":\"ColumnDataSource\"},\"glyph\":{\"id\":\"146aab85-f9f8-4fe1-9d86-979724892f13\",\"type\":\"Line\"},\"hover_glyph\":null,\"nonselection_glyph\":{\"id\":\"01d44c62-2b2b-4514-a7b1-bb920d7e691d\",\"type\":\"Line\"},\"selection_glyph\":null},\"id\":\"50a859a9-09b1-40b7-9347-7aed549cb1f6\",\"type\":\"GlyphRenderer\"},{\"attributes\":{},\"id\":\"cb0dce4b-fc61-4b63-a57e-90ebf327d390\",\"type\":\"BasicTickFormatter\"},{\"attributes\":{\"line_alpha\":{\"value\":0.1},\"line_color\":{\"value\":\"#1f77b4\"},\"x\":{\"field\":\"x\"},\"y\":{\"field\":\"y\"}},\"id\":\"01d44c62-2b2b-4514-a7b1-bb920d7e691d\",\"type\":\"Line\"},{\"attributes\":{\"plot\":{\"id\":\"98d2810d-fb30-4b82-b66a-0e41194f34a5\",\"subtype\":\"Figure\",\"type\":\"Plot\"}},\"id\":\"d1794eb3-1e56-4a30-99b5-f5f1aad3dab0\",\"type\":\"HelpTool\"},{\"attributes\":{},\"id\":\"29b04c74-7387-48a5-bd0b-57bbb5ff031e\",\"type\":\"ToolEvents\"},{\"attributes\":{},\"id\":\"979789eb-f60f-4b95-967a-6fa84b6db88b\",\"type\":\"BasicTicker\"},{\"attributes\":{\"callback\":null},\"id\":\"01b4aeec-2b02-4cd6-a9cc-e9628fe05095\",\"type\":\"DataRange1d\"},{\"attributes\":{\"formatter\":{\"id\":\"da7f5310-41a9-4a33-a20b-48da652b9c70\",\"type\":\"BasicTickFormatter\"},\"plot\":{\"id\":\"98d2810d-fb30-4b82-b66a-0e41194f34a5\",\"subtype\":\"Figure\",\"type\":\"Plot\"},\"ticker\":{\"id\":\"b12010f4-5203-465f-83a0-c5a9ae58b6bc\",\"type\":\"BasicTicker\"}},\"id\":\"1e82d670-57b8-4b69-9457-73e6db329d8a\",\"type\":\"LinearAxis\"},{\"attributes\":{\"plot\":null,\"text\":null},\"id\":\"622b8f19-7631-4649-a591-ac9821c56208\",\"type\":\"Title\"},{\"attributes\":{\"overlay\":{\"id\":\"bdb02f29-6ca1-4845-957d-0998890b477a\",\"type\":\"BoxAnnotation\"},\"plot\":{\"id\":\"98d2810d-fb30-4b82-b66a-0e41194f34a5\",\"subtype\":\"Figure\",\"type\":\"Plot\"}},\"id\":\"0edd4881-0857-4cd7-b182-0dfc82ca56fd\",\"type\":\"BoxZoomTool\"},{\"attributes\":{},\"id\":\"da7f5310-41a9-4a33-a20b-48da652b9c70\",\"type\":\"BasicTickFormatter\"},{\"attributes\":{\"plot\":{\"id\":\"98d2810d-fb30-4b82-b66a-0e41194f34a5\",\"subtype\":\"Figure\",\"type\":\"Plot\"}},\"id\":\"9044dcbf-1a1a-416b-b063-9724df662226\",\"type\":\"PanTool\"},{\"attributes\":{\"plot\":{\"id\":\"98d2810d-fb30-4b82-b66a-0e41194f34a5\",\"subtype\":\"Figure\",\"type\":\"Plot\"}},\"id\":\"5613bf98-bebe-4fbd-8f3b-300ab13c156f\",\"type\":\"SaveTool\"},{\"attributes\":{\"callback\":null,\"column_names\":[\"y\",\"x\"],\"data\":{\"x\":[0,1,2,3,4,5,6,7,8,9,10,11,12,13,14,15,16,17,18,19,20,21,22,23,24,25,26,27,28,29,30,31,32,33,34,35,36,37,38,39,40,41,42,43,44,45,46,47,48,49,50,51,52,53,54,55,56,57,58,59,60,61,62,63,64,65,66,67,68,69,70,71,72,73,74,75,76,77,78,79,80,81,82,83,84,85,86,87,88,89,90,91,92,93,94,95,96,97,98,99,100,101,102,103,104,105,106,107,108,109,110,111,112,113,114,115,116,117,118,119,120,121,122,123,124,125,126,127,128,129,130,131,132,133,134,135,136,137,138,139,140,141,142,143,144,145,146,147,148,149,150,151,152,153,154,155,156,157,158,159,160,161,162,163,164,165,166,167,168,169,170,171,172,173,174,175,176,177,178,179,180,181,182,183,184,185,186,187,188,189,190,191,192,193,194,195,196,197,198,199,200,201,202,203,204,205,206,207,208,209,210,211,212,213,214,215,216,217,218,219,220,221,222,223,224,225,226,227,228,229,230,231,232,233,234,235,236,237,238,239,240,241,242,243,244,245,246,247,248,249,250,251,252,253,254,255,256,257,258,259,260,261,262,263,264,265,266,267,268,269,270,271,272,273,274,275,276,277,278,279,280,281,282,283,284,285,286,287,288,289,290,291,292,293,294,295,296,297,298,299,300,301,302,303,304,305,306,307,308,309,310,311,312,313,314,315,316,317,318,319,320,321,322,323,324,325,326,327,328,329,330,331,332,333,334,335,336,337,338,339,340,341,342,343,344,345,346,347,348,349,350,351,352,353,354,355,356,357,358,359,360,361,362,363,364,365,366,367,368,369,370,371,372,373,374,375,376,377,378,379,380,381,382,383,384,385,386,387,388,389,390,391,392,393,394,395,396,397,398,399,400,401,402,403,404,405,406,407,408,409,410,411,412,413,414,415,416,417,418,419,420,421,422,423,424,425,426,427,428,429,430,431,432,433,434,435,436,437,438,439,440,441,442,443,444,445,446,447,448,449,450,451,452,453,454,455,456,457,458,459,460,461,462,463,464,465,466,467,468,469,470,471,472,473,474,475,476,477,478,479,480,481,482,483,484,485,486,487,488,489,490,491,492,493,494,495,496,497,498,499,500,501,502,503,504,505,506,507,508,509,510,511,512,513,514,515,516,517,518,519,520,521,522,523,524,525,526,527,528,529,530,531,532,533,534,535,536,537,538,539,540,541,542,543,544,545,546,547,548,549,550,551,552,553,554,555,556,557,558,559,560,561,562,563,564,565,566,567,568,569,570,571,572,573,574,575,576,577,578,579,580,581,582,583,584,585,586,587,588,589,590,591,592,593,594,595,596,597,598,599,600,601,602,603,604,605,606,607,608,609,610,611,612,613,614,615,616,617,618,619,620,621,622,623,624,625,626,627,628,629,630,631,632,633,634,635,636,637,638,639,640,641,642,643,644,645,646,647,648,649,650,651,652,653,654,655,656,657,658,659,660,661,662,663,664,665,666,667,668,669,670,671,672,673,674,675,676,677,678,679,680,681,682,683,684,685,686,687,688,689,690,691,692,693,694,695,696,697,698,699,700,701,702,703,704,705,706,707,708,709,710,711,712,713,714,715,716,717,718,719,720,721,722,723,724,725,726,727,728,729,730,731,732,733,734,735,736,737,738,739,740,741,742,743,744,745,746,747,748,749,750,751,752,753,754,755,756,757,758,759,760,761,762,763,764,765,766,767,768,769,770,771,772,773,774,775,776,777,778,779,780,781,782,783,784,785,786,787,788,789,790,791,792,793,794,795,796,797,798,799,800,801,802,803,804,805,806,807,808,809,810,811,812,813,814,815,816,817,818,819,820,821,822,823,824,825,826,827,828,829,830,831,832,833,834,835,836,837,838,839,840,841,842,843,844,845,846,847,848,849,850,851,852,853,854,855,856,857,858,859,860,861,862,863,864,865,866,867,868,869,870,871,872,873,874,875,876,877,878,879,880,881,882,883,884,885,886,887,888,889,890,891,892,893,894,895,896,897,898,899,900,901,902,903,904,905,906,907,908,909,910,911,912,913,914,915,916,917,918,919,920,921,922,923,924,925,926,927,928,929,930,931,932,933,934,935,936,937,938,939,940,941,942,943,944,945,946,947,948,949,950,951,952,953,954,955,956,957,958,959,960,961,962,963,964,965,966,967,968,969,970,971,972,973,974,975,976,977,978,979,980,981,982,983,984,985,986,987,988,989,990,991,992,993,994,995,996,997,998,999,1000],\"y\":[2.5644619464874268,1.9388384819030762,1.4498627185821533,1.4178303480148315,1.6618318557739258,1.7335457801818848,1.1910662651062012,1.5890378952026367,1.6721618175506592,1.2368367910385132,1.3644351959228516,1.364950180053711,1.3954973220825195,1.3099603652954102,1.3046576976776123,1.5976332426071167,1.4050935506820679,1.4579626321792603,1.3870255947113037,1.4494253396987915,1.2010698318481445,1.1838767528533936,1.1820911169052124,1.3956680297851562,1.234142780303955,1.152940034866333,1.3233602046966553,1.231361746788025,1.2151747941970825,1.133665919303894,1.0788527727127075,1.2193748950958252,1.2903101444244385,1.4733954668045044,1.268153429031372,1.4668951034545898,1.056139588356018,1.0212936401367188,1.3807365894317627,1.2678732872009277,1.0754753351211548,1.25249445438385,1.1570419073104858,0.9889100790023804,1.0456867218017578,1.1153568029403687,0.8996257185935974,1.1372348070144653,1.1091902256011963,0.9934365749359131,1.0479121208190918,0.9296103119850159,0.9226147532463074,0.88949054479599,0.9436218738555908,0.9174531698226929,0.910258412361145,0.7982636094093323,0.8801079988479614,0.9685412049293518,0.9486044645309448,0.8729745149612427,0.8639814853668213,1.0758090019226074,0.9100522398948669,0.7583626508712769,0.7786686420440674,0.7262837290763855,0.8581187725067139,0.7847728729248047,0.6409260630607605,0.7396676540374756,0.781259298324585,0.7092703580856323,0.7851700186729431,0.9494689106941223,0.737842321395874,0.6549614071846008,0.5726680755615234,0.7479891777038574,0.5924429893493652,0.7376545667648315,0.6979755163192749,0.9370883107185364,0.7402827739715576,0.8758213520050049,0.6611739993095398,0.8681344985961914,0.7370699644088745,0.5582300424575806,0.6831368207931519,0.6844505071640015,0.6190448999404907,0.5974484086036682,0.8300049304962158,0.7755761742591858,0.7452723979949951,0.643113374710083,0.6518272161483765,0.560043215751648,0.609076201915741,0.558709979057312,0.7034814357757568,0.6052525043487549,0.4955568313598633,0.5693188309669495,0.5961669683456421,0.4265803098678589,0.5653481483459473,0.8602720499038696,0.5420559644699097,0.6094245314598083,0.5726876854896545,0.5016877055168152,0.7715291976928711,0.7757454514503479,0.7207760810852051,0.662710964679718,0.6062989234924316,0.5893951058387756,0.4787261486053467,0.5913882851600647,0.5040434002876282,0.5121892690658569,0.6150656342506409,0.659752607345581,0.5700372457504272,0.4349885880947113,0.5076210498809814,0.7204679846763611,0.7075767517089844,0.3933335542678833,0.4832465648651123,0.7163556814193726,0.5868154764175415,0.6510354280471802,0.5967598557472229,0.3410181999206543,0.3882647156715393,0.5672621726989746,0.5453129410743713,0.3763251304626465,0.3796054720878601,0.36192309856414795,0.6017658710479736,0.613034725189209,0.5196488499641418,0.3960074186325073,0.5048012733459473,0.4246586859226227,0.43282490968704224,0.508184552192688,0.36608392000198364,0.2843601703643799,0.4768953025341034,0.459158331155777,0.43095535039901733,0.5212146639823914,0.44383078813552856,0.36491891741752625,0.5425279140472412,0.6519436836242676,0.3868551254272461,0.4561285376548767,0.23998939990997314,0.5774214267730713,0.4442533552646637,0.33707767724990845,0.37958258390426636,0.5242924690246582,0.37092772126197815,0.2604405879974365,0.2652479410171509,0.548576831817627,0.3811251223087311,0.48926225304603577,0.3020533621311188,0.3718724250793457,0.45268380641937256,0.4284449815750122,0.36248070001602173,0.4857809543609619,0.4110579490661621,0.5539024472236633,0.5057054162025452,0.30691081285476685,0.3608902096748352,0.2318621575832367,0.2571338713169098,0.35674187541007996,0.33463382720947266,0.3538656234741211,0.35179054737091064,0.29790130257606506,0.28042516112327576,0.4210638105869293,0.39467543363571167,0.3078463077545166,0.33455801010131836,0.35112395882606506,0.6898588538169861,0.2729375660419464,0.4647113084793091,0.2914417088031769,0.2283584326505661,0.4497360289096832,0.4398280382156372,0.45065203309059143,0.3355240821838379,0.2890341579914093,0.2815808653831482,0.24986803531646729,0.5926663279533386,0.4292682111263275,0.5334211587905884,0.4198763072490692,0.4775313138961792,0.38053762912750244,0.48546960949897766,0.4828157126903534,0.33196863532066345,0.2743634879589081,0.24027620255947113,0.38439539074897766,0.37458115816116333,0.47277235984802246,0.6866222023963928,0.4734790623188019,0.3730026185512543,0.358616441488266,0.4603172540664673,0.32798901200294495,0.3721325993537903,0.22284658253192902,0.2778339385986328,0.3441179394721985,0.2316114902496338,0.3152872920036316,0.47373175621032715,0.23538753390312195,0.22023305296897888,0.4186728000640869,0.3624536395072937,0.4197944402694702,0.24491429328918457,0.3179776668548584,0.39510485529899597,0.32177966833114624,0.3152408003807068,0.3055933713912964,0.2895926833152771,0.15320438146591187,0.2657420039176941,0.45698148012161255,0.4143758714199066,0.43809062242507935,0.6131269931793213,0.38503187894821167,0.34886014461517334,0.3966935873031616,0.3229573965072632,0.2992468476295471,0.19291451573371887,0.46256887912750244,0.46439051628112793,0.37097248435020447,0.32303494215011597,0.30335307121276855,0.35066550970077515,0.4728667438030243,0.38940244913101196,0.5302060842514038,0.739822268486023,0.6126341819763184,0.40240156650543213,0.38656771183013916,0.5149919390678406,0.523219883441925,0.5120183825492859,0.27433058619499207,0.27399009466171265,0.19412969052791595,0.32740914821624756,0.2262558788061142,0.3319898247718811,0.2747587561607361,0.2932819128036499,0.2692541778087616,0.32299792766571045,0.43441247940063477,0.31615880131721497,0.37229210138320923,0.5330874919891357,0.5073946118354797,0.42617112398147583,0.40337178111076355,0.26466605067253113,0.19902920722961426,0.3856426775455475,0.3934755325317383,0.32530051469802856,0.3204805850982666,0.22233951091766357,0.2647014260292053,0.3138805031776428,0.4039296507835388,0.2810326814651489,0.2553388774394989,0.2513136863708496,0.12220026552677155,0.3414760231971741,0.15394940972328186,0.20897242426872253,0.25312674045562744,0.2716488838195801,0.2573969066143036,0.4252038896083832,0.3393079936504364,0.40554744005203247,0.366613507270813,0.4106380045413971,0.30307477712631226,0.1641276627779007,0.16643157601356506,0.22233915328979492,0.30282920598983765,0.3525315821170807,0.13378280401229858,0.1597198098897934,0.17108023166656494,0.1556859165430069,0.1327391266822815,0.2821914851665497,0.22399181127548218,0.19484306871891022,0.2736263871192932,0.2924368679523468,0.2127898633480072,0.08502116799354553,0.40422767400741577,0.27090293169021606,0.16601020097732544,0.1528506577014923,0.306861937046051,0.7185879945755005,0.1710284948348999,0.2544623017311096,0.21244925260543823,0.30094003677368164,0.1902296245098114,0.3462873697280884,0.2507320046424866,0.21458038687705994,0.1664416491985321,0.1278129667043686,0.44238775968551636,0.1819259524345398,0.2124883234500885,0.2580637037754059,0.185496523976326,0.33625227212905884,0.3106473684310913,0.39769071340560913,0.27567198872566223,0.15405340492725372,0.24895505607128143,0.2535293400287628,0.24984309077262878,0.4242342412471771,0.20067255198955536,0.2539471387863159,0.3342547118663788,0.3813244104385376,0.3050346076488495,0.1733381748199463,0.24860814213752747,0.3301692008972168,0.2675701677799225,0.21575699746608734,0.17871001362800598,0.2285970002412796,0.31524211168289185,0.18358969688415527,0.2392832189798355,0.3153855502605438,0.4668779969215393,0.33836859464645386,0.25013184547424316,0.35175997018814087,0.29682081937789917,0.26954472064971924,0.17574253678321838,0.33096715807914734,0.2977072298526764,0.27109330892562866,0.43653303384780884,0.4416433870792389,0.07078973948955536,0.2080734819173813,0.4051678478717804,0.3673672080039978,0.33055251836776733,0.20466116070747375,0.25257039070129395,0.31115245819091797,0.36607909202575684,0.15475153923034668,0.413102924823761,0.5406469702720642,0.2628394365310669,0.38132190704345703,0.15682905912399292,0.4249815344810486,0.24639317393302917,0.30435043573379517,0.17935332655906677,0.17109844088554382,0.32147735357284546,0.29224300384521484,0.3625076115131378,0.1341174840927124,0.17716512084007263,0.4172671437263489,0.21591392159461975,0.15800537168979645,0.23244792222976685,0.2776186168193817,0.2251611351966858,0.33268100023269653,0.3293116092681885,0.11103905737400055,0.25077763199806213,0.4045167863368988,0.2370426207780838,0.29587435722351074,0.1926461160182953,0.33549928665161133,0.23564542829990387,0.14828653633594513,0.30452895164489746,0.15296432375907898,0.24024230241775513,0.19977492094039917,0.48845577239990234,0.1978350281715393,0.15495531260967255,0.3414967358112335,0.24648863077163696,0.36471325159072876,0.34187373518943787,0.16805319488048553,0.13581907749176025,0.10545959323644638,0.13868579268455505,0.38201433420181274,0.4377201795578003,0.28325796127319336,0.20425361394882202,0.24528199434280396,0.27047979831695557,0.24114765226840973,0.3568597733974457,0.3982214629650116,0.38010284304618835,0.3296772241592407,0.27643314003944397,0.11251948773860931,0.3218323290348053,0.20131441950798035,0.11505924165248871,0.22469165921211243,0.1027657613158226,0.26093122363090515,0.29444608092308044,0.28309714794158936,0.24390169978141785,0.15783041715621948,0.19961696863174438,0.1357976198196411,0.2322133481502533,0.3136391043663025,0.1700824797153473,0.32218730449676514,0.2688513696193695,0.3335312604904175,0.1855788230895996,0.38256508111953735,0.290672242641449,0.24141386151313782,0.17190957069396973,0.09283455461263657,0.3174327611923218,0.3963828384876251,0.3477550745010376,0.15519219636917114,0.23830866813659668,0.3403577208518982,0.17907041311264038,0.32919955253601074,0.14161203801631927,0.2977580428123474,0.28603148460388184,0.13524678349494934,0.08731995522975922,0.12860912084579468,0.0982482060790062,0.1655554622411728,0.07992728054523468,0.25286394357681274,0.12382204830646515,0.07240033894777298,0.32906651496887207,0.11069522798061371,0.16138961911201477,0.11510707437992096,0.20458510518074036,0.10399545729160309,0.21632075309753418,0.16845309734344482,0.08707877993583679,0.20663729310035706,0.3210337162017822,0.2408830225467682,0.2130468487739563,0.23165273666381836,0.16539093852043152,0.18703894317150116,0.22345367074012756,0.17998583614826202,0.16642457246780396,0.43289270997047424,0.37099146842956543,0.32652199268341064,0.3118022680282593,0.20886996388435364,0.16176849603652954,0.14909964799880981,0.15062755346298218,0.33393293619155884,0.15508949756622314,0.22602757811546326,0.17424675822257996,0.15593914687633514,0.294624924659729,0.14244085550308228,0.28632989525794983,0.369323194026947,0.09354894608259201,0.4238819479942322,0.41944730281829834,0.08225208520889282,0.14748604595661163,0.17755353450775146,0.3138182759284973,0.40299171209335327,0.3056862950325012,0.42056840658187866,0.20747290551662445,0.15054798126220703,0.21186992526054382,0.1421036720275879,0.22570845484733582,0.3220100998878479,0.15022867918014526,0.2058781534433365,0.14596176147460938,0.10356355458498001,0.23408904671669006,0.1949903666973114,0.4203624129295349,0.09448674321174622,0.06007881462574005,0.18078961968421936,0.18387970328330994,0.179107666015625,0.2528228461742401,0.09538038820028305,0.13706618547439575,0.13782355189323425,0.08586891740560532,0.23225520551204681,0.12836632132530212,0.19834406673908234,0.1696065068244934,0.1740632951259613,0.22206810116767883,0.08477789908647537,0.13518217206001282,0.20105519890785217,0.08799909055233002,0.12167686223983765,0.3036181926727295,0.11045640707015991,0.13520017266273499,0.12373100966215134,0.1278689056634903,0.27569085359573364,0.3349500596523285,0.10904724150896072,0.10353349894285202,0.1087503731250763,0.28436392545700073,0.14232774078845978,0.10307851433753967,0.28987082839012146,0.21996146440505981,0.22485028207302094,0.1384791135787964,0.11082801222801208,0.1721016764640808,0.1060735210776329,0.12223929911851883,0.31776928901672363,0.11245892941951752,0.10222122818231583,0.10117730498313904,0.06862872838973999,0.2174435555934906,0.11679782718420029,0.2507966458797455,0.21698641777038574,0.19906947016716003,0.0805807113647461,0.16782841086387634,0.09279589354991913,0.20906896889209747,0.18782676756381989,0.12385950237512589,0.13480518758296967,0.20729848742485046,0.31162211298942566,0.2049916684627533,0.2102152407169342,0.08188764750957489,0.17804919183254242,0.3356591463088989,0.09359882026910782,0.132778137922287,0.09839510917663574,0.1386490762233734,0.16723832488059998,0.16681832075119019,0.1587623804807663,0.14616359770298004,0.14109890162944794,0.26210200786590576,0.22346602380275726,0.30364081263542175,0.14174118638038635,0.45144006609916687,0.36826443672180176,0.1433970034122467,0.08893910050392151,0.31230658292770386,0.43581703305244446,0.27406173944473267,0.34245407581329346,0.08973893523216248,0.14056356251239777,0.298980712890625,0.28590989112854004,0.23737917840480804,0.17743900418281555,0.09275117516517639,0.0900874137878418,0.18857289850711823,0.07640254497528076,0.21488073468208313,0.313700795173645,0.18059822916984558,0.18457701802253723,0.08504654467105865,0.22360090911388397,0.1285821795463562,0.13954725861549377,0.19744637608528137,0.17879194021224976,0.234188050031662,0.22886872291564941,0.115165114402771,0.18746855854988098,0.1177176833152771,0.12005950510501862,0.1513976901769638,0.1688970923423767,0.29045701026916504,0.25132352113723755,0.1764930784702301,0.18238943815231323,0.118109792470932,0.12116562575101852,0.4106621742248535,0.13917085528373718,0.35307201743125916,0.29963839054107666,0.06520415097475052,0.32417839765548706,0.13065865635871887,0.1331421136856079,0.13612006604671478,0.14885593950748444,0.25410670042037964,0.25726503133773804,0.3050000071525574,0.3551374673843384,0.23598569631576538,0.25209879875183105,0.16934236884117126,0.16955938935279846,0.18185505270957947,0.14031930267810822,0.14400869607925415,0.19391879439353943,0.2685868740081787,0.08517707139253616,0.11234265565872192,0.08821874856948853,0.03485087305307388,0.17236261069774628,0.11321813613176346,0.09935348480939865,0.33729642629623413,0.14233532547950745,0.11964190006256104,0.18276718258857727,0.21690821647644043,0.23337069153785706,0.07880333811044693,0.04254208132624626,0.089469313621521,0.24470338225364685,0.1639980524778366,0.1654973328113556,0.23402313888072968,0.10829401761293411,0.08945433795452118,0.07458829879760742,0.31353598833084106,0.2620164453983307,0.06985653936862946,0.25605469942092896,0.1817966103553772,0.05111400783061981,0.14721471071243286,0.26036232709884644,0.15427732467651367,0.10205162316560745,0.294554740190506,0.16005399823188782,0.08595925569534302,0.08221352100372314,0.23711669445037842,0.10148808360099792,0.28753477334976196,0.12394646555185318,0.07597007602453232,0.22257639467716217,0.04624161124229431,0.42024022340774536,0.21260419487953186,0.05973941832780838,0.09888613224029541,0.06790292263031006,0.15976369380950928,0.07600124180316925,0.23511672019958496,0.22710713744163513,0.2682034373283386,0.16994470357894897,0.3597790002822876,0.18984252214431763,0.2003716677427292,0.14131346344947815,0.18001729249954224,0.3497929275035858,0.24924814701080322,0.2718174159526825,0.09608586132526398,0.17098644375801086,0.2685220539569855,0.0757627934217453,0.06245846301317215,0.22401387989521027,0.07129032909870148,0.18791785836219788,0.38342222571372986,0.24215850234031677,0.1456117182970047,0.12860897183418274,0.3211561441421509,0.1335480511188507,0.14428655803203583,0.034748487174510956,0.10824818909168243,0.04085829481482506,0.07714565098285675,0.20488396286964417,0.06720441579818726,0.21673068404197693,0.0626111701130867,0.1088695079088211,0.17541581392288208,0.16993801295757294,0.1357322782278061,0.07258766889572144,0.10563471168279648,0.2753885090351105,0.10343258082866669,0.2046164572238922,0.15749657154083252,0.08531622588634491,0.17656351625919342,0.12404970824718475,0.25780725479125977,0.1147189661860466,0.03746329993009567,0.16276296973228455,0.1035434901714325,0.17879869043827057,0.12814365327358246,0.08483654260635376,0.07769577205181122,0.0475027821958065,0.22990302741527557,0.6192459464073181,0.3458672761917114,0.08285920321941376,0.15453563630580902,0.2770302891731262,0.07639740407466888,0.3472966253757477,0.1506684422492981,0.703864574432373,0.12844477593898773,0.23755112290382385,0.29941943287849426,0.09980538487434387,0.12059958279132843,0.26567190885543823,0.3250473141670227,0.16365918517112732,0.22407051920890808,0.13778778910636902,0.0632488876581192,0.13972201943397522,0.2318766713142395,0.1546539068222046,0.17896726727485657,0.40095391869544983,0.2736923396587372,0.1221429780125618,0.22407230734825134,0.09779556095600128,0.14913587272167206,0.04834112897515297,0.05443127453327179,0.10241133719682693,0.13256338238716125,0.17042890191078186,0.12465299665927887,0.15918195247650146,0.056620046496391296,0.1123586893081665,0.05939047783613205,0.11068302392959595,0.11705514788627625,0.17061561346054077,0.06968510895967484,0.2133347988128662,0.14439885318279266,0.14653107523918152,0.20281586050987244,0.1143326461315155,0.1106109693646431,0.18915976583957672,0.21902313828468323,0.06004033982753754,0.08898448199033737,0.0682985782623291,0.19439750909805298,0.09297467023134232,0.18259620666503906,0.05685361847281456,0.39126747846603394,0.061635471880435944,0.06801073998212814,0.18646502494812012,0.24625295400619507,0.09329099953174591,0.10281332582235336,0.19951526820659637,0.20958945155143738,0.2158777117729187,0.17985159158706665,0.12319853901863098,0.4079042077064514,0.08390522003173828,0.311930775642395,0.05504612624645233,0.28974610567092896,0.16454365849494934,0.06936400383710861,0.06214587390422821,0.09176874160766602,0.26168692111968994,0.1260557770729065,0.22204065322875977,0.1368371844291687,0.19343578815460205,0.12485748529434204,0.33705270290374756,0.2247963845729828,0.21600300073623657,0.2661581039428711,0.17681989073753357,0.21878120303153992,0.14943964779376984,0.10487201809883118,0.08486062288284302,0.1634570062160492,0.2738504409790039,0.0911303460597992,0.061614543199539185,0.13642999529838562,0.18045760691165924,0.06657418608665466,0.12543033063411713,0.10686413943767548,0.19780538976192474,0.17657005786895752,0.12127681076526642,0.11011242866516113,0.2186635285615921,0.22315695881843567,0.19143816828727722,0.16808396577835083,0.21353967487812042,0.19618529081344604,0.1796722561120987,0.4030311703681946,0.1491941511631012,0.17840567231178284,0.24264755845069885,0.18883778154850006,0.06804241240024567,0.15755429863929749,0.15733537077903748,0.07704633474349976,0.2333654910326004,0.08905144780874252,0.10135380923748016,0.07612952589988708,0.06636698544025421,0.2480490803718567,0.09046725928783417,0.15109409391880035,0.15074215829372406,0.0909472405910492,0.3070303797721863,0.146598219871521,0.14494885504245758,0.13251839578151703,0.17335306107997894,0.2777232825756073,0.17134563624858856,0.1348438858985901,0.0719091147184372,0.12185576558113098,0.08065062761306763,0.10659949481487274,0.15948668122291565,0.15586921572685242,0.26497581601142883,0.04093940556049347,0.4824165403842926,0.11057636886835098,0.09449432045221329,0.11473838239908218,0.3257516324520111,0.22907640039920807,0.25567328929901123,0.07625669240951538,0.2657325565814972,0.09776265919208527,0.23788012564182281,0.2528344988822937,0.24548384547233582,0.23532158136367798,0.22038958966732025,0.23690162599086761,0.058118004351854324,0.28467798233032227,0.36521029472351074,0.08118598908185959,0.12453709542751312,0.29051074385643005,0.03990282863378525,0.0903833657503128,0.24096375703811646,0.06929663568735123,0.2790566086769104]}},\"id\":\"b952fdf7-95e2-440a-ba82-684ed573bd78\",\"type\":\"ColumnDataSource\"},{\"attributes\":{},\"id\":\"b12010f4-5203-465f-83a0-c5a9ae58b6bc\",\"type\":\"BasicTicker\"}],\"root_ids\":[\"98d2810d-fb30-4b82-b66a-0e41194f34a5\"]},\"title\":\"Bokeh Application\",\"version\":\"0.12.2\"}};\n",
       "            var render_items = [{\"docid\":\"ef4499d5-0e90-4dc2-84a6-176ee2eac4ed\",\"elementid\":\"a813f709-4f0e-4705-b70c-4d8f787a0d61\",\"modelid\":\"98d2810d-fb30-4b82-b66a-0e41194f34a5\"}];\n",
       "            \n",
       "            Bokeh.embed.embed_items(docs_json, render_items);\n",
       "        });\n",
       "      },\n",
       "      function(Bokeh) {\n",
       "      }\n",
       "    ];\n",
       "  \n",
       "    function run_inline_js() {\n",
       "      \n",
       "      if ((window.Bokeh !== undefined) || (force === \"1\")) {\n",
       "        for (var i = 0; i < inline_js.length; i++) {\n",
       "          inline_js[i](window.Bokeh);\n",
       "        }if (force === \"1\") {\n",
       "          display_loaded();\n",
       "        }} else if (Date.now() < window._bokeh_timeout) {\n",
       "        setTimeout(run_inline_js, 100);\n",
       "      } else if (!window._bokeh_failed_load) {\n",
       "        console.log(\"Bokeh: BokehJS failed to load within specified timeout.\");\n",
       "        window._bokeh_failed_load = true;\n",
       "      } else if (!force) {\n",
       "        var cell = $(\"#a813f709-4f0e-4705-b70c-4d8f787a0d61\").parents('.cell').data().cell;\n",
       "        cell.output_area.append_execute_result(NB_LOAD_WARNING)\n",
       "      }\n",
       "  \n",
       "    }\n",
       "  \n",
       "    if (window._bokeh_is_loading === 0) {\n",
       "      console.log(\"Bokeh: BokehJS loaded, going straight to plotting\");\n",
       "      run_inline_js();\n",
       "    } else {\n",
       "      load_libs(js_urls, function() {\n",
       "        console.log(\"Bokeh: BokehJS plotting callback run at\", now());\n",
       "        run_inline_js();\n",
       "      });\n",
       "    }\n",
       "  }(this));\n",
       "</script>"
      ]
     },
     "metadata": {},
     "output_type": "display_data"
    }
   ],
   "source": [
    "p = figure(title=\"training loss\", x_axis_label='train steps', y_axis_label='loss')\n",
    "p = figure()\n",
    "p.line(range(len(losses)),losses)\n",
    "show(p)"
   ]
  }
 ],
 "metadata": {
  "kernelspec": {
   "display_name": "Python [conda env:tensorflow]",
   "language": "python",
   "name": "conda-env-tensorflow-py"
  },
  "language_info": {
   "codemirror_mode": {
    "name": "ipython",
    "version": 2
   },
   "file_extension": ".py",
   "mimetype": "text/x-python",
   "name": "python",
   "nbconvert_exporter": "python",
   "pygments_lexer": "ipython2",
   "version": "2.7.12"
  }
 },
 "nbformat": 4,
 "nbformat_minor": 2
}
