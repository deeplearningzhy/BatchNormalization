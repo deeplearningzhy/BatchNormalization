{
 "cells": [
  {
   "cell_type": "markdown",
   "metadata": {},
   "source": [
    "[Orignal paper](https://arxiv.org/abs/1502.03167)"
   ]
  },
  {
   "cell_type": "code",
   "execution_count": 1,
   "metadata": {
    "collapsed": false
   },
   "outputs": [],
   "source": [
    "from __future__ import print_function\n",
    "import tensorflow as tf\n",
    "import numpy as np\n",
    "from matplotlib import pyplot as plt\n",
    "%matplotlib inline\n",
    "from tqdm import tqdm\n",
    "from MyHelper import *\n",
    "from bokeh.plotting import figure, show\n",
    "from bokeh.io import output_notebook"
   ]
  },
  {
   "cell_type": "code",
   "execution_count": 2,
   "metadata": {
    "collapsed": false
   },
   "outputs": [
    {
     "data": {
      "text/html": [
       "\n",
       "    <div class=\"bk-root\">\n",
       "        <a href=\"http://bokeh.pydata.org\" target=\"_blank\" class=\"bk-logo bk-logo-small bk-logo-notebook\"></a>\n",
       "        <span id=\"f4e5155f-824e-4aa9-adad-9838f3475f05\">Loading BokehJS ...</span>\n",
       "    </div>"
      ]
     },
     "metadata": {},
     "output_type": "display_data"
    },
    {
     "data": {
      "application/javascript": [
       "\n",
       "(function(global) {\n",
       "  function now() {\n",
       "    return new Date();\n",
       "  }\n",
       "\n",
       "  var force = \"1\";\n",
       "\n",
       "  if (typeof (window._bokeh_onload_callbacks) === \"undefined\" || force !== \"\") {\n",
       "    window._bokeh_onload_callbacks = [];\n",
       "    window._bokeh_is_loading = undefined;\n",
       "  }\n",
       "\n",
       "\n",
       "  \n",
       "  if (typeof (window._bokeh_timeout) === \"undefined\" || force !== \"\") {\n",
       "    window._bokeh_timeout = Date.now() + 5000;\n",
       "    window._bokeh_failed_load = false;\n",
       "  }\n",
       "\n",
       "  var NB_LOAD_WARNING = {'data': {'text/html':\n",
       "     \"<div style='background-color: #fdd'>\\n\"+\n",
       "     \"<p>\\n\"+\n",
       "     \"BokehJS does not appear to have successfully loaded. If loading BokehJS from CDN, this \\n\"+\n",
       "     \"may be due to a slow or bad network connection. Possible fixes:\\n\"+\n",
       "     \"</p>\\n\"+\n",
       "     \"<ul>\\n\"+\n",
       "     \"<li>re-rerun `output_notebook()` to attempt to load from CDN again, or</li>\\n\"+\n",
       "     \"<li>use INLINE resources instead, as so:</li>\\n\"+\n",
       "     \"</ul>\\n\"+\n",
       "     \"<code>\\n\"+\n",
       "     \"from bokeh.resources import INLINE\\n\"+\n",
       "     \"output_notebook(resources=INLINE)\\n\"+\n",
       "     \"</code>\\n\"+\n",
       "     \"</div>\"}};\n",
       "\n",
       "  function display_loaded() {\n",
       "    if (window.Bokeh !== undefined) {\n",
       "      Bokeh.$(\"#f4e5155f-824e-4aa9-adad-9838f3475f05\").text(\"BokehJS successfully loaded.\");\n",
       "    } else if (Date.now() < window._bokeh_timeout) {\n",
       "      setTimeout(display_loaded, 100)\n",
       "    }\n",
       "  }\n",
       "\n",
       "  function run_callbacks() {\n",
       "    window._bokeh_onload_callbacks.forEach(function(callback) { callback() });\n",
       "    delete window._bokeh_onload_callbacks\n",
       "    console.info(\"Bokeh: all callbacks have finished\");\n",
       "  }\n",
       "\n",
       "  function load_libs(js_urls, callback) {\n",
       "    window._bokeh_onload_callbacks.push(callback);\n",
       "    if (window._bokeh_is_loading > 0) {\n",
       "      console.log(\"Bokeh: BokehJS is being loaded, scheduling callback at\", now());\n",
       "      return null;\n",
       "    }\n",
       "    if (js_urls == null || js_urls.length === 0) {\n",
       "      run_callbacks();\n",
       "      return null;\n",
       "    }\n",
       "    console.log(\"Bokeh: BokehJS not loaded, scheduling load and callback at\", now());\n",
       "    window._bokeh_is_loading = js_urls.length;\n",
       "    for (var i = 0; i < js_urls.length; i++) {\n",
       "      var url = js_urls[i];\n",
       "      var s = document.createElement('script');\n",
       "      s.src = url;\n",
       "      s.async = false;\n",
       "      s.onreadystatechange = s.onload = function() {\n",
       "        window._bokeh_is_loading--;\n",
       "        if (window._bokeh_is_loading === 0) {\n",
       "          console.log(\"Bokeh: all BokehJS libraries loaded\");\n",
       "          run_callbacks()\n",
       "        }\n",
       "      };\n",
       "      s.onerror = function() {\n",
       "        console.warn(\"failed to load library \" + url);\n",
       "      };\n",
       "      console.log(\"Bokeh: injecting script tag for BokehJS library: \", url);\n",
       "      document.getElementsByTagName(\"head\")[0].appendChild(s);\n",
       "    }\n",
       "  };var element = document.getElementById(\"f4e5155f-824e-4aa9-adad-9838f3475f05\");\n",
       "  if (element == null) {\n",
       "    console.log(\"Bokeh: ERROR: autoload.js configured with elementid 'f4e5155f-824e-4aa9-adad-9838f3475f05' but no matching script tag was found. \")\n",
       "    return false;\n",
       "  }\n",
       "\n",
       "  var js_urls = ['https://cdn.pydata.org/bokeh/release/bokeh-0.12.2.min.js', 'https://cdn.pydata.org/bokeh/release/bokeh-widgets-0.12.2.min.js', 'https://cdn.pydata.org/bokeh/release/bokeh-compiler-0.12.2.min.js'];\n",
       "\n",
       "  var inline_js = [\n",
       "    function(Bokeh) {\n",
       "      Bokeh.set_log_level(\"info\");\n",
       "    },\n",
       "    \n",
       "    function(Bokeh) {\n",
       "      \n",
       "      Bokeh.$(\"#f4e5155f-824e-4aa9-adad-9838f3475f05\").text(\"BokehJS is loading...\");\n",
       "    },\n",
       "    function(Bokeh) {\n",
       "      console.log(\"Bokeh: injecting CSS: https://cdn.pydata.org/bokeh/release/bokeh-0.12.2.min.css\");\n",
       "      Bokeh.embed.inject_css(\"https://cdn.pydata.org/bokeh/release/bokeh-0.12.2.min.css\");\n",
       "      console.log(\"Bokeh: injecting CSS: https://cdn.pydata.org/bokeh/release/bokeh-widgets-0.12.2.min.css\");\n",
       "      Bokeh.embed.inject_css(\"https://cdn.pydata.org/bokeh/release/bokeh-widgets-0.12.2.min.css\");\n",
       "    }\n",
       "  ];\n",
       "\n",
       "  function run_inline_js() {\n",
       "    \n",
       "    if ((window.Bokeh !== undefined) || (force === \"1\")) {\n",
       "      for (var i = 0; i < inline_js.length; i++) {\n",
       "        inline_js[i](window.Bokeh);\n",
       "      }if (force === \"1\") {\n",
       "        display_loaded();\n",
       "      }} else if (Date.now() < window._bokeh_timeout) {\n",
       "      setTimeout(run_inline_js, 100);\n",
       "    } else if (!window._bokeh_failed_load) {\n",
       "      console.log(\"Bokeh: BokehJS failed to load within specified timeout.\");\n",
       "      window._bokeh_failed_load = true;\n",
       "    } else if (!force) {\n",
       "      var cell = $(\"#f4e5155f-824e-4aa9-adad-9838f3475f05\").parents('.cell').data().cell;\n",
       "      cell.output_area.append_execute_result(NB_LOAD_WARNING)\n",
       "    }\n",
       "\n",
       "  }\n",
       "\n",
       "  if (window._bokeh_is_loading === 0) {\n",
       "    console.log(\"Bokeh: BokehJS loaded, going straight to plotting\");\n",
       "    run_inline_js();\n",
       "  } else {\n",
       "    load_libs(js_urls, function() {\n",
       "      console.log(\"Bokeh: BokehJS plotting callback run at\", now());\n",
       "      run_inline_js();\n",
       "    });\n",
       "  }\n",
       "}(this));"
      ]
     },
     "metadata": {},
     "output_type": "display_data"
    }
   ],
   "source": [
    "output_notebook()"
   ]
  },
  {
   "cell_type": "code",
   "execution_count": 3,
   "metadata": {
    "collapsed": false
   },
   "outputs": [],
   "source": [
    "downloadData(filename,loc)"
   ]
  },
  {
   "cell_type": "code",
   "execution_count": 4,
   "metadata": {
    "collapsed": false
   },
   "outputs": [],
   "source": [
    "X,y=getData(filename,loc,flat=True)\n",
    "Xtest,ytest=getData(filename,loc,flat=True,test=True)"
   ]
  },
  {
   "cell_type": "code",
   "execution_count": 5,
   "metadata": {
    "collapsed": false
   },
   "outputs": [
    {
     "name": "stdout",
     "output_type": "stream",
     "text": [
      "(60000, 784) (60000, 10)\n",
      "(10000, 784) (10000, 10)\n"
     ]
    }
   ],
   "source": [
    "print(X.shape,y.shape)\n",
    "print(Xtest.shape,ytest.shape)"
   ]
  },
  {
   "cell_type": "code",
   "execution_count": 6,
   "metadata": {
    "collapsed": false
   },
   "outputs": [
    {
     "name": "stdout",
     "output_type": "stream",
     "text": [
      "28.0\n"
     ]
    }
   ],
   "source": [
    "img_size = np.sqrt(X.shape[1])\n",
    "print(img_size)"
   ]
  },
  {
   "cell_type": "code",
   "execution_count": 7,
   "metadata": {
    "collapsed": false
   },
   "outputs": [
    {
     "name": "stderr",
     "output_type": "stream",
     "text": [
      "/Users/tmulc/anaconda2/envs/tensorflow/lib/python2.7/site-packages/ipykernel/__main__.py:1: VisibleDeprecationWarning: using a non-integer number instead of an integer will result in an error in the future\n",
      "  if __name__ == '__main__':\n"
     ]
    },
    {
     "data": {
      "text/plain": [
       "<matplotlib.image.AxesImage at 0x11ca1b350>"
      ]
     },
     "execution_count": 7,
     "metadata": {},
     "output_type": "execute_result"
    },
    {
     "data": {
      "image/png": "[encoded data removed]",
      "text/plain": [
       "<matplotlib.figure.Figure at 0x11beda9d0>"
      ]
     },
     "metadata": {},
     "output_type": "display_data"
    }
   ],
   "source": [
    "plt.imshow(X[0,:].reshape(img_size,img_size),cmap='gray')"
   ]
  },
  {
   "cell_type": "markdown",
   "metadata": {},
   "source": [
    "# Model"
   ]
  },
  {
   "cell_type": "code",
   "execution_count": 8,
   "metadata": {
    "collapsed": true
   },
   "outputs": [],
   "source": [
    "def createWeight(size):\n",
    "    return tf.Variable(tf.truncated_normal(size, stddev=0.1))\n",
    "\n",
    "def createBias(size):\n",
    "    return tf.Variable(tf.constant(0.1,shape=size))\n",
    "\n",
    "def lrelu(x, leak=0.2):\n",
    "    f1 = 0.5 * (1 + leak)\n",
    "    f2 = 0.5 * (1 - leak)\n",
    "    return f1 * x + f2 * abs(x)"
   ]
  },
  {
   "cell_type": "code",
   "execution_count": 9,
   "metadata": {
    "collapsed": false
   },
   "outputs": [],
   "source": [
    "batch_size = 32\n",
    "num_nodes=1000\n",
    "g = tf.Graph()\n",
    "with g.as_default():\n",
    "    img_input = tf.placeholder(tf.float32,shape=(batch_size,int(img_size**2)))\n",
    "    targets = tf.placeholder(tf.float32,shape=(batch_size,10))\n",
    "    \n",
    "    testX = tf.constant(Xtest,dtype=tf.float32)\n",
    "    testy = tf.constant(ytest,dtype=tf.float32)\n",
    "    \n",
    "    #create weights\n",
    "    W1 = createWeight([int(img_size**2),num_nodes])\n",
    "    b1 = createBias([num_nodes])\n",
    "    \n",
    "    W2 = createWeight([num_nodes,num_nodes])\n",
    "    b2 = createBias([num_nodes])\n",
    "    \n",
    "    W_logit = createWeight([num_nodes,10])\n",
    "    b_logit = createBias([10])\n",
    "\n",
    "    \n",
    "    #model\n",
    "    def model(img_input):\n",
    "        h1 = tf.nn.relu(tf.matmul(img_input,W1)+b1)\n",
    "        h2 = tf.nn.relu(tf.matmul(h1,W2)+b2)\n",
    "        logit = tf.matmul(h2,W_logit)+b_logit\n",
    "        return logit\n",
    "    \n",
    "    \n",
    "    #train\n",
    "    logit_train=model(img_input)\n",
    "    loss = tf.reduce_mean(tf.nn.softmax_cross_entropy_with_logits(logit_train,targets))\n",
    "    opt = tf.train.AdamOptimizer(learning_rate=.005).minimize(loss)\n",
    "    \n",
    "    train_accuracy = tf.reduce_mean(tf.cast(tf.equal(\n",
    "        tf.arg_max(tf.nn.softmax(logit_train),1),tf.arg_max(targets,1)),tf.float32))\n",
    "    \n",
    "    #test\n",
    "    logit_test = model(testX)\n",
    "    test_accuracy = tf.reduce_mean(tf.cast(tf.equal(\n",
    "        tf.arg_max(tf.nn.softmax(logit_test),1),tf.arg_max(testy,1)),tf.float32))\n",
    "    \n",
    "    init = tf.initialize_all_variables()"
   ]
  },
  {
   "cell_type": "code",
   "execution_count": 10,
   "metadata": {
    "collapsed": true
   },
   "outputs": [],
   "source": [
    "sess=tf.Session(graph=g)\n",
    "sess.run(init)\n",
    "losses = []"
   ]
  },
  {
   "cell_type": "code",
   "execution_count": 11,
   "metadata": {
    "collapsed": false
   },
   "outputs": [
    {
     "name": "stderr",
     "output_type": "stream",
     "text": [
      "\r",
      "  0%|          | 0/2000 [00:00<?, ?it/s]"
     ]
    },
    {
     "name": "stdout",
     "output_type": "stream",
     "text": [
      "train acc:  [0.4375]\n"
     ]
    },
    {
     "name": "stderr",
     "output_type": "stream",
     "text": [
      "  1%|          | 12/2000 [00:00<17:14,  1.92it/s]"
     ]
    },
    {
     "name": "stdout",
     "output_type": "stream",
     "text": [
      "test acc:  [0.24150001]\n"
     ]
    },
    {
     "name": "stderr",
     "output_type": "stream",
     "text": [
      "  5%|▍         | 93/2000 [00:01<01:15, 25.14it/s]"
     ]
    },
    {
     "name": "stdout",
     "output_type": "stream",
     "text": [
      "train acc:  [0.875]\n"
     ]
    },
    {
     "name": "stderr",
     "output_type": "stream",
     "text": [
      "  6%|▌         | 113/2000 [00:02<01:10, 26.82it/s]"
     ]
    },
    {
     "name": "stdout",
     "output_type": "stream",
     "text": [
      "test acc:  [0.81819999]\n"
     ]
    },
    {
     "name": "stderr",
     "output_type": "stream",
     "text": [
      " 10%|▉         | 199/2000 [00:03<00:18, 94.80it/s]"
     ]
    },
    {
     "name": "stdout",
     "output_type": "stream",
     "text": [
      "train acc:  [0.96875]\n"
     ]
    },
    {
     "name": "stderr",
     "output_type": "stream",
     "text": [
      " 11%|█         | 224/2000 [00:03<00:31, 55.97it/s]"
     ]
    },
    {
     "name": "stdout",
     "output_type": "stream",
     "text": [
      "test acc:  [0.84030002]\n"
     ]
    },
    {
     "name": "stderr",
     "output_type": "stream",
     "text": [
      " 14%|█▍        | 290/2000 [00:04<00:16, 105.82it/s]"
     ]
    },
    {
     "name": "stdout",
     "output_type": "stream",
     "text": [
      "train acc:  [0.9375]\n"
     ]
    },
    {
     "name": "stderr",
     "output_type": "stream",
     "text": [
      " 16%|█▌        | 316/2000 [00:05<00:27, 61.39it/s] "
     ]
    },
    {
     "name": "stdout",
     "output_type": "stream",
     "text": [
      "test acc:  [0.82169998]\n"
     ]
    },
    {
     "name": "stderr",
     "output_type": "stream",
     "text": [
      " 20%|█▉        | 397/2000 [00:05<00:13, 114.99it/s]"
     ]
    },
    {
     "name": "stdout",
     "output_type": "stream",
     "text": [
      "train acc:  [0.96875]\n"
     ]
    },
    {
     "name": "stderr",
     "output_type": "stream",
     "text": [
      " 21%|██        | 423/2000 [00:06<00:25, 62.65it/s] "
     ]
    },
    {
     "name": "stdout",
     "output_type": "stream",
     "text": [
      "test acc:  [0.81910002]\n"
     ]
    },
    {
     "name": "stderr",
     "output_type": "stream",
     "text": [
      " 24%|██▍       | 488/2000 [00:06<00:13, 108.74it/s]"
     ]
    },
    {
     "name": "stdout",
     "output_type": "stream",
     "text": [
      "train acc:  [0.84375]\n"
     ]
    },
    {
     "name": "stderr",
     "output_type": "stream",
     "text": [
      " 26%|██▌       | 514/2000 [00:07<00:24, 59.63it/s] "
     ]
    },
    {
     "name": "stdout",
     "output_type": "stream",
     "text": [
      "test acc:  [0.8836]\n"
     ]
    },
    {
     "name": "stderr",
     "output_type": "stream",
     "text": [
      " 30%|██▉       | 592/2000 [00:08<00:12, 112.53it/s]"
     ]
    },
    {
     "name": "stdout",
     "output_type": "stream",
     "text": [
      "train acc:  [0.90625]\n"
     ]
    },
    {
     "name": "stderr",
     "output_type": "stream",
     "text": [
      " 31%|███       | 618/2000 [00:08<00:22, 62.22it/s] "
     ]
    },
    {
     "name": "stdout",
     "output_type": "stream",
     "text": [
      "test acc:  [0.87080002]\n"
     ]
    },
    {
     "name": "stderr",
     "output_type": "stream",
     "text": [
      " 35%|███▍      | 699/2000 [00:09<00:11, 114.81it/s]"
     ]
    },
    {
     "name": "stdout",
     "output_type": "stream",
     "text": [
      "train acc:  [0.9375]\n"
     ]
    },
    {
     "name": "stderr",
     "output_type": "stream",
     "text": [
      " 36%|███▋      | 725/2000 [00:10<00:20, 62.96it/s] "
     ]
    },
    {
     "name": "stdout",
     "output_type": "stream",
     "text": [
      "test acc:  [0.84509999]\n"
     ]
    },
    {
     "name": "stderr",
     "output_type": "stream",
     "text": [
      " 40%|███▉      | 791/2000 [00:10<00:11, 109.44it/s]"
     ]
    },
    {
     "name": "stdout",
     "output_type": "stream",
     "text": [
      "train acc:  [0.875]\n"
     ]
    },
    {
     "name": "stderr",
     "output_type": "stream",
     "text": [
      " 41%|████      | 817/2000 [00:11<00:19, 62.04it/s] "
     ]
    },
    {
     "name": "stdout",
     "output_type": "stream",
     "text": [
      "test acc:  [0.84930003]\n"
     ]
    },
    {
     "name": "stderr",
     "output_type": "stream",
     "text": [
      " 45%|████▍     | 895/2000 [00:12<00:09, 112.25it/s]"
     ]
    },
    {
     "name": "stdout",
     "output_type": "stream",
     "text": [
      "train acc:  [0.9375]\n"
     ]
    },
    {
     "name": "stderr",
     "output_type": "stream",
     "text": [
      " 46%|████▌     | 919/2000 [00:12<00:19, 55.33it/s] "
     ]
    },
    {
     "name": "stdout",
     "output_type": "stream",
     "text": [
      "test acc:  [0.86989999]\n"
     ]
    },
    {
     "name": "stderr",
     "output_type": "stream",
     "text": [
      " 50%|████▉     | 998/2000 [00:13<00:09, 101.33it/s]"
     ]
    },
    {
     "name": "stdout",
     "output_type": "stream",
     "text": [
      "train acc:  [0.8125]\n"
     ]
    },
    {
     "name": "stderr",
     "output_type": "stream",
     "text": [
      " 51%|█████     | 1021/2000 [00:14<00:18, 54.10it/s]"
     ]
    },
    {
     "name": "stdout",
     "output_type": "stream",
     "text": [
      "test acc:  [0.88270003]\n"
     ]
    },
    {
     "name": "stderr",
     "output_type": "stream",
     "text": [
      " 55%|█████▍    | 1097/2000 [00:14<00:08, 109.26it/s]"
     ]
    },
    {
     "name": "stdout",
     "output_type": "stream",
     "text": [
      "train acc:  [0.84375]\n"
     ]
    },
    {
     "name": "stderr",
     "output_type": "stream",
     "text": [
      " 56%|█████▌    | 1122/2000 [00:15<00:14, 61.31it/s] "
     ]
    },
    {
     "name": "stdout",
     "output_type": "stream",
     "text": [
      "test acc:  [0.89660001]\n"
     ]
    },
    {
     "name": "stderr",
     "output_type": "stream",
     "text": [
      " 60%|█████▉    | 1199/2000 [00:16<00:07, 113.73it/s]"
     ]
    },
    {
     "name": "stdout",
     "output_type": "stream",
     "text": [
      "train acc:  [0.90625]\n"
     ]
    },
    {
     "name": "stderr",
     "output_type": "stream",
     "text": [
      " 61%|██████    | 1224/2000 [00:16<00:12, 63.15it/s] "
     ]
    },
    {
     "name": "stdout",
     "output_type": "stream",
     "text": [
      "test acc:  [0.89349997]\n"
     ]
    },
    {
     "name": "stderr",
     "output_type": "stream",
     "text": [
      " 64%|██████▍   | 1289/2000 [00:17<00:06, 108.87it/s]"
     ]
    },
    {
     "name": "stdout",
     "output_type": "stream",
     "text": [
      "train acc:  [0.8125]\n"
     ]
    },
    {
     "name": "stderr",
     "output_type": "stream",
     "text": [
      " 66%|██████▌   | 1314/2000 [00:18<00:10, 62.59it/s] "
     ]
    },
    {
     "name": "stdout",
     "output_type": "stream",
     "text": [
      "test acc:  [0.89050001]\n"
     ]
    },
    {
     "name": "stderr",
     "output_type": "stream",
     "text": [
      " 70%|██████▉   | 1394/2000 [00:18<00:05, 114.93it/s]"
     ]
    },
    {
     "name": "stdout",
     "output_type": "stream",
     "text": [
      "train acc:  [0.9375]\n"
     ]
    },
    {
     "name": "stderr",
     "output_type": "stream",
     "text": [
      " 71%|███████   | 1419/2000 [00:19<00:09, 63.12it/s] "
     ]
    },
    {
     "name": "stdout",
     "output_type": "stream",
     "text": [
      "test acc:  [0.89829999]\n"
     ]
    },
    {
     "name": "stderr",
     "output_type": "stream",
     "text": [
      " 75%|███████▍  | 1497/2000 [00:19<00:04, 115.12it/s]"
     ]
    },
    {
     "name": "stdout",
     "output_type": "stream",
     "text": [
      "train acc:  [0.9375]\n"
     ]
    },
    {
     "name": "stderr",
     "output_type": "stream",
     "text": [
      " 76%|███████▌  | 1522/2000 [00:20<00:07, 63.59it/s] "
     ]
    },
    {
     "name": "stdout",
     "output_type": "stream",
     "text": [
      "test acc:  [0.89209998]\n"
     ]
    },
    {
     "name": "stderr",
     "output_type": "stream",
     "text": [
      " 80%|████████  | 1600/2000 [00:21<00:03, 114.40it/s]"
     ]
    },
    {
     "name": "stdout",
     "output_type": "stream",
     "text": [
      "train acc:  [0.875]\n"
     ]
    },
    {
     "name": "stderr",
     "output_type": "stream",
     "text": [
      " 81%|████████▏ | 1626/2000 [00:21<00:05, 62.92it/s] "
     ]
    },
    {
     "name": "stdout",
     "output_type": "stream",
     "text": [
      "test acc:  [0.90329999]\n"
     ]
    },
    {
     "name": "stderr",
     "output_type": "stream",
     "text": [
      " 85%|████████▍ | 1693/2000 [00:22<00:02, 104.41it/s]"
     ]
    },
    {
     "name": "stdout",
     "output_type": "stream",
     "text": [
      "train acc:  [0.96875]\n"
     ]
    },
    {
     "name": "stderr",
     "output_type": "stream",
     "text": [
      " 86%|████████▌ | 1718/2000 [00:23<00:04, 59.98it/s] "
     ]
    },
    {
     "name": "stdout",
     "output_type": "stream",
     "text": [
      "test acc:  [0.87940001]\n"
     ]
    },
    {
     "name": "stderr",
     "output_type": "stream",
     "text": [
      " 90%|█████████ | 1800/2000 [00:23<00:01, 115.56it/s]"
     ]
    },
    {
     "name": "stdout",
     "output_type": "stream",
     "text": [
      "train acc:  [0.9375]\n"
     ]
    },
    {
     "name": "stderr",
     "output_type": "stream",
     "text": [
      " 91%|█████████▏| 1826/2000 [00:24<00:02, 64.66it/s] "
     ]
    },
    {
     "name": "stdout",
     "output_type": "stream",
     "text": [
      "test acc:  [0.87459999]\n"
     ]
    },
    {
     "name": "stderr",
     "output_type": "stream",
     "text": [
      " 95%|█████████▍| 1895/2000 [00:24<00:00, 111.68it/s]"
     ]
    },
    {
     "name": "stdout",
     "output_type": "stream",
     "text": [
      "train acc:  [0.8125]\n"
     ]
    },
    {
     "name": "stderr",
     "output_type": "stream",
     "text": [
      " 96%|█████████▌| 1922/2000 [00:25<00:01, 63.18it/s] "
     ]
    },
    {
     "name": "stdout",
     "output_type": "stream",
     "text": [
      "test acc:  [0.89780003]\n"
     ]
    },
    {
     "name": "stderr",
     "output_type": "stream",
     "text": [
      "100%|██████████| 2000/2000 [00:26<00:00, 76.50it/s] \n"
     ]
    }
   ],
   "source": [
    "num_steps = 2000\n",
    "for s in tqdm(range(num_steps)):\n",
    "    offset = (s*batch_size) % (X.shape[0]-batch_size)\n",
    "    fd = {img_input:X[offset:offset+batch_size,:],\n",
    "         targets:y[offset:offset+batch_size,:]}\n",
    "    l,_ = sess.run([loss,opt],feed_dict=fd)\n",
    "    losses.append(l)\n",
    "    if s % 100 == 0:\n",
    "        print('train acc: ',sess.run([train_accuracy],feed_dict=fd))\n",
    "        print('test acc: ',sess.run([test_accuracy],feed_dict=fd))"
   ]
  },
  {
   "cell_type": "code",
   "execution_count": 12,
   "metadata": {
    "collapsed": false
   },
   "outputs": [
    {
     "data": {
      "text/html": [
       "\n",
       "\n",
       "    <div class=\"bk-root\">\n",
       "        <div class=\"plotdiv\" id=\"3ab699a5-a409-47d2-b6af-3012348bf035\"></div>\n",
       "    </div>\n",
       "<script type=\"text/javascript\">\n",
       "  \n",
       "  (function(global) {\n",
       "    function now() {\n",
       "      return new Date();\n",
       "    }\n",
       "  \n",
       "    var force = \"\";\n",
       "  \n",
       "    if (typeof (window._bokeh_onload_callbacks) === \"undefined\" || force !== \"\") {\n",
       "      window._bokeh_onload_callbacks = [];\n",
       "      window._bokeh_is_loading = undefined;\n",
       "    }\n",
       "  \n",
       "  \n",
       "    \n",
       "    if (typeof (window._bokeh_timeout) === \"undefined\" || force !== \"\") {\n",
       "      window._bokeh_timeout = Date.now() + 0;\n",
       "      window._bokeh_failed_load = false;\n",
       "    }\n",
       "  \n",
       "    var NB_LOAD_WARNING = {'data': {'text/html':\n",
       "       \"<div style='background-color: #fdd'>\\n\"+\n",
       "       \"<p>\\n\"+\n",
       "       \"BokehJS does not appear to have successfully loaded. If loading BokehJS from CDN, this \\n\"+\n",
       "       \"may be due to a slow or bad network connection. Possible fixes:\\n\"+\n",
       "       \"</p>\\n\"+\n",
       "       \"<ul>\\n\"+\n",
       "       \"<li>re-rerun `output_notebook()` to attempt to load from CDN again, or</li>\\n\"+\n",
       "       \"<li>use INLINE resources instead, as so:</li>\\n\"+\n",
       "       \"</ul>\\n\"+\n",
       "       \"<code>\\n\"+\n",
       "       \"from bokeh.resources import INLINE\\n\"+\n",
       "       \"output_notebook(resources=INLINE)\\n\"+\n",
       "       \"</code>\\n\"+\n",
       "       \"</div>\"}};\n",
       "  \n",
       "    function display_loaded() {\n",
       "      if (window.Bokeh !== undefined) {\n",
       "        Bokeh.$(\"#3ab699a5-a409-47d2-b6af-3012348bf035\").text(\"BokehJS successfully loaded.\");\n",
       "      } else if (Date.now() < window._bokeh_timeout) {\n",
       "        setTimeout(display_loaded, 100)\n",
       "      }\n",
       "    }\n",
       "  \n",
       "    function run_callbacks() {\n",
       "      window._bokeh_onload_callbacks.forEach(function(callback) { callback() });\n",
       "      delete window._bokeh_onload_callbacks\n",
       "      console.info(\"Bokeh: all callbacks have finished\");\n",
       "    }\n",
       "  \n",
       "    function load_libs(js_urls, callback) {\n",
       "      window._bokeh_onload_callbacks.push(callback);\n",
       "      if (window._bokeh_is_loading > 0) {\n",
       "        console.log(\"Bokeh: BokehJS is being loaded, scheduling callback at\", now());\n",
       "        return null;\n",
       "      }\n",
       "      if (js_urls == null || js_urls.length === 0) {\n",
       "        run_callbacks();\n",
       "        return null;\n",
       "      }\n",
       "      console.log(\"Bokeh: BokehJS not loaded, scheduling load and callback at\", now());\n",
       "      window._bokeh_is_loading = js_urls.length;\n",
       "      for (var i = 0; i < js_urls.length; i++) {\n",
       "        var url = js_urls[i];\n",
       "        var s = document.createElement('script');\n",
       "        s.src = url;\n",
       "        s.async = false;\n",
       "        s.onreadystatechange = s.onload = function() {\n",
       "          window._bokeh_is_loading--;\n",
       "          if (window._bokeh_is_loading === 0) {\n",
       "            console.log(\"Bokeh: all BokehJS libraries loaded\");\n",
       "            run_callbacks()\n",
       "          }\n",
       "        };\n",
       "        s.onerror = function() {\n",
       "          console.warn(\"failed to load library \" + url);\n",
       "        };\n",
       "        console.log(\"Bokeh: injecting script tag for BokehJS library: \", url);\n",
       "        document.getElementsByTagName(\"head\")[0].appendChild(s);\n",
       "      }\n",
       "    };var element = document.getElementById(\"3ab699a5-a409-47d2-b6af-3012348bf035\");\n",
       "    if (element == null) {\n",
       "      console.log(\"Bokeh: ERROR: autoload.js configured with elementid '3ab699a5-a409-47d2-b6af-3012348bf035' but no matching script tag was found. \")\n",
       "      return false;\n",
       "    }\n",
       "  \n",
       "    var js_urls = [];\n",
       "  \n",
       "    var inline_js = [\n",
       "      function(Bokeh) {\n",
       "        Bokeh.$(function() {\n",
       "            var docs_json = {\"271b1a31-94b5-4ed7-8116-da7710ad365c\":{\"roots\":{\"references\":[{\"attributes\":{\"overlay\":{\"id\":\"d783fbe1-c912-4632-9d12-01d02f7bed85\",\"type\":\"BoxAnnotation\"},\"plot\":{\"id\":\"0a1cd328-a611-40d2-b7fa-5ddf41b82f49\",\"subtype\":\"Figure\",\"type\":\"Plot\"}},\"id\":\"25ac3205-f3c8-4d10-9a99-9877d4fb640f\",\"type\":\"BoxZoomTool\"},{\"attributes\":{\"plot\":{\"id\":\"0a1cd328-a611-40d2-b7fa-5ddf41b82f49\",\"subtype\":\"Figure\",\"type\":\"Plot\"},\"ticker\":{\"id\":\"a363f23e-b095-4a9c-95cf-4c79e635c2c4\",\"type\":\"BasicTicker\"}},\"id\":\"acd915bb-646b-4511-b263-ef5c0079668f\",\"type\":\"Grid\"},{\"attributes\":{},\"id\":\"9c07043e-7424-4aea-bb42-80d88c01e188\",\"type\":\"BasicTicker\"},{\"attributes\":{\"below\":[{\"id\":\"beec730f-ec7c-481c-933a-073043a49f07\",\"type\":\"LinearAxis\"}],\"left\":[{\"id\":\"26ae37ad-a3a6-4331-a735-5bcd5aa2ba52\",\"type\":\"LinearAxis\"}],\"renderers\":[{\"id\":\"beec730f-ec7c-481c-933a-073043a49f07\",\"type\":\"LinearAxis\"},{\"id\":\"acd915bb-646b-4511-b263-ef5c0079668f\",\"type\":\"Grid\"},{\"id\":\"26ae37ad-a3a6-4331-a735-5bcd5aa2ba52\",\"type\":\"LinearAxis\"},{\"id\":\"7f986468-d4e7-4b7b-87fd-bc6756334e90\",\"type\":\"Grid\"},{\"id\":\"d783fbe1-c912-4632-9d12-01d02f7bed85\",\"type\":\"BoxAnnotation\"},{\"id\":\"815d32c1-ab5f-4ceb-b111-768e98079fd0\",\"type\":\"GlyphRenderer\"}],\"title\":{\"id\":\"d00fd14c-3f00-44e5-9f0c-722a45722208\",\"type\":\"Title\"},\"tool_events\":{\"id\":\"0c9ff90f-555b-4a5e-9a4b-b8fa6c1723ae\",\"type\":\"ToolEvents\"},\"toolbar\":{\"id\":\"7978b8ce-8faf-48c8-9138-c51d17cb9a40\",\"type\":\"Toolbar\"},\"x_range\":{\"id\":\"d9220059-7396-4e2f-becf-99ab9120f6f1\",\"type\":\"DataRange1d\"},\"y_range\":{\"id\":\"723d4c52-3f64-4dc7-9e08-e28438458107\",\"type\":\"DataRange1d\"}},\"id\":\"0a1cd328-a611-40d2-b7fa-5ddf41b82f49\",\"subtype\":\"Figure\",\"type\":\"Plot\"},{\"attributes\":{\"callback\":null,\"column_names\":[\"y\",\"x\"],\"data\":{\"x\":[0,1,2,3,4,5,6,7,8,9,10,11,12,13,14,15,16,17,18,19,20,21,22,23,24,25,26,27,28,29,30,31,32,33,34,35,36,37,38,39,40,41,42,43,44,45,46,47,48,49,50,51,52,53,54,55,56,57,58,59,60,61,62,63,64,65,66,67,68,69,70,71,72,73,74,75,76,77,78,79,80,81,82,83,84,85,86,87,88,89,90,91,92,93,94,95,96,97,98,99,100,101,102,103,104,105,106,107,108,109,110,111,112,113,114,115,116,117,118,119,120,121,122,123,124,125,126,127,128,129,130,131,132,133,134,135,136,137,138,139,140,141,142,143,144,145,146,147,148,149,150,151,152,153,154,155,156,157,158,159,160,161,162,163,164,165,166,167,168,169,170,171,172,173,174,175,176,177,178,179,180,181,182,183,184,185,186,187,188,189,190,191,192,193,194,195,196,197,198,199,200,201,202,203,204,205,206,207,208,209,210,211,212,213,214,215,216,217,218,219,220,221,222,223,224,225,226,227,228,229,230,231,232,233,234,235,236,237,238,239,240,241,242,243,244,245,246,247,248,249,250,251,252,253,254,255,256,257,258,259,260,261,262,263,264,265,266,267,268,269,270,271,272,273,274,275,276,277,278,279,280,281,282,283,284,285,286,287,288,289,290,291,292,293,294,295,296,297,298,299,300,301,302,303,304,305,306,307,308,309,310,311,312,313,314,315,316,317,318,319,320,321,322,323,324,325,326,327,328,329,330,331,332,333,334,335,336,337,338,339,340,341,342,343,344,345,346,347,348,349,350,351,352,353,354,355,356,357,358,359,360,361,362,363,364,365,366,367,368,369,370,371,372,373,374,375,376,377,378,379,380,381,382,383,384,385,386,387,388,389,390,391,392,393,394,395,396,397,398,399,400,401,402,403,404,405,406,407,408,409,410,411,412,413,414,415,416,417,418,419,420,421,422,423,424,425,426,427,428,429,430,431,432,433,434,435,436,437,438,439,440,441,442,443,444,445,446,447,448,449,450,451,452,453,454,455,456,457,458,459,460,461,462,463,464,465,466,467,468,469,470,471,472,473,474,475,476,477,478,479,480,481,482,483,484,485,486,487,488,489,490,491,492,493,494,495,496,497,498,499,500,501,502,503,504,505,506,507,508,509,510,511,512,513,514,515,516,517,518,519,520,521,522,523,524,525,526,527,528,529,530,531,532,533,534,535,536,537,538,539,540,541,542,543,544,545,546,547,548,549,550,551,552,553,554,555,556,557,558,559,560,561,562,563,564,565,566,567,568,569,570,571,572,573,574,575,576,577,578,579,580,581,582,583,584,585,586,587,588,589,590,591,592,593,594,595,596,597,598,599,600,601,602,603,604,605,606,607,608,609,610,611,612,613,614,615,616,617,618,619,620,621,622,623,624,625,626,627,628,629,630,631,632,633,634,635,636,637,638,639,640,641,642,643,644,645,646,647,648,649,650,651,652,653,654,655,656,657,658,659,660,661,662,663,664,665,666,667,668,669,670,671,672,673,674,675,676,677,678,679,680,681,682,683,684,685,686,687,688,689,690,691,692,693,694,695,696,697,698,699,700,701,702,703,704,705,706,707,708,709,710,711,712,713,714,715,716,717,718,719,720,721,722,723,724,725,726,727,728,729,730,731,732,733,734,735,736,737,738,739,740,741,742,743,744,745,746,747,748,749,750,751,752,753,754,755,756,757,758,759,760,761,762,763,764,765,766,767,768,769,770,771,772,773,774,775,776,777,778,779,780,781,782,783,784,785,786,787,788,789,790,791,792,793,794,795,796,797,798,799,800,801,802,803,804,805,806,807,808,809,810,811,812,813,814,815,816,817,818,819,820,821,822,823,824,825,826,827,828,829,830,831,832,833,834,835,836,837,838,839,840,841,842,843,844,845,846,847,848,849,850,851,852,853,854,855,856,857,858,859,860,861,862,863,864,865,866,867,868,869,870,871,872,873,874,875,876,877,878,879,880,881,882,883,884,885,886,887,888,889,890,891,892,893,894,895,896,897,898,899,900,901,902,903,904,905,906,907,908,909,910,911,912,913,914,915,916,917,918,919,920,921,922,923,924,925,926,927,928,929,930,931,932,933,934,935,936,937,938,939,940,941,942,943,944,945,946,947,948,949,950,951,952,953,954,955,956,957,958,959,960,961,962,963,964,965,966,967,968,969,970,971,972,973,974,975,976,977,978,979,980,981,982,983,984,985,986,987,988,989,990,991,992,993,994,995,996,997,998,999,1000,1001,1002,1003,1004,1005,1006,1007,1008,1009,1010,1011,1012,1013,1014,1015,1016,1017,1018,1019,1020,1021,1022,1023,1024,1025,1026,1027,1028,1029,1030,1031,1032,1033,1034,1035,1036,1037,1038,1039,1040,1041,1042,1043,1044,1045,1046,1047,1048,1049,1050,1051,1052,1053,1054,1055,1056,1057,1058,1059,1060,1061,1062,1063,1064,1065,1066,1067,1068,1069,1070,1071,1072,1073,1074,1075,1076,1077,1078,1079,1080,1081,1082,1083,1084,1085,1086,1087,1088,1089,1090,1091,1092,1093,1094,1095,1096,1097,1098,1099,1100,1101,1102,1103,1104,1105,1106,1107,1108,1109,1110,1111,1112,1113,1114,1115,1116,1117,1118,1119,1120,1121,1122,1123,1124,1125,1126,1127,1128,1129,1130,1131,1132,1133,1134,1135,1136,1137,1138,1139,1140,1141,1142,1143,1144,1145,1146,1147,1148,1149,1150,1151,1152,1153,1154,1155,1156,1157,1158,1159,1160,1161,1162,1163,1164,1165,1166,1167,1168,1169,1170,1171,1172,1173,1174,1175,1176,1177,1178,1179,1180,1181,1182,1183,1184,1185,1186,1187,1188,1189,1190,1191,1192,1193,1194,1195,1196,1197,1198,1199,1200,1201,1202,1203,1204,1205,1206,1207,1208,1209,1210,1211,1212,1213,1214,1215,1216,1217,1218,1219,1220,1221,1222,1223,1224,1225,1226,1227,1228,1229,1230,1231,1232,1233,1234,1235,1236,1237,1238,1239,1240,1241,1242,1243,1244,1245,1246,1247,1248,1249,1250,1251,1252,1253,1254,1255,1256,1257,1258,1259,1260,1261,1262,1263,1264,1265,1266,1267,1268,1269,1270,1271,1272,1273,1274,1275,1276,1277,1278,1279,1280,1281,1282,1283,1284,1285,1286,1287,1288,1289,1290,1291,1292,1293,1294,1295,1296,1297,1298,1299,1300,1301,1302,1303,1304,1305,1306,1307,1308,1309,1310,1311,1312,1313,1314,1315,1316,1317,1318,1319,1320,1321,1322,1323,1324,1325,1326,1327,1328,1329,1330,1331,1332,1333,1334,1335,1336,1337,1338,1339,1340,1341,1342,1343,1344,1345,1346,1347,1348,1349,1350,1351,1352,1353,1354,1355,1356,1357,1358,1359,1360,1361,1362,1363,1364,1365,1366,1367,1368,1369,1370,1371,1372,1373,1374,1375,1376,1377,1378,1379,1380,1381,1382,1383,1384,1385,1386,1387,1388,1389,1390,1391,1392,1393,1394,1395,1396,1397,1398,1399,1400,1401,1402,1403,1404,1405,1406,1407,1408,1409,1410,1411,1412,1413,1414,1415,1416,1417,1418,1419,1420,1421,1422,1423,1424,1425,1426,1427,1428,1429,1430,1431,1432,1433,1434,1435,1436,1437,1438,1439,1440,1441,1442,1443,1444,1445,1446,1447,1448,1449,1450,1451,1452,1453,1454,1455,1456,1457,1458,1459,1460,1461,1462,1463,1464,1465,1466,1467,1468,1469,1470,1471,1472,1473,1474,1475,1476,1477,1478,1479,1480,1481,1482,1483,1484,1485,1486,1487,1488,1489,1490,1491,1492,1493,1494,1495,1496,1497,1498,1499,1500,1501,1502,1503,1504,1505,1506,1507,1508,1509,1510,1511,1512,1513,1514,1515,1516,1517,1518,1519,1520,1521,1522,1523,1524,1525,1526,1527,1528,1529,1530,1531,1532,1533,1534,1535,1536,1537,1538,1539,1540,1541,1542,1543,1544,1545,1546,1547,1548,1549,1550,1551,1552,1553,1554,1555,1556,1557,1558,1559,1560,1561,1562,1563,1564,1565,1566,1567,1568,1569,1570,1571,1572,1573,1574,1575,1576,1577,1578,1579,1580,1581,1582,1583,1584,1585,1586,1587,1588,1589,1590,1591,1592,1593,1594,1595,1596,1597,1598,1599,1600,1601,1602,1603,1604,1605,1606,1607,1608,1609,1610,1611,1612,1613,1614,1615,1616,1617,1618,1619,1620,1621,1622,1623,1624,1625,1626,1627,1628,1629,1630,1631,1632,1633,1634,1635,1636,1637,1638,1639,1640,1641,1642,1643,1644,1645,1646,1647,1648,1649,1650,1651,1652,1653,1654,1655,1656,1657,1658,1659,1660,1661,1662,1663,1664,1665,1666,1667,1668,1669,1670,1671,1672,1673,1674,1675,1676,1677,1678,1679,1680,1681,1682,1683,1684,1685,1686,1687,1688,1689,1690,1691,1692,1693,1694,1695,1696,1697,1698,1699,1700,1701,1702,1703,1704,1705,1706,1707,1708,1709,1710,1711,1712,1713,1714,1715,1716,1717,1718,1719,1720,1721,1722,1723,1724,1725,1726,1727,1728,1729,1730,1731,1732,1733,1734,1735,1736,1737,1738,1739,1740,1741,1742,1743,1744,1745,1746,1747,1748,1749,1750,1751,1752,1753,1754,1755,1756,1757,1758,1759,1760,1761,1762,1763,1764,1765,1766,1767,1768,1769,1770,1771,1772,1773,1774,1775,1776,1777,1778,1779,1780,1781,1782,1783,1784,1785,1786,1787,1788,1789,1790,1791,1792,1793,1794,1795,1796,1797,1798,1799,1800,1801,1802,1803,1804,1805,1806,1807,1808,1809,1810,1811,1812,1813,1814,1815,1816,1817,1818,1819,1820,1821,1822,1823,1824,1825,1826,1827,1828,1829,1830,1831,1832,1833,1834,1835,1836,1837,1838,1839,1840,1841,1842,1843,1844,1845,1846,1847,1848,1849,1850,1851,1852,1853,1854,1855,1856,1857,1858,1859,1860,1861,1862,1863,1864,1865,1866,1867,1868,1869,1870,1871,1872,1873,1874,1875,1876,1877,1878,1879,1880,1881,1882,1883,1884,1885,1886,1887,1888,1889,1890,1891,1892,1893,1894,1895,1896,1897,1898,1899,1900,1901,1902,1903,1904,1905,1906,1907,1908,1909,1910,1911,1912,1913,1914,1915,1916,1917,1918,1919,1920,1921,1922,1923,1924,1925,1926,1927,1928,1929,1930,1931,1932,1933,1934,1935,1936,1937,1938,1939,1940,1941,1942,1943,1944,1945,1946,1947,1948,1949,1950,1951,1952,1953,1954,1955,1956,1957,1958,1959,1960,1961,1962,1963,1964,1965,1966,1967,1968,1969,1970,1971,1972,1973,1974,1975,1976,1977,1978,1979,1980,1981,1982,1983,1984,1985,1986,1987,1988,1989,1990,1991,1992,1993,1994,1995,1996,1997,1998,1999],\"y\":[1437.8392333984375,4986.0498046875,4284.7685546875,4582.24609375,4946.89697265625,2650.84423828125,1739.2447509765625,554.296630859375,446.83551025390625,274.8970031738281,486.9088134765625,379.3297119140625,145.05850219726562,366.36376953125,221.6868896484375,479.0301513671875,93.75433349609375,121.0958251953125,256.2449035644531,202.82086181640625,207.45574951171875,130.6318359375,181.61859130859375,149.45565795898438,96.7332534790039,77.13099670410156,145.04368591308594,112.01986694335938,209.6623992919922,98.74467468261719,66.6456298828125,167.4511260986328,48.087337493896484,98.04556274414062,83.64960479736328,114.89327239990234,32.72764587402344,113.73785400390625,154.80426025390625,69.71192932128906,27.005414962768555,15.660537719726562,87.97705078125,93.18238830566406,43.57030487060547,15.077183723449707,20.16526222229004,75.71379089355469,19.298885345458984,29.177703857421875,42.58750915527344,33.6612548828125,37.15699005126953,21.615943908691406,35.15327072143555,36.27476501464844,47.24469757080078,24.927345275878906,15.603904724121094,37.07097625732422,19.464366912841797,13.302953720092773,41.26173400878906,33.15087127685547,12.748080253601074,31.72475242614746,26.451866149902344,0.8551697731018066,43.499671936035156,97.58047485351562,47.029136657714844,26.0784912109375,29.31781005859375,20.9791202545166,11.703338623046875,72.53949737548828,32.55424499511719,38.12980651855469,8.657262802124023,16.6390438079834,9.35405445098877,21.268041610717773,29.158775329589844,54.26954650878906,8.327925682067871,34.60361099243164,36.872413635253906,35.18156814575195,45.155338287353516,9.867460250854492,10.93828296661377,36.63581848144531,30.565204620361328,29.846927642822266,23.790407180786133,38.61798095703125,18.146183013916016,8.317258834838867,10.483380317687988,14.493732452392578,76.92294311523438,0.3509778380393982,31.150163650512695,17.683734893798828,11.790287017822266,20.520217895507812,45.6661262512207,35.182960510253906,15.898271560668945,20.704875946044922,13.973161697387695,8.258733749389648,10.639225006103516,3.3704121112823486,23.2495059967041,35.21902084350586,44.999305725097656,50.589088439941406,15.47750186920166,27.96784782409668,8.902166366577148,31.150325775146484,14.002952575683594,18.46378517150879,6.399362564086914,18.195100784301758,35.681007385253906,16.53388214111328,16.390365600585938,50.29087829589844,13.929306030273438,8.159025192260742,31.350452423095703,16.767200469970703,25.582853317260742,37.86323928833008,50.163780212402344,8.399242401123047,10.713517189025879,13.920164108276367,61.338218688964844,18.60301971435547,10.515439987182617,4.790978908538818,19.4687442779541,44.05908203125,37.85613250732422,5.4489312171936035,14.75467300415039,15.024768829345703,14.755311965942383,21.705263137817383,18.628026962280273,18.66626739501953,31.183673858642578,21.62106704711914,2.2296652793884277,11.652226448059082,33.338340759277344,7.888884544372559,16.37384796142578,32.5739631652832,8.910829544067383,7.668449401855469,3.1541941165924072,30.656204223632812,18.026288986206055,25.530078887939453,13.596900939941406,3.627734899520874,1.040046215057373,0.9705657958984375,4.271960735321045,40.3126335144043,12.344049453735352,54.04082489013672,14.512423515319824,4.191865921020508,12.9353609085083,19.742889404296875,12.030329704284668,13.057517051696777,16.566349029541016,10.510894775390625,12.740730285644531,8.24903678894043,20.597461700439453,8.842564582824707,0.7218117713928223,12.974383354187012,6.6253156661987305,1.2997567653656006,1.2821626663208008,4.272557735443115,18.18483543395996,20.28754425048828,33.5540885925293,3.511937141418457,8.683487892150879,6.733651161193848,16.444021224975586,26.660200119018555,47.839542388916016,15.431375503540039,17.150711059570312,4.499834060668945,8.807663917541504,11.607465744018555,15.748739242553711,18.64060401916504,4.064401626586914,12.572625160217285,14.516927719116211,18.77581787109375,49.98045349121094,16.32855224609375,33.84488296508789,10.791633605957031,16.127788543701172,29.72752571105957,6.103597640991211,8.197404861450195,1.5762746334075928,11.806849479675293,10.818865776062012,5.337895393371582,21.647960662841797,38.91014099121094,14.86351203918457,24.02113914489746,11.49109935760498,2.464123249053955,12.72045612335205,10.714522361755371,8.298941612243652,4.403289318084717,0.0002590565418358892,32.00654983520508,20.572650909423828,13.13180160522461,6.6805419921875,10.561291694641113,15.689435005187988,14.375962257385254,11.472688674926758,32.86343765258789,16.82052993774414,5.197308540344238,19.565311431884766,18.52847671508789,10.520988464355469,4.69288969039917,9.86305046081543,24.484783172607422,7.2690935134887695,4.628912925720215,28.16115379333496,14.75783634185791,40.82914733886719,29.262550354003906,22.00614356994629,5.374964237213135,15.350627899169922,5.571981430053711,35.891334533691406,35.41340255737305,6.561552047729492,3.8702797889709473,8.364433288574219,31.323707580566406,15.681129455566406,35.74028015136719,59.32101821899414,7.53716516494751,18.467836380004883,9.867744445800781,6.00931978225708,6.970553398132324,42.24970245361328,7.120936870574951,7.865623474121094,9.529874801635742,7.82188606262207,12.150335311889648,12.658020973205566,9.86783504486084,9.763604164123535,5.717712879180908,16.316646575927734,5.249362945556641,12.670703887939453,9.876389503479004,12.22595500946045,6.935857772827148,29.493879318237305,10.83259105682373,4.802231311798096,3.186716079711914,15.361706733703613,7.652525901794434,3.898043394088745,16.95160675048828,11.577622413635254,3.3955674171447754,11.052030563354492,13.958633422851562,5.972714900970459,0.980832576751709,20.633277893066406,0.0,10.006253242492676,3.5977985858917236,15.31990909576416,12.604742050170898,9.575185775756836,2.4360485076904297,11.836318016052246,4.957092761993408,13.56033992767334,24.723487854003906,8.782621383666992,20.76861572265625,20.41702651977539,2.491438150405884,2.693110227584839,3.754734516143799,13.267767906188965,7.877082824707031,5.33262825012207,3.5614702701568604,13.198456764221191,2.971776247024536,25.319747924804688,6.304286956787109,6.697772979736328,9.240133285522461,12.032200813293457,15.716231346130371,2.929856300354004,8.913235664367676,7.153231143951416,7.464160442352295,7.887812614440918,26.791683197021484,9.070886611938477,4.951380252838135,14.066692352294922,5.705162525177002,11.338888168334961,3.3959243297576904,19.2087345123291,4.084957122802734,5.546230316162109,3.373506546020508,3.061373710632324,7.3730058670043945,2.473114490509033,2.356259346008301,9.317625045776367,9.129776954650879,17.727073669433594,25.845321655273438,15.835947036743164,13.635323524475098,17.114086151123047,20.393938064575195,10.22381591796875,6.245321750640869,1.0434647798538208,0.5463229417800903,6.400180339813232,9.09863567352295,0.04646194353699684,6.192632675170898,14.770432472229004,3.8972692489624023,12.909133911132812,6.054223537445068,5.73004674911499,1.2211885452270508,4.485154151916504,4.6501288414001465,1.1933410167694092,15.064091682434082,9.244905471801758,3.1479265689849854,8.628072738647461,3.6594655513763428,2.644735813140869,5.565542221069336,9.418034553527832,6.51580286026001,3.6454949378967285,10.320886611938477,16.48851776123047,26.713966369628906,11.245172500610352,2.5963802337646484,4.724517345428467,4.212281703948975,8.47203254699707,10.321453094482422,12.603845596313477,1.6402842998504639,7.544129371643066,12.347728729248047,14.145142555236816,11.251324653625488,10.833488464355469,1.4890310764312744,4.111588478088379,2.7775251865386963,8.20451831817627,0.4635637402534485,17.312942504882812,0.2418605387210846,1.1913855075836182,2.8295178413391113,4.392171859741211,2.0636327266693115,3.231835126876831,10.368739128112793,9.450826644897461,3.567180633544922,4.561260223388672,2.232909679412842,7.322877883911133,4.706958770751953,6.02775764465332,5.834628582000732,5.8311004638671875,2.4644370079040527,6.079728126525879,3.9285380840301514,3.797492504119873,9.958922386169434,13.731283187866211,6.104402542114258,2.7831382751464844,4.743139266967773,14.107752799987793,2.963819980621338,9.37198257446289,1.6983282566070557,5.331630706787109,3.3763885498046875,7.644517421722412,5.523975372314453,10.732847213745117,7.880682945251465,4.188183307647705,0.03305927291512489,2.015157699584961,1.1084365844726562,2.92047119140625,1.9407600164413452,8.596821784973145,7.477905750274658,5.696428298950195,4.957212448120117,6.070021629333496,4.9181108474731445,9.095878601074219,4.7360968589782715,2.696423053741455,3.3350419998168945,1.4216434955596924,1.706325888633728,2.2473649978637695,2.947671413421631,3.620309829711914,0.6024526357650757,8.449438095092773,6.186963081359863,9.051167488098145,3.205270290374756,3.0172133445739746,1.7429736852645874,1.1188029050827026,5.996974468231201,4.932276248931885,2.836024761199951,4.580420017242432,2.670731544494629,9.120939254760742,1.3738391399383545,2.2885031700134277,1.087586760520935,0.8370981216430664,4.543597221374512,2.2809510231018066,9.031685829162598,11.631107330322266,6.743192672729492,0.4114437401294708,3.142918586730957,5.856206893920898,3.079577922821045,5.912146091461182,5.991402626037598,3.2943835258483887,5.028905868530273,2.164219379425049,1.9851045608520508,4.024820327758789,0.6799348592758179,4.299981117248535,0.7181521654129028,0.49612823128700256,0.8916187286376953,3.1691043376922607,1.5989266633987427,3.091966152191162,3.824370861053467,0.5642394423484802,2.4539291858673096,0.47378093004226685,4.002665042877197,0.2857128977775574,1.0637181997299194,1.746605396270752,5.752018451690674,0.7689117193222046,5.4370622634887695,4.573841094970703,2.4638423919677734,2.424569845199585,2.485694169998169,0.5042959451675415,0.5329457521438599,2.881464719772339,1.4386968612670898,2.101288080215454,3.7241835594177246,2.3389835357666016,0.8557864427566528,0.8546244502067566,1.7620035409927368,2.016815423965454,0.5333356857299805,0.13223059475421906,0.7515101432800293,0.6242152452468872,1.5931483507156372,1.9175735712051392,0.3833603858947754,3.305216073989868,0.9339844584465027,2.1531715393066406,2.9882941246032715,0.2557566463947296,2.015462875366211,3.0839436054229736,3.475541830062866,2.088688850402832,2.144124984741211,0.8603257536888123,1.829842209815979,0.5722364187240601,1.4311143159866333,1.80303955078125,1.1366647481918335,2.9360618591308594,0.5917524099349976,0.5474466681480408,0.8514578938484192,0.5798467397689819,0.6502246856689453,0.3239697813987732,1.5589427947998047,0.17359238862991333,0.011840159073472023,1.7592060565948486,1.092383861541748,1.0145738124847412,2.340481758117676,0.7622153759002686,0.7563623189926147,0.825568675994873,0.2937854528427124,0.6510565280914307,0.4619773030281067,1.1011441946029663,0.828640341758728,0.9506806135177612,2.410961389541626,0.41661369800567627,0.7415613532066345,0.3068401515483856,1.296629786491394,1.2803651094436646,0.06463489681482315,0.18008959293365479,0.9630117416381836,5.046133041381836,0.48914769291877747,6.605956554412842,1.566030740737915,1.1198945045471191,1.426846981048584,0.8229305148124695,2.6543142795562744,0.4245883822441101,0.4440581500530243,1.450192928314209,2.3194973468780518,0.667860746383667,1.4091662168502808,0.17288434505462646,3.116821050643921,0.7558692693710327,0.4821024239063263,0.9479067921638489,0.5379552841186523,0.4987031817436218,1.3428723812103271,0.07191168516874313,0.861255407333374,1.7834606170654297,2.3279192447662354,1.3221876621246338,0.7435120344161987,0.5157251954078674,0.19675391912460327,0.8368949890136719,6.629746437072754,0.5283957719802856,2.6904969215393066,1.3389062881469727,0.3131478428840637,5.478896141052246,0.9234282970428467,2.704127073287964,1.2502762079238892,0.23536717891693115,2.4210619926452637,0.8387339115142822,0.973435640335083,0.9369235634803772,0.41898706555366516,0.6579587459564209,0.6975655555725098,3.7699263095855713,1.3245762586593628,0.8857131004333496,1.4272205829620361,4.063743591308594,3.955178737640381,0.6187046766281128,5.614613056182861,0.28513872623443604,1.2038697004318237,0.6860644817352295,1.5693175792694092,2.1598711013793945,2.3849847316741943,0.8992738723754883,1.835080623626709,0.3307274878025055,0.2396417111158371,0.5667923092842102,1.0054510831832886,0.626354992389679,1.9477174282073975,0.8615872263908386,1.5840305089950562,0.9355268478393555,2.1307129859924316,0.7918169498443604,5.129434108734131,0.9415816068649292,0.4469870328903198,0.8001106977462769,0.22725123167037964,1.5466219186782837,0.7446494102478027,0.8275055289268494,1.9907329082489014,0.9809848070144653,0.884395956993103,0.963564932346344,0.8768832087516785,1.0805655717849731,0.35482823848724365,1.05519700050354,1.485883355140686,0.4324643611907959,0.7133121490478516,0.23502284288406372,0.3416433334350586,2.7015883922576904,1.063726782798767,1.9204432964324951,1.381535530090332,1.9363048076629639,0.611483097076416,0.9975247383117676,0.8143972754478455,0.34794268012046814,0.7529728412628174,0.8297294974327087,1.4369678497314453,1.2626317739486694,1.761780858039856,1.582316517829895,0.8824724555015564,1.9086356163024902,1.0434043407440186,1.3156930208206177,1.4264304637908936,0.9199700355529785,2.0533761978149414,0.9929057359695435,0.6737266778945923,1.1110100746154785,0.36940449476242065,0.7397719621658325,1.6055067777633667,0.4515243172645569,0.8385483026504517,1.057580590248108,1.6459782123565674,0.996156632900238,0.6824493408203125,0.611270546913147,1.5705845355987549,0.5584958791732788,0.7803518772125244,0.5031214952468872,0.755460262298584,0.6183359026908875,0.6544950008392334,0.6684174537658691,0.8423784971237183,1.1549054384231567,1.0278446674346924,0.36613771319389343,1.2624619007110596,0.4602830410003662,0.8060711026191711,1.0794733762741089,1.0432299375534058,0.517585039138794,1.4943151473999023,1.3021152019500732,1.165148377418518,0.48113134503364563,0.8872899413108826,0.7760280966758728,0.9434866905212402,0.351068377494812,0.8165947198867798,0.608435869216919,0.6330198049545288,0.6384764909744263,0.4122171700000763,1.3777576684951782,0.5786617994308472,1.0184504985809326,0.3109661936759949,0.30747485160827637,0.30159521102905273,0.5416904091835022,1.3324828147888184,0.7240626811981201,0.49104833602905273,0.5758477449417114,0.20411041378974915,0.1456591933965683,0.8058844804763794,0.9361225366592407,0.9755188822746277,1.62148916721344,0.7155294418334961,1.9419829845428467,0.5008477568626404,0.4394476115703583,0.49200430512428284,0.6957311630249023,2.6719062328338623,0.4767860770225525,0.6529946327209473,0.25172996520996094,0.7194254994392395,1.1360090970993042,1.118414282798767,0.8588132858276367,0.6810150742530823,0.9353944659233093,0.26659175753593445,0.8686830997467041,1.2236356735229492,0.530359148979187,0.618064284324646,0.4758148193359375,0.24428066611289978,0.8110656142234802,0.4293099641799927,0.8471859693527222,0.49878522753715515,0.4886353015899658,0.8770495057106018,1.4556320905685425,0.08927270025014877,0.2888776957988739,0.4492640197277069,0.42403745651245117,0.4985901713371277,0.15734735131263733,0.9686732292175293,0.37041735649108887,0.3889320492744446,1.9023818969726562,0.6221134662628174,0.3703690469264984,0.3373512625694275,0.4879263639450073,0.3661153316497803,0.28596800565719604,0.1720973253250122,0.4339926540851593,0.49086877703666687,0.1958586424589157,0.8818109035491943,0.600756049156189,0.75277179479599,0.4623793661594391,0.7367826700210571,3.6178438663482666,0.7845033407211304,0.6019083261489868,0.77573561668396,1.9014606475830078,0.9599139094352722,0.4112392067909241,2.0287516117095947,0.4488653540611267,0.407365620136261,0.2524091303348541,0.5992426872253418,7.139197826385498,0.45686963200569153,0.5161340832710266,0.32058608531951904,0.427085280418396,0.5643821358680725,0.5605649948120117,1.1003614664077759,1.42490553855896,1.4165023565292358,1.4771504402160645,1.255123257637024,0.5742497444152832,0.6907223463058472,1.5471526384353638,0.4974400997161865,2.196727991104126,0.524172306060791,0.5075885653495789,0.8413357138633728,0.3213516175746918,0.1618727445602417,0.6064680218696594,0.6958063840866089,0.34445399045944214,0.5633711814880371,1.1836591958999634,0.24353954195976257,0.4615955352783203,0.8062660098075867,0.8260375261306763,0.5936836004257202,0.3021077513694763,0.5050572752952576,0.3302282392978668,0.10904701054096222,0.05581388622522354,0.5759578943252563,1.3109865188598633,1.6549811363220215,0.51376873254776,0.7989500164985657,0.3013283908367157,0.21835803985595703,0.21339106559753418,0.1888178139925003,1.4680345058441162,0.6702471971511841,0.18781298398971558,0.4886728525161743,0.9869688749313354,1.4323276281356812,0.29040926694869995,0.6706578135490417,0.7240180373191833,0.8169459104537964,0.17299631237983704,0.15939413011074066,0.4136204719543457,1.1503980159759521,0.4655950963497162,0.4776231646537781,0.8950014114379883,0.7205985188484192,1.2793612480163574,0.060337621718645096,0.1425221562385559,1.302456021308899,0.38814854621887207,0.3005734384059906,1.242858648300171,0.7555409073829651,0.6647378206253052,0.5929750800132751,0.11788421869277954,1.9083107709884644,0.7627756595611572,0.6535727381706238,0.607704758644104,1.3808505535125732,0.2597573399543762,0.630110502243042,0.5468049645423889,0.440975546836853,0.9193423986434937,0.511359691619873,0.4608686566352844,0.6236250400543213,0.8627732396125793,0.45342281460762024,0.2900300920009613,0.3359500765800476,0.7249002456665039,0.5259613990783691,1.0531564950942993,1.2902129888534546,0.9406445622444153,0.4517424702644348,1.0648446083068848,0.6730892658233643,1.6161832809448242,0.35305559635162354,1.2368979454040527,0.5071874260902405,0.43500494956970215,0.8099942803382874,0.1289154440164566,0.39692017436027527,0.315334290266037,0.25313621759414673,0.6472887992858887,0.7665663361549377,0.5229710936546326,0.6560910940170288,0.5595486164093018,0.6413125991821289,0.30423420667648315,0.6961525678634644,0.3613728880882263,0.3328375518321991,1.0806219577789307,0.7068634033203125,0.44569212198257446,0.575110137462616,0.4353925585746765,1.2175779342651367,0.4352869987487793,0.4253694713115692,0.37949585914611816,0.6576378345489502,0.2637242376804352,0.8622925281524658,0.7516626715660095,0.17826464772224426,2.9796392917633057,0.15479251742362976,0.34548836946487427,0.74675452709198,1.0298234224319458,1.2377899885177612,0.8938359022140503,1.168350100517273,0.5309408903121948,0.3653829097747803,0.31904125213623047,0.3895307183265686,0.2871508002281189,0.5086727142333984,0.4117209017276764,1.5639457702636719,0.4267813563346863,3.6023671627044678,0.6473233699798584,0.7934519052505493,0.6107401251792908,0.6158156991004944,0.3331807553768158,0.5164775848388672,1.0312824249267578,0.1954943835735321,0.49421316385269165,0.5043703317642212,0.3853226900100708,0.38238680362701416,0.6523219347000122,0.5324472188949585,0.9550362229347229,0.5143407583236694,0.5496589541435242,1.0405638217926025,0.9685588479042053,1.0109574794769287,0.4421771168708801,0.7054605484008789,0.6701592803001404,0.32308000326156616,0.23918935656547546,0.7291426062583923,0.02879829704761505,0.14192058145999908,1.8904907703399658,0.9787402749061584,0.49723583459854126,0.29740849137306213,2.7728629112243652,0.7125570774078369,1.5718460083007812,0.7215564250946045,0.3738909363746643,1.0520402193069458,0.12673860788345337,0.3528205156326294,0.6130720376968384,0.5864250659942627,0.49212104082107544,0.3313814401626587,0.20599612593650818,0.2851700484752655,1.2606761455535889,0.34400254487991333,0.5974035859107971,0.5878990292549133,0.7751134634017944,0.5332193374633789,0.5163729190826416,0.28501594066619873,0.49085336923599243,0.18280509114265442,0.18583670258522034,0.8636600971221924,0.7228917479515076,0.1045178472995758,0.44769877195358276,0.11337824165821075,0.7384361028671265,1.7726881504058838,0.6301189661026001,0.19583718478679657,0.6426126956939697,0.5292957425117493,0.23552703857421875,0.885864794254303,2.6881182193756104,0.11046657711267471,0.7574865818023682,0.3677845001220703,0.58914715051651,0.041948091238737106,0.7494913935661316,0.5231691598892212,0.31980475783348083,0.11627604812383652,0.15707264840602875,0.22188739478588104,0.3283511996269226,0.9285651445388794,1.1006134748458862,0.33182692527770996,0.30206286907196045,1.225624680519104,0.6610870957374573,0.20763662457466125,0.148601695895195,0.7970082759857178,1.3782167434692383,0.4619961380958557,0.7295215129852295,1.1849863529205322,0.7430487871170044,0.22450022399425507,0.47580575942993164,0.8580725789070129,0.6026322245597839,0.09962628036737442,0.3445643186569214,0.5126198530197144,0.12308003008365631,0.2244979739189148,0.7229791879653931,0.322109192609787,0.5912468433380127,0.6833341717720032,0.19332581758499146,0.5357002019882202,0.2738289535045624,1.016244888305664,0.47398650646209717,0.3684191107749939,1.0639944076538086,0.6414225697517395,0.16498079895973206,0.8575259447097778,0.3084738552570343,1.3414583206176758,0.05597414821386337,0.4045327603816986,0.4163622260093689,0.38308751583099365,0.8744755387306213,0.18624073266983032,0.6878983378410339,0.06723266839981079,0.43112248182296753,0.6444658041000366,0.9272950291633606,0.8043988347053528,0.46373382210731506,0.7891032695770264,1.6321830749511719,0.5654507279396057,0.2713319659233093,0.4524797201156616,0.2947886884212494,0.41167107224464417,0.15613240003585815,0.2736779451370239,0.18008531630039215,0.321971595287323,0.867382824420929,0.5972800254821777,0.42042893171310425,0.07907100766897202,0.4470514953136444,1.498490333557129,0.37980538606643677,1.4394216537475586,0.23958933353424072,0.39507564902305603,0.9574297666549683,0.3643800914287567,0.8909938335418701,0.6798101663589478,0.8575236201286316,0.26622921228408813,0.25914424657821655,0.18454250693321228,0.011642087250947952,1.4973481893539429,1.0184589624404907,0.3394739627838135,0.7325750589370728,0.9530237913131714,0.16990986466407776,0.3859933018684387,0.5109909176826477,1.2246838808059692,0.6047906875610352,1.3073837757110596,2.1792497634887695,0.9712105989456177,0.6752203106880188,0.34650373458862305,0.5581551790237427,0.5244899988174438,0.5264930129051208,0.2630070149898529,0.4322047829627991,0.25997602939605713,0.9583123922348022,0.8490215539932251,0.3759520649909973,0.48527681827545166,2.5975351333618164,0.3230569362640381,0.2745971381664276,0.36436325311660767,0.2874206006526947,0.3613702058792114,0.1059403270483017,0.26158249378204346,0.8290736675262451,0.41443687677383423,0.27888670563697815,0.3125978410243988,0.306904673576355,0.8630660176277161,0.7665454745292664,0.6289272308349609,0.25398075580596924,0.4039229452610016,0.8167744874954224,0.19838520884513855,0.12312135845422745,0.7841287851333618,0.16566334664821625,0.6840246319770813,0.43223491311073303,0.510313093662262,0.8150720596313477,0.39496737718582153,0.1703403741121292,0.9466829299926758,0.2583475112915039,0.052808888256549835,0.06257028877735138,0.1897893249988556,0.14954422414302826,0.4143238961696625,0.3685627579689026,0.3803805410861969,0.23359335958957672,0.6358782052993774,0.6434540748596191,0.4501340091228485,2.844237804412842,0.24682123959064484,0.4020228385925293,0.5157082080841064,1.2709132432937622,0.6952008605003357,0.9072189331054688,0.9979119300842285,0.5955334305763245,0.4751097559928894,0.5283420085906982,0.46792343258857727,0.28365638852119446,0.5025122165679932,0.37162959575653076,1.046990990638733,0.4529344141483307,0.34910157322883606,0.4310465455055237,0.3605769872665405,0.8526828289031982,0.5115808844566345,0.579099714756012,0.2300233393907547,0.4119839072227478,0.8621644973754883,0.158803328871727,0.4819619059562683,0.5479755401611328,0.20485380291938782,0.27856212854385376,0.37201523780822754,0.6037793755531311,0.5007244944572449,0.3233024477958679,0.5295895934104919,0.19500097632408142,0.6957677006721497,0.22043758630752563,0.29726913571357727,0.2885477542877197,0.5675165057182312,0.1463126838207245,0.792918860912323,0.42113298177719116,0.6479476690292358,1.3737497329711914,0.17585045099258423,0.41538336873054504,0.9760529398918152,0.27953022718429565,0.26850301027297974,0.1430642306804657,0.2134665995836258,0.30903151631355286,0.09343726187944412,1.4249556064605713,0.3860456347465515,1.2694071531295776,0.43779608607292175,0.5651365518569946,0.3194504380226135,0.4124422073364258,0.36280691623687744,0.5624009966850281,1.670054316520691,0.841876745223999,1.0674262046813965,0.4691271185874939,0.3990592062473297,1.0410901308059692,0.16988521814346313,0.36211255192756653,0.299795925617218,1.1927924156188965,0.34158819913864136,0.9226163625717163,0.18500563502311707,0.13111382722854614,0.25427743792533875,0.6122747659683228,0.39643269777297974,0.1927758753299713,0.1455211192369461,0.15241409838199615,1.1945717334747314,0.5677175521850586,0.4183475375175476,0.6253176927566528,0.5362290143966675,0.36950504779815674,0.5340993404388428,0.5654305815696716,0.41166239976882935,0.6271170377731323,0.5223546624183655,0.11481592804193497,0.24949568510055542,0.8406158685684204,1.0265852212905884,0.8928509950637817,0.38256359100341797,0.8519090414047241,0.6267720460891724,1.2970110177993774,0.45621803402900696,1.037654995918274,0.2394712120294571,0.2634158134460449,0.7949562072753906,0.4796062707901001,0.12368538230657578,1.1440320014953613,0.4147058129310608,0.7948020696640015,1.5101637840270996,0.6449825167655945,0.6404929161071777,0.6068357229232788,0.4228990972042084,0.5382134914398193,0.4020516574382782,0.4858674108982086,2.765225410461426,0.1446254402399063,0.5744494199752808,0.953584611415863,0.2059582769870758,0.19886687397956848,0.06992429494857788,0.3797867000102997,0.22915911674499512,0.1734675168991089,0.493885338306427,0.10836664587259293,0.2539452314376831,0.5103508830070496,0.40758591890335083,0.10816388577222824,0.3445813059806824,0.559975266456604,0.49752458930015564,0.28235989809036255,0.25453537702560425,0.43941420316696167,0.6482977271080017,0.3184002935886383,0.9844726324081421,0.14410142600536346,0.8025895953178406,0.7372726798057556,0.19032254815101624,0.34272223711013794,0.22697989642620087,0.5976855158805847,0.34618425369262695,0.5109776854515076,0.26348626613616943,0.213978111743927,0.4902881681919098,0.46117424964904785,0.16352996230125427,0.823214590549469,0.07446916401386261,0.32667720317840576,0.30670875310897827,0.5406107902526855,0.05936676636338234,0.1424509584903717,0.3663296401500702,0.6614722013473511,0.2647637724876404,0.49161794781684875,0.20782653987407684,0.5862081050872803,0.1854846477508545,0.2451750487089157,0.47025811672210693,0.4037923216819763,0.22710828483104706,0.40638113021850586,0.567234218120575,0.14109456539154053,0.39177876710891724,0.32586848735809326,0.5253828167915344,0.6618696451187134,0.069039486348629,0.3513489365577698,0.2010803520679474,0.23385998606681824,0.24069875478744507,0.027827857062220573,0.05555232614278793,0.06550510227680206,0.6319191455841064,0.9162467122077942,0.23704315721988678,0.5720466375350952,0.2289726436138153,0.4644225835800171,0.4547721743583679,0.949597954750061,0.3055315911769867,0.04760858789086342,0.2927260100841522,0.28621912002563477,0.5229223966598511,0.2667842507362366,0.33000171184539795,0.5367352366447449,0.3866666257381439,0.4378587305545807,0.04895126074552536,0.882416844367981,0.38421741127967834,0.5609766244888306,0.3632998466491699,0.351969838142395,0.49933576583862305,0.2662079930305481,0.6715564727783203,0.5688858032226562,0.1590699404478073,0.4827819764614105,1.0182057619094849,1.288044810295105,3.508880615234375,0.1930130571126938,0.12410622835159302,0.06339886784553528,0.140262633562088,0.5766626000404358,0.27617788314819336,0.35087892413139343,0.352792888879776,0.8296270370483398,0.19540704786777496,0.17746859788894653,0.23275713622570038,0.8814009428024292,0.42771169543266296,0.6161066293716431,0.2916051745414734,0.20128440856933594,0.4574434757232666,0.26857101917266846,0.3472539782524109,0.08875232189893723,0.5285481214523315,0.055897947400808334,0.4254343807697296,1.704133152961731,0.6213099956512451,0.4545619487762451,0.6669448018074036,0.4051527976989746,0.5117340087890625,1.2394661903381348,1.0265051126480103,0.19983598589897156,0.15422362089157104,1.4859960079193115,1.0922327041625977,0.37591829895973206,0.23625747859477997,0.49507659673690796,0.25882717967033386,0.7006592750549316,0.3079243302345276,0.07667872309684753,0.30316096544265747,0.26494860649108887,1.0660289525985718,0.9417002201080322,0.45923006534576416,0.4028801918029785,0.3739166259765625,0.4690515398979187,0.6811424493789673,0.5817391872406006,0.10810859501361847,0.6059595942497253,0.12147398293018341,0.552733302116394,0.11170921474695206,0.4617604613304138,0.4700601100921631,0.6970837116241455,0.006989274639636278,0.7108010649681091,0.5237839221954346,1.072248101234436,0.4023306369781494,0.23310336470603943,0.19101852178573608,0.8388646841049194,0.17609934508800507,0.18186688423156738,0.1668214201927185,0.07861416041851044,0.13910728693008423,0.2830366790294647,0.1575576812028885,1.4135804176330566,0.8731179237365723,0.754118800163269,0.7098261713981628,0.2010214626789093,0.5831916332244873,0.5791990160942078,0.21960270404815674,0.71080482006073,1.553125023841858,1.0056982040405273,0.5461577773094177,0.1622864305973053,0.2483348846435547,0.5383415818214417,0.191254660487175,0.3789067268371582,0.36680954694747925,1.3849772214889526,1.0538604259490967,1.0104137659072876,0.8815650939941406,0.44284823536872864,1.7864353656768799,0.41079020500183105,0.11659456789493561,0.3594438433647156,0.238698810338974,0.25614508986473083,0.20692358911037445,0.21684563159942627,1.924654483795166,0.3255438804626465,0.2853904366493225,0.46454501152038574,0.22065971791744232,0.2008056938648224,0.6958097815513611,0.22525955736637115,0.17838230729103088,0.2499540150165558,0.9327877163887024,0.2849283218383789,0.25324875116348267,1.3142907619476318,0.6135667562484741,1.0125254392623901,1.0934703350067139,0.35463958978652954,0.2552642822265625,0.5980974435806274,0.26236942410469055,0.5028937458992004,0.16213582456111908,0.264560341835022,0.08827170729637146,0.4303765296936035,0.4418048858642578,0.299579381942749,0.31562137603759766,0.32623881101608276,0.07477027922868729,0.7542738914489746,0.05082711949944496,0.1247231662273407,0.12962010502815247,0.20449292659759521,0.34901779890060425,0.2957213819026947,0.8881465196609497,0.9599847793579102,0.20018398761749268,0.3298374116420746,0.2933744788169861,0.5994217395782471,0.3028470575809479,0.38148218393325806,0.11057969182729721,0.5834107995033264,0.20494839549064636,2.0930702686309814,0.020908504724502563,0.6092169880867004,0.023574862629175186,0.43224042654037476,0.3619844913482666,0.23380602896213531,0.0754648819565773,0.7519882321357727,1.3695310354232788,0.1331380307674408,0.20426958799362183,0.32179754972457886,0.48328161239624023,0.10217523574829102,1.3872430324554443,0.832364559173584,0.3382057547569275,0.2192380726337433,0.7135046124458313,0.35666531324386597,0.6280210018157959,0.6011555790901184,0.6159792542457581,0.6603130102157593,0.2798856496810913,0.18330800533294678,0.36772483587265015,0.14207281172275543,0.43747881054878235,0.2548469007015228,0.2522205114364624,0.10891526937484741,0.48154783248901367,0.37012746930122375,0.03380845487117767,0.7102792859077454,1.08107328414917,0.9679058790206909,0.43134814500808716,1.1330804824829102,0.200531005859375,0.6994751691818237,1.7138166427612305,0.43151333928108215,0.30008503794670105,1.179173469543457,1.672026515007019,0.20501452684402466,0.5407243371009827,0.18280766904354095,0.49117377400398254,0.3602912724018097,0.5082164406776428,0.12982767820358276,1.6207956075668335,0.1724444031715393,0.6527761220932007,0.10990244895219803,0.16109955310821533,0.7472374439239502,0.684551477432251,0.2854025065898895,0.2831376791000366,0.22289429605007172,0.6902475357055664,0.48466891050338745,0.5087885856628418,0.7311075925827026,0.36833497881889343,0.06755323708057404,0.40676841139793396,0.08568029850721359,0.2616778612136841,0.2433881312608719,0.2144409716129303,0.46078819036483765,0.34970495104789734,0.7510635852813721,0.5665251612663269,1.2110055685043335,0.4919661581516266,0.7327085137367249,0.009865570813417435,0.16386105120182037,0.5187749266624451,0.006218237336724997,0.6143214106559753,0.393645703792572,0.21239738166332245,0.07489587366580963,0.3772091269493103,0.12049815058708191,0.42245253920555115,0.2217468023300171,0.2957015335559845,0.2802130877971649,0.5089614987373352,0.05741015076637268,0.1973312348127365,0.13785187900066376,0.34881946444511414,0.0413331538438797,0.3997251093387604,0.22221797704696655,0.21021825075149536,0.8520215749740601,0.5604297518730164,0.41810697317123413,0.46598225831985474,0.2998928427696228,0.23151399195194244,0.5291976928710938,0.08895944058895111,0.2423587441444397,0.11981402337551117,1.0387473106384277,0.47881725430488586,0.261101633310318,0.33011394739151,0.43250998854637146,0.15149737894535065,0.11349453777074814,0.17604157328605652,0.31321701407432556,0.3807823359966278,0.7532735466957092,0.13840310275554657,0.007940040901303291,0.3543398380279541,0.2909156084060669,0.19777004420757294,0.22835734486579895,0.34502947330474854,0.2845357656478882,0.49200040102005005,0.22936081886291504,0.4806348383426666,0.31997692584991455,0.16043144464492798,0.09837494790554047,0.043476711958646774,0.21063701808452606,0.22358453273773193,0.23832669854164124,0.06271477043628693,0.3685779571533203,0.36385878920555115,0.518049955368042,0.4456723630428314,0.11986950784921646,0.24195121228694916,0.40707534551620483,0.30148807168006897,0.41668814420700073,0.03200335428118706,0.8782680630683899,0.5183296799659729,0.10950906574726105,0.0964149609208107,0.19920015335083008,0.16308793425559998,0.6329872012138367,0.12929967045783997,0.33404016494750977,0.5141004920005798,0.08148596435785294,0.18586206436157227,0.2429654598236084,0.7474062442779541,0.25711968541145325,0.27374863624572754,0.18718042969703674,0.0881081223487854,0.40762192010879517,0.4399145245552063,0.1408412754535675,0.021121829748153687,0.2055695503950119,0.2745399475097656,0.5127747058868408,0.49949800968170166,0.3831713795661926,0.5255416631698608,0.0072271861135959625,0.7260165214538574,0.0076712993904948235,0.34865355491638184,0.8076854348182678,0.8596041202545166,0.05588022992014885,0.6903703212738037,0.38803374767303467,0.8497505187988281,0.49893128871917725,0.29445987939834595,1.6196976900100708,0.20151686668395996,1.0411574840545654,0.2498907744884491,0.3105030059814453,0.24225425720214844,0.3772609829902649,0.31351980566978455,0.06539665162563324,0.1024794802069664,0.5291265845298767,0.6724663972854614,0.07009057700634003,0.06888280063867569,0.08656798303127289,0.3530900776386261,0.6923193335533142,0.12535342574119568,0.22425577044487,0.3387383222579956,0.12236959487199783,0.38197147846221924,0.21419212222099304,0.1427217274904251,0.05394443869590759,0.1440262347459793,0.07552127540111542,0.1649271696805954,1.1373447179794312,0.10370907932519913,0.01580534130334854,0.0045194318518042564,0.12185001373291016,0.37120434641838074,0.439713716506958,0.1505110263824463,0.13494271039962769,0.004645135719329119,0.014571018517017365,0.01631929725408554,0.024229511618614197,0.0038573092315346003,0.03262774273753166,0.04777749627828598,0.034545671194791794,0.22575417160987854,0.0786566510796547,0.013134952634572983,0.29340970516204834,0.6361348628997803,0.3158945143222809,0.6909722089767456,0.3376162052154541,0.24274319410324097,0.17128613591194153,0.0016669852193444967,0.053694769740104675,0.038823142647743225,0.05798884853720665,0.2523065507411957,0.11645809561014175,0.1559615135192871,1.5022059679031372,0.31123295426368713,0.02105589210987091,0.2999038100242615,0.0037280358374118805,0.12553249299526215,4.751473903656006,0.8087122440338135,0.0703495442867279,0.39839673042297363,0.49904078245162964,0.16263549029827118,0.7697650194168091,0.31378716230392456,0.12648501992225647,0.27947282791137695,0.17353278398513794,0.02075832150876522,0.19545117020606995,0.09350606054067612,0.3756926655769348,0.2653510272502899,0.0941929742693901,0.8043698072433472,0.22289089858531952,0.26646333932876587,0.1758648008108139,0.38478410243988037,0.4986644983291626,0.06247955188155174,0.5747189521789551,0.2285068780183792,0.5452631711959839,0.0439579002559185,1.7656395435333252,0.6895858645439148,1.406664490699768,0.3713372051715851,0.272674560546875,1.186342716217041,1.319645643234253,0.41369330883026123,0.38214343786239624,1.0896012783050537,0.24011623859405518,0.13530421257019043,2.5563385486602783,0.6734513640403748,0.7231711745262146,0.6722997426986694,0.5877595543861389,0.7847080826759338,0.43768537044525146,0.1175822839140892,0.11382286250591278,0.298753559589386,0.14575156569480896,0.3958871364593506,0.4629717469215393,0.03839636594057083,0.16127848625183105,0.2531883716583252,0.06416305899620056,0.14834712445735931,0.07119768857955933,0.545124888420105,0.2611311078071594,0.1837264746427536,0.6076290607452393,0.9560661911964417,0.5469578504562378,0.33053866028785706,0.29463762044906616,0.2508702278137207,0.09974370896816254,0.06527170538902283,0.22389540076255798,0.1471564620733261,0.17813926935195923,0.4204448163509369,0.014435088261961937,0.2034904658794403,0.21044640243053436,0.5124121904373169,0.014865700155496597,0.3018806278705597,0.06720392405986786,0.13330227136611938,0.08115802705287933,0.43190205097198486,0.4214705526828766,0.7714387774467468,0.14107029139995575,0.46839597821235657,0.24176304042339325,0.18923941254615784,0.566393256187439,0.009825428947806358,0.3491954505443573,0.15882058441638947,0.6764915585517883,0.23229750990867615,0.5307253003120422,0.21154296398162842,0.28120139241218567,0.14303898811340332,0.08402637392282486,0.060702502727508545,1.3157007694244385,0.09573125839233398,0.40066778659820557,0.2712569236755371,0.2373976707458496,0.34031039476394653,0.3110926151275635,0.10336606204509735,0.09534455835819244,2.0552544593811035,0.18979810178279877,0.14198897778987885,0.11264435946941376,0.47395333647727966,0.26557305455207825,0.4471098780632019,0.613105833530426,0.14604803919792175,0.27100253105163574,0.21414896845817566,0.17498603463172913,0.1929842233657837,0.10358110070228577,0.3577183485031128,0.567254364490509,0.670543372631073]}},\"id\":\"979a394b-897a-4564-bb9b-7d3747dcdbd9\",\"type\":\"ColumnDataSource\"},{\"attributes\":{\"plot\":{\"id\":\"0a1cd328-a611-40d2-b7fa-5ddf41b82f49\",\"subtype\":\"Figure\",\"type\":\"Plot\"}},\"id\":\"bc444b7a-ee1d-4d7d-ae70-895fabe0a1a3\",\"type\":\"WheelZoomTool\"},{\"attributes\":{\"axis_label\":\"train steps\",\"formatter\":{\"id\":\"1caa5e43-e7e0-4d4c-81b5-41eedf57a8ce\",\"type\":\"BasicTickFormatter\"},\"plot\":{\"id\":\"0a1cd328-a611-40d2-b7fa-5ddf41b82f49\",\"subtype\":\"Figure\",\"type\":\"Plot\"},\"ticker\":{\"id\":\"a363f23e-b095-4a9c-95cf-4c79e635c2c4\",\"type\":\"BasicTicker\"}},\"id\":\"beec730f-ec7c-481c-933a-073043a49f07\",\"type\":\"LinearAxis\"},{\"attributes\":{},\"id\":\"1caa5e43-e7e0-4d4c-81b5-41eedf57a8ce\",\"type\":\"BasicTickFormatter\"},{\"attributes\":{},\"id\":\"a363f23e-b095-4a9c-95cf-4c79e635c2c4\",\"type\":\"BasicTicker\"},{\"attributes\":{\"bottom_units\":\"screen\",\"fill_alpha\":{\"value\":0.5},\"fill_color\":{\"value\":\"lightgrey\"},\"left_units\":\"screen\",\"level\":\"overlay\",\"line_alpha\":{\"value\":1.0},\"line_color\":{\"value\":\"black\"},\"line_dash\":[4,4],\"line_width\":{\"value\":2},\"plot\":null,\"render_mode\":\"css\",\"right_units\":\"screen\",\"top_units\":\"screen\"},\"id\":\"d783fbe1-c912-4632-9d12-01d02f7bed85\",\"type\":\"BoxAnnotation\"},{\"attributes\":{\"data_source\":{\"id\":\"979a394b-897a-4564-bb9b-7d3747dcdbd9\",\"type\":\"ColumnDataSource\"},\"glyph\":{\"id\":\"e3f6091a-6604-4f14-a49e-96615c2c12b1\",\"type\":\"Line\"},\"hover_glyph\":null,\"nonselection_glyph\":{\"id\":\"116a06e3-0e20-4326-a767-6ac56d9834da\",\"type\":\"Line\"},\"selection_glyph\":null},\"id\":\"815d32c1-ab5f-4ceb-b111-768e98079fd0\",\"type\":\"GlyphRenderer\"},{\"attributes\":{\"dimension\":1,\"plot\":{\"id\":\"0a1cd328-a611-40d2-b7fa-5ddf41b82f49\",\"subtype\":\"Figure\",\"type\":\"Plot\"},\"ticker\":{\"id\":\"9c07043e-7424-4aea-bb42-80d88c01e188\",\"type\":\"BasicTicker\"}},\"id\":\"7f986468-d4e7-4b7b-87fd-bc6756334e90\",\"type\":\"Grid\"},{\"attributes\":{\"line_color\":{\"value\":\"#1f77b4\"},\"x\":{\"field\":\"x\"},\"y\":{\"field\":\"y\"}},\"id\":\"e3f6091a-6604-4f14-a49e-96615c2c12b1\",\"type\":\"Line\"},{\"attributes\":{\"callback\":null},\"id\":\"723d4c52-3f64-4dc7-9e08-e28438458107\",\"type\":\"DataRange1d\"},{\"attributes\":{},\"id\":\"820a45c8-d571-4d2b-9a3c-16411c9f4392\",\"type\":\"BasicTickFormatter\"},{\"attributes\":{\"line_alpha\":{\"value\":0.1},\"line_color\":{\"value\":\"#1f77b4\"},\"x\":{\"field\":\"x\"},\"y\":{\"field\":\"y\"}},\"id\":\"116a06e3-0e20-4326-a767-6ac56d9834da\",\"type\":\"Line\"},{\"attributes\":{\"plot\":{\"id\":\"0a1cd328-a611-40d2-b7fa-5ddf41b82f49\",\"subtype\":\"Figure\",\"type\":\"Plot\"}},\"id\":\"4bba6159-542e-455a-9b36-493bf251c84b\",\"type\":\"SaveTool\"},{\"attributes\":{\"active_drag\":\"auto\",\"active_scroll\":\"auto\",\"active_tap\":\"auto\",\"tools\":[{\"id\":\"e5460071-8f33-4f6d-8f18-d622194323b1\",\"type\":\"PanTool\"},{\"id\":\"bc444b7a-ee1d-4d7d-ae70-895fabe0a1a3\",\"type\":\"WheelZoomTool\"},{\"id\":\"25ac3205-f3c8-4d10-9a99-9877d4fb640f\",\"type\":\"BoxZoomTool\"},{\"id\":\"4bba6159-542e-455a-9b36-493bf251c84b\",\"type\":\"SaveTool\"},{\"id\":\"4bd51ecb-4003-42b1-ae87-f0258095adc5\",\"type\":\"ResetTool\"},{\"id\":\"8418f4c4-eb44-49d4-841d-ec1ec15b1f22\",\"type\":\"HelpTool\"}]},\"id\":\"7978b8ce-8faf-48c8-9138-c51d17cb9a40\",\"type\":\"Toolbar\"},{\"attributes\":{\"plot\":{\"id\":\"0a1cd328-a611-40d2-b7fa-5ddf41b82f49\",\"subtype\":\"Figure\",\"type\":\"Plot\"}},\"id\":\"e5460071-8f33-4f6d-8f18-d622194323b1\",\"type\":\"PanTool\"},{\"attributes\":{\"plot\":{\"id\":\"0a1cd328-a611-40d2-b7fa-5ddf41b82f49\",\"subtype\":\"Figure\",\"type\":\"Plot\"}},\"id\":\"8418f4c4-eb44-49d4-841d-ec1ec15b1f22\",\"type\":\"HelpTool\"},{\"attributes\":{\"axis_label\":\"loss\",\"formatter\":{\"id\":\"820a45c8-d571-4d2b-9a3c-16411c9f4392\",\"type\":\"BasicTickFormatter\"},\"plot\":{\"id\":\"0a1cd328-a611-40d2-b7fa-5ddf41b82f49\",\"subtype\":\"Figure\",\"type\":\"Plot\"},\"ticker\":{\"id\":\"9c07043e-7424-4aea-bb42-80d88c01e188\",\"type\":\"BasicTicker\"}},\"id\":\"26ae37ad-a3a6-4331-a735-5bcd5aa2ba52\",\"type\":\"LinearAxis\"},{\"attributes\":{},\"id\":\"0c9ff90f-555b-4a5e-9a4b-b8fa6c1723ae\",\"type\":\"ToolEvents\"},{\"attributes\":{\"plot\":null,\"text\":\"training loss\"},\"id\":\"d00fd14c-3f00-44e5-9f0c-722a45722208\",\"type\":\"Title\"},{\"attributes\":{\"plot\":{\"id\":\"0a1cd328-a611-40d2-b7fa-5ddf41b82f49\",\"subtype\":\"Figure\",\"type\":\"Plot\"}},\"id\":\"4bd51ecb-4003-42b1-ae87-f0258095adc5\",\"type\":\"ResetTool\"},{\"attributes\":{\"callback\":null},\"id\":\"d9220059-7396-4e2f-becf-99ab9120f6f1\",\"type\":\"DataRange1d\"}],\"root_ids\":[\"0a1cd328-a611-40d2-b7fa-5ddf41b82f49\"]},\"title\":\"Bokeh Application\",\"version\":\"0.12.2\"}};\n",
       "            var render_items = [{\"docid\":\"271b1a31-94b5-4ed7-8116-da7710ad365c\",\"elementid\":\"3ab699a5-a409-47d2-b6af-3012348bf035\",\"modelid\":\"0a1cd328-a611-40d2-b7fa-5ddf41b82f49\"}];\n",
       "            \n",
       "            Bokeh.embed.embed_items(docs_json, render_items);\n",
       "        });\n",
       "      },\n",
       "      function(Bokeh) {\n",
       "      }\n",
       "    ];\n",
       "  \n",
       "    function run_inline_js() {\n",
       "      \n",
       "      if ((window.Bokeh !== undefined) || (force === \"1\")) {\n",
       "        for (var i = 0; i < inline_js.length; i++) {\n",
       "          inline_js[i](window.Bokeh);\n",
       "        }if (force === \"1\") {\n",
       "          display_loaded();\n",
       "        }} else if (Date.now() < window._bokeh_timeout) {\n",
       "        setTimeout(run_inline_js, 100);\n",
       "      } else if (!window._bokeh_failed_load) {\n",
       "        console.log(\"Bokeh: BokehJS failed to load within specified timeout.\");\n",
       "        window._bokeh_failed_load = true;\n",
       "      } else if (!force) {\n",
       "        var cell = $(\"#3ab699a5-a409-47d2-b6af-3012348bf035\").parents('.cell').data().cell;\n",
       "        cell.output_area.append_execute_result(NB_LOAD_WARNING)\n",
       "      }\n",
       "  \n",
       "    }\n",
       "  \n",
       "    if (window._bokeh_is_loading === 0) {\n",
       "      console.log(\"Bokeh: BokehJS loaded, going straight to plotting\");\n",
       "      run_inline_js();\n",
       "    } else {\n",
       "      load_libs(js_urls, function() {\n",
       "        console.log(\"Bokeh: BokehJS plotting callback run at\", now());\n",
       "        run_inline_js();\n",
       "      });\n",
       "    }\n",
       "  }(this));\n",
       "</script>"
      ]
     },
     "metadata": {},
     "output_type": "display_data"
    }
   ],
   "source": [
    "p = figure(title=\"training loss\", x_axis_label='train steps', y_axis_label='loss')\n",
    "p.line(range(len(losses)),losses)\n",
    "show(p)"
   ]
  },
  {
   "cell_type": "markdown",
   "metadata": {},
   "source": [
    "# Batch Normalization"
   ]
  },
  {
   "cell_type": "code",
   "execution_count": 13,
   "metadata": {
    "collapsed": false
   },
   "outputs": [],
   "source": [
    "batch_size = 32\n",
    "num_nodes=1000\n",
    "eps = .0001\n",
    "g = tf.Graph()\n",
    "with g.as_default():\n",
    "    img_input = tf.placeholder(tf.float32,shape=(batch_size,int(img_size**2)))\n",
    "    targets = tf.placeholder(tf.float32,shape=(batch_size,10))\n",
    "    \n",
    "    testX = tf.constant(Xtest,dtype=tf.float32)\n",
    "    testy = tf.constant(ytest,dtype=tf.float32)\n",
    "    \n",
    "    #create weights\n",
    "    gamma0 = tf.Variable(tf.truncated_normal([int(img_size**2)]))\n",
    "    beta0 = tf.Variable(tf.ones([int(img_size**2)]))\n",
    "    \n",
    "    W1 = createWeight([int(img_size**2),num_nodes])\n",
    "    b1 = createBias([num_nodes])\n",
    "    \n",
    "    gamma1 = tf.Variable(tf.truncated_normal([num_nodes]))\n",
    "    beta1 = tf.Variable(tf.ones([num_nodes]))\n",
    "    \n",
    "    W2 = createWeight([num_nodes,num_nodes])\n",
    "    b2 = createBias([num_nodes])\n",
    "    \n",
    "    gamma2 = tf.Variable(tf.truncated_normal([num_nodes]))\n",
    "    beta2 = tf.Variable(tf.ones([num_nodes]))\n",
    "    \n",
    "    W_logit = createWeight([num_nodes,10])\n",
    "    b_logit = createBias([10])\n",
    "    \n",
    "    gammalo = tf.Variable(tf.truncated_normal([10]))\n",
    "    betalo = tf.Variable(tf.ones([10]))\n",
    "\n",
    "    \n",
    "    #model\n",
    "    def model(img_input):\n",
    "        mu0 = tf.reduce_mean(img_input,[0],keep_dims=True)\n",
    "        sigma0 = tf.reduce_mean(tf.square(img_input-mu0),[0],keep_dims=True)\n",
    "        input_hat = (img_input-mu0)/(tf.sqrt(sigma0+eps))\n",
    "        input_out = gamma0*input_hat+beta0\n",
    "\n",
    "        h1 = tf.nn.relu(tf.matmul(input_out,W1)+b1)\n",
    "        mu1 = tf.reduce_mean(h1,[0],keep_dims=True)\n",
    "        sigma1 = tf.reduce_mean(tf.square(h1-mu1),[0],keep_dims=True)\n",
    "        h1_hat = (h1-mu1)/(tf.sqrt(sigma1+eps))\n",
    "        h1_out = gamma1*h1_hat+beta1\n",
    "\n",
    "        h2 = tf.nn.relu(tf.matmul(h1_out,W2)+b2)\n",
    "        mu2 = tf.reduce_mean(h2,[0],keep_dims=True)\n",
    "        sigma2 = tf.reduce_mean(tf.square(h2-mu2),[0],keep_dims=True)\n",
    "        h2_hat = (h2-mu2)/(tf.sqrt(sigma2+eps))\n",
    "        h2_out = gamma2*h2_hat+beta2\n",
    "\n",
    "        logit = tf.matmul(h2_out,W_logit)+b_logit\n",
    "        mulo = tf.reduce_mean(logit,[0],keep_dims=True)\n",
    "        sigmalo = tf.reduce_mean(tf.square(logit-mulo),[0],keep_dims=True)\n",
    "        lo_hat = (logit-mulo)/(tf.sqrt(sigmalo+eps))\n",
    "        lo_out = gammalo*lo_hat+betalo\n",
    "        \n",
    "        return lo_out\n",
    "    \n",
    "    #train\n",
    "    logit_train = model(img_input)\n",
    "    loss = tf.reduce_mean(tf.nn.softmax_cross_entropy_with_logits(logit_train,targets))\n",
    "    \n",
    "    opt = tf.train.AdamOptimizer(learning_rate=.005).minimize(loss)\n",
    "    \n",
    "    train_accuracy = tf.reduce_mean(tf.cast(tf.equal(\n",
    "        tf.arg_max(tf.nn.softmax(logit_train),1),tf.arg_max(targets,1)),tf.float32))\n",
    "    \n",
    "    #test\n",
    "    logit_test = model(testX)\n",
    "    test_accuracy = tf.reduce_mean(tf.cast(tf.equal(\n",
    "        tf.arg_max(tf.nn.softmax(logit_test),1),tf.arg_max(testy,1)),tf.float32))\n",
    "    \n",
    "    init = tf.initialize_all_variables()"
   ]
  },
  {
   "cell_type": "code",
   "execution_count": 14,
   "metadata": {
    "collapsed": false
   },
   "outputs": [],
   "source": [
    "sess=tf.Session(graph=g)\n",
    "sess.run(init)\n",
    "losses = []"
   ]
  },
  {
   "cell_type": "code",
   "execution_count": 15,
   "metadata": {
    "collapsed": false
   },
   "outputs": [
    {
     "name": "stderr",
     "output_type": "stream",
     "text": [
      "\r",
      "  0%|          | 0/2000 [00:00<?, ?it/s]"
     ]
    },
    {
     "name": "stdout",
     "output_type": "stream",
     "text": [
      "train acc:  [0.5]\n"
     ]
    },
    {
     "name": "stderr",
     "output_type": "stream",
     "text": [
      "  0%|          | 10/2000 [00:01<29:30,  1.12it/s]"
     ]
    },
    {
     "name": "stdout",
     "output_type": "stream",
     "text": [
      "test acc:  [0.29190001]\n"
     ]
    },
    {
     "name": "stderr",
     "output_type": "stream",
     "text": [
      "  5%|▍         | 99/2000 [00:02<01:09, 27.55it/s]"
     ]
    },
    {
     "name": "stdout",
     "output_type": "stream",
     "text": [
      "train acc:  [0.8125]\n"
     ]
    },
    {
     "name": "stderr",
     "output_type": "stream",
     "text": [
      "  6%|▌         | 117/2000 [00:03<01:23, 22.42it/s]"
     ]
    },
    {
     "name": "stdout",
     "output_type": "stream",
     "text": [
      "test acc:  [0.83749998]\n"
     ]
    },
    {
     "name": "stderr",
     "output_type": "stream",
     "text": [
      " 10%|▉         | 198/2000 [00:04<00:23, 77.77it/s]"
     ]
    },
    {
     "name": "stdout",
     "output_type": "stream",
     "text": [
      "train acc:  [0.875]\n"
     ]
    },
    {
     "name": "stderr",
     "output_type": "stream",
     "text": [
      " 11%|█         | 216/2000 [00:05<00:59, 30.07it/s]"
     ]
    },
    {
     "name": "stdout",
     "output_type": "stream",
     "text": [
      "test acc:  [0.8574]\n"
     ]
    },
    {
     "name": "stderr",
     "output_type": "stream",
     "text": [
      " 15%|█▍        | 296/2000 [00:06<00:21, 80.59it/s]"
     ]
    },
    {
     "name": "stdout",
     "output_type": "stream",
     "text": [
      "train acc:  [0.875]\n"
     ]
    },
    {
     "name": "stderr",
     "output_type": "stream",
     "text": [
      " 16%|█▌        | 314/2000 [00:07<00:55, 30.28it/s]"
     ]
    },
    {
     "name": "stdout",
     "output_type": "stream",
     "text": [
      "test acc:  [0.88150001]\n"
     ]
    },
    {
     "name": "stderr",
     "output_type": "stream",
     "text": [
      " 20%|█▉        | 395/2000 [00:08<00:19, 80.92it/s]"
     ]
    },
    {
     "name": "stdout",
     "output_type": "stream",
     "text": [
      "train acc:  [0.84375]\n"
     ]
    },
    {
     "name": "stderr",
     "output_type": "stream",
     "text": [
      " 21%|██        | 413/2000 [00:09<00:52, 30.33it/s]"
     ]
    },
    {
     "name": "stdout",
     "output_type": "stream",
     "text": [
      "test acc:  [0.88599998]\n"
     ]
    },
    {
     "name": "stderr",
     "output_type": "stream",
     "text": [
      " 25%|██▍       | 494/2000 [00:10<00:18, 80.68it/s]"
     ]
    },
    {
     "name": "stdout",
     "output_type": "stream",
     "text": [
      "train acc:  [0.8125]\n"
     ]
    },
    {
     "name": "stderr",
     "output_type": "stream",
     "text": [
      " 26%|██▌       | 512/2000 [00:11<00:49, 30.29it/s]"
     ]
    },
    {
     "name": "stdout",
     "output_type": "stream",
     "text": [
      "test acc:  [0.89590001]\n"
     ]
    },
    {
     "name": "stderr",
     "output_type": "stream",
     "text": [
      " 30%|██▉       | 593/2000 [00:12<00:17, 80.81it/s]"
     ]
    },
    {
     "name": "stdout",
     "output_type": "stream",
     "text": [
      "train acc:  [0.90625]\n"
     ]
    },
    {
     "name": "stderr",
     "output_type": "stream",
     "text": [
      " 31%|███       | 611/2000 [00:13<00:45, 30.48it/s]"
     ]
    },
    {
     "name": "stdout",
     "output_type": "stream",
     "text": [
      "test acc:  [0.89639997]\n"
     ]
    },
    {
     "name": "stderr",
     "output_type": "stream",
     "text": [
      " 35%|███▍      | 692/2000 [00:14<00:16, 79.81it/s]"
     ]
    },
    {
     "name": "stdout",
     "output_type": "stream",
     "text": [
      "train acc:  [0.9375]\n"
     ]
    },
    {
     "name": "stderr",
     "output_type": "stream",
     "text": [
      " 36%|███▌      | 710/2000 [00:15<00:42, 30.49it/s]"
     ]
    },
    {
     "name": "stdout",
     "output_type": "stream",
     "text": [
      "test acc:  [0.8998]\n"
     ]
    },
    {
     "name": "stderr",
     "output_type": "stream",
     "text": [
      " 40%|████      | 800/2000 [00:16<00:14, 82.34it/s]"
     ]
    },
    {
     "name": "stdout",
     "output_type": "stream",
     "text": [
      "train acc:  [0.9375]\n"
     ]
    },
    {
     "name": "stderr",
     "output_type": "stream",
     "text": [
      " 41%|████      | 818/2000 [00:17<00:38, 30.71it/s]"
     ]
    },
    {
     "name": "stdout",
     "output_type": "stream",
     "text": [
      "test acc:  [0.90259999]\n"
     ]
    },
    {
     "name": "stderr",
     "output_type": "stream",
     "text": [
      " 45%|████▍     | 899/2000 [00:18<00:13, 80.40it/s]"
     ]
    },
    {
     "name": "stdout",
     "output_type": "stream",
     "text": [
      "train acc:  [0.9375]\n"
     ]
    },
    {
     "name": "stderr",
     "output_type": "stream",
     "text": [
      " 46%|████▌     | 917/2000 [00:19<00:35, 30.34it/s]"
     ]
    },
    {
     "name": "stdout",
     "output_type": "stream",
     "text": [
      "test acc:  [0.90719998]\n"
     ]
    },
    {
     "name": "stderr",
     "output_type": "stream",
     "text": [
      " 50%|████▉     | 996/2000 [00:20<00:12, 79.19it/s]"
     ]
    },
    {
     "name": "stdout",
     "output_type": "stream",
     "text": [
      "train acc:  [0.8125]\n"
     ]
    },
    {
     "name": "stderr",
     "output_type": "stream",
     "text": [
      " 51%|█████     | 1014/2000 [00:22<00:32, 30.47it/s]"
     ]
    },
    {
     "name": "stdout",
     "output_type": "stream",
     "text": [
      "test acc:  [0.90689999]\n"
     ]
    },
    {
     "name": "stderr",
     "output_type": "stream",
     "text": [
      " 55%|█████▍    | 1095/2000 [00:22<00:11, 80.39it/s]"
     ]
    },
    {
     "name": "stdout",
     "output_type": "stream",
     "text": [
      "train acc:  [0.84375]\n"
     ]
    },
    {
     "name": "stderr",
     "output_type": "stream",
     "text": [
      " 56%|█████▌    | 1113/2000 [00:24<00:29, 30.51it/s]"
     ]
    },
    {
     "name": "stdout",
     "output_type": "stream",
     "text": [
      "test acc:  [0.90979999]\n"
     ]
    },
    {
     "name": "stderr",
     "output_type": "stream",
     "text": [
      " 60%|█████▉    | 1194/2000 [00:25<00:10, 78.17it/s]"
     ]
    },
    {
     "name": "stdout",
     "output_type": "stream",
     "text": [
      "train acc:  [0.9375]\n"
     ]
    },
    {
     "name": "stderr",
     "output_type": "stream",
     "text": [
      " 61%|██████    | 1212/2000 [00:26<00:26, 30.15it/s]"
     ]
    },
    {
     "name": "stdout",
     "output_type": "stream",
     "text": [
      "test acc:  [0.91769999]\n"
     ]
    },
    {
     "name": "stderr",
     "output_type": "stream",
     "text": [
      " 65%|██████▍   | 1293/2000 [00:27<00:08, 80.29it/s]"
     ]
    },
    {
     "name": "stdout",
     "output_type": "stream",
     "text": [
      "train acc:  [0.90625]\n"
     ]
    },
    {
     "name": "stderr",
     "output_type": "stream",
     "text": [
      " 66%|██████▌   | 1311/2000 [00:28<00:22, 30.41it/s]"
     ]
    },
    {
     "name": "stdout",
     "output_type": "stream",
     "text": [
      "test acc:  [0.9192]\n"
     ]
    },
    {
     "name": "stderr",
     "output_type": "stream",
     "text": [
      " 70%|██████▉   | 1392/2000 [00:29<00:07, 80.75it/s]"
     ]
    },
    {
     "name": "stdout",
     "output_type": "stream",
     "text": [
      "train acc:  [0.8125]\n"
     ]
    },
    {
     "name": "stderr",
     "output_type": "stream",
     "text": [
      " 70%|███████   | 1410/2000 [00:30<00:19, 30.35it/s]"
     ]
    },
    {
     "name": "stdout",
     "output_type": "stream",
     "text": [
      "test acc:  [0.92180002]\n"
     ]
    },
    {
     "name": "stderr",
     "output_type": "stream",
     "text": [
      " 75%|███████▌  | 1500/2000 [00:31<00:06, 81.52it/s]"
     ]
    },
    {
     "name": "stdout",
     "output_type": "stream",
     "text": [
      "train acc:  [0.9375]\n"
     ]
    },
    {
     "name": "stderr",
     "output_type": "stream",
     "text": [
      "\r",
      " 75%|███████▌  | 1509/2000 [00:32<00:22, 21.72it/s]"
     ]
    },
    {
     "name": "stdout",
     "output_type": "stream",
     "text": [
      "test acc:  [0.91390002]\n"
     ]
    },
    {
     "name": "stderr",
     "output_type": "stream",
     "text": [
      " 80%|████████  | 1600/2000 [00:33<00:06, 65.72it/s]"
     ]
    },
    {
     "name": "stdout",
     "output_type": "stream",
     "text": [
      "train acc:  [0.875]\n"
     ]
    },
    {
     "name": "stderr",
     "output_type": "stream",
     "text": [
      " 81%|████████  | 1614/2000 [00:35<00:18, 21.08it/s]"
     ]
    },
    {
     "name": "stdout",
     "output_type": "stream",
     "text": [
      "test acc:  [0.92479998]\n"
     ]
    },
    {
     "name": "stderr",
     "output_type": "stream",
     "text": [
      " 85%|████████▍ | 1694/2000 [00:36<00:04, 75.12it/s]"
     ]
    },
    {
     "name": "stdout",
     "output_type": "stream",
     "text": [
      "train acc:  [0.9375]\n"
     ]
    },
    {
     "name": "stderr",
     "output_type": "stream",
     "text": [
      " 86%|████████▌ | 1712/2000 [00:37<00:09, 29.75it/s]"
     ]
    },
    {
     "name": "stdout",
     "output_type": "stream",
     "text": [
      "test acc:  [0.92629999]\n"
     ]
    },
    {
     "name": "stderr",
     "output_type": "stream",
     "text": [
      " 90%|████████▉ | 1793/2000 [00:38<00:02, 80.68it/s]"
     ]
    },
    {
     "name": "stdout",
     "output_type": "stream",
     "text": [
      "train acc:  [0.875]\n"
     ]
    },
    {
     "name": "stderr",
     "output_type": "stream",
     "text": [
      " 91%|█████████ | 1811/2000 [00:39<00:06, 30.64it/s]"
     ]
    },
    {
     "name": "stdout",
     "output_type": "stream",
     "text": [
      "test acc:  [0.9235]\n"
     ]
    },
    {
     "name": "stderr",
     "output_type": "stream",
     "text": [
      " 95%|█████████▍| 1892/2000 [00:40<00:01, 80.54it/s]"
     ]
    },
    {
     "name": "stdout",
     "output_type": "stream",
     "text": [
      "train acc:  [0.84375]\n"
     ]
    },
    {
     "name": "stderr",
     "output_type": "stream",
     "text": [
      " 96%|█████████▌| 1910/2000 [00:41<00:02, 30.55it/s]"
     ]
    },
    {
     "name": "stdout",
     "output_type": "stream",
     "text": [
      "test acc:  [0.92030001]\n"
     ]
    },
    {
     "name": "stderr",
     "output_type": "stream",
     "text": [
      "100%|██████████| 2000/2000 [00:42<00:00, 82.85it/s]\n"
     ]
    }
   ],
   "source": [
    "num_steps = 2000\n",
    "for s in tqdm(range(num_steps)):\n",
    "    offset = (s*batch_size) % (X.shape[0]-batch_size)\n",
    "    fd = {img_input:X[offset:offset+batch_size,:],\n",
    "         targets:y[offset:offset+batch_size,:]}\n",
    "    l,_ = sess.run([loss,opt],feed_dict=fd)\n",
    "    losses.append(l)\n",
    "    if s % 100 == 0:\n",
    "        print('train acc: ',sess.run([train_accuracy],feed_dict=fd))\n",
    "        print('test acc: ',sess.run([test_accuracy],feed_dict=fd))"
   ]
  },
  {
   "cell_type": "code",
   "execution_count": 16,
   "metadata": {
    "collapsed": false
   },
   "outputs": [
    {
     "data": {
      "text/html": [
       "\n",
       "\n",
       "    <div class=\"bk-root\">\n",
       "        <div class=\"plotdiv\" id=\"3a38a759-951d-4b43-8d5d-c405595db46c\"></div>\n",
       "    </div>\n",
       "<script type=\"text/javascript\">\n",
       "  \n",
       "  (function(global) {\n",
       "    function now() {\n",
       "      return new Date();\n",
       "    }\n",
       "  \n",
       "    var force = \"\";\n",
       "  \n",
       "    if (typeof (window._bokeh_onload_callbacks) === \"undefined\" || force !== \"\") {\n",
       "      window._bokeh_onload_callbacks = [];\n",
       "      window._bokeh_is_loading = undefined;\n",
       "    }\n",
       "  \n",
       "  \n",
       "    \n",
       "    if (typeof (window._bokeh_timeout) === \"undefined\" || force !== \"\") {\n",
       "      window._bokeh_timeout = Date.now() + 0;\n",
       "      window._bokeh_failed_load = false;\n",
       "    }\n",
       "  \n",
       "    var NB_LOAD_WARNING = {'data': {'text/html':\n",
       "       \"<div style='background-color: #fdd'>\\n\"+\n",
       "       \"<p>\\n\"+\n",
       "       \"BokehJS does not appear to have successfully loaded. If loading BokehJS from CDN, this \\n\"+\n",
       "       \"may be due to a slow or bad network connection. Possible fixes:\\n\"+\n",
       "       \"</p>\\n\"+\n",
       "       \"<ul>\\n\"+\n",
       "       \"<li>re-rerun `output_notebook()` to attempt to load from CDN again, or</li>\\n\"+\n",
       "       \"<li>use INLINE resources instead, as so:</li>\\n\"+\n",
       "       \"</ul>\\n\"+\n",
       "       \"<code>\\n\"+\n",
       "       \"from bokeh.resources import INLINE\\n\"+\n",
       "       \"output_notebook(resources=INLINE)\\n\"+\n",
       "       \"</code>\\n\"+\n",
       "       \"</div>\"}};\n",
       "  \n",
       "    function display_loaded() {\n",
       "      if (window.Bokeh !== undefined) {\n",
       "        Bokeh.$(\"#3a38a759-951d-4b43-8d5d-c405595db46c\").text(\"BokehJS successfully loaded.\");\n",
       "      } else if (Date.now() < window._bokeh_timeout) {\n",
       "        setTimeout(display_loaded, 100)\n",
       "      }\n",
       "    }\n",
       "  \n",
       "    function run_callbacks() {\n",
       "      window._bokeh_onload_callbacks.forEach(function(callback) { callback() });\n",
       "      delete window._bokeh_onload_callbacks\n",
       "      console.info(\"Bokeh: all callbacks have finished\");\n",
       "    }\n",
       "  \n",
       "    function load_libs(js_urls, callback) {\n",
       "      window._bokeh_onload_callbacks.push(callback);\n",
       "      if (window._bokeh_is_loading > 0) {\n",
       "        console.log(\"Bokeh: BokehJS is being loaded, scheduling callback at\", now());\n",
       "        return null;\n",
       "      }\n",
       "      if (js_urls == null || js_urls.length === 0) {\n",
       "        run_callbacks();\n",
       "        return null;\n",
       "      }\n",
       "      console.log(\"Bokeh: BokehJS not loaded, scheduling load and callback at\", now());\n",
       "      window._bokeh_is_loading = js_urls.length;\n",
       "      for (var i = 0; i < js_urls.length; i++) {\n",
       "        var url = js_urls[i];\n",
       "        var s = document.createElement('script');\n",
       "        s.src = url;\n",
       "        s.async = false;\n",
       "        s.onreadystatechange = s.onload = function() {\n",
       "          window._bokeh_is_loading--;\n",
       "          if (window._bokeh_is_loading === 0) {\n",
       "            console.log(\"Bokeh: all BokehJS libraries loaded\");\n",
       "            run_callbacks()\n",
       "          }\n",
       "        };\n",
       "        s.onerror = function() {\n",
       "          console.warn(\"failed to load library \" + url);\n",
       "        };\n",
       "        console.log(\"Bokeh: injecting script tag for BokehJS library: \", url);\n",
       "        document.getElementsByTagName(\"head\")[0].appendChild(s);\n",
       "      }\n",
       "    };var element = document.getElementById(\"3a38a759-951d-4b43-8d5d-c405595db46c\");\n",
       "    if (element == null) {\n",
       "      console.log(\"Bokeh: ERROR: autoload.js configured with elementid '3a38a759-951d-4b43-8d5d-c405595db46c' but no matching script tag was found. \")\n",
       "      return false;\n",
       "    }\n",
       "  \n",
       "    var js_urls = [];\n",
       "  \n",
       "    var inline_js = [\n",
       "      function(Bokeh) {\n",
       "        Bokeh.$(function() {\n",
       "            var docs_json = {\"70689079-cacb-4131-a4b6-931828f94a9e\":{\"roots\":{\"references\":[{\"attributes\":{\"line_alpha\":{\"value\":0.1},\"line_color\":{\"value\":\"#1f77b4\"},\"x\":{\"field\":\"x\"},\"y\":{\"field\":\"y\"}},\"id\":\"d285e88e-eccd-4e50-a1fb-01a81892fba9\",\"type\":\"Line\"},{\"attributes\":{\"callback\":null,\"column_names\":[\"y\",\"x\"],\"data\":{\"x\":[0,1,2,3,4,5,6,7,8,9,10,11,12,13,14,15,16,17,18,19,20,21,22,23,24,25,26,27,28,29,30,31,32,33,34,35,36,37,38,39,40,41,42,43,44,45,46,47,48,49,50,51,52,53,54,55,56,57,58,59,60,61,62,63,64,65,66,67,68,69,70,71,72,73,74,75,76,77,78,79,80,81,82,83,84,85,86,87,88,89,90,91,92,93,94,95,96,97,98,99,100,101,102,103,104,105,106,107,108,109,110,111,112,113,114,115,116,117,118,119,120,121,122,123,124,125,126,127,128,129,130,131,132,133,134,135,136,137,138,139,140,141,142,143,144,145,146,147,148,149,150,151,152,153,154,155,156,157,158,159,160,161,162,163,164,165,166,167,168,169,170,171,172,173,174,175,176,177,178,179,180,181,182,183,184,185,186,187,188,189,190,191,192,193,194,195,196,197,198,199,200,201,202,203,204,205,206,207,208,209,210,211,212,213,214,215,216,217,218,219,220,221,222,223,224,225,226,227,228,229,230,231,232,233,234,235,236,237,238,239,240,241,242,243,244,245,246,247,248,249,250,251,252,253,254,255,256,257,258,259,260,261,262,263,264,265,266,267,268,269,270,271,272,273,274,275,276,277,278,279,280,281,282,283,284,285,286,287,288,289,290,291,292,293,294,295,296,297,298,299,300,301,302,303,304,305,306,307,308,309,310,311,312,313,314,315,316,317,318,319,320,321,322,323,324,325,326,327,328,329,330,331,332,333,334,335,336,337,338,339,340,341,342,343,344,345,346,347,348,349,350,351,352,353,354,355,356,357,358,359,360,361,362,363,364,365,366,367,368,369,370,371,372,373,374,375,376,377,378,379,380,381,382,383,384,385,386,387,388,389,390,391,392,393,394,395,396,397,398,399,400,401,402,403,404,405,406,407,408,409,410,411,412,413,414,415,416,417,418,419,420,421,422,423,424,425,426,427,428,429,430,431,432,433,434,435,436,437,438,439,440,441,442,443,444,445,446,447,448,449,450,451,452,453,454,455,456,457,458,459,460,461,462,463,464,465,466,467,468,469,470,471,472,473,474,475,476,477,478,479,480,481,482,483,484,485,486,487,488,489,490,491,492,493,494,495,496,497,498,499,500,501,502,503,504,505,506,507,508,509,510,511,512,513,514,515,516,517,518,519,520,521,522,523,524,525,526,527,528,529,530,531,532,533,534,535,536,537,538,539,540,541,542,543,544,545,546,547,548,549,550,551,552,553,554,555,556,557,558,559,560,561,562,563,564,565,566,567,568,569,570,571,572,573,574,575,576,577,578,579,580,581,582,583,584,585,586,587,588,589,590,591,592,593,594,595,596,597,598,599,600,601,602,603,604,605,606,607,608,609,610,611,612,613,614,615,616,617,618,619,620,621,622,623,624,625,626,627,628,629,630,631,632,633,634,635,636,637,638,639,640,641,642,643,644,645,646,647,648,649,650,651,652,653,654,655,656,657,658,659,660,661,662,663,664,665,666,667,668,669,670,671,672,673,674,675,676,677,678,679,680,681,682,683,684,685,686,687,688,689,690,691,692,693,694,695,696,697,698,699,700,701,702,703,704,705,706,707,708,709,710,711,712,713,714,715,716,717,718,719,720,721,722,723,724,725,726,727,728,729,730,731,732,733,734,735,736,737,738,739,740,741,742,743,744,745,746,747,748,749,750,751,752,753,754,755,756,757,758,759,760,761,762,763,764,765,766,767,768,769,770,771,772,773,774,775,776,777,778,779,780,781,782,783,784,785,786,787,788,789,790,791,792,793,794,795,796,797,798,799,800,801,802,803,804,805,806,807,808,809,810,811,812,813,814,815,816,817,818,819,820,821,822,823,824,825,826,827,828,829,830,831,832,833,834,835,836,837,838,839,840,841,842,843,844,845,846,847,848,849,850,851,852,853,854,855,856,857,858,859,860,861,862,863,864,865,866,867,868,869,870,871,872,873,874,875,876,877,878,879,880,881,882,883,884,885,886,887,888,889,890,891,892,893,894,895,896,897,898,899,900,901,902,903,904,905,906,907,908,909,910,911,912,913,914,915,916,917,918,919,920,921,922,923,924,925,926,927,928,929,930,931,932,933,934,935,936,937,938,939,940,941,942,943,944,945,946,947,948,949,950,951,952,953,954,955,956,957,958,959,960,961,962,963,964,965,966,967,968,969,970,971,972,973,974,975,976,977,978,979,980,981,982,983,984,985,986,987,988,989,990,991,992,993,994,995,996,997,998,999,1000,1001,1002,1003,1004,1005,1006,1007,1008,1009,1010,1011,1012,1013,1014,1015,1016,1017,1018,1019,1020,1021,1022,1023,1024,1025,1026,1027,1028,1029,1030,1031,1032,1033,1034,1035,1036,1037,1038,1039,1040,1041,1042,1043,1044,1045,1046,1047,1048,1049,1050,1051,1052,1053,1054,1055,1056,1057,1058,1059,1060,1061,1062,1063,1064,1065,1066,1067,1068,1069,1070,1071,1072,1073,1074,1075,1076,1077,1078,1079,1080,1081,1082,1083,1084,1085,1086,1087,1088,1089,1090,1091,1092,1093,1094,1095,1096,1097,1098,1099,1100,1101,1102,1103,1104,1105,1106,1107,1108,1109,1110,1111,1112,1113,1114,1115,1116,1117,1118,1119,1120,1121,1122,1123,1124,1125,1126,1127,1128,1129,1130,1131,1132,1133,1134,1135,1136,1137,1138,1139,1140,1141,1142,1143,1144,1145,1146,1147,1148,1149,1150,1151,1152,1153,1154,1155,1156,1157,1158,1159,1160,1161,1162,1163,1164,1165,1166,1167,1168,1169,1170,1171,1172,1173,1174,1175,1176,1177,1178,1179,1180,1181,1182,1183,1184,1185,1186,1187,1188,1189,1190,1191,1192,1193,1194,1195,1196,1197,1198,1199,1200,1201,1202,1203,1204,1205,1206,1207,1208,1209,1210,1211,1212,1213,1214,1215,1216,1217,1218,1219,1220,1221,1222,1223,1224,1225,1226,1227,1228,1229,1230,1231,1232,1233,1234,1235,1236,1237,1238,1239,1240,1241,1242,1243,1244,1245,1246,1247,1248,1249,1250,1251,1252,1253,1254,1255,1256,1257,1258,1259,1260,1261,1262,1263,1264,1265,1266,1267,1268,1269,1270,1271,1272,1273,1274,1275,1276,1277,1278,1279,1280,1281,1282,1283,1284,1285,1286,1287,1288,1289,1290,1291,1292,1293,1294,1295,1296,1297,1298,1299,1300,1301,1302,1303,1304,1305,1306,1307,1308,1309,1310,1311,1312,1313,1314,1315,1316,1317,1318,1319,1320,1321,1322,1323,1324,1325,1326,1327,1328,1329,1330,1331,1332,1333,1334,1335,1336,1337,1338,1339,1340,1341,1342,1343,1344,1345,1346,1347,1348,1349,1350,1351,1352,1353,1354,1355,1356,1357,1358,1359,1360,1361,1362,1363,1364,1365,1366,1367,1368,1369,1370,1371,1372,1373,1374,1375,1376,1377,1378,1379,1380,1381,1382,1383,1384,1385,1386,1387,1388,1389,1390,1391,1392,1393,1394,1395,1396,1397,1398,1399,1400,1401,1402,1403,1404,1405,1406,1407,1408,1409,1410,1411,1412,1413,1414,1415,1416,1417,1418,1419,1420,1421,1422,1423,1424,1425,1426,1427,1428,1429,1430,1431,1432,1433,1434,1435,1436,1437,1438,1439,1440,1441,1442,1443,1444,1445,1446,1447,1448,1449,1450,1451,1452,1453,1454,1455,1456,1457,1458,1459,1460,1461,1462,1463,1464,1465,1466,1467,1468,1469,1470,1471,1472,1473,1474,1475,1476,1477,1478,1479,1480,1481,1482,1483,1484,1485,1486,1487,1488,1489,1490,1491,1492,1493,1494,1495,1496,1497,1498,1499,1500,1501,1502,1503,1504,1505,1506,1507,1508,1509,1510,1511,1512,1513,1514,1515,1516,1517,1518,1519,1520,1521,1522,1523,1524,1525,1526,1527,1528,1529,1530,1531,1532,1533,1534,1535,1536,1537,1538,1539,1540,1541,1542,1543,1544,1545,1546,1547,1548,1549,1550,1551,1552,1553,1554,1555,1556,1557,1558,1559,1560,1561,1562,1563,1564,1565,1566,1567,1568,1569,1570,1571,1572,1573,1574,1575,1576,1577,1578,1579,1580,1581,1582,1583,1584,1585,1586,1587,1588,1589,1590,1591,1592,1593,1594,1595,1596,1597,1598,1599,1600,1601,1602,1603,1604,1605,1606,1607,1608,1609,1610,1611,1612,1613,1614,1615,1616,1617,1618,1619,1620,1621,1622,1623,1624,1625,1626,1627,1628,1629,1630,1631,1632,1633,1634,1635,1636,1637,1638,1639,1640,1641,1642,1643,1644,1645,1646,1647,1648,1649,1650,1651,1652,1653,1654,1655,1656,1657,1658,1659,1660,1661,1662,1663,1664,1665,1666,1667,1668,1669,1670,1671,1672,1673,1674,1675,1676,1677,1678,1679,1680,1681,1682,1683,1684,1685,1686,1687,1688,1689,1690,1691,1692,1693,1694,1695,1696,1697,1698,1699,1700,1701,1702,1703,1704,1705,1706,1707,1708,1709,1710,1711,1712,1713,1714,1715,1716,1717,1718,1719,1720,1721,1722,1723,1724,1725,1726,1727,1728,1729,1730,1731,1732,1733,1734,1735,1736,1737,1738,1739,1740,1741,1742,1743,1744,1745,1746,1747,1748,1749,1750,1751,1752,1753,1754,1755,1756,1757,1758,1759,1760,1761,1762,1763,1764,1765,1766,1767,1768,1769,1770,1771,1772,1773,1774,1775,1776,1777,1778,1779,1780,1781,1782,1783,1784,1785,1786,1787,1788,1789,1790,1791,1792,1793,1794,1795,1796,1797,1798,1799,1800,1801,1802,1803,1804,1805,1806,1807,1808,1809,1810,1811,1812,1813,1814,1815,1816,1817,1818,1819,1820,1821,1822,1823,1824,1825,1826,1827,1828,1829,1830,1831,1832,1833,1834,1835,1836,1837,1838,1839,1840,1841,1842,1843,1844,1845,1846,1847,1848,1849,1850,1851,1852,1853,1854,1855,1856,1857,1858,1859,1860,1861,1862,1863,1864,1865,1866,1867,1868,1869,1870,1871,1872,1873,1874,1875,1876,1877,1878,1879,1880,1881,1882,1883,1884,1885,1886,1887,1888,1889,1890,1891,1892,1893,1894,1895,1896,1897,1898,1899,1900,1901,1902,1903,1904,1905,1906,1907,1908,1909,1910,1911,1912,1913,1914,1915,1916,1917,1918,1919,1920,1921,1922,1923,1924,1925,1926,1927,1928,1929,1930,1931,1932,1933,1934,1935,1936,1937,1938,1939,1940,1941,1942,1943,1944,1945,1946,1947,1948,1949,1950,1951,1952,1953,1954,1955,1956,1957,1958,1959,1960,1961,1962,1963,1964,1965,1966,1967,1968,1969,1970,1971,1972,1973,1974,1975,1976,1977,1978,1979,1980,1981,1982,1983,1984,1985,1986,1987,1988,1989,1990,1991,1992,1993,1994,1995,1996,1997,1998,1999],\"y\":[2.7927446365356445,1.6871193647384644,1.6610394716262817,1.6153819561004639,1.9050917625427246,1.5028245449066162,1.505255937576294,1.5863826274871826,1.4701738357543945,1.403506875038147,1.464482307434082,1.3996655941009521,1.3641480207443237,1.2302378416061401,1.313364028930664,1.5202850103378296,1.3391869068145752,1.5043898820877075,1.4421823024749756,1.5344369411468506,1.4529985189437866,1.3726164102554321,1.4590551853179932,1.3037183284759521,1.2876343727111816,1.25970458984375,1.52425217628479,1.5213984251022339,1.4360342025756836,1.3495917320251465,1.261126160621643,1.4076467752456665,1.2728928327560425,1.3114376068115234,1.3082234859466553,1.4915666580200195,1.2037396430969238,1.2718629837036133,1.6214604377746582,1.3525258302688599,1.1370763778686523,1.4896817207336426,1.3306829929351807,1.1908948421478271,1.3116204738616943,1.037287950515747,1.066318154335022,1.1704663038253784,1.4751617908477783,1.115996241569519,1.193088173866272,1.0958986282348633,1.0551812648773193,0.967771589756012,1.1714063882827759,1.4117460250854492,0.9486883878707886,0.9875915050506592,0.9693671464920044,1.0315515995025635,1.0870305299758911,1.1202671527862549,1.0104986429214478,1.3063781261444092,1.355921983718872,0.9807475805282593,0.9249760508537292,1.0412745475769043,1.0593968629837036,1.2151614427566528,0.8601647019386292,1.0390030145645142,0.7710464000701904,0.9816832542419434,1.0266082286834717,1.1821954250335693,0.8855794668197632,1.1069055795669556,0.8684241771697998,0.9100696444511414,0.9253069758415222,0.9417901039123535,0.8604034781455994,1.3310027122497559,0.8348024487495422,1.0405510663986206,1.0500518083572388,1.1215283870697021,1.1037887334823608,0.8008425235748291,0.9335104823112488,0.8621304035186768,0.8023536801338196,0.8137878179550171,1.2319586277008057,1.1055045127868652,1.1395597457885742,0.8795320987701416,0.9038732647895813,0.7907036542892456,1.070648193359375,0.8706907629966736,0.9218672513961792,0.8445020914077759,0.8094942569732666,0.7781729698181152,0.7434248924255371,0.7586199045181274,0.8509183526039124,1.1276323795318604,0.8111871480941772,0.8432765007019043,0.7271473407745361,0.8831571340560913,0.9770579934120178,1.066664695739746,1.0653173923492432,0.9662700295448303,0.8937878608703613,0.8431483507156372,0.9112989902496338,0.802971363067627,0.8214787244796753,0.8077017068862915,0.8704671263694763,0.8294506072998047,0.906073808670044,0.7701396942138672,0.7107463479042053,0.9789401292800903,0.9178503751754761,0.7371021509170532,0.8653393983840942,1.0143449306488037,0.7547702789306641,0.9020131826400757,1.0746848583221436,0.7203896045684814,0.7817828059196472,0.921667218208313,0.808726966381073,0.810742974281311,0.5924235582351685,0.684208869934082,0.8826976418495178,0.9309226274490356,0.8902108073234558,0.7000075578689575,0.7829058766365051,0.8189771771430969,0.8408583402633667,0.9140875935554504,0.7475665807723999,0.5471436977386475,0.7750066518783569,0.6555426120758057,0.723432183265686,0.8576647043228149,0.8273943662643433,0.764750063419342,0.8647736310958862,1.0462021827697754,0.6519865393638611,0.9243980050086975,0.7240723371505737,0.8283448815345764,0.8238663077354431,0.672757625579834,0.7890812158584595,0.8315044045448303,0.7534958124160767,0.5308854579925537,0.5348575115203857,0.9119827747344971,0.6260355710983276,0.8124032616615295,0.5668748021125793,0.6788945198059082,0.7738568782806396,0.7956869602203369,0.6458733677864075,0.7392356395721436,0.6675896644592285,0.8543330430984497,0.7830137014389038,0.6024874448776245,0.6698812246322632,0.5323039293289185,0.5831981897354126,0.6273964047431946,0.7266339063644409,0.5847559571266174,0.8011463284492493,0.5757428407669067,0.5098252296447754,0.780358076095581,0.7659783363342285,0.5963853001594543,0.6414645910263062,0.5589569807052612,0.8752219080924988,0.58295077085495,0.8730341792106628,0.5899209976196289,0.5034040212631226,0.6701562404632568,0.756919801235199,0.6805298328399658,0.6322086453437805,0.5233722925186157,0.5722966194152832,0.4740498661994934,0.9500294923782349,0.6933782696723938,0.7966371178627014,0.8171602487564087,0.8708735704421997,0.7776966094970703,0.7515422105789185,0.709282398223877,0.5656476020812988,0.6678867340087891,0.5116949081420898,0.7348973751068115,0.6105813384056091,0.9548684358596802,0.9259009957313538,0.9935625791549683,0.5550756454467773,0.7612975239753723,0.8831117153167725,0.6465809345245361,0.7213342189788818,0.5624942779541016,0.5841256976127625,0.644421398639679,0.5305294990539551,0.6543318033218384,0.8807841539382935,0.5250622034072876,0.589508056640625,0.7273277044296265,0.7583802342414856,0.6990153193473816,0.6776983737945557,0.7248997688293457,0.6534950733184814,0.7512686848640442,0.5662840604782104,0.6757871508598328,0.8683862686157227,0.4882937967777252,0.4933958351612091,0.9020344018936157,0.7028668522834778,0.7766411304473877,0.9492720365524292,0.6797055602073669,0.6884901523590088,0.629645586013794,0.5943880081176758,0.5359836220741272,0.5116557478904724,0.8234156370162964,0.7846137285232544,0.7421889305114746,0.5473462343215942,0.6074404120445251,0.7077134847640991,0.7481762766838074,0.5757467746734619,1.065755844116211,1.0739643573760986,0.6884539127349854,0.7385910153388977,0.6719972491264343,0.8124037981033325,1.074454426765442,0.8303275108337402,0.5136396288871765,0.44532373547554016,0.4732142984867096,0.5135796070098877,0.4700903594493866,0.7403668165206909,0.6798394918441772,0.49698007106781006,0.5542523860931396,0.5419917702674866,0.8063907623291016,0.5683661103248596,0.6439340114593506,0.7605074048042297,0.7712653875350952,0.8808317184448242,0.7163119316101074,0.5929865837097168,0.6117573976516724,0.7537664175033569,0.736640214920044,0.6208406090736389,0.5637646913528442,0.47219130396842957,0.4779652953147888,0.5277531743049622,0.8713977336883545,0.7291711568832397,0.5091882944107056,0.5471692085266113,0.3689642548561096,0.61679607629776,0.482052206993103,0.41062062978744507,0.5581176280975342,0.49830228090286255,0.5216453075408936,0.6036418676376343,0.5982553958892822,0.7930343151092529,0.6297866106033325,0.6509416699409485,0.48745572566986084,0.48520445823669434,0.3950801193714142,0.3993815779685974,0.5299935340881348,0.5960429906845093,0.395333468914032,0.3610946536064148,0.3506561517715454,0.3621197044849396,0.3519238233566284,0.636096715927124,0.4221382737159729,0.4410138428211212,0.6523803472518921,0.5537685751914978,0.3801257014274597,0.3390752077102661,0.5394654870033264,0.6378064155578613,0.43202388286590576,0.3577626645565033,0.6145185232162476,0.9638158082962036,0.3710618019104004,0.6314834356307983,0.45530614256858826,0.8497347831726074,0.49493497610092163,0.6906266212463379,0.549988865852356,0.45825979113578796,0.41826489567756653,0.35233867168426514,0.640083909034729,0.3993149995803833,0.5699967741966248,0.787635862827301,0.5496933460235596,0.510784924030304,0.6794233918190002,0.6963405609130859,0.7055687308311462,0.41657570004463196,0.7969769239425659,0.5039911270141602,0.5228883028030396,0.7892060875892639,0.4555836617946625,0.5724973678588867,0.43319442868232727,0.5306931734085083,0.536648154258728,0.366474986076355,0.529956042766571,0.6677603721618652,0.4532162845134735,0.45014989376068115,0.5163421034812927,0.5129621028900146,0.5979649424552917,0.4034046530723572,0.6902130246162415,0.6567919254302979,0.7789541482925415,0.5807841420173645,0.42042094469070435,0.7069880962371826,0.7118473052978516,0.7019667625427246,0.5123796463012695,0.720178484916687,0.6596111059188843,0.6246949434280396,0.8026149272918701,0.9069186449050903,0.27001529932022095,0.6092591881752014,0.8201709985733032,0.7457048892974854,0.5704085826873779,0.4485166668891907,0.5545446872711182,0.6892613172531128,0.6775344014167786,0.5324956774711609,0.9641109704971313,0.9298630356788635,0.5962501764297485,0.7726123929023743,0.38212162256240845,0.9449478387832642,0.48541057109832764,0.6210634708404541,0.30940163135528564,0.5054931640625,0.5914644598960876,0.6660257577896118,0.5669363737106323,0.4707373380661011,0.43039318919181824,0.7268426418304443,0.4335048198699951,0.37328431010246277,0.5916357040405273,0.7072415351867676,0.7258051633834839,0.6304519772529602,0.6555988788604736,0.3127201199531555,0.7368099689483643,0.6113202571868896,0.43538928031921387,0.5530844926834106,0.5261621475219727,0.7419134378433228,0.5533164739608765,0.42016661167144775,0.684566855430603,0.6632032990455627,0.690654993057251,0.6084694862365723,0.7694416046142578,0.5358293056488037,0.5607473850250244,0.7466924786567688,0.5997841954231262,0.851948618888855,0.7883445024490356,0.5194751620292664,0.39003992080688477,0.4282166063785553,0.5251225829124451,0.7300994396209717,0.4582698941230774,0.5702365636825562,0.6635019183158875,0.6381071209907532,0.6752547025680542,0.6719869375228882,0.6841630935668945,0.9010647535324097,0.9726488590240479,0.5994107723236084,0.34010517597198486,0.37165284156799316,0.5872166752815247,0.500862717628479,0.4483078420162201,0.5222164988517761,0.39055299758911133,0.7207189798355103,0.4709746241569519,0.6374002695083618,0.6028484106063843,0.5562460422515869,0.6456116437911987,0.34160757064819336,0.4504782557487488,0.5027787685394287,0.45266401767730713,0.3687727451324463,0.47836557030677795,0.5332443714141846,0.49168768525123596,0.5911568403244019,0.5488022565841675,0.5084127187728882,0.3871869444847107,0.33136165142059326,0.7677081227302551,0.7035778760910034,0.5874650478363037,0.3396162986755371,0.5171655416488647,0.5124353170394897,0.3657800853252411,0.7130872011184692,0.44816094636917114,0.828769326210022,0.6881359219551086,0.39661329984664917,0.35147708654403687,0.47739219665527344,0.4044777750968933,0.5842549800872803,0.29681360721588135,0.4578495919704437,0.37019670009613037,0.26014387607574463,0.6467074155807495,0.35799479484558105,0.5613386631011963,0.33945605158805847,0.5451993942260742,0.2902662754058838,0.726831316947937,0.4285862147808075,0.5710086822509766,0.5018317699432373,0.7726603746414185,0.32667383551597595,0.4308920204639435,0.5030556917190552,0.4769384264945984,0.5046631693840027,0.6085977554321289,0.38963139057159424,0.6139781475067139,0.5911540389060974,0.6385807394981384,0.7451819777488708,0.5875541567802429,0.5462812185287476,0.4543023407459259,0.5754365921020508,0.5507903099060059,0.7868308424949646,0.4259451925754547,0.5970252156257629,0.46436363458633423,0.47038131952285767,0.6346938610076904,0.6224871873855591,0.5504909753799438,0.856168806552887,0.5133373737335205,0.812303900718689,0.8337399959564209,0.3815779685974121,0.4944101572036743,0.40335869789123535,0.7949730753898621,0.5781292915344238,0.5601902008056641,0.9493194818496704,0.6207696199417114,0.5137009620666504,0.3828717768192291,0.4044399857521057,0.348019003868103,0.5643384456634521,0.3495398163795471,0.4455328583717346,0.6155097484588623,0.2979036569595337,0.354527086019516,0.331468403339386,0.6129302978515625,0.39457499980926514,0.29035383462905884,0.43052512407302856,0.4644497036933899,0.4788828492164612,0.7008037567138672,0.2768692970275879,0.47817784547805786,0.41983163356781006,0.2744952440261841,0.3826451301574707,0.6533082127571106,0.43202123045921326,0.3428364396095276,0.3828182518482208,0.6870757341384888,0.24044418334960938,0.2566375732421875,0.6123775243759155,0.36287903785705566,0.3863617181777954,0.4375423789024353,0.5157902240753174,0.35019925236701965,0.43268388509750366,0.29220521450042725,0.5359617471694946,0.3654717206954956,0.39807790517807007,0.3456687331199646,0.47483688592910767,0.7121633291244507,0.3941558599472046,0.3064418435096741,0.7725943326950073,0.3634803295135498,0.4430061876773834,0.36758744716644287,0.2672829329967499,0.46139979362487793,0.45549774169921875,0.5273281335830688,0.49764424562454224,0.4125654101371765,0.16164350509643555,0.2705182433128357,0.1699809581041336,0.41329342126846313,0.30718785524368286,0.5757653713226318,0.45783597230911255,0.262912392616272,0.42272672057151794,0.6398305892944336,0.41211360692977905,0.7107561826705933,0.4821769595146179,0.43181705474853516,0.4243835508823395,0.23817041516304016,0.891497790813446,0.7251310348510742,0.4855767786502838,0.2664085030555725,0.4636121094226837,0.6119221448898315,0.2636714279651642,0.3171297311782837,0.3509923815727234,0.31248095631599426,0.4344261586666107,0.4643534719944,0.5874372124671936,0.39414793252944946,0.35253146290779114,0.46793362498283386,0.48100945353507996,0.6207451820373535,0.26897257566452026,0.6450888514518738,0.4393775463104248,0.485699862241745,0.43808987736701965,0.712527871131897,0.8804351091384888,0.6890577673912048,0.5244510173797607,0.4841765761375427,0.35866522789001465,0.42826056480407715,0.4429643452167511,0.4110746681690216,0.49619752168655396,0.3140774369239807,0.26100775599479675,0.3710598647594452,0.3554796576499939,0.5227934122085571,0.5223830342292786,0.6441417932510376,0.40765947103500366,0.26897627115249634,0.44682806730270386,0.20665040612220764,0.46547701954841614,0.4135093688964844,0.46299421787261963,0.49583670496940613,0.5557190179824829,0.277593195438385,0.1820153295993805,0.398333340883255,0.33071738481521606,0.36568504571914673,0.29250240325927734,0.6511069536209106,0.43473020195961,0.49370482563972473,0.23278887569904327,0.3153342306613922,0.33715781569480896,0.6778109073638916,0.4261191487312317,0.6530282497406006,0.811057984828949,0.32908952236175537,0.49302929639816284,0.3986724019050598,0.3663943111896515,0.30463993549346924,0.2410699874162674,0.44316914677619934,0.7557828426361084,1.0544772148132324,0.6751949191093445,0.6456986665725708,0.49292123317718506,0.3999258577823639,0.38529258966445923,0.5054306387901306,0.5203676819801331,0.452459454536438,0.7459911108016968,0.5028582215309143,0.2357921004295349,0.39362800121307373,0.36617735028266907,0.30082011222839355,0.4391763508319855,0.5036777853965759,0.4503624737262726,0.6805857419967651,0.3962624967098236,0.31950363516807556,0.4894234538078308,0.5342380404472351,0.4528968930244446,0.34409719705581665,0.2462264597415924,0.30353909730911255,0.4188607633113861,0.37630313634872437,0.646701991558075,0.5850350260734558,0.33870524168014526,0.4210691452026367,0.3343186378479004,0.561442494392395,0.6154252290725708,0.22976523637771606,0.626534104347229,0.7034155130386353,0.36316996812820435,0.36503466963768005,0.573341429233551,0.48591235280036926,0.34429022669792175,0.4345017969608307,0.39255189895629883,0.4014348089694977,0.35596340894699097,0.8377097249031067,0.3056477904319763,0.5183659791946411,0.2824578881263733,0.20711803436279297,0.6035603284835815,0.3682818114757538,0.7503738403320312,0.4562431871891022,0.3032183051109314,0.45398950576782227,0.27644529938697815,0.41187840700149536,0.4294883608818054,0.39292198419570923,0.4525301158428192,0.5271142721176147,0.30819714069366455,0.850829005241394,0.6220861673355103,0.543168306350708,0.5388423204421997,0.3217373490333557,0.5545065402984619,0.35363805294036865,0.4737207591533661,0.42174601554870605,0.3967808485031128,0.6668152809143066,0.578119695186615,0.2708798348903656,0.2784425616264343,0.354352742433548,0.4077317714691162,0.5884852409362793,0.503239631652832,0.3995615839958191,0.4517972469329834,0.2975893020629883,0.5970249176025391,0.4462728500366211,0.16773547232151031,0.4291627109050751,0.16485756635665894,0.27085500955581665,0.45452043414115906,0.3016560971736908,0.32517558336257935,0.3779561519622803,0.29815658926963806,0.4376062750816345,0.3340045213699341,0.2885437607765198,0.23022469878196716,0.311347633600235,0.5659615993499756,0.3217167556285858,0.49016278982162476,0.297873854637146,0.3957521319389343,0.4285409450531006,0.36180609464645386,0.4321892261505127,0.35436105728149414,0.14831604063510895,0.3899790048599243,0.498238742351532,0.34833845496177673,0.440919429063797,0.3453710079193115,0.3407096266746521,0.18162372708320618,0.6117182374000549,0.8253419399261475,0.39112940430641174,0.4014829695224762,0.47803568840026855,0.49529218673706055,0.3851265013217926,0.405762642621994,0.3666578531265259,0.9819209575653076,0.24154645204544067,0.4462687075138092,0.5537155866622925,0.3868144154548645,0.34945085644721985,0.4574090242385864,0.5201820731163025,0.47334450483322144,0.44348615407943726,0.36585313081741333,0.3415994942188263,0.3172389566898346,0.4004150629043579,0.29754847288131714,0.4039873480796814,0.5281583666801453,0.8200218677520752,0.27938878536224365,0.5110059976577759,0.31405067443847656,0.3747952878475189,0.2891284227371216,0.25728753209114075,0.45891880989074707,0.38704121112823486,0.3161923289299011,0.330441415309906,0.2942994236946106,0.16411656141281128,0.32094013690948486,0.46851515769958496,0.3178580701351166,0.4388715624809265,0.4798130989074707,0.224265456199646,0.4833868443965912,0.5614681839942932,0.3266565799713135,0.5421847105026245,0.2628762125968933,0.23923146724700928,0.3606339991092682,0.17204917967319489,0.22020509839057922,0.3446618318557739,0.2638731598854065,0.44553637504577637,0.25976914167404175,0.46014270186424255,0.20900188386440277,1.0454120635986328,0.2547084391117096,0.18020930886268616,0.8492474555969238,0.5196454524993896,0.40038853883743286,0.3341352343559265,0.5233371257781982,0.4495425224304199,0.3227132558822632,0.5454959273338318,0.7502959966659546,0.8147739171981812,0.23978790640830994,0.5527450442314148,0.2997993230819702,0.4907737672328949,0.389163613319397,0.24230217933654785,0.21199548244476318,0.2887905240058899,0.7351727485656738,0.3726617097854614,0.7433761954307556,0.16889822483062744,0.4277248978614807,0.36124348640441895,0.6153466701507568,0.6103813648223877,0.6209311485290527,0.5633732676506042,0.27795207500457764,0.5810524821281433,0.37758758664131165,0.36583659052848816,0.42244860529899597,0.3784303665161133,0.3819156587123871,0.43258312344551086,0.19499453902244568,0.34964120388031006,0.32963359355926514,0.3061215877532959,0.5530718564987183,0.3346688151359558,0.4709206819534302,0.28875988721847534,0.35162490606307983,0.3786657750606537,0.6140486598014832,0.43303924798965454,0.5427032113075256,0.5408146381378174,0.8907517194747925,0.4255537688732147,0.5468599200248718,0.5901233553886414,0.42346641421318054,0.5804126858711243,0.40442249178886414,0.43080681562423706,0.44912320375442505,0.6489109992980957,0.27631163597106934,0.3023242950439453,0.3935301899909973,0.4460485577583313,0.3041204512119293,0.3373277187347412,0.411484956741333,0.5081827640533447,0.3610360026359558,0.3705037236213684,0.38296520709991455,0.30366021394729614,0.5353952646255493,0.4724620282649994,0.4238837957382202,0.44564515352249146,0.24836614727973938,0.3087574243545532,0.47127634286880493,0.5571714043617249,0.35031136870384216,0.3608322739601135,0.2947307825088501,0.5455071926116943,0.25437599420547485,0.2868722677230835,0.7219085693359375,0.17250275611877441,0.9191436767578125,0.33619391918182373,0.21803545951843262,0.5482980012893677,0.7351880073547363,0.6808981895446777,0.563946008682251,0.3583511710166931,0.5142292976379395,0.2388361096382141,0.35741961002349854,0.3792400360107422,0.3201235830783844,0.406225323677063,0.35627198219299316,0.7197052240371704,0.47599875926971436,0.6313579678535461,0.40762054920196533,0.39613714814186096,0.22046150267124176,0.6694908738136292,0.3706977069377899,0.33413517475128174,0.44997528195381165,0.25722289085388184,0.5118163824081421,0.4916440546512604,0.4044632315635681,0.5159357786178589,0.5484628677368164,0.5206236839294434,0.5503016710281372,0.4253718852996826,0.6919386982917786,0.26554620265960693,0.6715309023857117,0.4607086777687073,0.4589177370071411,0.6499716639518738,0.5187082290649414,0.5501631498336792,0.33646053075790405,0.450050413608551,0.25519996881484985,0.32866165041923523,0.7448889017105103,0.5762001276016235,0.38739874958992004,0.2890393137931824,0.45417845249176025,0.35592979192733765,0.23578399419784546,0.4121243953704834,0.5272125601768494,0.2981947064399719,0.23473866283893585,0.28895699977874756,0.22866080701351166,0.37629300355911255,0.37473559379577637,0.406416118144989,0.29485875368118286,0.44801944494247437,0.718341588973999,0.17200994491577148,0.3677792251110077,0.3116030693054199,0.7682910561561584,0.4441986083984375,0.4955732822418213,0.5860201716423035,0.19523100554943085,0.4155014455318451,0.36890822649002075,0.6945250034332275,0.2558214068412781,0.17459654808044434,0.38081324100494385,0.25362974405288696,0.24290534853935242,0.6569650769233704,0.29298126697540283,0.2173943966627121,0.17853295803070068,0.24786756932735443,0.18010348081588745,0.15661513805389404,0.24874913692474365,0.2595461308956146,0.5726515650749207,0.303700715303421,0.49685385823249817,0.14633625745773315,0.2685664892196655,0.42248204350471497,0.2445010244846344,0.17271673679351807,0.542180597782135,0.39640945196151733,0.2892652750015259,0.42181968688964844,0.7812770009040833,0.2567873001098633,0.3745420277118683,0.6012941002845764,0.22805628180503845,0.33716750144958496,0.36517059803009033,0.49285390973091125,0.5753092169761658,0.3584991693496704,0.2981005311012268,0.44347476959228516,0.8929871320724487,0.3561991751194,0.2642163634300232,0.634269118309021,0.19260472059249878,0.32184576988220215,0.35198259353637695,0.6143118739128113,0.2659880816936493,0.23243817687034607,0.4612995684146881,0.28706681728363037,0.6215674877166748,0.5054534673690796,0.18562960624694824,0.38962322473526,0.28711676597595215,0.36176741123199463,0.3651818037033081,0.24953831732273102,0.6907303333282471,0.23203429579734802,0.20348826050758362,0.3011411428451538,0.24469596147537231,0.48298418521881104,0.23601874709129333,0.39313775300979614,0.4334217309951782,0.1848103106021881,0.2445555478334427,0.176077201962471,0.37402716279029846,0.30108118057250977,0.2614550292491913,0.6092569828033447,0.25391823053359985,0.3327120542526245,0.25509363412857056,0.3897123336791992,0.32484281063079834,0.5392512679100037,0.2850843667984009,0.5026857852935791,0.36956262588500977,0.4060618579387665,0.18737991154193878,0.2990264594554901,0.2054668813943863,0.47661733627319336,0.6423904895782471,0.44661983847618103,0.37628263235092163,0.12507852911949158,0.2027846723794937,0.3611795902252197,0.12204436957836151,0.29322633147239685,0.16957414150238037,0.2863970696926117,0.5658957958221436,0.2837293744087219,0.33892953395843506,0.2517833709716797,0.498471200466156,0.2985939383506775,0.41880470514297485,0.18065151572227478,0.2811594307422638,0.45404738187789917,0.4906076192855835,0.32094913721084595,0.29283607006073,0.460265576839447,0.3688804507255554,0.3646881580352783,0.6636937856674194,0.8263586163520813,0.26466596126556396,0.8429868817329407,0.6390907764434814,0.8205294609069824,0.6429685354232788,0.3532103896141052,0.34653106331825256,0.5369619727134705,0.37654244899749756,0.3649696409702301,0.4448328912258148,0.3481692671775818,0.633539080619812,0.4518510103225708,0.21011266112327576,0.6108237504959106,0.32942458987236023,0.4240417778491974,0.3457474112510681,0.5337737202644348,0.432511568069458,0.3504144549369812,0.3600393831729889,0.22772258520126343,0.23703062534332275,0.21878986060619354,0.1719948649406433,0.3883233070373535,0.30203527212142944,0.8063929080963135,0.3402709364891052,0.3651273846626282,0.3078456521034241,0.5653994083404541,0.26296138763427734,0.2730318605899811,0.20854704082012177,0.5016908645629883,0.19277942180633545,0.3936717212200165,0.6031704545021057,0.25385260581970215,0.4093629717826843,0.3471692204475403,0.18056945502758026,0.3471253514289856,0.21300143003463745,0.208974689245224,0.14020395278930664,0.3145436644554138,0.25032734870910645,0.226201593875885,0.4745428264141083,0.30556756258010864,0.2665180563926697,0.14098185300827026,0.5588117241859436,0.349017858505249,0.2757759690284729,0.15722772479057312,0.18727144598960876,0.5044533014297485,0.7118780612945557,0.38566601276397705,0.38592496514320374,0.409153014421463,0.44980961084365845,0.37243399024009705,0.2388714700937271,0.5992507934570312,0.17275656759738922,0.5438481569290161,0.3913829028606415,0.43408870697021484,0.4214012920856476,0.2753720283508301,0.37836289405822754,0.3755079209804535,0.3091368079185486,0.44012904167175293,0.16697189211845398,0.3130648732185364,0.6491428017616272,0.4469754993915558,0.3259834349155426,0.18949776887893677,0.42919474840164185,0.2669222056865692,0.3715646266937256,0.2675192356109619,0.34413212537765503,0.5213227868080139,0.3602883517742157,0.3436741232872009,0.2018188238143921,0.4944320023059845,0.39323633909225464,0.19169765710830688,0.3134254217147827,0.36054134368896484,0.4931870996952057,0.37961363792419434,0.38539084792137146,0.25658291578292847,0.34522509574890137,0.3848753571510315,0.5682875514030457,0.30580559372901917,0.1251017153263092,0.44465500116348267,0.2443423867225647,0.27424415946006775,0.3189616799354553,0.39073753356933594,0.6101738810539246,0.6032247543334961,0.32149556279182434,0.3315020203590393,0.27508988976478577,0.14422667026519775,0.4552798867225647,0.4678869843482971,0.2075672149658203,0.44649738073349,0.626829981803894,0.5817948579788208,0.5209650993347168,0.3445083498954773,0.6536327600479126,0.4366493821144104,0.31021392345428467,0.4649903178215027,0.40254390239715576,0.3488198220729828,0.36722683906555176,0.14011546969413757,0.2405143678188324,0.3393253684043884,0.5830925703048706,0.39217543601989746,0.41465821862220764,0.22662702202796936,0.22415222227573395,0.39041346311569214,0.44432610273361206,0.492832213640213,0.3980777859687805,0.4431351125240326,0.22212234139442444,0.26169532537460327,0.4600178599357605,0.2239217311143875,0.5044013261795044,0.6908540725708008,0.24437719583511353,0.13542547821998596,0.5717774033546448,0.6103860139846802,0.22152607142925262,0.4586218595504761,0.6414712071418762,0.49066752195358276,0.8339447975158691,0.19825688004493713,0.2326783388853073,0.2838222086429596,0.2764723300933838,0.5348323583602905,0.5684140920639038,0.20517899096012115,0.49085772037506104,0.33196085691452026,0.4638515114784241,0.4274413585662842,0.36917614936828613,0.5850266814231873,0.5522230863571167,0.5012677311897278,0.3769536018371582,0.23752383887767792,0.42212146520614624,0.23643770813941956,0.2862292230129242,0.360525906085968,0.5639191269874573,0.2522003948688507,0.31385838985443115,0.1908974051475525,0.2538541257381439,0.20875728130340576,0.17312827706336975,0.1765192449092865,0.3087305426597595,0.34747928380966187,0.49798691272735596,0.3873923718929291,0.13552263379096985,0.2397277057170868,0.5378121137619019,0.18212223052978516,0.1542735993862152,0.2572059631347656,0.406278520822525,0.24222895503044128,0.3531174063682556,0.5666860938072205,0.31302663683891296,0.43026483058929443,0.31781455874443054,0.27441227436065674,0.25774866342544556,0.5425429344177246,0.5126887559890747,0.4937388300895691,0.24193568527698517,0.19448332488536835,0.3908364176750183,0.24808800220489502,0.5119669437408447,0.3275955319404602,0.35299402475357056,0.16704466938972473,0.5832521915435791,0.2518254518508911,0.31714409589767456,0.26749682426452637,0.25942158699035645,0.2502080202102661,0.17174425721168518,0.21710112690925598,0.30903053283691406,0.21741029620170593,0.5951981544494629,0.11924819648265839,0.46670079231262207,0.5692298412322998,0.3460657596588135,0.2652760446071625,0.34762418270111084,0.40875256061553955,0.31429800391197205,0.5261337757110596,0.2676977813243866,0.5477590560913086,0.40937045216560364,0.17142143845558167,0.2837291359901428,0.37654101848602295,0.4324861466884613,0.30428311228752136,0.1570875644683838,0.3718259334564209,0.16924621164798737,0.3965573012828827,0.5242735743522644,0.5446335077285767,0.33164191246032715,0.31879743933677673,0.21918129920959473,0.7171056866645813,1.0082932710647583,0.31333065032958984,0.09127019345760345,0.3219878375530243,0.33382371068000793,0.3851521909236908,0.22978734970092773,0.39421093463897705,0.43186497688293457,0.15103298425674438,0.43772614002227783,0.3593885898590088,0.5554021596908569,0.3210260272026062,0.42110031843185425,0.5256708860397339,0.2518640458583832,0.28521138429641724,0.4107576310634613,0.9280292391777039,0.7637222409248352,0.22258847951889038,0.5072888731956482,0.5193843841552734,0.5280795693397522,0.4872474670410156,0.11586344987154007,0.11523574590682983,0.1867416948080063,0.24082672595977783,0.3113718330860138,0.2693052887916565,0.09707504510879517,0.28300172090530396,0.4461438059806824,0.3471543490886688,0.20781442523002625,0.11164488643407822,0.37144139409065247,0.31455254554748535,0.2620292901992798,0.21622991561889648,0.2709568738937378,0.6081268191337585,0.20303331315517426,0.35288459062576294,0.18718013167381287,0.2679535746574402,0.15727300941944122,0.3758923411369324,0.8644874095916748,0.4150658845901489,0.5100679397583008,0.32211360335350037,0.27041658759117126,0.23808738589286804,0.38419756293296814,0.45692870020866394,0.10236921161413193,0.43277740478515625,0.3049324154853821,0.8662490844726562,0.2632008194923401,0.5268589854240417,0.4055041968822479,0.19269704818725586,0.2813577950000763,0.33141133189201355,0.10112729668617249,0.2598980963230133,0.3387632668018341,0.6289693117141724,0.6718692779541016,0.2845063805580139,0.28056201338768005,0.21936103701591492,0.43398919701576233,0.448152631521225,0.33008235692977905,0.23438401520252228,0.1965959519147873,0.3662053942680359,0.2365061193704605,0.1402549147605896,0.3941084146499634,0.6695772409439087,0.37899261713027954,0.13935169577598572,0.2221895307302475,0.39492207765579224,0.43521642684936523,0.2134682685136795,0.4960179626941681,0.1565621793270111,0.19512733817100525,0.26337215304374695,0.3254971504211426,0.29313725233078003,0.1636621654033661,0.23958663642406464,0.26573416590690613,0.25244808197021484,0.4574393630027771,0.7241634130477905,0.7370497584342957,0.7887917757034302,0.3137291371822357,0.4069834351539612,0.22089645266532898,0.12450537085533142,0.4008030891418457,0.6422358751296997,0.4406284689903259,0.24532043933868408,0.36474597454071045,0.15487176179885864,0.2286112904548645,0.16062194108963013,0.6166931986808777,0.5674724578857422,0.5103375315666199,0.5207479596138,0.4484021067619324,0.5132955312728882,0.2540867328643799,0.49912774562835693,0.4286516308784485,0.201147198677063,0.3612467050552368,0.3885522186756134,0.39023587107658386,0.3243601620197296,0.24357251822948456,0.6961675882339478,0.30935144424438477,0.30161356925964355,0.6356793642044067,0.1860046088695526,0.3291887044906616,0.5168344974517822,0.2952728271484375,0.38395005464553833,0.35523635149002075,0.6524949073791504,0.1593940258026123,0.3928179144859314,0.4178052246570587,0.5927491188049316,0.525040864944458,0.9572893977165222,0.4338155686855316,0.22172431647777557,0.6429432034492493,0.2340480536222458,0.5750933885574341,0.3302641212940216,0.39275485277175903,0.1329672932624817,0.5368214249610901,0.36457934975624084,0.2386094629764557,0.218019038438797,0.3374122977256775,0.1852603405714035,0.3616158664226532,0.19171781837940216,0.10756970196962357,0.2745349407196045,0.0962921753525734,0.15041446685791016,0.29496675729751587,0.17022785544395447,0.31660890579223633,0.3048243224620819,0.3166154623031616,0.20144157111644745,0.47015100717544556,0.39873573184013367,0.4292133152484894,0.3899703323841095,0.2401447892189026,0.25999101996421814,0.37774085998535156,0.16028264164924622,0.45814019441604614,0.14564742147922516,0.16803282499313354,0.17166690528392792,0.15370038151741028,0.2661430239677429,0.5143874287605286,0.32676929235458374,0.21335691213607788,0.32597851753234863,0.1469581425189972,0.3092634379863739,0.08958937227725983,0.3387545347213745,0.5693289041519165,0.31157660484313965,0.285441517829895,0.3613344728946686,0.3116929531097412,0.5629986524581909,0.3892655670642853,0.22372651100158691,0.27747049927711487,0.2481749951839447,0.17905843257904053,0.2597425580024719,0.3164227306842804,0.4057377278804779,0.2530243396759033,0.3129681646823883,0.12140166759490967,0.17338985204696655,0.20350801944732666,0.5308763384819031,0.22886201739311218,0.1974993199110031,0.45114970207214355,0.43343982100486755,0.40877604484558105,0.17962464690208435,0.4305008053779602,0.37137287855148315,0.5676015615463257,0.4363015592098236,0.8108835220336914,0.8051818609237671,0.21110466122627258,0.5360331535339355,0.18298371136188507,0.2949565052986145,0.22587648034095764,0.6031052470207214,0.10483548790216446,0.28211113810539246,0.1633611023426056,0.24492743611335754,0.13233602046966553,0.2504501938819885,0.4788031578063965,0.11433061957359314,0.32106533646583557,0.2653867304325104,0.2765340805053711,0.5629596710205078,0.44306617975234985,0.18998196721076965,0.46092912554740906,0.2995537519454956,0.07606524229049683,0.6056516766548157,0.11411606520414352,0.22149376571178436,0.4689960181713104,0.19179674983024597,0.5285154581069946,0.27403903007507324,0.3212536573410034,0.6021126508712769,0.3693608045578003,0.4284430146217346,0.4579917788505554,0.10952343046665192,0.21551907062530518,0.6638906598091125,0.17003753781318665,0.2822916507720947,0.24920928478240967,0.2113577425479889,0.13747690618038177,0.4447450637817383,0.3406636714935303,0.22634252905845642,0.23560726642608643,0.24653232097625732,0.8278445601463318,0.3575518727302551,0.2190496027469635,0.19488364458084106,0.11683914810419083,0.2534734904766083,0.22950057685375214,0.3707582652568817,0.3924872875213623,0.17070016264915466,0.42478522658348083,0.3972795307636261,0.6429619789123535,0.23154543340206146,0.3135351538658142,0.20372141897678375,0.29370880126953125,0.17810972034931183,0.28769272565841675,0.16052259504795074,0.5310909748077393,0.24306581914424896,0.1301320493221283,0.2815488576889038,0.29133880138397217,0.43786370754241943,0.2203996479511261,0.10916832834482193,0.32048583030700684,0.3821215033531189,0.5015477538108826,0.28794026374816895,0.1466027945280075,0.6031917929649353,0.17977550625801086,0.17688283324241638,0.11722151190042496,0.7342746257781982,0.19472765922546387,0.2315625101327896,0.1873241662979126,0.3262987434864044,0.4005846083164215,0.32122284173965454,0.30749908089637756,0.08995847404003143,0.3312053382396698,0.2899992763996124,0.5993971824645996,0.24080413579940796,0.2813974916934967,0.3277952969074249,0.44625842571258545,0.15653777122497559,0.3957041800022125,0.3787703812122345,0.2606043219566345,0.3122648596763611,0.31201645731925964,0.09340067207813263,0.7187759876251221,0.4724200367927551,0.0830240473151207,0.10259634256362915,0.36682575941085815,0.23000209033489227,0.6603336334228516,0.13537399470806122,0.16399522125720978,0.19596004486083984,0.093349888920784,0.25869500637054443,0.218763530254364,0.2297801673412323,0.3110431432723999,0.16031108796596527,0.15895098447799683,0.24017837643623352,0.3932705521583557,0.40940743684768677,0.13662010431289673,0.30956292152404785,0.18652701377868652,0.1786961704492569,0.22989222407341003,0.1746157556772232,0.327705979347229,0.32100099325180054,0.16358189284801483,0.2779759168624878,0.17253606021404266,0.1847006231546402,0.23724178969860077,0.23448777198791504,0.46028217673301697,0.22683849930763245,0.38336873054504395,0.4134429693222046,0.2849423885345459,0.44950395822525024,0.34204280376434326,0.15965351462364197,0.33639511466026306,0.1511761099100113,0.2564513385295868,0.2100031077861786,0.2798684239387512,0.39948704838752747,0.0860515832901001,0.16827747225761414,0.3507304787635803,0.2100408375263214,0.22677496075630188,0.07843320071697235,0.08360497653484344,0.18604865670204163,0.1471407115459442,0.19502826035022736,0.09427376836538315,0.24817520380020142,0.15886889398097992,0.2970626950263977,0.1817682683467865,0.26516103744506836,0.04969118908047676,0.09386937320232391,0.21657785773277283,0.15732330083847046,0.6436273455619812,0.11680158227682114,0.04276411235332489,0.12946775555610657,0.19106268882751465,0.3051477074623108,0.1713845431804657,0.27557891607284546,0.10197214782238007,0.022707447409629822,0.039321575313806534,0.1600174903869629,0.03589177876710892,0.06648103147745132,0.05039450526237488,0.051521316170692444,0.048461806029081345,0.08278556168079376,0.1763140708208084,0.08393330872058868,0.21479058265686035,0.26477235555648804,0.30173641443252563,0.26114752888679504,0.32468825578689575,0.160366028547287,0.1763073205947876,0.0388745479285717,0.037607334554195404,0.05129343271255493,0.06635540723800659,0.09216222167015076,0.23732705414295197,0.42038124799728394,1.395026683807373,0.46983063220977783,0.132400780916214,0.14019376039505005,0.043717414140701294,0.04702334851026535,0.45788973569869995,0.2131895124912262,0.15347051620483398,0.2412780076265335,0.3189343810081482,0.10360105335712433,0.4188935160636902,0.39251989126205444,0.10853900015354156,0.5033771991729736,0.392988920211792,0.08767533302307129,0.09610173106193542,0.12010897696018219,0.1754690706729889,0.27379143238067627,0.1978234499692917,0.5034935474395752,0.2616227865219116,0.33277183771133423,0.3838570713996887,0.4270673394203186,0.2851160168647766,0.21970102190971375,0.20835009217262268,0.25475752353668213,0.5197150707244873,0.20335999131202698,0.7421942949295044,0.31498587131500244,0.39580172300338745,0.26495492458343506,0.19901233911514282,0.6991386413574219,0.38331490755081177,0.48069503903388977,0.5109831094741821,0.9341493844985962,0.20621541142463684,0.3363347351551056,0.9315036535263062,0.5436389446258545,0.27396291494369507,0.6462008357048035,0.5489353537559509,0.369942307472229,0.24220770597457886,0.1376200020313263,0.11494480073451996,0.306294709444046,0.5057239532470703,0.31114667654037476,0.2596151828765869,0.09882764518260956,0.15162314474582672,0.20278796553611755,0.3297542631626129,0.3288504481315613,0.3170735538005829,0.2637486159801483,0.1523028165102005,0.2839035987854004,0.48502230644226074,0.20495472848415375,0.15145504474639893,0.36918479204177856,0.7181235551834106,0.18878646194934845,0.17593514919281006,0.16218632459640503,0.27671438455581665,0.3940855860710144,0.21377068758010864,0.36050891876220703,0.16530369222164154,0.11086743324995041,0.2861779034137726,0.46088123321533203,0.2785274386405945,0.16517215967178345,0.06947053968906403,0.15778538584709167,0.13482330739498138,0.20248761773109436,0.11509381979703903,0.6371526122093201,0.13376456499099731,0.3440887928009033,0.24236458539962769,0.4870607256889343,0.26217108964920044,0.20604072511196136,0.3467576503753662,0.25490522384643555,0.20717662572860718,0.15944808721542358,0.7121996879577637,0.320340633392334,0.5979586839675903,0.16369979083538055,0.14014197885990143,0.09936186671257019,0.4956146478652954,0.2262318730354309,0.4828038215637207,0.15386614203453064,0.10660706460475922,0.23284420371055603,0.17197632789611816,0.14866837859153748,0.2489491105079651,0.5812817215919495,0.2393341064453125,0.21240143477916718,0.12472649663686752,0.22004905343055725,0.333209753036499,0.48621809482574463,0.41110435128211975,0.33724310994148254,0.2967225909233093,0.33419498801231384,0.12918004393577576,0.3114333152770996,0.16260188817977905,0.16701149940490723,0.24207928776741028,0.5782141089439392]}},\"id\":\"06af0313-f10d-458b-a2e9-f0088a7b8cc0\",\"type\":\"ColumnDataSource\"},{\"attributes\":{\"plot\":{\"id\":\"9d2323d8-d899-42ef-a94f-53f014d0f8c1\",\"subtype\":\"Figure\",\"type\":\"Plot\"}},\"id\":\"0cc6b64c-cba8-46fe-b445-d8104c2be834\",\"type\":\"ResetTool\"},{\"attributes\":{\"plot\":{\"id\":\"9d2323d8-d899-42ef-a94f-53f014d0f8c1\",\"subtype\":\"Figure\",\"type\":\"Plot\"}},\"id\":\"a39bc558-64ad-4951-af41-117ca6ae71d4\",\"type\":\"SaveTool\"},{\"attributes\":{\"bottom_units\":\"screen\",\"fill_alpha\":{\"value\":0.5},\"fill_color\":{\"value\":\"lightgrey\"},\"left_units\":\"screen\",\"level\":\"overlay\",\"line_alpha\":{\"value\":1.0},\"line_color\":{\"value\":\"black\"},\"line_dash\":[4,4],\"line_width\":{\"value\":2},\"plot\":null,\"render_mode\":\"css\",\"right_units\":\"screen\",\"top_units\":\"screen\"},\"id\":\"863b632f-ba38-4694-836f-1198bb462d82\",\"type\":\"BoxAnnotation\"},{\"attributes\":{},\"id\":\"ce3e59d4-7013-4fa7-8f73-9446bcdc163d\",\"type\":\"BasicTicker\"},{\"attributes\":{\"plot\":{\"id\":\"9d2323d8-d899-42ef-a94f-53f014d0f8c1\",\"subtype\":\"Figure\",\"type\":\"Plot\"}},\"id\":\"cbc1233d-2e1e-4638-b652-eae23f495281\",\"type\":\"WheelZoomTool\"},{\"attributes\":{\"overlay\":{\"id\":\"863b632f-ba38-4694-836f-1198bb462d82\",\"type\":\"BoxAnnotation\"},\"plot\":{\"id\":\"9d2323d8-d899-42ef-a94f-53f014d0f8c1\",\"subtype\":\"Figure\",\"type\":\"Plot\"}},\"id\":\"1f0729f7-da58-479a-a276-7246fdd323da\",\"type\":\"BoxZoomTool\"},{\"attributes\":{\"axis_label\":\"loss\",\"formatter\":{\"id\":\"a6cace95-b02a-419a-aeff-f5de6e627b33\",\"type\":\"BasicTickFormatter\"},\"plot\":{\"id\":\"9d2323d8-d899-42ef-a94f-53f014d0f8c1\",\"subtype\":\"Figure\",\"type\":\"Plot\"},\"ticker\":{\"id\":\"e25b6c36-9eee-40b0-a8be-2a303ba1abcf\",\"type\":\"BasicTicker\"}},\"id\":\"e5e6a1a7-ba82-4605-a564-f0014a4b0e92\",\"type\":\"LinearAxis\"},{\"attributes\":{\"callback\":null},\"id\":\"0128ddd6-baf7-41cf-92c8-9e90a334433e\",\"type\":\"DataRange1d\"},{\"attributes\":{\"plot\":{\"id\":\"9d2323d8-d899-42ef-a94f-53f014d0f8c1\",\"subtype\":\"Figure\",\"type\":\"Plot\"}},\"id\":\"0ec0093a-b82b-48fe-a1f5-b4f9c95cf42d\",\"type\":\"HelpTool\"},{\"attributes\":{},\"id\":\"216fe860-ff4e-45a6-88d8-61857372e432\",\"type\":\"BasicTickFormatter\"},{\"attributes\":{\"dimension\":1,\"plot\":{\"id\":\"9d2323d8-d899-42ef-a94f-53f014d0f8c1\",\"subtype\":\"Figure\",\"type\":\"Plot\"},\"ticker\":{\"id\":\"e25b6c36-9eee-40b0-a8be-2a303ba1abcf\",\"type\":\"BasicTicker\"}},\"id\":\"63adbe3a-3d87-47d0-9286-987d9d9435b1\",\"type\":\"Grid\"},{\"attributes\":{},\"id\":\"a6cace95-b02a-419a-aeff-f5de6e627b33\",\"type\":\"BasicTickFormatter\"},{\"attributes\":{},\"id\":\"e25b6c36-9eee-40b0-a8be-2a303ba1abcf\",\"type\":\"BasicTicker\"},{\"attributes\":{\"plot\":{\"id\":\"9d2323d8-d899-42ef-a94f-53f014d0f8c1\",\"subtype\":\"Figure\",\"type\":\"Plot\"},\"ticker\":{\"id\":\"ce3e59d4-7013-4fa7-8f73-9446bcdc163d\",\"type\":\"BasicTicker\"}},\"id\":\"a8111ea4-3a8f-467c-9ba7-4c217cdedbd8\",\"type\":\"Grid\"},{\"attributes\":{\"plot\":null,\"text\":\"training loss\"},\"id\":\"3e9f36c6-e45d-41d0-a405-d7221774d3e5\",\"type\":\"Title\"},{\"attributes\":{\"line_color\":{\"value\":\"#1f77b4\"},\"x\":{\"field\":\"x\"},\"y\":{\"field\":\"y\"}},\"id\":\"1fa374ba-716e-4e33-b27e-567bbfbcc4d7\",\"type\":\"Line\"},{\"attributes\":{\"below\":[{\"id\":\"49d7cf53-33a1-47cd-81cb-2f8a5ade2d14\",\"type\":\"LinearAxis\"}],\"left\":[{\"id\":\"e5e6a1a7-ba82-4605-a564-f0014a4b0e92\",\"type\":\"LinearAxis\"}],\"renderers\":[{\"id\":\"49d7cf53-33a1-47cd-81cb-2f8a5ade2d14\",\"type\":\"LinearAxis\"},{\"id\":\"a8111ea4-3a8f-467c-9ba7-4c217cdedbd8\",\"type\":\"Grid\"},{\"id\":\"e5e6a1a7-ba82-4605-a564-f0014a4b0e92\",\"type\":\"LinearAxis\"},{\"id\":\"63adbe3a-3d87-47d0-9286-987d9d9435b1\",\"type\":\"Grid\"},{\"id\":\"863b632f-ba38-4694-836f-1198bb462d82\",\"type\":\"BoxAnnotation\"},{\"id\":\"ae121eff-dc1b-4f9b-9b1d-efdaba19f8e1\",\"type\":\"GlyphRenderer\"}],\"title\":{\"id\":\"3e9f36c6-e45d-41d0-a405-d7221774d3e5\",\"type\":\"Title\"},\"tool_events\":{\"id\":\"4337fe9d-3f73-4e28-8dc8-91d54904cdd8\",\"type\":\"ToolEvents\"},\"toolbar\":{\"id\":\"4aa48598-ce6e-480e-989d-ead713147b3a\",\"type\":\"Toolbar\"},\"x_range\":{\"id\":\"9f46e397-0fca-4b35-b016-c1b247c601f3\",\"type\":\"DataRange1d\"},\"y_range\":{\"id\":\"0128ddd6-baf7-41cf-92c8-9e90a334433e\",\"type\":\"DataRange1d\"}},\"id\":\"9d2323d8-d899-42ef-a94f-53f014d0f8c1\",\"subtype\":\"Figure\",\"type\":\"Plot\"},{\"attributes\":{\"axis_label\":\"train steps\",\"formatter\":{\"id\":\"216fe860-ff4e-45a6-88d8-61857372e432\",\"type\":\"BasicTickFormatter\"},\"plot\":{\"id\":\"9d2323d8-d899-42ef-a94f-53f014d0f8c1\",\"subtype\":\"Figure\",\"type\":\"Plot\"},\"ticker\":{\"id\":\"ce3e59d4-7013-4fa7-8f73-9446bcdc163d\",\"type\":\"BasicTicker\"}},\"id\":\"49d7cf53-33a1-47cd-81cb-2f8a5ade2d14\",\"type\":\"LinearAxis\"},{\"attributes\":{\"data_source\":{\"id\":\"06af0313-f10d-458b-a2e9-f0088a7b8cc0\",\"type\":\"ColumnDataSource\"},\"glyph\":{\"id\":\"1fa374ba-716e-4e33-b27e-567bbfbcc4d7\",\"type\":\"Line\"},\"hover_glyph\":null,\"nonselection_glyph\":{\"id\":\"d285e88e-eccd-4e50-a1fb-01a81892fba9\",\"type\":\"Line\"},\"selection_glyph\":null},\"id\":\"ae121eff-dc1b-4f9b-9b1d-efdaba19f8e1\",\"type\":\"GlyphRenderer\"},{\"attributes\":{\"callback\":null},\"id\":\"9f46e397-0fca-4b35-b016-c1b247c601f3\",\"type\":\"DataRange1d\"},{\"attributes\":{},\"id\":\"4337fe9d-3f73-4e28-8dc8-91d54904cdd8\",\"type\":\"ToolEvents\"},{\"attributes\":{\"plot\":{\"id\":\"9d2323d8-d899-42ef-a94f-53f014d0f8c1\",\"subtype\":\"Figure\",\"type\":\"Plot\"}},\"id\":\"9c78c1fc-069f-4f8f-93bb-de1bbb690c98\",\"type\":\"PanTool\"},{\"attributes\":{\"active_drag\":\"auto\",\"active_scroll\":\"auto\",\"active_tap\":\"auto\",\"tools\":[{\"id\":\"9c78c1fc-069f-4f8f-93bb-de1bbb690c98\",\"type\":\"PanTool\"},{\"id\":\"cbc1233d-2e1e-4638-b652-eae23f495281\",\"type\":\"WheelZoomTool\"},{\"id\":\"1f0729f7-da58-479a-a276-7246fdd323da\",\"type\":\"BoxZoomTool\"},{\"id\":\"a39bc558-64ad-4951-af41-117ca6ae71d4\",\"type\":\"SaveTool\"},{\"id\":\"0cc6b64c-cba8-46fe-b445-d8104c2be834\",\"type\":\"ResetTool\"},{\"id\":\"0ec0093a-b82b-48fe-a1f5-b4f9c95cf42d\",\"type\":\"HelpTool\"}]},\"id\":\"4aa48598-ce6e-480e-989d-ead713147b3a\",\"type\":\"Toolbar\"}],\"root_ids\":[\"9d2323d8-d899-42ef-a94f-53f014d0f8c1\"]},\"title\":\"Bokeh Application\",\"version\":\"0.12.2\"}};\n",
       "            var render_items = [{\"docid\":\"70689079-cacb-4131-a4b6-931828f94a9e\",\"elementid\":\"3a38a759-951d-4b43-8d5d-c405595db46c\",\"modelid\":\"9d2323d8-d899-42ef-a94f-53f014d0f8c1\"}];\n",
       "            \n",
       "            Bokeh.embed.embed_items(docs_json, render_items);\n",
       "        });\n",
       "      },\n",
       "      function(Bokeh) {\n",
       "      }\n",
       "    ];\n",
       "  \n",
       "    function run_inline_js() {\n",
       "      \n",
       "      if ((window.Bokeh !== undefined) || (force === \"1\")) {\n",
       "        for (var i = 0; i < inline_js.length; i++) {\n",
       "          inline_js[i](window.Bokeh);\n",
       "        }if (force === \"1\") {\n",
       "          display_loaded();\n",
       "        }} else if (Date.now() < window._bokeh_timeout) {\n",
       "        setTimeout(run_inline_js, 100);\n",
       "      } else if (!window._bokeh_failed_load) {\n",
       "        console.log(\"Bokeh: BokehJS failed to load within specified timeout.\");\n",
       "        window._bokeh_failed_load = true;\n",
       "      } else if (!force) {\n",
       "        var cell = $(\"#3a38a759-951d-4b43-8d5d-c405595db46c\").parents('.cell').data().cell;\n",
       "        cell.output_area.append_execute_result(NB_LOAD_WARNING)\n",
       "      }\n",
       "  \n",
       "    }\n",
       "  \n",
       "    if (window._bokeh_is_loading === 0) {\n",
       "      console.log(\"Bokeh: BokehJS loaded, going straight to plotting\");\n",
       "      run_inline_js();\n",
       "    } else {\n",
       "      load_libs(js_urls, function() {\n",
       "        console.log(\"Bokeh: BokehJS plotting callback run at\", now());\n",
       "        run_inline_js();\n",
       "      });\n",
       "    }\n",
       "  }(this));\n",
       "</script>"
      ]
     },
     "metadata": {},
     "output_type": "display_data"
    }
   ],
   "source": [
    "p = figure(title=\"training loss\", x_axis_label='train steps', y_axis_label='loss')\n",
    "p.line(range(len(losses)),losses)\n",
    "show(p)"
   ]
  },
  {
   "cell_type": "markdown",
   "metadata": {
    "collapsed": true
   },
   "source": [
    "# Simplify code"
   ]
  },
  {
   "cell_type": "code",
   "execution_count": 17,
   "metadata": {
    "collapsed": true
   },
   "outputs": [],
   "source": [
    "def createWeightsBN(s):\n",
    "    \"\"\"\n",
    "    Creates weights for batch normalization layer\n",
    "    \n",
    "    Parameters:\n",
    "    -----------\n",
    "    s: int\n",
    "        size of to be normalized\n",
    "    \"\"\"\n",
    "    gamma = tf.Variable(tf.truncated_normal([s]))\n",
    "    beta = tf.Variable(tf.ones([s]))\n",
    "    return [gamma,beta]\n",
    "\n",
    "def BN(x,variables,eps=.0001):\n",
    "    \"\"\"\n",
    "    Applies Batch Normalization\n",
    "    \n",
    "    Parameters:\n",
    "    ------------\n",
    "    x: tensor\n",
    "        the data to normalize\n",
    "    variables: [gamma,beta]\n",
    "        parameters to learn\n",
    "        \n",
    "    eps (optional): float\n",
    "        small number to keep from dividing by zero\n",
    "    \"\"\"\n",
    "    gamma,beta = variables[0],variables[1]\n",
    "    \n",
    "    mu = tf.reduce_mean(x,[0],keep_dims=True)\n",
    "    sigma = tf.reduce_mean(tf.square(x-mu),[0],keep_dims=True)\n",
    "    x_hat = (x-mu)/(tf.sqrt(sigma+eps))\n",
    "    y = gamma*x_hat+beta\n",
    "    return y"
   ]
  },
  {
   "cell_type": "code",
   "execution_count": 18,
   "metadata": {
    "collapsed": false
   },
   "outputs": [],
   "source": [
    "batch_size = 32\n",
    "num_nodes=1000\n",
    "eps = .0001\n",
    "g = tf.Graph()\n",
    "with g.as_default():\n",
    "    img_input = tf.placeholder(tf.float32,shape=(batch_size,int(img_size**2)))\n",
    "    targets = tf.placeholder(tf.float32,shape=(batch_size,10))\n",
    "    \n",
    "    testX = tf.constant(Xtest,dtype=tf.float32)\n",
    "    testy = tf.constant(ytest,dtype=tf.float32)\n",
    "    \n",
    "    #create weights\n",
    "    bn_0 = createWeightsBN(int(img_size**2))\n",
    "    \n",
    "    W1 = createWeight([int(img_size**2),num_nodes])\n",
    "    b1 = createBias([num_nodes])\n",
    "    \n",
    "    bn_1 = createWeightsBN(num_nodes)\n",
    "    \n",
    "    W2 = createWeight([num_nodes,num_nodes])\n",
    "    b2 = createBias([num_nodes])\n",
    "    \n",
    "    bn_2 = createWeightsBN(num_nodes)\n",
    "    \n",
    "    W_logit = createWeight([num_nodes,10])\n",
    "    b_logit = createBias([10])\n",
    "    \n",
    "    bn_logit = createWeightsBN(10)\n",
    "\n",
    "    \n",
    "    #model\n",
    "    def model(img_input):\n",
    "        input_bn = BN(img_input,bn_0)\n",
    "\n",
    "        h1 = tf.nn.relu(tf.matmul(input_bn,W1)+b1)\n",
    "        h1_bn = BN(h1,bn_1)\n",
    "\n",
    "        h2 = tf.nn.relu(tf.matmul(h1_bn,W2)+b2)\n",
    "        h2_bn = BN(h2,bn_2)\n",
    "\n",
    "        logit = tf.matmul(h2_bn,W_logit)+b_logit\n",
    "        lo_bn = BN(logit,bn_logit)\n",
    "        \n",
    "        return lo_bn\n",
    "    \n",
    "    #train\n",
    "    logit_train = model(img_input)\n",
    "    loss = tf.reduce_mean(tf.nn.softmax_cross_entropy_with_logits(logit_train,targets))\n",
    "    opt = tf.train.AdamOptimizer(learning_rate=.001).minimize(loss)\n",
    "    \n",
    "    train_accuracy = tf.reduce_mean(tf.cast(tf.equal(\n",
    "        tf.arg_max(tf.nn.softmax(logit_train),1),tf.arg_max(targets,1)),tf.float32))\n",
    "    \n",
    "    #test\n",
    "    logit_test = model(testX)\n",
    "    test_accuracy = tf.reduce_mean(tf.cast(tf.equal(\n",
    "        tf.arg_max(tf.nn.softmax(logit_test),1),tf.arg_max(testy,1)),tf.float32))\n",
    "    \n",
    "    init = tf.initialize_all_variables()"
   ]
  },
  {
   "cell_type": "code",
   "execution_count": 19,
   "metadata": {
    "collapsed": true
   },
   "outputs": [],
   "source": [
    "sess=tf.Session(graph=g)\n",
    "sess.run(init)\n",
    "losses = []"
   ]
  },
  {
   "cell_type": "code",
   "execution_count": 20,
   "metadata": {
    "collapsed": false
   },
   "outputs": [
    {
     "name": "stderr",
     "output_type": "stream",
     "text": [
      "\r",
      "  0%|          | 0/2000 [00:00<?, ?it/s]"
     ]
    },
    {
     "name": "stdout",
     "output_type": "stream",
     "text": [
      "train acc:  [0.5625]\n"
     ]
    },
    {
     "name": "stderr",
     "output_type": "stream",
     "text": [
      "  0%|          | 10/2000 [00:01<29:20,  1.13it/s]"
     ]
    },
    {
     "name": "stdout",
     "output_type": "stream",
     "text": [
      "test acc:  [0.18340001]\n"
     ]
    },
    {
     "name": "stderr",
     "output_type": "stream",
     "text": [
      "  5%|▍         | 99/2000 [00:02<01:08, 27.65it/s]"
     ]
    },
    {
     "name": "stdout",
     "output_type": "stream",
     "text": [
      "train acc:  [0.71875]\n"
     ]
    },
    {
     "name": "stderr",
     "output_type": "stream",
     "text": [
      "  6%|▌         | 117/2000 [00:03<01:23, 22.48it/s]"
     ]
    },
    {
     "name": "stdout",
     "output_type": "stream",
     "text": [
      "test acc:  [0.78909999]\n"
     ]
    },
    {
     "name": "stderr",
     "output_type": "stream",
     "text": [
      " 10%|▉         | 198/2000 [00:04<00:23, 77.87it/s]"
     ]
    },
    {
     "name": "stdout",
     "output_type": "stream",
     "text": [
      "train acc:  [0.75]\n"
     ]
    },
    {
     "name": "stderr",
     "output_type": "stream",
     "text": [
      " 11%|█         | 216/2000 [00:05<00:58, 30.28it/s]"
     ]
    },
    {
     "name": "stdout",
     "output_type": "stream",
     "text": [
      "test acc:  [0.8369]\n"
     ]
    },
    {
     "name": "stderr",
     "output_type": "stream",
     "text": [
      " 15%|█▍        | 297/2000 [00:06<00:21, 80.71it/s]"
     ]
    },
    {
     "name": "stdout",
     "output_type": "stream",
     "text": [
      "train acc:  [0.90625]\n"
     ]
    },
    {
     "name": "stderr",
     "output_type": "stream",
     "text": [
      " 16%|█▌        | 315/2000 [00:07<00:56, 29.97it/s]"
     ]
    },
    {
     "name": "stdout",
     "output_type": "stream",
     "text": [
      "test acc:  [0.86229998]\n"
     ]
    },
    {
     "name": "stderr",
     "output_type": "stream",
     "text": [
      " 20%|█▉        | 395/2000 [00:08<00:19, 80.56it/s]"
     ]
    },
    {
     "name": "stdout",
     "output_type": "stream",
     "text": [
      "train acc:  [0.8125]\n"
     ]
    },
    {
     "name": "stderr",
     "output_type": "stream",
     "text": [
      " 21%|██        | 413/2000 [00:09<00:52, 30.12it/s]"
     ]
    },
    {
     "name": "stdout",
     "output_type": "stream",
     "text": [
      "test acc:  [0.87919998]\n"
     ]
    },
    {
     "name": "stderr",
     "output_type": "stream",
     "text": [
      " 25%|██▍       | 494/2000 [00:10<00:18, 79.84it/s]"
     ]
    },
    {
     "name": "stdout",
     "output_type": "stream",
     "text": [
      "train acc:  [0.78125]\n"
     ]
    },
    {
     "name": "stderr",
     "output_type": "stream",
     "text": [
      " 26%|██▌       | 512/2000 [00:11<00:49, 29.82it/s]"
     ]
    },
    {
     "name": "stdout",
     "output_type": "stream",
     "text": [
      "test acc:  [0.89200002]\n"
     ]
    },
    {
     "name": "stderr",
     "output_type": "stream",
     "text": [
      " 30%|██▉       | 593/2000 [00:12<00:17, 80.43it/s]"
     ]
    },
    {
     "name": "stdout",
     "output_type": "stream",
     "text": [
      "train acc:  [0.90625]\n"
     ]
    },
    {
     "name": "stderr",
     "output_type": "stream",
     "text": [
      " 31%|███       | 611/2000 [00:13<00:45, 30.52it/s]"
     ]
    },
    {
     "name": "stdout",
     "output_type": "stream",
     "text": [
      "test acc:  [0.90100002]\n"
     ]
    },
    {
     "name": "stderr",
     "output_type": "stream",
     "text": [
      " 35%|███▍      | 692/2000 [00:14<00:16, 80.66it/s]"
     ]
    },
    {
     "name": "stdout",
     "output_type": "stream",
     "text": [
      "train acc:  [0.90625]\n"
     ]
    },
    {
     "name": "stderr",
     "output_type": "stream",
     "text": [
      " 36%|███▌      | 710/2000 [00:15<00:42, 30.15it/s]"
     ]
    },
    {
     "name": "stdout",
     "output_type": "stream",
     "text": [
      "test acc:  [0.89539999]\n"
     ]
    },
    {
     "name": "stderr",
     "output_type": "stream",
     "text": [
      " 40%|████      | 800/2000 [00:16<00:14, 82.12it/s]"
     ]
    },
    {
     "name": "stdout",
     "output_type": "stream",
     "text": [
      "train acc:  [0.90625]\n"
     ]
    },
    {
     "name": "stderr",
     "output_type": "stream",
     "text": [
      "\r",
      " 40%|████      | 809/2000 [00:18<00:55, 21.63it/s]"
     ]
    },
    {
     "name": "stdout",
     "output_type": "stream",
     "text": [
      "test acc:  [0.90859997]\n"
     ]
    },
    {
     "name": "stderr",
     "output_type": "stream",
     "text": [
      " 45%|████▍     | 897/2000 [00:19<00:16, 68.24it/s]"
     ]
    },
    {
     "name": "stdout",
     "output_type": "stream",
     "text": [
      "train acc:  [0.9375]\n"
     ]
    },
    {
     "name": "stderr",
     "output_type": "stream",
     "text": [
      " 46%|████▌     | 914/2000 [00:20<00:43, 24.97it/s]"
     ]
    },
    {
     "name": "stdout",
     "output_type": "stream",
     "text": [
      "test acc:  [0.90319997]\n"
     ]
    },
    {
     "name": "stderr",
     "output_type": "stream",
     "text": [
      " 50%|████▉     | 996/2000 [00:21<00:14, 71.45it/s]"
     ]
    },
    {
     "name": "stdout",
     "output_type": "stream",
     "text": [
      "train acc:  [0.84375]\n"
     ]
    },
    {
     "name": "stderr",
     "output_type": "stream",
     "text": [
      " 51%|█████     | 1011/2000 [00:22<00:39, 25.05it/s]"
     ]
    },
    {
     "name": "stdout",
     "output_type": "stream",
     "text": [
      "test acc:  [0.90930003]\n"
     ]
    },
    {
     "name": "stderr",
     "output_type": "stream",
     "text": [
      " 55%|█████▍    | 1097/2000 [00:23<00:12, 70.90it/s]"
     ]
    },
    {
     "name": "stdout",
     "output_type": "stream",
     "text": [
      "train acc:  [0.90625]\n"
     ]
    },
    {
     "name": "stderr",
     "output_type": "stream",
     "text": [
      " 56%|█████▌    | 1114/2000 [00:25<00:34, 25.52it/s]"
     ]
    },
    {
     "name": "stdout",
     "output_type": "stream",
     "text": [
      "test acc:  [0.91619998]\n"
     ]
    },
    {
     "name": "stderr",
     "output_type": "stream",
     "text": [
      " 60%|█████▉    | 1195/2000 [00:26<00:11, 70.99it/s]"
     ]
    },
    {
     "name": "stdout",
     "output_type": "stream",
     "text": [
      "train acc:  [0.84375]\n"
     ]
    },
    {
     "name": "stderr",
     "output_type": "stream",
     "text": [
      " 61%|██████    | 1212/2000 [00:27<00:31, 25.35it/s]"
     ]
    },
    {
     "name": "stdout",
     "output_type": "stream",
     "text": [
      "test acc:  [0.9145]\n"
     ]
    },
    {
     "name": "stderr",
     "output_type": "stream",
     "text": [
      " 65%|██████▍   | 1298/2000 [00:28<00:08, 79.95it/s]"
     ]
    },
    {
     "name": "stdout",
     "output_type": "stream",
     "text": [
      "train acc:  [0.875]\n"
     ]
    },
    {
     "name": "stderr",
     "output_type": "stream",
     "text": [
      " 66%|██████▌   | 1316/2000 [00:29<00:24, 28.44it/s]"
     ]
    },
    {
     "name": "stdout",
     "output_type": "stream",
     "text": [
      "test acc:  [0.9138]\n"
     ]
    },
    {
     "name": "stderr",
     "output_type": "stream",
     "text": [
      " 70%|██████▉   | 1396/2000 [00:30<00:08, 71.89it/s]"
     ]
    },
    {
     "name": "stdout",
     "output_type": "stream",
     "text": [
      "train acc:  [0.8125]\n"
     ]
    },
    {
     "name": "stderr",
     "output_type": "stream",
     "text": [
      " 71%|███████   | 1413/2000 [00:31<00:22, 26.18it/s]"
     ]
    },
    {
     "name": "stdout",
     "output_type": "stream",
     "text": [
      "test acc:  [0.92199999]\n"
     ]
    },
    {
     "name": "stderr",
     "output_type": "stream",
     "text": [
      " 75%|███████▍  | 1496/2000 [00:32<00:06, 76.93it/s]"
     ]
    },
    {
     "name": "stdout",
     "output_type": "stream",
     "text": [
      "train acc:  [0.96875]\n"
     ]
    },
    {
     "name": "stderr",
     "output_type": "stream",
     "text": [
      " 76%|███████▌  | 1513/2000 [00:33<00:16, 28.92it/s]"
     ]
    },
    {
     "name": "stdout",
     "output_type": "stream",
     "text": [
      "test acc:  [0.91729999]\n"
     ]
    },
    {
     "name": "stderr",
     "output_type": "stream",
     "text": [
      " 80%|███████▉  | 1593/2000 [00:34<00:05, 77.23it/s]"
     ]
    },
    {
     "name": "stdout",
     "output_type": "stream",
     "text": [
      "train acc:  [0.90625]\n"
     ]
    },
    {
     "name": "stderr",
     "output_type": "stream",
     "text": [
      " 81%|████████  | 1611/2000 [00:36<00:12, 30.34it/s]"
     ]
    },
    {
     "name": "stdout",
     "output_type": "stream",
     "text": [
      "test acc:  [0.91979998]\n"
     ]
    },
    {
     "name": "stderr",
     "output_type": "stream",
     "text": [
      " 85%|████████▍ | 1692/2000 [00:37<00:04, 76.48it/s]"
     ]
    },
    {
     "name": "stdout",
     "output_type": "stream",
     "text": [
      "train acc:  [0.90625]\n"
     ]
    },
    {
     "name": "stderr",
     "output_type": "stream",
     "text": [
      " 85%|████████▌ | 1709/2000 [00:38<00:10, 28.87it/s]"
     ]
    },
    {
     "name": "stdout",
     "output_type": "stream",
     "text": [
      "test acc:  [0.91970003]\n"
     ]
    },
    {
     "name": "stderr",
     "output_type": "stream",
     "text": [
      " 90%|████████▉ | 1799/2000 [00:39<00:02, 79.11it/s]"
     ]
    },
    {
     "name": "stdout",
     "output_type": "stream",
     "text": [
      "train acc:  [0.84375]\n"
     ]
    },
    {
     "name": "stderr",
     "output_type": "stream",
     "text": [
      " 91%|█████████ | 1817/2000 [00:40<00:06, 29.90it/s]"
     ]
    },
    {
     "name": "stdout",
     "output_type": "stream",
     "text": [
      "test acc:  [0.92650002]\n"
     ]
    },
    {
     "name": "stderr",
     "output_type": "stream",
     "text": [
      " 95%|█████████▍| 1898/2000 [00:41<00:01, 78.47it/s]"
     ]
    },
    {
     "name": "stdout",
     "output_type": "stream",
     "text": [
      "train acc:  [0.8125]\n"
     ]
    },
    {
     "name": "stderr",
     "output_type": "stream",
     "text": [
      " 96%|█████████▌| 1916/2000 [00:42<00:02, 30.47it/s]"
     ]
    },
    {
     "name": "stdout",
     "output_type": "stream",
     "text": [
      "test acc:  [0.92199999]\n"
     ]
    },
    {
     "name": "stderr",
     "output_type": "stream",
     "text": [
      "100%|██████████| 2000/2000 [00:43<00:00, 46.10it/s]\n"
     ]
    }
   ],
   "source": [
    "num_steps = 2000\n",
    "for s in tqdm(range(num_steps)):\n",
    "    offset = (s*batch_size) % (X.shape[0]-batch_size)\n",
    "    fd = {img_input:X[offset:offset+batch_size,:],\n",
    "         targets:y[offset:offset+batch_size,:]}\n",
    "    l,_ = sess.run([loss,opt],feed_dict=fd)\n",
    "    losses.append(l)\n",
    "    if s % 100 == 0:\n",
    "        print('train acc: ',sess.run([train_accuracy],feed_dict=fd))\n",
    "        print('test acc: ',sess.run([test_accuracy],feed_dict=fd))"
   ]
  },
  {
   "cell_type": "code",
   "execution_count": 21,
   "metadata": {
    "collapsed": false
   },
   "outputs": [
    {
     "data": {
      "text/plain": [
       "[<matplotlib.lines.Line2D at 0x11cd22410>]"
      ]
     },
     "execution_count": 21,
     "metadata": {},
     "output_type": "execute_result"
    },
    {
     "data": {
      "image/png": "[encoded data removed]",
      "text/plain": [
       "<matplotlib.figure.Figure at 0x11cbaca90>"
      ]
     },
     "metadata": {},
     "output_type": "display_data"
    }
   ],
   "source": [
    "plt.plot(losses)"
   ]
  },
  {
   "cell_type": "code",
   "execution_count": null,
   "metadata": {
    "collapsed": true
   },
   "outputs": [],
   "source": []
  }
 ],
 "metadata": {
  "kernelspec": {
   "display_name": "Python [conda env:tensorflow]",
   "language": "python",
   "name": "conda-env-tensorflow-py"
  },
  "language_info": {
   "codemirror_mode": {
    "name": "ipython",
    "version": 2
   },
   "file_extension": ".py",
   "mimetype": "text/x-python",
   "name": "python",
   "nbconvert_exporter": "python",
   "pygments_lexer": "ipython2",
   "version": "2.7.12"
  }
 },
 "nbformat": 4,
 "nbformat_minor": 2
}
