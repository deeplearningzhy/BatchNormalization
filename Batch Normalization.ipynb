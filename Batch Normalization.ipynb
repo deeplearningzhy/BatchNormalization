{
 "cells": [
  {
   "cell_type": "markdown",
   "metadata": {},
   "source": [
    "[Orignal paper](https://arxiv.org/abs/1502.03167)"
   ]
  },
  {
   "cell_type": "code",
   "execution_count": 1,
   "metadata": {
    "collapsed": false
   },
   "outputs": [],
   "source": [
    "from __future__ import print_function\n",
    "import tensorflow as tf\n",
    "import numpy as np\n",
    "from matplotlib import pyplot as plt\n",
    "%matplotlib inline\n",
    "from tqdm import tqdm\n",
    "from MyHelper import *\n",
    "from bokeh.plotting import figure, show\n",
    "from bokeh.io import output_notebook"
   ]
  },
  {
   "cell_type": "code",
   "execution_count": 2,
   "metadata": {
    "collapsed": false
   },
   "outputs": [
    {
     "data": {
      "text/html": [
       "\n",
       "    <div class=\"bk-root\">\n",
       "        <a href=\"http://bokeh.pydata.org\" target=\"_blank\" class=\"bk-logo bk-logo-small bk-logo-notebook\"></a>\n",
       "        <span id=\"5cdabda1-5226-4c48-87da-4d1b50024263\">Loading BokehJS ...</span>\n",
       "    </div>"
      ]
     },
     "metadata": {},
     "output_type": "display_data"
    },
    {
     "data": {
      "application/javascript": [
       "\n",
       "(function(global) {\n",
       "  function now() {\n",
       "    return new Date();\n",
       "  }\n",
       "\n",
       "  var force = \"1\";\n",
       "\n",
       "  if (typeof (window._bokeh_onload_callbacks) === \"undefined\" || force !== \"\") {\n",
       "    window._bokeh_onload_callbacks = [];\n",
       "    window._bokeh_is_loading = undefined;\n",
       "  }\n",
       "\n",
       "\n",
       "  \n",
       "  if (typeof (window._bokeh_timeout) === \"undefined\" || force !== \"\") {\n",
       "    window._bokeh_timeout = Date.now() + 5000;\n",
       "    window._bokeh_failed_load = false;\n",
       "  }\n",
       "\n",
       "  var NB_LOAD_WARNING = {'data': {'text/html':\n",
       "     \"<div style='background-color: #fdd'>\\n\"+\n",
       "     \"<p>\\n\"+\n",
       "     \"BokehJS does not appear to have successfully loaded. If loading BokehJS from CDN, this \\n\"+\n",
       "     \"may be due to a slow or bad network connection. Possible fixes:\\n\"+\n",
       "     \"</p>\\n\"+\n",
       "     \"<ul>\\n\"+\n",
       "     \"<li>re-rerun `output_notebook()` to attempt to load from CDN again, or</li>\\n\"+\n",
       "     \"<li>use INLINE resources instead, as so:</li>\\n\"+\n",
       "     \"</ul>\\n\"+\n",
       "     \"<code>\\n\"+\n",
       "     \"from bokeh.resources import INLINE\\n\"+\n",
       "     \"output_notebook(resources=INLINE)\\n\"+\n",
       "     \"</code>\\n\"+\n",
       "     \"</div>\"}};\n",
       "\n",
       "  function display_loaded() {\n",
       "    if (window.Bokeh !== undefined) {\n",
       "      Bokeh.$(\"#5cdabda1-5226-4c48-87da-4d1b50024263\").text(\"BokehJS successfully loaded.\");\n",
       "    } else if (Date.now() < window._bokeh_timeout) {\n",
       "      setTimeout(display_loaded, 100)\n",
       "    }\n",
       "  }\n",
       "\n",
       "  function run_callbacks() {\n",
       "    window._bokeh_onload_callbacks.forEach(function(callback) { callback() });\n",
       "    delete window._bokeh_onload_callbacks\n",
       "    console.info(\"Bokeh: all callbacks have finished\");\n",
       "  }\n",
       "\n",
       "  function load_libs(js_urls, callback) {\n",
       "    window._bokeh_onload_callbacks.push(callback);\n",
       "    if (window._bokeh_is_loading > 0) {\n",
       "      console.log(\"Bokeh: BokehJS is being loaded, scheduling callback at\", now());\n",
       "      return null;\n",
       "    }\n",
       "    if (js_urls == null || js_urls.length === 0) {\n",
       "      run_callbacks();\n",
       "      return null;\n",
       "    }\n",
       "    console.log(\"Bokeh: BokehJS not loaded, scheduling load and callback at\", now());\n",
       "    window._bokeh_is_loading = js_urls.length;\n",
       "    for (var i = 0; i < js_urls.length; i++) {\n",
       "      var url = js_urls[i];\n",
       "      var s = document.createElement('script');\n",
       "      s.src = url;\n",
       "      s.async = false;\n",
       "      s.onreadystatechange = s.onload = function() {\n",
       "        window._bokeh_is_loading--;\n",
       "        if (window._bokeh_is_loading === 0) {\n",
       "          console.log(\"Bokeh: all BokehJS libraries loaded\");\n",
       "          run_callbacks()\n",
       "        }\n",
       "      };\n",
       "      s.onerror = function() {\n",
       "        console.warn(\"failed to load library \" + url);\n",
       "      };\n",
       "      console.log(\"Bokeh: injecting script tag for BokehJS library: \", url);\n",
       "      document.getElementsByTagName(\"head\")[0].appendChild(s);\n",
       "    }\n",
       "  };var element = document.getElementById(\"5cdabda1-5226-4c48-87da-4d1b50024263\");\n",
       "  if (element == null) {\n",
       "    console.log(\"Bokeh: ERROR: autoload.js configured with elementid '5cdabda1-5226-4c48-87da-4d1b50024263' but no matching script tag was found. \")\n",
       "    return false;\n",
       "  }\n",
       "\n",
       "  var js_urls = ['https://cdn.pydata.org/bokeh/release/bokeh-0.12.2.min.js', 'https://cdn.pydata.org/bokeh/release/bokeh-widgets-0.12.2.min.js', 'https://cdn.pydata.org/bokeh/release/bokeh-compiler-0.12.2.min.js'];\n",
       "\n",
       "  var inline_js = [\n",
       "    function(Bokeh) {\n",
       "      Bokeh.set_log_level(\"info\");\n",
       "    },\n",
       "    \n",
       "    function(Bokeh) {\n",
       "      \n",
       "      Bokeh.$(\"#5cdabda1-5226-4c48-87da-4d1b50024263\").text(\"BokehJS is loading...\");\n",
       "    },\n",
       "    function(Bokeh) {\n",
       "      console.log(\"Bokeh: injecting CSS: https://cdn.pydata.org/bokeh/release/bokeh-0.12.2.min.css\");\n",
       "      Bokeh.embed.inject_css(\"https://cdn.pydata.org/bokeh/release/bokeh-0.12.2.min.css\");\n",
       "      console.log(\"Bokeh: injecting CSS: https://cdn.pydata.org/bokeh/release/bokeh-widgets-0.12.2.min.css\");\n",
       "      Bokeh.embed.inject_css(\"https://cdn.pydata.org/bokeh/release/bokeh-widgets-0.12.2.min.css\");\n",
       "    }\n",
       "  ];\n",
       "\n",
       "  function run_inline_js() {\n",
       "    \n",
       "    if ((window.Bokeh !== undefined) || (force === \"1\")) {\n",
       "      for (var i = 0; i < inline_js.length; i++) {\n",
       "        inline_js[i](window.Bokeh);\n",
       "      }if (force === \"1\") {\n",
       "        display_loaded();\n",
       "      }} else if (Date.now() < window._bokeh_timeout) {\n",
       "      setTimeout(run_inline_js, 100);\n",
       "    } else if (!window._bokeh_failed_load) {\n",
       "      console.log(\"Bokeh: BokehJS failed to load within specified timeout.\");\n",
       "      window._bokeh_failed_load = true;\n",
       "    } else if (!force) {\n",
       "      var cell = $(\"#5cdabda1-5226-4c48-87da-4d1b50024263\").parents('.cell').data().cell;\n",
       "      cell.output_area.append_execute_result(NB_LOAD_WARNING)\n",
       "    }\n",
       "\n",
       "  }\n",
       "\n",
       "  if (window._bokeh_is_loading === 0) {\n",
       "    console.log(\"Bokeh: BokehJS loaded, going straight to plotting\");\n",
       "    run_inline_js();\n",
       "  } else {\n",
       "    load_libs(js_urls, function() {\n",
       "      console.log(\"Bokeh: BokehJS plotting callback run at\", now());\n",
       "      run_inline_js();\n",
       "    });\n",
       "  }\n",
       "}(this));"
      ]
     },
     "metadata": {},
     "output_type": "display_data"
    }
   ],
   "source": [
    "output_notebook()"
   ]
  },
  {
   "cell_type": "code",
   "execution_count": 3,
   "metadata": {
    "collapsed": false
   },
   "outputs": [],
   "source": [
    "downloadData(filename,loc)"
   ]
  },
  {
   "cell_type": "code",
   "execution_count": 4,
   "metadata": {
    "collapsed": false
   },
   "outputs": [],
   "source": [
    "X,y=getData(filename,loc,flat=True)"
   ]
  },
  {
   "cell_type": "code",
   "execution_count": 5,
   "metadata": {
    "collapsed": false
   },
   "outputs": [
    {
     "name": "stdout",
     "output_type": "stream",
     "text": [
      "(60000, 784) (60000, 10)\n"
     ]
    }
   ],
   "source": [
    "print(X.shape,y.shape)"
   ]
  },
  {
   "cell_type": "code",
   "execution_count": 6,
   "metadata": {
    "collapsed": false
   },
   "outputs": [
    {
     "name": "stdout",
     "output_type": "stream",
     "text": [
      "28.0\n"
     ]
    }
   ],
   "source": [
    "img_size = np.sqrt(X.shape[1])\n",
    "print(img_size)"
   ]
  },
  {
   "cell_type": "code",
   "execution_count": 7,
   "metadata": {
    "collapsed": false
   },
   "outputs": [
    {
     "name": "stderr",
     "output_type": "stream",
     "text": [
      "/Users/tmulc/anaconda2/envs/tensorflow/lib/python2.7/site-packages/ipykernel/__main__.py:1: VisibleDeprecationWarning: using a non-integer number instead of an integer will result in an error in the future\n",
      "  if __name__ == '__main__':\n"
     ]
    },
    {
     "data": {
      "text/plain": [
       "<matplotlib.image.AxesImage at 0x11c904110>"
      ]
     },
     "execution_count": 7,
     "metadata": {},
     "output_type": "execute_result"
    },
    {
     "data": {
      "image/png": "[encoded data removed]",
      "text/plain": [
       "<matplotlib.figure.Figure at 0x11c7dbad0>"
      ]
     },
     "metadata": {},
     "output_type": "display_data"
    }
   ],
   "source": [
    "plt.imshow(X[0,:].reshape(img_size,img_size),cmap='gray')"
   ]
  },
  {
   "cell_type": "markdown",
   "metadata": {},
   "source": [
    "# Model"
   ]
  },
  {
   "cell_type": "code",
   "execution_count": 8,
   "metadata": {
    "collapsed": true
   },
   "outputs": [],
   "source": [
    "def createWeight(size):\n",
    "    return tf.Variable(tf.truncated_normal(size, stddev=0.1))\n",
    "\n",
    "def createBias(size):\n",
    "    return tf.Variable(tf.constant(0.1,shape=size))\n",
    "\n",
    "def lrelu(x, leak=0.2):\n",
    "    f1 = 0.5 * (1 + leak)\n",
    "    f2 = 0.5 * (1 - leak)\n",
    "    return f1 * x + f2 * abs(x)"
   ]
  },
  {
   "cell_type": "code",
   "execution_count": 9,
   "metadata": {
    "collapsed": true
   },
   "outputs": [],
   "source": [
    "batch_size = 32\n",
    "num_nodes=1000\n",
    "g = tf.Graph()\n",
    "with g.as_default():\n",
    "    img_input = tf.placeholder(tf.float32,shape=(batch_size,int(img_size**2)))\n",
    "    targets = tf.placeholder(tf.float32,shape=(batch_size,10))\n",
    "    \n",
    "    \n",
    "    #create weights\n",
    "    W1 = createWeight([int(img_size**2),num_nodes])\n",
    "    b1 = createBias([num_nodes])\n",
    "    \n",
    "    W2 = createWeight([num_nodes,num_nodes])\n",
    "    b2 = createBias([num_nodes])\n",
    "    \n",
    "    W_logit = createWeight([num_nodes,10])\n",
    "    b_logit = createBias([10])\n",
    "\n",
    "    \n",
    "    #model\n",
    "    h1 = tf.nn.relu(tf.matmul(img_input,W1)+b1)\n",
    "    h2 = tf.nn.relu(tf.matmul(h1,W2)+b2)\n",
    "    logit = tf.matmul(h2,W_logit)+b_logit\n",
    "    \n",
    "    #train\n",
    "    loss = tf.reduce_mean(tf.nn.softmax_cross_entropy_with_logits(logit,targets))\n",
    "    opt = tf.train.AdamOptimizer(learning_rate=.005).minimize(loss)\n",
    "    \n",
    "    train_accuracy = tf.reduce_mean(tf.cast(tf.equal(\n",
    "        tf.arg_max(tf.nn.softmax(logit),1),tf.arg_max(targets,1)),tf.float32))\n",
    "    \n",
    "    init = tf.initialize_all_variables()"
   ]
  },
  {
   "cell_type": "code",
   "execution_count": 10,
   "metadata": {
    "collapsed": true
   },
   "outputs": [],
   "source": [
    "sess=tf.Session(graph=g)\n",
    "sess.run(init)\n",
    "losses = []"
   ]
  },
  {
   "cell_type": "code",
   "execution_count": 11,
   "metadata": {
    "collapsed": false
   },
   "outputs": [
    {
     "name": "stderr",
     "output_type": "stream",
     "text": [
      "  2%|▏         | 24/1000 [00:00<00:08, 113.10it/s]"
     ]
    },
    {
     "name": "stdout",
     "output_type": "stream",
     "text": [
      "[0.40625]\n"
     ]
    },
    {
     "name": "stderr",
     "output_type": "stream",
     "text": [
      " 11%|█▏        | 114/1000 [00:00<00:07, 124.64it/s]"
     ]
    },
    {
     "name": "stdout",
     "output_type": "stream",
     "text": [
      "[0.84375]\n"
     ]
    },
    {
     "name": "stderr",
     "output_type": "stream",
     "text": [
      " 22%|██▏       | 219/1000 [00:01<00:06, 126.25it/s]"
     ]
    },
    {
     "name": "stdout",
     "output_type": "stream",
     "text": [
      "[0.96875]\n"
     ]
    },
    {
     "name": "stderr",
     "output_type": "stream",
     "text": [
      " 32%|███▎      | 325/1000 [00:02<00:05, 123.11it/s]"
     ]
    },
    {
     "name": "stdout",
     "output_type": "stream",
     "text": [
      "[0.90625]\n"
     ]
    },
    {
     "name": "stderr",
     "output_type": "stream",
     "text": [
      " 42%|████▏     | 417/1000 [00:03<00:04, 126.73it/s]"
     ]
    },
    {
     "name": "stdout",
     "output_type": "stream",
     "text": [
      "[0.96875]\n"
     ]
    },
    {
     "name": "stderr",
     "output_type": "stream",
     "text": [
      " 52%|█████▏    | 523/1000 [00:04<00:03, 126.49it/s]"
     ]
    },
    {
     "name": "stdout",
     "output_type": "stream",
     "text": [
      "[0.84375]\n"
     ]
    },
    {
     "name": "stderr",
     "output_type": "stream",
     "text": [
      " 62%|██████▏   | 615/1000 [00:04<00:03, 126.31it/s]"
     ]
    },
    {
     "name": "stdout",
     "output_type": "stream",
     "text": [
      "[0.875]\n"
     ]
    },
    {
     "name": "stderr",
     "output_type": "stream",
     "text": [
      " 72%|███████▏  | 720/1000 [00:05<00:02, 124.60it/s]"
     ]
    },
    {
     "name": "stdout",
     "output_type": "stream",
     "text": [
      "[0.875]\n"
     ]
    },
    {
     "name": "stderr",
     "output_type": "stream",
     "text": [
      " 82%|████████▎ | 825/1000 [00:06<00:01, 122.26it/s]"
     ]
    },
    {
     "name": "stdout",
     "output_type": "stream",
     "text": [
      "[0.875]\n"
     ]
    },
    {
     "name": "stderr",
     "output_type": "stream",
     "text": [
      " 91%|█████████▏| 914/1000 [00:07<00:00, 118.20it/s]"
     ]
    },
    {
     "name": "stdout",
     "output_type": "stream",
     "text": [
      "[0.96875]\n"
     ]
    },
    {
     "name": "stderr",
     "output_type": "stream",
     "text": [
      "100%|██████████| 1000/1000 [00:08<00:00, 123.74it/s]\n"
     ]
    }
   ],
   "source": [
    "num_steps = 1000\n",
    "for s in tqdm(range(num_steps)):\n",
    "    fd = {img_input:X[(s*batch_size)%X.shape[0]:(s*batch_size+batch_size) % X.shape[0],:],\n",
    "         targets:y[(s*batch_size)%y.shape[0]:(s*batch_size+batch_size)%y.shape[0],:]}\n",
    "    l,_ = sess.run([loss,opt],feed_dict=fd)\n",
    "    losses.append(l)\n",
    "    if s % 100 == 0:\n",
    "        print(sess.run([train_accuracy],feed_dict=fd))"
   ]
  },
  {
   "cell_type": "code",
   "execution_count": 12,
   "metadata": {
    "collapsed": false
   },
   "outputs": [
    {
     "data": {
      "text/html": [
       "\n",
       "\n",
       "    <div class=\"bk-root\">\n",
       "        <div class=\"plotdiv\" id=\"ecd0e91c-35a0-4908-80a4-144b7c46a208\"></div>\n",
       "    </div>\n",
       "<script type=\"text/javascript\">\n",
       "  \n",
       "  (function(global) {\n",
       "    function now() {\n",
       "      return new Date();\n",
       "    }\n",
       "  \n",
       "    var force = \"\";\n",
       "  \n",
       "    if (typeof (window._bokeh_onload_callbacks) === \"undefined\" || force !== \"\") {\n",
       "      window._bokeh_onload_callbacks = [];\n",
       "      window._bokeh_is_loading = undefined;\n",
       "    }\n",
       "  \n",
       "  \n",
       "    \n",
       "    if (typeof (window._bokeh_timeout) === \"undefined\" || force !== \"\") {\n",
       "      window._bokeh_timeout = Date.now() + 0;\n",
       "      window._bokeh_failed_load = false;\n",
       "    }\n",
       "  \n",
       "    var NB_LOAD_WARNING = {'data': {'text/html':\n",
       "       \"<div style='background-color: #fdd'>\\n\"+\n",
       "       \"<p>\\n\"+\n",
       "       \"BokehJS does not appear to have successfully loaded. If loading BokehJS from CDN, this \\n\"+\n",
       "       \"may be due to a slow or bad network connection. Possible fixes:\\n\"+\n",
       "       \"</p>\\n\"+\n",
       "       \"<ul>\\n\"+\n",
       "       \"<li>re-rerun `output_notebook()` to attempt to load from CDN again, or</li>\\n\"+\n",
       "       \"<li>use INLINE resources instead, as so:</li>\\n\"+\n",
       "       \"</ul>\\n\"+\n",
       "       \"<code>\\n\"+\n",
       "       \"from bokeh.resources import INLINE\\n\"+\n",
       "       \"output_notebook(resources=INLINE)\\n\"+\n",
       "       \"</code>\\n\"+\n",
       "       \"</div>\"}};\n",
       "  \n",
       "    function display_loaded() {\n",
       "      if (window.Bokeh !== undefined) {\n",
       "        Bokeh.$(\"#ecd0e91c-35a0-4908-80a4-144b7c46a208\").text(\"BokehJS successfully loaded.\");\n",
       "      } else if (Date.now() < window._bokeh_timeout) {\n",
       "        setTimeout(display_loaded, 100)\n",
       "      }\n",
       "    }\n",
       "  \n",
       "    function run_callbacks() {\n",
       "      window._bokeh_onload_callbacks.forEach(function(callback) { callback() });\n",
       "      delete window._bokeh_onload_callbacks\n",
       "      console.info(\"Bokeh: all callbacks have finished\");\n",
       "    }\n",
       "  \n",
       "    function load_libs(js_urls, callback) {\n",
       "      window._bokeh_onload_callbacks.push(callback);\n",
       "      if (window._bokeh_is_loading > 0) {\n",
       "        console.log(\"Bokeh: BokehJS is being loaded, scheduling callback at\", now());\n",
       "        return null;\n",
       "      }\n",
       "      if (js_urls == null || js_urls.length === 0) {\n",
       "        run_callbacks();\n",
       "        return null;\n",
       "      }\n",
       "      console.log(\"Bokeh: BokehJS not loaded, scheduling load and callback at\", now());\n",
       "      window._bokeh_is_loading = js_urls.length;\n",
       "      for (var i = 0; i < js_urls.length; i++) {\n",
       "        var url = js_urls[i];\n",
       "        var s = document.createElement('script');\n",
       "        s.src = url;\n",
       "        s.async = false;\n",
       "        s.onreadystatechange = s.onload = function() {\n",
       "          window._bokeh_is_loading--;\n",
       "          if (window._bokeh_is_loading === 0) {\n",
       "            console.log(\"Bokeh: all BokehJS libraries loaded\");\n",
       "            run_callbacks()\n",
       "          }\n",
       "        };\n",
       "        s.onerror = function() {\n",
       "          console.warn(\"failed to load library \" + url);\n",
       "        };\n",
       "        console.log(\"Bokeh: injecting script tag for BokehJS library: \", url);\n",
       "        document.getElementsByTagName(\"head\")[0].appendChild(s);\n",
       "      }\n",
       "    };var element = document.getElementById(\"ecd0e91c-35a0-4908-80a4-144b7c46a208\");\n",
       "    if (element == null) {\n",
       "      console.log(\"Bokeh: ERROR: autoload.js configured with elementid 'ecd0e91c-35a0-4908-80a4-144b7c46a208' but no matching script tag was found. \")\n",
       "      return false;\n",
       "    }\n",
       "  \n",
       "    var js_urls = [];\n",
       "  \n",
       "    var inline_js = [\n",
       "      function(Bokeh) {\n",
       "        Bokeh.$(function() {\n",
       "            var docs_json = {\"064f51e4-13ec-4ff4-b251-880f30b7ffe1\":{\"roots\":{\"references\":[{\"attributes\":{\"callback\":null},\"id\":\"e469e0ff-27a4-4951-a5cb-082a3027016e\",\"type\":\"DataRange1d\"},{\"attributes\":{},\"id\":\"fe19a08b-76a3-4306-8f88-d36713015edd\",\"type\":\"BasicTickFormatter\"},{\"attributes\":{\"plot\":{\"id\":\"3b067e85-bf4f-4d30-af36-020926f32fe2\",\"subtype\":\"Figure\",\"type\":\"Plot\"}},\"id\":\"2251d2a2-a51c-4451-9819-a33a44905b16\",\"type\":\"ResetTool\"},{\"attributes\":{\"active_drag\":\"auto\",\"active_scroll\":\"auto\",\"active_tap\":\"auto\",\"tools\":[{\"id\":\"eab084e3-0f85-4cb1-b432-a01ded2d6fbd\",\"type\":\"PanTool\"},{\"id\":\"4aa13213-b4cd-4ace-ba49-5849fbef999f\",\"type\":\"WheelZoomTool\"},{\"id\":\"468ceee3-43d4-4f69-ab7c-08b6e254e0dd\",\"type\":\"BoxZoomTool\"},{\"id\":\"4a3800ca-9ed2-4170-9354-e4e409c88a6b\",\"type\":\"SaveTool\"},{\"id\":\"2251d2a2-a51c-4451-9819-a33a44905b16\",\"type\":\"ResetTool\"},{\"id\":\"cfd8a0ad-5e8c-4ba0-aee3-aa3173fa72f1\",\"type\":\"HelpTool\"}]},\"id\":\"42154169-d1a5-4b60-bbfe-9d0fcc63aabe\",\"type\":\"Toolbar\"},{\"attributes\":{},\"id\":\"1b66ae96-1d9d-42d0-a861-f58fe79ba770\",\"type\":\"ToolEvents\"},{\"attributes\":{\"plot\":{\"id\":\"3b067e85-bf4f-4d30-af36-020926f32fe2\",\"subtype\":\"Figure\",\"type\":\"Plot\"}},\"id\":\"cfd8a0ad-5e8c-4ba0-aee3-aa3173fa72f1\",\"type\":\"HelpTool\"},{\"attributes\":{\"bottom_units\":\"screen\",\"fill_alpha\":{\"value\":0.5},\"fill_color\":{\"value\":\"lightgrey\"},\"left_units\":\"screen\",\"level\":\"overlay\",\"line_alpha\":{\"value\":1.0},\"line_color\":{\"value\":\"black\"},\"line_dash\":[4,4],\"line_width\":{\"value\":2},\"plot\":null,\"render_mode\":\"css\",\"right_units\":\"screen\",\"top_units\":\"screen\"},\"id\":\"925a2bac-4b59-45b0-bd1f-46912c6552a8\",\"type\":\"BoxAnnotation\"},{\"attributes\":{\"overlay\":{\"id\":\"925a2bac-4b59-45b0-bd1f-46912c6552a8\",\"type\":\"BoxAnnotation\"},\"plot\":{\"id\":\"3b067e85-bf4f-4d30-af36-020926f32fe2\",\"subtype\":\"Figure\",\"type\":\"Plot\"}},\"id\":\"468ceee3-43d4-4f69-ab7c-08b6e254e0dd\",\"type\":\"BoxZoomTool\"},{\"attributes\":{\"line_alpha\":{\"value\":0.1},\"line_color\":{\"value\":\"#1f77b4\"},\"x\":{\"field\":\"x\"},\"y\":{\"field\":\"y\"}},\"id\":\"6313b355-7a62-4764-8afb-74163c9c36f5\",\"type\":\"Line\"},{\"attributes\":{\"plot\":{\"id\":\"3b067e85-bf4f-4d30-af36-020926f32fe2\",\"subtype\":\"Figure\",\"type\":\"Plot\"}},\"id\":\"4a3800ca-9ed2-4170-9354-e4e409c88a6b\",\"type\":\"SaveTool\"},{\"attributes\":{\"data_source\":{\"id\":\"d64ec8a0-3a44-429b-b7b6-3b2cc99143b8\",\"type\":\"ColumnDataSource\"},\"glyph\":{\"id\":\"836abc22-7888-47e1-bea2-5e5bf3454682\",\"type\":\"Line\"},\"hover_glyph\":null,\"nonselection_glyph\":{\"id\":\"6313b355-7a62-4764-8afb-74163c9c36f5\",\"type\":\"Line\"},\"selection_glyph\":null},\"id\":\"b3ed6cd3-e022-40eb-abaf-4a7483b31daf\",\"type\":\"GlyphRenderer\"},{\"attributes\":{\"callback\":null},\"id\":\"d67814a1-e731-4f40-84f0-39181189a918\",\"type\":\"DataRange1d\"},{\"attributes\":{\"axis_label\":\"loss\",\"formatter\":{\"id\":\"4b9515c9-56b7-48d0-9907-0a25db8bf4db\",\"type\":\"BasicTickFormatter\"},\"plot\":{\"id\":\"3b067e85-bf4f-4d30-af36-020926f32fe2\",\"subtype\":\"Figure\",\"type\":\"Plot\"},\"ticker\":{\"id\":\"b3a1ae58-4071-4c3d-aef8-e157eb59414d\",\"type\":\"BasicTicker\"}},\"id\":\"d5dd338d-12c6-4d24-b352-b1e9766a9e18\",\"type\":\"LinearAxis\"},{\"attributes\":{\"dimension\":1,\"plot\":{\"id\":\"3b067e85-bf4f-4d30-af36-020926f32fe2\",\"subtype\":\"Figure\",\"type\":\"Plot\"},\"ticker\":{\"id\":\"b3a1ae58-4071-4c3d-aef8-e157eb59414d\",\"type\":\"BasicTicker\"}},\"id\":\"1a613264-79c3-4457-b31b-ff193cf90125\",\"type\":\"Grid\"},{\"attributes\":{\"callback\":null,\"column_names\":[\"y\",\"x\"],\"data\":{\"x\":[0,1,2,3,4,5,6,7,8,9,10,11,12,13,14,15,16,17,18,19,20,21,22,23,24,25,26,27,28,29,30,31,32,33,34,35,36,37,38,39,40,41,42,43,44,45,46,47,48,49,50,51,52,53,54,55,56,57,58,59,60,61,62,63,64,65,66,67,68,69,70,71,72,73,74,75,76,77,78,79,80,81,82,83,84,85,86,87,88,89,90,91,92,93,94,95,96,97,98,99,100,101,102,103,104,105,106,107,108,109,110,111,112,113,114,115,116,117,118,119,120,121,122,123,124,125,126,127,128,129,130,131,132,133,134,135,136,137,138,139,140,141,142,143,144,145,146,147,148,149,150,151,152,153,154,155,156,157,158,159,160,161,162,163,164,165,166,167,168,169,170,171,172,173,174,175,176,177,178,179,180,181,182,183,184,185,186,187,188,189,190,191,192,193,194,195,196,197,198,199,200,201,202,203,204,205,206,207,208,209,210,211,212,213,214,215,216,217,218,219,220,221,222,223,224,225,226,227,228,229,230,231,232,233,234,235,236,237,238,239,240,241,242,243,244,245,246,247,248,249,250,251,252,253,254,255,256,257,258,259,260,261,262,263,264,265,266,267,268,269,270,271,272,273,274,275,276,277,278,279,280,281,282,283,284,285,286,287,288,289,290,291,292,293,294,295,296,297,298,299,300,301,302,303,304,305,306,307,308,309,310,311,312,313,314,315,316,317,318,319,320,321,322,323,324,325,326,327,328,329,330,331,332,333,334,335,336,337,338,339,340,341,342,343,344,345,346,347,348,349,350,351,352,353,354,355,356,357,358,359,360,361,362,363,364,365,366,367,368,369,370,371,372,373,374,375,376,377,378,379,380,381,382,383,384,385,386,387,388,389,390,391,392,393,394,395,396,397,398,399,400,401,402,403,404,405,406,407,408,409,410,411,412,413,414,415,416,417,418,419,420,421,422,423,424,425,426,427,428,429,430,431,432,433,434,435,436,437,438,439,440,441,442,443,444,445,446,447,448,449,450,451,452,453,454,455,456,457,458,459,460,461,462,463,464,465,466,467,468,469,470,471,472,473,474,475,476,477,478,479,480,481,482,483,484,485,486,487,488,489,490,491,492,493,494,495,496,497,498,499,500,501,502,503,504,505,506,507,508,509,510,511,512,513,514,515,516,517,518,519,520,521,522,523,524,525,526,527,528,529,530,531,532,533,534,535,536,537,538,539,540,541,542,543,544,545,546,547,548,549,550,551,552,553,554,555,556,557,558,559,560,561,562,563,564,565,566,567,568,569,570,571,572,573,574,575,576,577,578,579,580,581,582,583,584,585,586,587,588,589,590,591,592,593,594,595,596,597,598,599,600,601,602,603,604,605,606,607,608,609,610,611,612,613,614,615,616,617,618,619,620,621,622,623,624,625,626,627,628,629,630,631,632,633,634,635,636,637,638,639,640,641,642,643,644,645,646,647,648,649,650,651,652,653,654,655,656,657,658,659,660,661,662,663,664,665,666,667,668,669,670,671,672,673,674,675,676,677,678,679,680,681,682,683,684,685,686,687,688,689,690,691,692,693,694,695,696,697,698,699,700,701,702,703,704,705,706,707,708,709,710,711,712,713,714,715,716,717,718,719,720,721,722,723,724,725,726,727,728,729,730,731,732,733,734,735,736,737,738,739,740,741,742,743,744,745,746,747,748,749,750,751,752,753,754,755,756,757,758,759,760,761,762,763,764,765,766,767,768,769,770,771,772,773,774,775,776,777,778,779,780,781,782,783,784,785,786,787,788,789,790,791,792,793,794,795,796,797,798,799,800,801,802,803,804,805,806,807,808,809,810,811,812,813,814,815,816,817,818,819,820,821,822,823,824,825,826,827,828,829,830,831,832,833,834,835,836,837,838,839,840,841,842,843,844,845,846,847,848,849,850,851,852,853,854,855,856,857,858,859,860,861,862,863,864,865,866,867,868,869,870,871,872,873,874,875,876,877,878,879,880,881,882,883,884,885,886,887,888,889,890,891,892,893,894,895,896,897,898,899,900,901,902,903,904,905,906,907,908,909,910,911,912,913,914,915,916,917,918,919,920,921,922,923,924,925,926,927,928,929,930,931,932,933,934,935,936,937,938,939,940,941,942,943,944,945,946,947,948,949,950,951,952,953,954,955,956,957,958,959,960,961,962,963,964,965,966,967,968,969,970,971,972,973,974,975,976,977,978,979,980,981,982,983,984,985,986,987,988,989,990,991,992,993,994,995,996,997,998,999],\"y\":[1547.027587890625,4214.9208984375,6032.10107421875,3002.57080078125,2837.73828125,1276.006591796875,911.400634765625,496.21710205078125,466.142822265625,369.3289794921875,659.7979736328125,421.01507568359375,272.18878173828125,132.87521362304688,59.406612396240234,242.45750427246094,113.6273193359375,108.08631896972656,140.85545349121094,199.37063598632812,201.64395141601562,115.17863464355469,111.50186157226562,121.53448486328125,67.87876892089844,105.10675811767578,186.294677734375,162.19436645507812,179.76095581054688,33.47260284423828,58.739322662353516,57.4530029296875,102.36778259277344,63.13582229614258,88.20512390136719,70.79971313476562,31.779037475585938,53.89814758300781,58.01371383666992,26.785165786743164,21.200450897216797,27.799617767333984,54.92901611328125,76.97344207763672,57.42106628417969,16.67506980895996,21.73784065246582,48.66166687011719,32.250389099121094,17.01993179321289,18.211606979370117,31.052074432373047,67.49849700927734,10.724445343017578,83.94193267822266,27.230735778808594,46.160980224609375,31.28607177734375,28.976625442504883,43.03179168701172,109.85111236572266,56.4010124206543,32.579376220703125,15.402843475341797,54.58787536621094,29.110595703125,40.65583801269531,4.268675804138184,30.68368148803711,16.823705673217773,33.59836196899414,15.188764572143555,5.185811519622803,17.072486877441406,8.865402221679688,65.58062744140625,39.88072967529297,10.533685684204102,12.813859939575195,17.088300704956055,18.838821411132812,17.919843673706055,35.31888198852539,64.12443542480469,10.773809432983398,28.975372314453125,50.97100830078125,45.616416931152344,40.35889434814453,5.389740943908691,43.89753723144531,64.8320541381836,29.83635711669922,40.00981521606445,32.57905578613281,40.055084228515625,24.925907135009766,15.466475486755371,3.6313397884368896,0.24146504700183868,15.979334831237793,15.537382125854492,49.117271423339844,12.471881866455078,23.46800994873047,31.230655670166016,80.21287536621094,5.7325758934021,14.968354225158691,37.66102600097656,65.48033142089844,31.749801635742188,12.04887580871582,11.102731704711914,43.455379486083984,21.041786193847656,44.50960159301758,56.837371826171875,14.65532112121582,24.63808250427246,9.187519073486328,22.732044219970703,5.3655781745910645,7.949018478393555,27.152629852294922,23.72075080871582,24.044898986816406,53.22045135498047,18.59203338623047,42.457515716552734,27.37318992614746,5.205580234527588,21.990798950195312,36.026649475097656,11.996180534362793,12.990233421325684,42.46331787109375,23.09801483154297,11.709199905395508,58.003395080566406,32.37168502807617,9.26576042175293,4.145888328552246,13.224652290344238,11.651960372924805,38.93095016479492,11.993410110473633,6.446425914764404,14.665742874145508,14.955434799194336,15.203399658203125,30.52947235107422,19.548633575439453,5.111472129821777,35.870582580566406,20.567596435546875,6.2948808670043945,15.925893783569336,32.67969512939453,3.479379653930664,6.678144454956055,32.872344970703125,12.499935150146484,4.010883808135986,6.287431716918945,63.05571746826172,35.06840133666992,22.635608673095703,5.448907375335693,5.924766540527344,30.890275955200195,14.840869903564453,8.322853088378906,27.760242462158203,5.223179340362549,9.284248352050781,15.246892929077148,0.6477270126342773,17.986976623535156,32.39393615722656,19.402587890625,34.726593017578125,48.2972412109375,25.415124893188477,51.96213150024414,16.05244255065918,11.957826614379883,0.9369143843650818,1.491346836090088,17.487396240234375,22.87822914123535,16.78398895263672,2.3920464515686035,16.41265106201172,8.642754554748535,22.384119033813477,17.272621154785156,8.209962844848633,15.766682624816895,9.222293853759766,10.92302131652832,12.2313232421875,48.604827880859375,10.650880813598633,4.4971723556518555,5.690464496612549,16.60293197631836,2.208782196044922,14.9295015335083,22.959665298461914,11.337955474853516,1.1198759078979492,17.80057144165039,20.732219696044922,49.703208923339844,13.891164779663086,35.602935791015625,15.185314178466797,19.102128982543945,38.929664611816406,7.264156341552734,8.425559997558594,5.108240604400635,25.497119903564453,28.883995056152344,11.050068855285645,29.45267105102539,36.58119201660156,20.99475860595703,12.605752944946289,2.2863707542419434,2.512697219848633,19.445411682128906,16.835609436035156,21.202791213989258,24.54824447631836,2.635422706604004,33.55524826049805,8.966378211975098,3.9989399909973145,8.052483558654785,16.873882293701172,3.265836238861084,13.546708106994629,10.732444763183594,35.04436492919922,26.28978729248047,11.520010948181152,18.838207244873047,18.99530601501465,8.097222328186035,11.452850341796875,3.355134963989258,15.677248001098633,4.193655014038086,1.851689338684082,19.02094078063965,13.90875244140625,20.562864303588867,2.6324706077575684,6.662631988525391,4.549337863922119,8.283529281616211,13.590017318725586,32.80180358886719,15.53111457824707,15.614501953125,4.842787265777588,3.6775877475738525,20.061372756958008,37.95298767089844,69.02484130859375,62.27191162109375,23.590805053710938,16.4178466796875,4.842494964599609,28.779037475585938,19.64044189453125,36.61155700683594,11.390759468078613,16.84703254699707,17.223934173583984,6.1136016845703125,3.49151349067688,29.36846351623535,9.64629077911377,9.04214096069336,1.29282546043396,8.575847625732422,22.671337127685547,12.974142074584961,5.966616630554199,4.908690929412842,31.313983917236328,16.33987808227539,20.079936981201172,15.621038436889648,1.6585556268692017,7.696368217468262,12.680134773254395,5.255528450012207,13.927420616149902,3.3629515171051025,0.2127087414264679,7.535824775695801,31.748788833618164,6.699519157409668,0.5373987555503845,17.325672149658203,0.1356964111328125,6.936053276062012,5.003548622131348,23.26387596130371,26.01593017578125,6.455204486846924,5.058258056640625,13.677271842956543,5.253718376159668,17.04353141784668,9.107565879821777,7.706637382507324,24.52408790588379,19.518333435058594,2.7002029418945312,3.207807779312134,1.577324390411377,11.360799789428711,1.7347105741500854,8.884130477905273,4.463474273681641,3.0637340545654297,4.358160495758057,5.4340128898620605,7.921014308929443,2.5126748085021973,17.18093490600586,11.16162395477295,11.17972183227539,2.712402820587158,9.170022010803223,10.125490188598633,7.829547882080078,1.8449409008026123,27.126720428466797,10.743841171264648,2.7442469596862793,5.325509548187256,13.422627449035645,7.992710590362549,9.810239791870117,13.759421348571777,16.50921058654785,10.373510360717773,1.2791540622711182,6.898713111877441,24.49406623840332,2.3232009410858154,5.095127582550049,7.068009853363037,3.5717625617980957,12.896158218383789,22.590087890625,11.317621231079102,2.9876317977905273,8.908519744873047,18.34052085876465,7.442533493041992,5.972975730895996,4.0460333824157715,7.877073287963867,5.497971534729004,4.596444606781006,6.747576713562012,5.928675651550293,6.78267765045166,9.51012134552002,9.34555435180664,2.1560659408569336,1.9374234676361084,2.487931251525879,8.161139488220215,4.344779014587402,1.645709753036499,8.556756019592285,5.926626205444336,6.552146911621094,17.078006744384766,2.3788938522338867,4.657137393951416,4.023648262023926,10.705087661743164,4.774959564208984,11.340486526489258,4.75871467590332,5.368767738342285,14.234127044677734,13.257853507995605,6.229051113128662,0.0003824557061307132,9.897415161132812,2.4430065155029297,4.184036731719971,7.457911014556885,3.4730920791625977,9.205076217651367,4.2166266441345215,6.064619064331055,6.515494346618652,15.828030586242676,8.121260643005371,9.252134323120117,0.017244059592485428,5.4722394943237305,1.0338990688323975,8.105413436889648,2.218552827835083,6.989295482635498,3.255791425704956,13.743973731994629,4.421919345855713,0.2474736124277115,1.750076413154602,6.8604631423950195,0.808823823928833,5.830418586730957,0.18762126564979553,7.077230930328369,5.258178234100342,4.600494861602783,3.794362783432007,1.2047133445739746,3.0541512966156006,9.865852355957031,0.6629526019096375,3.4954190254211426,5.659170627593994,6.388612747192383,4.913814544677734,1.6021449565887451,6.243714332580566,4.903239727020264,5.769651412963867,11.732863426208496,7.521849632263184,1.4221751689910889,1.4263056516647339,3.219153642654419,10.915578842163086,6.4657697677612305,4.748352527618408,2.713365316390991,3.6544365882873535,1.6005513668060303,1.532407283782959,5.106745719909668,4.7216668128967285,9.247888565063477,6.108963966369629,3.3192694187164307,3.0074610710144043,6.835788726806641,7.84149169921875,18.573898315429688,2.880871295928955,0.4400985836982727,4.718478679656982,4.780586242675781,1.1966191530227661,3.2528364658355713,1.1617240905761719,5.55917501449585,0.7821828126907349,7.606287956237793,1.4770314693450928,3.194657802581787,8.460370063781738,2.7780399322509766,3.074097156524658,6.606022834777832,3.5500874519348145,2.666086196899414,2.631397008895874,6.283201217651367,2.556760787963867,2.5036425590515137,2.832943916320801,0.4505234956741333,5.6190972328186035,0.6771228313446045,3.1708736419677734,3.488884687423706,5.200375556945801,4.668554306030273,1.0247904062271118,3.278707981109619,2.282020092010498,3.0734784603118896,1.1373344659805298,4.06343412399292,5.368619441986084,2.619107246398926,3.751591682434082,1.7999972105026245,1.0896685123443604,2.0672037601470947,0.28300830721855164,2.076681613922119,1.4363136291503906,2.444624423980713,0.9862647652626038,0.6271134614944458,1.8283514976501465,0.6118369698524475,2.1099488735198975,2.2526752948760986,5.942568778991699,0.6283067464828491,2.912034273147583,0.3851897716522217,5.4792985916137695,1.454742431640625,2.95651912689209,0.855412483215332,4.475069046020508,1.928639531135559,1.4441794157028198,0.8687001466751099,0.6159186363220215,1.104753851890564,3.255781888961792,3.6285672187805176,0.9920932054519653,1.211399793624878,2.953639507293701,3.223749876022339,1.2730077505111694,0.8132933378219604,0.6392857432365417,4.245092868804932,0.9630239605903625,0.6318159103393555,2.4710183143615723,0.8109757304191589,4.86846399307251,1.6063528060913086,1.169666051864624,5.158055305480957,1.9692497253417969,4.461681842803955,0.9218900203704834,2.089963436126709,0.36633387207984924,1.5001301765441895,2.6738686561584473,3.489675760269165,3.1510581970214844,4.41290283203125,2.278343915939331,1.549391508102417,1.6181732416152954,2.637777328491211,2.1952199935913086,2.3063321113586426,0.5988383293151855,1.6413744688034058,1.5898152589797974,2.043980836868286,1.6411843299865723,0.784755527973175,1.74416184425354,2.4474167823791504,0.5477928519248962,1.380369782447815,0.8141885995864868,2.4471559524536133,2.3637542724609375,1.845922827720642,0.5785296559333801,3.534916877746582,0.024481894448399544,1.084130883216858,0.8185302019119263,0.6115545630455017,1.5591288805007935,1.6854256391525269,2.058220624923706,0.7262009978294373,0.8173742890357971,0.9856176972389221,0.3307053744792938,0.23903369903564453,0.9071973562240601,2.6431050300598145,1.276517391204834,0.2597045302391052,0.6362618207931519,3.639505386352539,1.2831189632415771,0.4883601665496826,0.4900817275047302,1.6808058023452759,1.8542821407318115,2.2829742431640625,0.7444145679473877,3.8743560314178467,3.5560011863708496,2.452220916748047,1.3391211032867432,0.5279829502105713,1.9081670045852661,2.2096664905548096,1.7592017650604248,1.8975419998168945,0.6956412196159363,0.2896200716495514,1.8389133214950562,0.026168933138251305,2.96124529838562,1.3903729915618896,1.6085331439971924,0.386360228061676,0.6338006854057312,1.0445493459701538,1.2005977630615234,1.8924483060836792,2.8024120330810547,1.9157975912094116,0.7134487628936768,0.40168315172195435,0.7479710578918457,3.383335828781128,2.110017776489258,2.259286403656006,0.786994218826294,0.25581711530685425,2.222236156463623,0.7636523842811584,0.5590046048164368,0.5889157056808472,1.4938240051269531,0.7709463834762573,0.4971396327018738,3.4801764488220215,1.0174059867858887,0.19992008805274963,2.472999095916748,0.5520346760749817,4.620680332183838,0.5191209316253662,3.839541435241699,0.788456380367279,3.525439500808716,0.8914379477500916,2.0010454654693604,1.0727301836013794,2.355790376663208,1.5874375104904175,0.8072055578231812,0.7764261364936829,0.7187899947166443,1.1605433225631714,0.7851607799530029,1.1838443279266357,0.19908681511878967,0.4883015751838684,1.5156238079071045,1.067948818206787,1.8593661785125732,0.5274970531463623,1.1385631561279297,0.8511704206466675,0.31794291734695435,0.9480534791946411,1.1661481857299805,0.5006399750709534,0.14618949592113495,0.3044610321521759,0.3649718761444092,1.6050227880477905,1.7148256301879883,1.0553518533706665,0.08102444559335709,0.7910953164100647,0.47724077105522156,0.7452782392501831,0.6314703822135925,2.206282138824463,0.13432835042476654,0.9658182263374329,0.5910022258758545,0.36438632011413574,1.2070047855377197,0.9454311728477478,2.402517557144165,2.856058120727539,0.3609344959259033,0.5896956920623779,1.0004525184631348,0.6677416563034058,0.24041984975337982,0.5337846279144287,0.8791191577911377,1.400217890739441,2.606053352355957,1.269784688949585,1.3185840845108032,1.868497610092163,1.5942010879516602,0.7847051620483398,1.1641788482666016,0.49618926644325256,0.7253445386886597,1.6037458181381226,0.6383118629455566,0.577263355255127,0.7439577579498291,0.31802093982696533,0.3330337703227997,0.3341515064239502,1.0886133909225464,0.6401137113571167,0.8306576013565063,0.5075916051864624,0.48958462476730347,0.7820675373077393,1.2389155626296997,0.43950220942497253,0.4882793128490448,0.6818163394927979,0.5122482180595398,1.1916946172714233,0.5729573965072632,0.8977484703063965,1.3824694156646729,0.14014744758605957,0.43647971749305725,0.49326133728027344,0.4886399507522583,0.39119860529899597,0.3072006404399872,2.0395264625549316,3.1475629806518555,0.432001531124115,0.559891939163208,1.8287084102630615,1.0201066732406616,0.40063369274139404,0.965566098690033,0.9397562742233276,0.4817340672016144,0.4334541857242584,1.5612396001815796,0.36040937900543213,0.8231445550918579,0.612126886844635,0.6252768039703369,1.337561011314392,0.42795783281326294,1.5800243616104126,0.7146531939506531,0.04985111579298973,0.13312287628650665,0.2941840887069702,0.7959929704666138,0.8681972622871399,0.5861598253250122,0.7429996728897095,0.46396857500076294,0.44375064969062805,1.211454153060913,1.0462448596954346,0.7418373227119446,0.485739529132843,0.5382068157196045,0.3089154362678528,0.4927651584148407,0.25272974371910095,0.4506060481071472,0.4298520088195801,4.694446563720703,1.486706018447876,0.3959980309009552,0.03244831785559654,0.9010417461395264,0.7884047627449036,0.4712429642677307,0.45244958996772766,1.2013096809387207,0.5880451798439026,0.19857022166252136,0.9016761779785156,0.5843755602836609,0.16674508154392242,0.40106090903282166,0.37644511461257935,0.3011428415775299,0.3878228962421417,0.17169411480426788,3.9992876052856445,0.1568320095539093,0.754949688911438,3.5217933654785156,1.8326891660690308,0.37914782762527466,0.4691605269908905,0.503396213054657,0.6056811809539795,0.4727845788002014,0.8620897531509399,1.0583546161651611,1.2945789098739624,0.8325048685073853,2.1138315200805664,0.4785301685333252,0.233326718211174,0.6362852454185486,0.7009696364402771,0.22425425052642822,0.1778770238161087,0.344277948141098,0.3182139992713928,0.36032772064208984,0.2769000828266144,0.5662001371383667,0.4456082284450531,0.47876906394958496,0.7682987451553345,0.7442516088485718,1.59124755859375,0.628525972366333,1.469204306602478,0.7262680530548096,1.516308069229126,0.7985385060310364,0.626166045665741,1.1618880033493042,0.6374622583389282,0.4565654397010803,0.4826193153858185,0.6494811773300171,4.954432487487793,0.7373452186584473,0.5569295883178711,0.5441258549690247,0.7839972972869873,0.40783852338790894,0.6882599592208862,0.8834736347198486,0.8501769304275513,1.1277614831924438,1.049089789390564,2.049406051635742,1.3933624029159546,1.0022810697555542,0.5345926284790039,0.6541170477867126,0.555655837059021,0.767973780632019,0.56955486536026,1.5345747470855713,0.375474214553833,0.7706494927406311,0.393393337726593,0.5103814601898193,0.7033542394638062,0.8911134004592896,0.4642558991909027,0.7057842016220093,0.504124641418457,0.6466959714889526,0.26647067070007324,0.5115500092506409,0.3753655254840851,0.5286369919776917,0.5559524297714233,0.5172404646873474,0.31714069843292236,0.6676635146141052,1.0064482688903809,0.7494566440582275,0.8283243179321289,0.31820183992385864,0.3765105903148651,0.44516903162002563,0.5210407376289368,0.08218877017498016,1.006110668182373,1.7433786392211914,0.5350697636604309,0.24255472421646118,0.6689668297767639,0.6258567571640015,0.40145841240882874,0.32492369413375854,0.837490975856781,1.3164581060409546,0.5517168045043945,0.7688156962394714,0.17782732844352722,1.117323637008667,0.6362995505332947,0.6750081777572632,0.19696541130542755,0.4738449454307556,1.074186086654663,0.32967495918273926,0.47559958696365356,0.3977193832397461,0.9056786894798279,0.5958021283149719,1.2448235750198364,0.9124252796173096,1.621021032333374,0.39376288652420044,0.3580899238586426,1.3252276182174683,0.46112456917762756,0.4156476855278015,0.6140387058258057,0.7653565406799316,0.1312134861946106,0.7100446820259094,0.44086042046546936,0.1599363386631012,0.7582262754440308,0.057489994913339615,0.8930205702781677,0.6091279983520508,0.6935305595397949,0.5624410510063171,0.5085426568984985,0.29827144742012024,0.9304581880569458,0.4282898008823395,0.6017529368400574,1.5302153825759888,0.185793936252594,0.5734787583351135,0.4823852777481079,1.6643844842910767,0.2873343229293823,0.3913734555244446,0.9266326427459717,0.3315734267234802,0.6252022981643677,0.24068863689899445,0.2782907485961914,0.5152174830436707,0.21738722920417786,0.40674781799316406,0.4809475243091583,0.983835756778717,0.8086627721786499,1.1608500480651855,0.4233512282371521,0.44748038053512573,0.15758271515369415,0.38087019324302673,0.409032940864563,0.46589696407318115,0.4210548400878906,0.6091625690460205,0.21456095576286316,0.7115926742553711,0.7124519944190979,1.1019971370697021,0.5959322452545166,0.6176055073738098,0.577223539352417,1.3973848819732666,0.4901706874370575,0.8651134967803955,1.4937739372253418,0.6044527292251587,1.785844326019287,0.17774824798107147,0.2811748683452606,3.327932357788086,0.5121155977249146,1.4530854225158691,0.4629627466201782,0.7735157012939453,0.5496307015419006,0.22387638688087463,0.32033541798591614,0.12724868953227997,0.6736840009689331,0.899285078048706,0.4795699715614319,1.5062602758407593,0.8451836109161377,2.0330429077148438,0.4626920819282532,0.9102398157119751,0.2587725520133972,0.6991363763809204,0.30184686183929443,0.8871634006500244,0.8609780073165894,0.8576412200927734]}},\"id\":\"d64ec8a0-3a44-429b-b7b6-3b2cc99143b8\",\"type\":\"ColumnDataSource\"},{\"attributes\":{\"plot\":{\"id\":\"3b067e85-bf4f-4d30-af36-020926f32fe2\",\"subtype\":\"Figure\",\"type\":\"Plot\"}},\"id\":\"4aa13213-b4cd-4ace-ba49-5849fbef999f\",\"type\":\"WheelZoomTool\"},{\"attributes\":{\"plot\":null,\"text\":\"training loss\"},\"id\":\"bf6136aa-2295-456c-a71a-92ab52404b6e\",\"type\":\"Title\"},{\"attributes\":{},\"id\":\"89783484-2d75-4a01-be44-59774da0093d\",\"type\":\"BasicTicker\"},{\"attributes\":{\"line_color\":{\"value\":\"#1f77b4\"},\"x\":{\"field\":\"x\"},\"y\":{\"field\":\"y\"}},\"id\":\"836abc22-7888-47e1-bea2-5e5bf3454682\",\"type\":\"Line\"},{\"attributes\":{\"below\":[{\"id\":\"12454eaf-b7f9-4ee5-a669-415b7a0172c3\",\"type\":\"LinearAxis\"}],\"left\":[{\"id\":\"d5dd338d-12c6-4d24-b352-b1e9766a9e18\",\"type\":\"LinearAxis\"}],\"renderers\":[{\"id\":\"12454eaf-b7f9-4ee5-a669-415b7a0172c3\",\"type\":\"LinearAxis\"},{\"id\":\"74fa41db-1003-4d10-a012-06a28e2856a5\",\"type\":\"Grid\"},{\"id\":\"d5dd338d-12c6-4d24-b352-b1e9766a9e18\",\"type\":\"LinearAxis\"},{\"id\":\"1a613264-79c3-4457-b31b-ff193cf90125\",\"type\":\"Grid\"},{\"id\":\"925a2bac-4b59-45b0-bd1f-46912c6552a8\",\"type\":\"BoxAnnotation\"},{\"id\":\"b3ed6cd3-e022-40eb-abaf-4a7483b31daf\",\"type\":\"GlyphRenderer\"}],\"title\":{\"id\":\"bf6136aa-2295-456c-a71a-92ab52404b6e\",\"type\":\"Title\"},\"tool_events\":{\"id\":\"1b66ae96-1d9d-42d0-a861-f58fe79ba770\",\"type\":\"ToolEvents\"},\"toolbar\":{\"id\":\"42154169-d1a5-4b60-bbfe-9d0fcc63aabe\",\"type\":\"Toolbar\"},\"x_range\":{\"id\":\"e469e0ff-27a4-4951-a5cb-082a3027016e\",\"type\":\"DataRange1d\"},\"y_range\":{\"id\":\"d67814a1-e731-4f40-84f0-39181189a918\",\"type\":\"DataRange1d\"}},\"id\":\"3b067e85-bf4f-4d30-af36-020926f32fe2\",\"subtype\":\"Figure\",\"type\":\"Plot\"},{\"attributes\":{},\"id\":\"4b9515c9-56b7-48d0-9907-0a25db8bf4db\",\"type\":\"BasicTickFormatter\"},{\"attributes\":{},\"id\":\"b3a1ae58-4071-4c3d-aef8-e157eb59414d\",\"type\":\"BasicTicker\"},{\"attributes\":{\"plot\":{\"id\":\"3b067e85-bf4f-4d30-af36-020926f32fe2\",\"subtype\":\"Figure\",\"type\":\"Plot\"}},\"id\":\"eab084e3-0f85-4cb1-b432-a01ded2d6fbd\",\"type\":\"PanTool\"},{\"attributes\":{\"plot\":{\"id\":\"3b067e85-bf4f-4d30-af36-020926f32fe2\",\"subtype\":\"Figure\",\"type\":\"Plot\"},\"ticker\":{\"id\":\"89783484-2d75-4a01-be44-59774da0093d\",\"type\":\"BasicTicker\"}},\"id\":\"74fa41db-1003-4d10-a012-06a28e2856a5\",\"type\":\"Grid\"},{\"attributes\":{\"axis_label\":\"train steps\",\"formatter\":{\"id\":\"fe19a08b-76a3-4306-8f88-d36713015edd\",\"type\":\"BasicTickFormatter\"},\"plot\":{\"id\":\"3b067e85-bf4f-4d30-af36-020926f32fe2\",\"subtype\":\"Figure\",\"type\":\"Plot\"},\"ticker\":{\"id\":\"89783484-2d75-4a01-be44-59774da0093d\",\"type\":\"BasicTicker\"}},\"id\":\"12454eaf-b7f9-4ee5-a669-415b7a0172c3\",\"type\":\"LinearAxis\"}],\"root_ids\":[\"3b067e85-bf4f-4d30-af36-020926f32fe2\"]},\"title\":\"Bokeh Application\",\"version\":\"0.12.2\"}};\n",
       "            var render_items = [{\"docid\":\"064f51e4-13ec-4ff4-b251-880f30b7ffe1\",\"elementid\":\"ecd0e91c-35a0-4908-80a4-144b7c46a208\",\"modelid\":\"3b067e85-bf4f-4d30-af36-020926f32fe2\"}];\n",
       "            \n",
       "            Bokeh.embed.embed_items(docs_json, render_items);\n",
       "        });\n",
       "      },\n",
       "      function(Bokeh) {\n",
       "      }\n",
       "    ];\n",
       "  \n",
       "    function run_inline_js() {\n",
       "      \n",
       "      if ((window.Bokeh !== undefined) || (force === \"1\")) {\n",
       "        for (var i = 0; i < inline_js.length; i++) {\n",
       "          inline_js[i](window.Bokeh);\n",
       "        }if (force === \"1\") {\n",
       "          display_loaded();\n",
       "        }} else if (Date.now() < window._bokeh_timeout) {\n",
       "        setTimeout(run_inline_js, 100);\n",
       "      } else if (!window._bokeh_failed_load) {\n",
       "        console.log(\"Bokeh: BokehJS failed to load within specified timeout.\");\n",
       "        window._bokeh_failed_load = true;\n",
       "      } else if (!force) {\n",
       "        var cell = $(\"#ecd0e91c-35a0-4908-80a4-144b7c46a208\").parents('.cell').data().cell;\n",
       "        cell.output_area.append_execute_result(NB_LOAD_WARNING)\n",
       "      }\n",
       "  \n",
       "    }\n",
       "  \n",
       "    if (window._bokeh_is_loading === 0) {\n",
       "      console.log(\"Bokeh: BokehJS loaded, going straight to plotting\");\n",
       "      run_inline_js();\n",
       "    } else {\n",
       "      load_libs(js_urls, function() {\n",
       "        console.log(\"Bokeh: BokehJS plotting callback run at\", now());\n",
       "        run_inline_js();\n",
       "      });\n",
       "    }\n",
       "  }(this));\n",
       "</script>"
      ]
     },
     "metadata": {},
     "output_type": "display_data"
    }
   ],
   "source": [
    "p = figure(title=\"training loss\", x_axis_label='train steps', y_axis_label='loss')\n",
    "p.line(range(len(losses)),losses)\n",
    "show(p)"
   ]
  },
  {
   "cell_type": "markdown",
   "metadata": {},
   "source": [
    "# Batch Normalization"
   ]
  },
  {
   "cell_type": "code",
   "execution_count": 13,
   "metadata": {
    "collapsed": false
   },
   "outputs": [],
   "source": [
    "batch_size = 32\n",
    "num_nodes=1000\n",
    "eps = .0001\n",
    "g = tf.Graph()\n",
    "with g.as_default():\n",
    "    img_input = tf.placeholder(tf.float32,shape=(batch_size,int(img_size**2)))\n",
    "    targets = tf.placeholder(tf.float32,shape=(batch_size,10))\n",
    "    \n",
    "    \n",
    "    #create weights\n",
    "    gamma0 = tf.Variable(tf.truncated_normal([int(img_size**2)]))\n",
    "    beta0 = tf.Variable(tf.ones([int(img_size**2)]))\n",
    "    \n",
    "    W1 = createWeight([int(img_size**2),num_nodes])\n",
    "    b1 = createBias([num_nodes])\n",
    "    \n",
    "    gamma1 = tf.Variable(tf.truncated_normal([num_nodes]))\n",
    "    beta1 = tf.Variable(tf.ones([num_nodes]))\n",
    "    \n",
    "    W2 = createWeight([num_nodes,num_nodes])\n",
    "    b2 = createBias([num_nodes])\n",
    "    \n",
    "    gamma2 = tf.Variable(tf.truncated_normal([num_nodes]))\n",
    "    beta2 = tf.Variable(tf.ones([num_nodes]))\n",
    "    \n",
    "    W_logit = createWeight([num_nodes,10])\n",
    "    b_logit = createBias([10])\n",
    "    \n",
    "    gammalo = tf.Variable(tf.truncated_normal([10]))\n",
    "    betalo = tf.Variable(tf.ones([10]))\n",
    "\n",
    "    \n",
    "    #model\n",
    "    mu0 = tf.reduce_mean(img_input,[0],keep_dims=True)\n",
    "    sigma0 = tf.reduce_mean(tf.square(img_input-mu0),[0],keep_dims=True)\n",
    "    input_hat = (img_input-mu0)/(tf.sqrt(sigma0+eps))\n",
    "    input_out = gamma0*input_hat+beta0\n",
    "    \n",
    "    h1 = tf.nn.relu(tf.matmul(input_out,W1)+b1)\n",
    "    mu1 = tf.reduce_mean(h1,[0],keep_dims=True)\n",
    "    sigma1 = tf.reduce_mean(tf.square(h1-mu1),[0],keep_dims=True)\n",
    "    h1_hat = (h1-mu1)/(tf.sqrt(sigma1+eps))\n",
    "    h1_out = gamma1*h1_hat+beta1\n",
    "    \n",
    "    h2 = tf.nn.relu(tf.matmul(h1_out,W2)+b2)\n",
    "    mu2 = tf.reduce_mean(h2,[0],keep_dims=True)\n",
    "    sigma2 = tf.reduce_mean(tf.square(h2-mu2),[0],keep_dims=True)\n",
    "    h2_hat = (h2-mu2)/(tf.sqrt(sigma2+eps))\n",
    "    h2_out = gamma2*h2_hat+beta2\n",
    "\n",
    "    logit = tf.matmul(h2_out,W_logit)+b_logit\n",
    "    mulo = tf.reduce_mean(logit,[0],keep_dims=True)\n",
    "    sigmalo = tf.reduce_mean(tf.square(logit-mulo),[0],keep_dims=True)\n",
    "    lo_hat = (logit-mulo)/(tf.sqrt(sigmalo+eps))\n",
    "    lo_out = gammalo*lo_hat+betalo\n",
    "    \n",
    "    #train\n",
    "    loss = tf.reduce_mean(tf.nn.softmax_cross_entropy_with_logits(lo_out,targets))\n",
    "    \n",
    "    opt = tf.train.AdamOptimizer(learning_rate=.005).minimize(loss)\n",
    "    \n",
    "    train_accuracy = tf.reduce_mean(tf.cast(tf.equal(\n",
    "        tf.arg_max(tf.nn.softmax(lo_out),1),tf.arg_max(targets,1)),tf.float32))\n",
    "    \n",
    "    init = tf.initialize_all_variables()"
   ]
  },
  {
   "cell_type": "code",
   "execution_count": 14,
   "metadata": {
    "collapsed": false
   },
   "outputs": [],
   "source": [
    "sess=tf.Session(graph=g)\n",
    "sess.run(init)\n",
    "losses = []"
   ]
  },
  {
   "cell_type": "code",
   "execution_count": 15,
   "metadata": {
    "collapsed": false
   },
   "outputs": [
    {
     "name": "stderr",
     "output_type": "stream",
     "text": [
      "  1%|▏         | 14/1000 [00:00<00:18, 52.49it/s]"
     ]
    },
    {
     "name": "stdout",
     "output_type": "stream",
     "text": [
      "[0.625]\n"
     ]
    },
    {
     "name": "stderr",
     "output_type": "stream",
     "text": [
      " 11%|█         | 112/1000 [00:01<00:10, 82.78it/s]"
     ]
    },
    {
     "name": "stdout",
     "output_type": "stream",
     "text": [
      "[0.875]\n"
     ]
    },
    {
     "name": "stderr",
     "output_type": "stream",
     "text": [
      " 21%|██        | 211/1000 [00:02<00:09, 81.62it/s]"
     ]
    },
    {
     "name": "stdout",
     "output_type": "stream",
     "text": [
      "[0.84375]\n"
     ]
    },
    {
     "name": "stderr",
     "output_type": "stream",
     "text": [
      " 31%|███       | 310/1000 [00:03<00:08, 83.54it/s]"
     ]
    },
    {
     "name": "stdout",
     "output_type": "stream",
     "text": [
      "[0.84375]\n"
     ]
    },
    {
     "name": "stderr",
     "output_type": "stream",
     "text": [
      " 42%|████▏     | 418/1000 [00:05<00:06, 84.34it/s]"
     ]
    },
    {
     "name": "stdout",
     "output_type": "stream",
     "text": [
      "[0.78125]\n"
     ]
    },
    {
     "name": "stderr",
     "output_type": "stream",
     "text": [
      " 52%|█████▏    | 517/1000 [00:06<00:05, 82.09it/s]"
     ]
    },
    {
     "name": "stdout",
     "output_type": "stream",
     "text": [
      "[0.8125]\n"
     ]
    },
    {
     "name": "stderr",
     "output_type": "stream",
     "text": [
      " 62%|██████▏   | 615/1000 [00:07<00:05, 75.32it/s]"
     ]
    },
    {
     "name": "stdout",
     "output_type": "stream",
     "text": [
      "[0.84375]\n"
     ]
    },
    {
     "name": "stderr",
     "output_type": "stream",
     "text": [
      " 71%|███████▏  | 714/1000 [00:08<00:03, 76.34it/s]"
     ]
    },
    {
     "name": "stdout",
     "output_type": "stream",
     "text": [
      "[0.90625]\n"
     ]
    },
    {
     "name": "stderr",
     "output_type": "stream",
     "text": [
      " 81%|████████▏ | 814/1000 [00:10<00:02, 66.89it/s]"
     ]
    },
    {
     "name": "stdout",
     "output_type": "stream",
     "text": [
      "[0.9375]\n"
     ]
    },
    {
     "name": "stderr",
     "output_type": "stream",
     "text": [
      " 91%|█████████ | 911/1000 [00:11<00:01, 81.58it/s]"
     ]
    },
    {
     "name": "stdout",
     "output_type": "stream",
     "text": [
      "[0.875]\n"
     ]
    },
    {
     "name": "stderr",
     "output_type": "stream",
     "text": [
      "100%|██████████| 1000/1000 [00:12<00:00, 79.45it/s]\n"
     ]
    }
   ],
   "source": [
    "num_steps = 1000\n",
    "for s in tqdm(range(num_steps)):\n",
    "    fd = {img_input:X[(s*batch_size)%X.shape[0]:(s*batch_size+batch_size) % X.shape[0],:],\n",
    "         targets:y[(s*batch_size)%y.shape[0]:(s*batch_size+batch_size)%y.shape[0],:]}\n",
    "    l,_ = sess.run([loss,opt],feed_dict=fd)\n",
    "    losses.append(l)\n",
    "    if s % 100 == 0:\n",
    "        print(sess.run([train_accuracy],feed_dict=fd))"
   ]
  },
  {
   "cell_type": "code",
   "execution_count": 16,
   "metadata": {
    "collapsed": false
   },
   "outputs": [
    {
     "data": {
      "text/html": [
       "\n",
       "\n",
       "    <div class=\"bk-root\">\n",
       "        <div class=\"plotdiv\" id=\"b033e0f3-dc83-4d40-a4a2-aec0964405eb\"></div>\n",
       "    </div>\n",
       "<script type=\"text/javascript\">\n",
       "  \n",
       "  (function(global) {\n",
       "    function now() {\n",
       "      return new Date();\n",
       "    }\n",
       "  \n",
       "    var force = \"\";\n",
       "  \n",
       "    if (typeof (window._bokeh_onload_callbacks) === \"undefined\" || force !== \"\") {\n",
       "      window._bokeh_onload_callbacks = [];\n",
       "      window._bokeh_is_loading = undefined;\n",
       "    }\n",
       "  \n",
       "  \n",
       "    \n",
       "    if (typeof (window._bokeh_timeout) === \"undefined\" || force !== \"\") {\n",
       "      window._bokeh_timeout = Date.now() + 0;\n",
       "      window._bokeh_failed_load = false;\n",
       "    }\n",
       "  \n",
       "    var NB_LOAD_WARNING = {'data': {'text/html':\n",
       "       \"<div style='background-color: #fdd'>\\n\"+\n",
       "       \"<p>\\n\"+\n",
       "       \"BokehJS does not appear to have successfully loaded. If loading BokehJS from CDN, this \\n\"+\n",
       "       \"may be due to a slow or bad network connection. Possible fixes:\\n\"+\n",
       "       \"</p>\\n\"+\n",
       "       \"<ul>\\n\"+\n",
       "       \"<li>re-rerun `output_notebook()` to attempt to load from CDN again, or</li>\\n\"+\n",
       "       \"<li>use INLINE resources instead, as so:</li>\\n\"+\n",
       "       \"</ul>\\n\"+\n",
       "       \"<code>\\n\"+\n",
       "       \"from bokeh.resources import INLINE\\n\"+\n",
       "       \"output_notebook(resources=INLINE)\\n\"+\n",
       "       \"</code>\\n\"+\n",
       "       \"</div>\"}};\n",
       "  \n",
       "    function display_loaded() {\n",
       "      if (window.Bokeh !== undefined) {\n",
       "        Bokeh.$(\"#b033e0f3-dc83-4d40-a4a2-aec0964405eb\").text(\"BokehJS successfully loaded.\");\n",
       "      } else if (Date.now() < window._bokeh_timeout) {\n",
       "        setTimeout(display_loaded, 100)\n",
       "      }\n",
       "    }\n",
       "  \n",
       "    function run_callbacks() {\n",
       "      window._bokeh_onload_callbacks.forEach(function(callback) { callback() });\n",
       "      delete window._bokeh_onload_callbacks\n",
       "      console.info(\"Bokeh: all callbacks have finished\");\n",
       "    }\n",
       "  \n",
       "    function load_libs(js_urls, callback) {\n",
       "      window._bokeh_onload_callbacks.push(callback);\n",
       "      if (window._bokeh_is_loading > 0) {\n",
       "        console.log(\"Bokeh: BokehJS is being loaded, scheduling callback at\", now());\n",
       "        return null;\n",
       "      }\n",
       "      if (js_urls == null || js_urls.length === 0) {\n",
       "        run_callbacks();\n",
       "        return null;\n",
       "      }\n",
       "      console.log(\"Bokeh: BokehJS not loaded, scheduling load and callback at\", now());\n",
       "      window._bokeh_is_loading = js_urls.length;\n",
       "      for (var i = 0; i < js_urls.length; i++) {\n",
       "        var url = js_urls[i];\n",
       "        var s = document.createElement('script');\n",
       "        s.src = url;\n",
       "        s.async = false;\n",
       "        s.onreadystatechange = s.onload = function() {\n",
       "          window._bokeh_is_loading--;\n",
       "          if (window._bokeh_is_loading === 0) {\n",
       "            console.log(\"Bokeh: all BokehJS libraries loaded\");\n",
       "            run_callbacks()\n",
       "          }\n",
       "        };\n",
       "        s.onerror = function() {\n",
       "          console.warn(\"failed to load library \" + url);\n",
       "        };\n",
       "        console.log(\"Bokeh: injecting script tag for BokehJS library: \", url);\n",
       "        document.getElementsByTagName(\"head\")[0].appendChild(s);\n",
       "      }\n",
       "    };var element = document.getElementById(\"b033e0f3-dc83-4d40-a4a2-aec0964405eb\");\n",
       "    if (element == null) {\n",
       "      console.log(\"Bokeh: ERROR: autoload.js configured with elementid 'b033e0f3-dc83-4d40-a4a2-aec0964405eb' but no matching script tag was found. \")\n",
       "      return false;\n",
       "    }\n",
       "  \n",
       "    var js_urls = [];\n",
       "  \n",
       "    var inline_js = [\n",
       "      function(Bokeh) {\n",
       "        Bokeh.$(function() {\n",
       "            var docs_json = {\"b37d7477-254f-481b-bf83-268db94eedb8\":{\"roots\":{\"references\":[{\"attributes\":{\"active_drag\":\"auto\",\"active_scroll\":\"auto\",\"active_tap\":\"auto\",\"tools\":[{\"id\":\"fe98975e-67b6-419b-aa65-cd4170738c62\",\"type\":\"PanTool\"},{\"id\":\"69890fc8-f1be-4533-8098-a9b6e027acbe\",\"type\":\"WheelZoomTool\"},{\"id\":\"2333d043-57dd-4bed-a1bf-d6bbe7189818\",\"type\":\"BoxZoomTool\"},{\"id\":\"fbdb995a-94a7-471b-b09d-e7dfa7ada47d\",\"type\":\"SaveTool\"},{\"id\":\"ab41a8e2-835a-4bd3-a280-471969afe64b\",\"type\":\"ResetTool\"},{\"id\":\"b54bfaa9-0a5b-469c-8316-ea0885014857\",\"type\":\"HelpTool\"}]},\"id\":\"998e5683-4ff9-4874-9975-16e2babb9daa\",\"type\":\"Toolbar\"},{\"attributes\":{},\"id\":\"67627040-789e-4613-9d7e-208b98e1014f\",\"type\":\"ToolEvents\"},{\"attributes\":{\"callback\":null},\"id\":\"91ad2c58-a119-4616-a7f7-c539472a8276\",\"type\":\"DataRange1d\"},{\"attributes\":{\"plot\":{\"id\":\"35e5c5bd-26c4-4750-8d17-03318338bcbb\",\"subtype\":\"Figure\",\"type\":\"Plot\"}},\"id\":\"fe98975e-67b6-419b-aa65-cd4170738c62\",\"type\":\"PanTool\"},{\"attributes\":{},\"id\":\"167ae180-a219-4a71-ac98-d8dd92d96a1b\",\"type\":\"BasicTickFormatter\"},{\"attributes\":{\"callback\":null},\"id\":\"0781735e-06bc-4fb2-9fad-44d7a672418a\",\"type\":\"DataRange1d\"},{\"attributes\":{\"axis_label\":\"train steps\",\"formatter\":{\"id\":\"167ae180-a219-4a71-ac98-d8dd92d96a1b\",\"type\":\"BasicTickFormatter\"},\"plot\":{\"id\":\"35e5c5bd-26c4-4750-8d17-03318338bcbb\",\"subtype\":\"Figure\",\"type\":\"Plot\"},\"ticker\":{\"id\":\"69223833-8d21-49c8-8da6-4f538a65a243\",\"type\":\"BasicTicker\"}},\"id\":\"4a6469f1-5a03-42fc-9f84-022a17d01b53\",\"type\":\"LinearAxis\"},{\"attributes\":{},\"id\":\"3bef02c0-44eb-49a7-9c9c-00aacba3bbdf\",\"type\":\"BasicTicker\"},{\"attributes\":{\"plot\":{\"id\":\"35e5c5bd-26c4-4750-8d17-03318338bcbb\",\"subtype\":\"Figure\",\"type\":\"Plot\"}},\"id\":\"b54bfaa9-0a5b-469c-8316-ea0885014857\",\"type\":\"HelpTool\"},{\"attributes\":{},\"id\":\"8facf336-2d91-4847-8a01-0e6f0e06fc51\",\"type\":\"BasicTickFormatter\"},{\"attributes\":{\"plot\":{\"id\":\"35e5c5bd-26c4-4750-8d17-03318338bcbb\",\"subtype\":\"Figure\",\"type\":\"Plot\"}},\"id\":\"69890fc8-f1be-4533-8098-a9b6e027acbe\",\"type\":\"WheelZoomTool\"},{\"attributes\":{\"below\":[{\"id\":\"4a6469f1-5a03-42fc-9f84-022a17d01b53\",\"type\":\"LinearAxis\"}],\"left\":[{\"id\":\"5ea806bc-faa9-47bb-9f85-0fa777cbfe07\",\"type\":\"LinearAxis\"}],\"renderers\":[{\"id\":\"4a6469f1-5a03-42fc-9f84-022a17d01b53\",\"type\":\"LinearAxis\"},{\"id\":\"97fda708-df86-4656-96e3-9bbf08405cf2\",\"type\":\"Grid\"},{\"id\":\"5ea806bc-faa9-47bb-9f85-0fa777cbfe07\",\"type\":\"LinearAxis\"},{\"id\":\"ef2b6382-2f31-4abf-9586-e1996bfff763\",\"type\":\"Grid\"},{\"id\":\"42ed2369-e6dc-4273-8726-2b4f7c05da0c\",\"type\":\"BoxAnnotation\"},{\"id\":\"9fb46beb-a30f-44ea-97b6-4c01d5db7344\",\"type\":\"GlyphRenderer\"}],\"title\":{\"id\":\"8f2b65e0-241e-4b16-8428-f8454ef6ac4a\",\"type\":\"Title\"},\"tool_events\":{\"id\":\"67627040-789e-4613-9d7e-208b98e1014f\",\"type\":\"ToolEvents\"},\"toolbar\":{\"id\":\"998e5683-4ff9-4874-9975-16e2babb9daa\",\"type\":\"Toolbar\"},\"x_range\":{\"id\":\"91ad2c58-a119-4616-a7f7-c539472a8276\",\"type\":\"DataRange1d\"},\"y_range\":{\"id\":\"0781735e-06bc-4fb2-9fad-44d7a672418a\",\"type\":\"DataRange1d\"}},\"id\":\"35e5c5bd-26c4-4750-8d17-03318338bcbb\",\"subtype\":\"Figure\",\"type\":\"Plot\"},{\"attributes\":{\"plot\":{\"id\":\"35e5c5bd-26c4-4750-8d17-03318338bcbb\",\"subtype\":\"Figure\",\"type\":\"Plot\"}},\"id\":\"fbdb995a-94a7-471b-b09d-e7dfa7ada47d\",\"type\":\"SaveTool\"},{\"attributes\":{\"plot\":{\"id\":\"35e5c5bd-26c4-4750-8d17-03318338bcbb\",\"subtype\":\"Figure\",\"type\":\"Plot\"},\"ticker\":{\"id\":\"69223833-8d21-49c8-8da6-4f538a65a243\",\"type\":\"BasicTicker\"}},\"id\":\"97fda708-df86-4656-96e3-9bbf08405cf2\",\"type\":\"Grid\"},{\"attributes\":{},\"id\":\"69223833-8d21-49c8-8da6-4f538a65a243\",\"type\":\"BasicTicker\"},{\"attributes\":{\"data_source\":{\"id\":\"b43b44b7-d103-49e0-8c67-aa708139f709\",\"type\":\"ColumnDataSource\"},\"glyph\":{\"id\":\"e5835a0d-88b5-4e22-bed7-30a2056594cf\",\"type\":\"Line\"},\"hover_glyph\":null,\"nonselection_glyph\":{\"id\":\"891aa93d-ecaa-468e-a35b-328c404cc042\",\"type\":\"Line\"},\"selection_glyph\":null},\"id\":\"9fb46beb-a30f-44ea-97b6-4c01d5db7344\",\"type\":\"GlyphRenderer\"},{\"attributes\":{\"plot\":{\"id\":\"35e5c5bd-26c4-4750-8d17-03318338bcbb\",\"subtype\":\"Figure\",\"type\":\"Plot\"}},\"id\":\"ab41a8e2-835a-4bd3-a280-471969afe64b\",\"type\":\"ResetTool\"},{\"attributes\":{\"line_alpha\":{\"value\":0.1},\"line_color\":{\"value\":\"#1f77b4\"},\"x\":{\"field\":\"x\"},\"y\":{\"field\":\"y\"}},\"id\":\"891aa93d-ecaa-468e-a35b-328c404cc042\",\"type\":\"Line\"},{\"attributes\":{\"overlay\":{\"id\":\"42ed2369-e6dc-4273-8726-2b4f7c05da0c\",\"type\":\"BoxAnnotation\"},\"plot\":{\"id\":\"35e5c5bd-26c4-4750-8d17-03318338bcbb\",\"subtype\":\"Figure\",\"type\":\"Plot\"}},\"id\":\"2333d043-57dd-4bed-a1bf-d6bbe7189818\",\"type\":\"BoxZoomTool\"},{\"attributes\":{\"axis_label\":\"loss\",\"formatter\":{\"id\":\"8facf336-2d91-4847-8a01-0e6f0e06fc51\",\"type\":\"BasicTickFormatter\"},\"plot\":{\"id\":\"35e5c5bd-26c4-4750-8d17-03318338bcbb\",\"subtype\":\"Figure\",\"type\":\"Plot\"},\"ticker\":{\"id\":\"3bef02c0-44eb-49a7-9c9c-00aacba3bbdf\",\"type\":\"BasicTicker\"}},\"id\":\"5ea806bc-faa9-47bb-9f85-0fa777cbfe07\",\"type\":\"LinearAxis\"},{\"attributes\":{\"bottom_units\":\"screen\",\"fill_alpha\":{\"value\":0.5},\"fill_color\":{\"value\":\"lightgrey\"},\"left_units\":\"screen\",\"level\":\"overlay\",\"line_alpha\":{\"value\":1.0},\"line_color\":{\"value\":\"black\"},\"line_dash\":[4,4],\"line_width\":{\"value\":2},\"plot\":null,\"render_mode\":\"css\",\"right_units\":\"screen\",\"top_units\":\"screen\"},\"id\":\"42ed2369-e6dc-4273-8726-2b4f7c05da0c\",\"type\":\"BoxAnnotation\"},{\"attributes\":{\"plot\":null,\"text\":\"training loss\"},\"id\":\"8f2b65e0-241e-4b16-8428-f8454ef6ac4a\",\"type\":\"Title\"},{\"attributes\":{\"line_color\":{\"value\":\"#1f77b4\"},\"x\":{\"field\":\"x\"},\"y\":{\"field\":\"y\"}},\"id\":\"e5835a0d-88b5-4e22-bed7-30a2056594cf\",\"type\":\"Line\"},{\"attributes\":{\"callback\":null,\"column_names\":[\"y\",\"x\"],\"data\":{\"x\":[0,1,2,3,4,5,6,7,8,9,10,11,12,13,14,15,16,17,18,19,20,21,22,23,24,25,26,27,28,29,30,31,32,33,34,35,36,37,38,39,40,41,42,43,44,45,46,47,48,49,50,51,52,53,54,55,56,57,58,59,60,61,62,63,64,65,66,67,68,69,70,71,72,73,74,75,76,77,78,79,80,81,82,83,84,85,86,87,88,89,90,91,92,93,94,95,96,97,98,99,100,101,102,103,104,105,106,107,108,109,110,111,112,113,114,115,116,117,118,119,120,121,122,123,124,125,126,127,128,129,130,131,132,133,134,135,136,137,138,139,140,141,142,143,144,145,146,147,148,149,150,151,152,153,154,155,156,157,158,159,160,161,162,163,164,165,166,167,168,169,170,171,172,173,174,175,176,177,178,179,180,181,182,183,184,185,186,187,188,189,190,191,192,193,194,195,196,197,198,199,200,201,202,203,204,205,206,207,208,209,210,211,212,213,214,215,216,217,218,219,220,221,222,223,224,225,226,227,228,229,230,231,232,233,234,235,236,237,238,239,240,241,242,243,244,245,246,247,248,249,250,251,252,253,254,255,256,257,258,259,260,261,262,263,264,265,266,267,268,269,270,271,272,273,274,275,276,277,278,279,280,281,282,283,284,285,286,287,288,289,290,291,292,293,294,295,296,297,298,299,300,301,302,303,304,305,306,307,308,309,310,311,312,313,314,315,316,317,318,319,320,321,322,323,324,325,326,327,328,329,330,331,332,333,334,335,336,337,338,339,340,341,342,343,344,345,346,347,348,349,350,351,352,353,354,355,356,357,358,359,360,361,362,363,364,365,366,367,368,369,370,371,372,373,374,375,376,377,378,379,380,381,382,383,384,385,386,387,388,389,390,391,392,393,394,395,396,397,398,399,400,401,402,403,404,405,406,407,408,409,410,411,412,413,414,415,416,417,418,419,420,421,422,423,424,425,426,427,428,429,430,431,432,433,434,435,436,437,438,439,440,441,442,443,444,445,446,447,448,449,450,451,452,453,454,455,456,457,458,459,460,461,462,463,464,465,466,467,468,469,470,471,472,473,474,475,476,477,478,479,480,481,482,483,484,485,486,487,488,489,490,491,492,493,494,495,496,497,498,499,500,501,502,503,504,505,506,507,508,509,510,511,512,513,514,515,516,517,518,519,520,521,522,523,524,525,526,527,528,529,530,531,532,533,534,535,536,537,538,539,540,541,542,543,544,545,546,547,548,549,550,551,552,553,554,555,556,557,558,559,560,561,562,563,564,565,566,567,568,569,570,571,572,573,574,575,576,577,578,579,580,581,582,583,584,585,586,587,588,589,590,591,592,593,594,595,596,597,598,599,600,601,602,603,604,605,606,607,608,609,610,611,612,613,614,615,616,617,618,619,620,621,622,623,624,625,626,627,628,629,630,631,632,633,634,635,636,637,638,639,640,641,642,643,644,645,646,647,648,649,650,651,652,653,654,655,656,657,658,659,660,661,662,663,664,665,666,667,668,669,670,671,672,673,674,675,676,677,678,679,680,681,682,683,684,685,686,687,688,689,690,691,692,693,694,695,696,697,698,699,700,701,702,703,704,705,706,707,708,709,710,711,712,713,714,715,716,717,718,719,720,721,722,723,724,725,726,727,728,729,730,731,732,733,734,735,736,737,738,739,740,741,742,743,744,745,746,747,748,749,750,751,752,753,754,755,756,757,758,759,760,761,762,763,764,765,766,767,768,769,770,771,772,773,774,775,776,777,778,779,780,781,782,783,784,785,786,787,788,789,790,791,792,793,794,795,796,797,798,799,800,801,802,803,804,805,806,807,808,809,810,811,812,813,814,815,816,817,818,819,820,821,822,823,824,825,826,827,828,829,830,831,832,833,834,835,836,837,838,839,840,841,842,843,844,845,846,847,848,849,850,851,852,853,854,855,856,857,858,859,860,861,862,863,864,865,866,867,868,869,870,871,872,873,874,875,876,877,878,879,880,881,882,883,884,885,886,887,888,889,890,891,892,893,894,895,896,897,898,899,900,901,902,903,904,905,906,907,908,909,910,911,912,913,914,915,916,917,918,919,920,921,922,923,924,925,926,927,928,929,930,931,932,933,934,935,936,937,938,939,940,941,942,943,944,945,946,947,948,949,950,951,952,953,954,955,956,957,958,959,960,961,962,963,964,965,966,967,968,969,970,971,972,973,974,975,976,977,978,979,980,981,982,983,984,985,986,987,988,989,990,991,992,993,994,995,996,997,998,999],\"y\":[2.6109790802001953,2.0526392459869385,1.8216744661331177,1.732804298400879,1.7915728092193604,1.8338168859481812,1.5021499395370483,1.7374558448791504,1.5324064493179321,1.3345434665679932,1.4994709491729736,1.3959717750549316,1.5695338249206543,1.5607028007507324,1.4512234926223755,1.8613282442092896,1.4873936176300049,1.6778359413146973,1.4620318412780762,1.710450530052185,1.4176992177963257,1.316813349723816,1.3301911354064941,1.64772629737854,1.5390739440917969,1.5132654905319214,1.3320149183273315,1.3971281051635742,1.2855502367019653,1.5660580396652222,1.186374545097351,1.457931637763977,1.3891465663909912,1.6204155683517456,1.3740953207015991,1.7425296306610107,1.3018007278442383,1.1662161350250244,1.669398546218872,1.3645905256271362,1.4185689687728882,1.730078935623169,1.423397183418274,1.2668572664260864,1.3607521057128906,1.1820753812789917,1.1339538097381592,1.3894922733306885,1.3901262283325195,1.2471873760223389,1.1636781692504883,1.1895476579666138,1.1707253456115723,1.1658079624176025,1.364959716796875,1.0699326992034912,1.1207482814788818,1.0729701519012451,1.1926268339157104,1.3571592569351196,1.2210109233856201,1.0961785316467285,1.1475310325622559,1.3073794841766357,1.036468744277954,1.0035814046859741,1.225471019744873,1.0703219175338745,1.0175317525863647,1.1450004577636719,0.8982994556427002,1.0279276371002197,1.0601919889450073,1.0237200260162354,1.1200106143951416,1.1463537216186523,0.9629746675491333,0.9547550082206726,1.0162490606307983,1.0687509775161743,0.962503969669342,1.0779802799224854,1.1130191087722778,1.341909408569336,1.143066167831421,1.0581767559051514,1.0444608926773071,1.2386445999145508,1.0628175735473633,0.8951329588890076,0.9827627539634705,1.0056123733520508,0.9576510787010193,0.9474765062332153,1.104185700416565,1.1323645114898682,1.2036969661712646,0.960110068321228,0.897411584854126,0.9069712162017822,1.030191421508789,0.8870154619216919,1.001543641090393,1.0297600030899048,0.8296850919723511,0.9507520198822021,0.9740896224975586,0.7244718074798584,0.9035702347755432,1.1639084815979004,1.0358870029449463,1.0184242725372314,0.927574872970581,0.8967971801757812,1.031672477722168,0.9515902996063232,1.0415016412734985,1.1404469013214111,1.1420377492904663,0.9683191776275635,1.0248650312423706,0.8707581162452698,0.9104962944984436,0.8878659009933472,0.9687819480895996,1.097916841506958,0.9128572344779968,0.9568310379981995,0.8421403765678406,1.0203094482421875,0.9988671541213989,0.8348490595817566,0.8734696507453918,1.0132341384887695,0.9591271281242371,1.023815631866455,0.9564022421836853,0.7914578914642334,0.7632988691329956,0.922809898853302,0.828734815120697,0.7419145107269287,0.7629127502441406,0.7859194278717041,0.9120079874992371,1.0243951082229614,1.04184889793396,0.6989255547523499,0.8413864374160767,0.7784610986709595,0.9679856300354004,0.8897056579589844,0.8224490284919739,0.6920095682144165,0.8249238133430481,0.8905657529830933,0.8925105333328247,0.8535485863685608,0.8683249950408936,0.719568133354187,0.9094096422195435,1.164982557296753,0.7044909000396729,1.0620906352996826,0.8213386535644531,0.8653838038444519,0.7998864054679871,0.7533738613128662,0.7382718920707703,0.8853744268417358,0.7286639213562012,0.6883825063705444,0.6123781800270081,0.9533637166023254,0.7450313568115234,0.851787269115448,0.6474523544311523,0.7468333840370178,0.833263635635376,0.8634489178657532,0.6892721652984619,0.7037017941474915,0.764938473701477,0.9507260322570801,0.8437150716781616,0.7108756303787231,0.7116734981536865,0.6131103038787842,0.6197981834411621,0.7786766290664673,0.7850674986839294,0.5856819152832031,0.8806138038635254,0.7043955326080322,0.5951145887374878,0.7900780439376831,0.8691457509994507,0.6482208967208862,0.6842871904373169,0.7279293537139893,0.9282355308532715,0.641361653804779,0.8042517900466919,0.6974525451660156,0.5207851529121399,0.8403246998786926,0.6966054439544678,0.8287414312362671,0.6531974673271179,0.6562661528587341,0.6212515830993652,0.4698847532272339,0.8850648403167725,0.8037617206573486,0.9779552221298218,0.8751829266548157,0.8932358026504517,0.8451879024505615,0.8291316628456116,0.8246721029281616,0.6828685998916626,0.6763693690299988,0.6180135011672974,0.7627290487289429,0.7204039692878723,0.9101753234863281,0.9764112234115601,0.9537860751152039,0.6154919862747192,0.7920533418655396,0.8320636749267578,0.7014588117599487,0.6994812488555908,0.5797474980354309,0.6672685146331787,0.7679723501205444,0.5451906323432922,0.7095860242843628,0.932799220085144,0.6015766263008118,0.663936197757721,0.8219773769378662,0.8012179136276245,0.7730222344398499,0.7788337469100952,0.7488921880722046,0.7310788631439209,0.8047165274620056,0.6203804612159729,0.6948238611221313,0.6984400749206543,0.5630170106887817,0.5790506601333618,1.0393884181976318,0.8095553517341614,0.8106458187103271,1.0114154815673828,0.6437289118766785,0.7072998285293579,0.7273971438407898,0.6312322020530701,0.6404774188995361,0.6067640781402588,0.9381470084190369,0.8521832227706909,0.7906368970870972,0.6971606016159058,0.6874653697013855,0.8082170486450195,0.8446589708328247,0.67606121301651,1.016290545463562,1.124542474746704,0.6799236536026001,0.7525683641433716,0.705049991607666,0.877648651599884,0.9759032130241394,0.9307091236114502,0.4687241017818451,0.4916488826274872,0.550224244594574,0.5298398733139038,0.56871497631073,0.7452360391616821,0.7270447015762329,0.6208755373954773,0.5707978010177612,0.6338309049606323,0.9848946332931519,0.6500627994537354,0.6705248355865479,0.8164854049682617,0.8009833097457886,0.8786685466766357,0.7607874870300293,0.6437956094741821,0.6528195142745972,0.7127406597137451,0.7372136116027832,0.7128221988677979,0.6953268051147461,0.5309553742408752,0.4874836206436157,0.6384665966033936,0.8178789615631104,0.6843135356903076,0.5667327642440796,0.600495457649231,0.45788103342056274,0.7031798362731934,0.5069063901901245,0.46117186546325684,0.672561526298523,0.623805582523346,0.5422447919845581,0.6165881156921387,0.5849847793579102,0.8092236518859863,0.6487483382225037,0.688574492931366,0.5626932382583618,0.47156253457069397,0.41478410363197327,0.4430367946624756,0.5865923166275024,0.5918200612068176,0.3718547523021698,0.39985033869743347,0.3907906413078308,0.42193230986595154,0.3978198170661926,0.59824538230896,0.5119091272354126,0.4278163015842438,0.7203044891357422,0.6504496335983276,0.4016725420951843,0.3598114848136902,0.5632710456848145,0.6188401579856873,0.4305195212364197,0.36814069747924805,0.6038477420806885,0.864966094493866,0.34524548053741455,0.6452218294143677,0.5036681890487671,0.805166482925415,0.6050746440887451,0.7413500547409058,0.6177016496658325,0.4929965138435364,0.4748104512691498,0.4045175313949585,0.7608171701431274,0.4529748558998108,0.5256648063659668,0.7735438346862793,0.5561972856521606,0.6051356792449951,0.7954791784286499,0.8223373889923096,0.7119605541229248,0.42658987641334534,0.8677924871444702,0.6122130751609802,0.5887230634689331,0.6525665521621704,0.4670785665512085,0.6984157562255859,0.5069109201431274,0.5520615577697754,0.5837916135787964,0.43973296880722046,0.5997878909111023,0.6362354755401611,0.4664956331253052,0.46823981404304504,0.5078881978988647,0.5063222646713257,0.6614153385162354,0.41183367371559143,0.6834352016448975,0.6186342835426331,0.7666068077087402,0.6115002632141113,0.42978233098983765,0.7634400725364685,0.7269784808158875,0.7083654403686523,0.5591190457344055,0.7418900728225708,0.6568636894226074,0.6564595103263855,0.7639937996864319,0.842927098274231,0.341560423374176,0.6955643892288208,0.7816975116729736,0.8135772347450256,0.6344460248947144,0.5180087685585022,0.5424976944923401,0.6968902349472046,0.6906578540802002,0.5664139986038208,0.8739670515060425,0.8405296206474304,0.7595054507255554,0.7559494972229004,0.38787874579429626,0.8879901766777039,0.4665015637874603,0.711127758026123,0.37398409843444824,0.46728554368019104,0.5733849406242371,0.6803036332130432,0.4760740399360657,0.5262491106987,0.3995705842971802,0.7364598512649536,0.43528497219085693,0.39153221249580383,0.539239764213562,0.723406195640564,0.7252733707427979,0.6737851500511169,0.6730442643165588,0.3950551450252533,0.7170888781547546,0.6212338805198669,0.5068187117576599,0.495728999376297,0.5582302212715149,0.7619752883911133,0.5488700866699219,0.5121357440948486,0.7220888733863831,0.6695278286933899,0.790546178817749,0.6250964403152466,0.704527735710144,0.54249107837677,0.5355800986289978,0.7805188894271851,0.6475176215171814,0.9033650159835815,0.831261157989502,0.6022170782089233,0.40304726362228394,0.44428083300590515,0.5837100744247437,0.8566210269927979,0.5567464232444763,0.6225354671478271,0.7125318050384521,0.6969254016876221,0.7800157070159912,0.6590632796287537,0.7932875156402588,0.852868914604187,1.0595531463623047,0.6694899797439575,0.4596256911754608,0.42906853556632996,0.5946483016014099,0.5360609292984009,0.3904222249984741,0.6386038661003113,0.3861576318740845,0.7587155103683472,0.5585780739784241,0.6683250665664673,0.5379945635795593,0.5615144968032837,0.6702821254730225,0.4001961648464203,0.5167415142059326,0.5010738372802734,0.471402108669281,0.3905397057533264,0.5113480091094971,0.5352795124053955,0.5457340478897095,0.5816180109977722,0.5118167996406555,0.5059791803359985,0.46940892934799194,0.3233892321586609,0.8194377422332764,0.6576231122016907,0.5759029388427734,0.35816702246665955,0.5580540895462036,0.574237585067749,0.33758842945098877,0.8331698179244995,0.5627087354660034,0.7111397981643677,0.7925262451171875,0.4803335666656494,0.4109596312046051,0.4833267331123352,0.404438316822052,0.5532658100128174,0.2665172219276428,0.4128063917160034,0.3957473337650299,0.2934683561325073,0.6149693727493286,0.3338784873485565,0.5155754089355469,0.3816069960594177,0.5429270267486572,0.3281332552433014,0.7151786684989929,0.46895208954811096,0.5235317945480347,0.5438282489776611,0.8601478338241577,0.4356701970100403,0.5543767809867859,0.4853920340538025,0.40132632851600647,0.5180755853652954,0.5826268196105957,0.4610769748687744,0.600655734539032,0.6001461744308472,0.6647157669067383,0.7127503156661987,0.6210331320762634,0.5481986403465271,0.47555267810821533,0.5641602277755737,0.49143850803375244,0.7834873199462891,0.46343836188316345,0.5641714930534363,0.4498518407344818,0.46553510427474976,0.6496404409408569,0.6071789264678955,0.4704636037349701,0.8846585750579834,0.5033144950866699,0.7615973949432373,0.7285014390945435,0.3437387943267822,0.4618017375469208,0.4561329782009125,0.7987951040267944,0.5914076566696167,0.5368881821632385,1.0015052556991577,0.5192354321479797,0.5475447177886963,0.4350969195365906,0.39438626170158386,0.3440806567668915,0.546625018119812,0.3414640724658966,0.43374353647232056,0.5299916863441467,0.29364243149757385,0.3217487037181854,0.4072633981704712,0.5813243389129639,0.41413551568984985,0.24186600744724274,0.38475602865219116,0.4588196277618408,0.38117796182632446,0.6994355320930481,0.24788588285446167,0.5570558309555054,0.44044652581214905,0.316917359828949,0.3468778729438782,0.5248199701309204,0.43397754430770874,0.3739360272884369,0.5461670160293579,0.7480216026306152,0.26545989513397217,0.26298144459724426,0.6591224074363708,0.345223605632782,0.3899473249912262,0.5097758769989014,0.4255291819572449,0.3254350423812866,0.5309238433837891,0.3232230544090271,0.46700507402420044,0.3825332820415497,0.40940001606941223,0.36607474088668823,0.5464183688163757,0.6335678696632385,0.3764913082122803,0.3456706702709198,0.7074298858642578,0.38586366176605225,0.41336512565612793,0.3905731439590454,0.29457640647888184,0.47355419397354126,0.3989271819591522,0.4654906690120697,0.5026886463165283,0.4547916352748871,0.1684994399547577,0.2224741131067276,0.1929835081100464,0.4113991856575012,0.2720169425010681,0.5856794714927673,0.5272365808486938,0.28248870372772217,0.38455742597579956,0.5755951404571533,0.46478211879730225,0.5868303775787354,0.4743483066558838,0.39728763699531555,0.4446585476398468,0.2824418544769287,0.7518550157546997,0.6995905041694641,0.4477093815803528,0.2855890095233917,0.44588160514831543,0.6429156064987183,0.24934688210487366,0.3046787977218628,0.3488181233406067,0.331763356924057,0.38070395588874817,0.4026336371898651,0.526069164276123,0.387716680765152,0.3611638844013214,0.5619916915893555,0.45402345061302185,0.6653237342834473,0.2573731541633606,0.6056160926818848,0.4551074206829071,0.5311239361763,0.5655786395072937,0.6984476447105408,0.9435768127441406,0.7420198321342468,0.5671515464782715,0.47342753410339355,0.40032273530960083,0.5320084095001221,0.4772736132144928,0.43916618824005127,0.5237269401550293,0.32027482986450195,0.2826119661331177,0.384685218334198,0.38124799728393555,0.5595265626907349,0.463899165391922,0.7268328666687012,0.3876604437828064,0.27142059803009033,0.44097819924354553,0.292903333902359,0.5467145442962646,0.3500422239303589,0.4389353394508362,0.4948502779006958,0.5614659786224365,0.3843480348587036,0.2331933230161667,0.325386643409729,0.3248465657234192,0.41664940118789673,0.32327210903167725,0.5769867300987244,0.4439365863800049,0.4428137540817261,0.20149722695350647,0.2853741943836212,0.4311567544937134,0.7731338739395142,0.4153176546096802,0.6089481115341187,0.7950866222381592,0.33643782138824463,0.5455158352851868,0.3021819591522217,0.4297305643558502,0.3257591128349304,0.35028260946273804,0.48043203353881836,0.858832597732544,0.9962246417999268,0.7226352691650391,0.6675724387168884,0.4682278633117676,0.46822088956832886,0.42130449414253235,0.49932944774627686,0.47845566272735596,0.5003093481063843,0.7576855421066284,0.4855647683143616,0.3003803491592407,0.45671823620796204,0.3921659290790558,0.34259966015815735,0.4133864641189575,0.4691411852836609,0.4462723135948181,0.6381214261054993,0.3913026452064514,0.3534788489341736,0.4759681224822998,0.6249111890792847,0.545404314994812,0.37624087929725647,0.34834545850753784,0.35072559118270874,0.5281713008880615,0.39974966645240784,0.617739200592041,0.6684558391571045,0.3821493089199066,0.40298959612846375,0.35611647367477417,0.6349016427993774,0.6098710298538208,0.2562054693698883,0.7336636781692505,0.660275936126709,0.3729435205459595,0.36586278676986694,0.610790491104126,0.4623008370399475,0.3322988748550415,0.4707590937614441,0.43052566051483154,0.39261651039123535,0.4181061387062073,0.6857465505599976,0.2522984743118286,0.44976189732551575,0.3048872947692871,0.2192872166633606,0.49364614486694336,0.3587717115879059,0.7689884901046753,0.42725878953933716,0.2513178586959839,0.4998452663421631,0.30040138959884644,0.34579378366470337,0.43506336212158203,0.4014579951763153,0.4800868034362793,0.554513156414032,0.3263256549835205,0.7015661001205444,0.5206362009048462,0.5353184938430786,0.4992484450340271,0.37639790773391724,0.7171955108642578,0.38384902477264404,0.39707809686660767,0.45753562450408936,0.4606280028820038,0.69110107421875,0.539682149887085,0.22642415761947632,0.2698791027069092,0.29018688201904297,0.4091275930404663,0.7681765556335449,0.4812089204788208,0.39531028270721436,0.49233394861221313,0.4109331965446472,0.5895461440086365,0.42679736018180847,0.16687336564064026,0.45661625266075134,0.1545986533164978,0.31326478719711304,0.42222046852111816,0.2988421320915222,0.36486244201660156,0.3997046947479248,0.32288479804992676,0.47203731536865234,0.28033265471458435,0.3216046094894409,0.31877562403678894,0.27609318494796753,0.556891918182373,0.3218715190887451,0.5224090814590454,0.3043877184391022,0.4164353609085083,0.5074203014373779,0.3455975353717804,0.5218788385391235,0.2935602068901062,0.1616409868001938,0.40196338295936584,0.4820506274700165,0.363943487405777,0.34511798620224,0.42034417390823364,0.3502679467201233,0.16933318972587585,0.5308335423469543,0.9057073593139648,0.438544362783432,0.3140566647052765,0.46073731780052185,0.46443960070610046,0.39526110887527466,0.3844160735607147,0.3874560594558716,1.0001411437988281,0.24088111519813538,0.4815847873687744,0.5432877540588379,0.3599615693092346,0.3026893734931946,0.4089815616607666,0.5935187339782715,0.4351571798324585,0.4273112714290619,0.32976019382476807,0.289005309343338,0.30225273966789246,0.3390677571296692,0.27187174558639526,0.47929850220680237,0.5993645191192627,0.9134623408317566,0.25114452838897705,0.5153104066848755,0.3798023462295532,0.4948791265487671,0.3260951042175293,0.26731717586517334,0.42709898948669434,0.40780743956565857,0.36093246936798096,0.4208717942237854,0.37224310636520386,0.15807047486305237,0.3070501685142517,0.5101472735404968,0.47798943519592285,0.48490920662879944,0.3976459503173828,0.21255916357040405,0.4769727289676666,0.47845423221588135,0.3869017958641052,0.4858666658401489,0.27647340297698975,0.2908779978752136,0.275687038898468,0.23864531517028809,0.25065726041793823,0.39860332012176514,0.25308144092559814,0.4423428177833557,0.2545240521430969,0.3968772292137146,0.25876182317733765,0.8342421054840088,0.2303800880908966,0.19177654385566711,0.831070601940155,0.549898624420166,0.3762749433517456,0.35423901677131653,0.6495988368988037,0.4503779113292694,0.3972599506378174,0.6197407245635986,0.8134499192237854,0.8703781366348267,0.40066248178482056,0.4737725853919983,0.30419859290122986,0.5889012813568115,0.4175737798213959,0.3133043944835663,0.23798038065433502,0.33453309535980225,0.6910887956619263,0.41187572479248047,0.5570636987686157,0.16288331151008606,0.47390562295913696,0.33889240026474,0.5629183650016785,0.5558946132659912,0.5777404308319092,0.4931473433971405,0.2396315336227417,0.6027475595474243,0.4148818254470825,0.4140242338180542,0.3894423544406891,0.39711683988571167,0.4619511663913727,0.535494863986969,0.22095203399658203,0.3624560534954071,0.3574501574039459,0.271452933549881,0.4802659749984741,0.3103632926940918,0.6264703273773193,0.29988229274749756,0.46584486961364746,0.3866700530052185,0.6725314259529114,0.44187110662460327,0.5722347497940063,0.6356793642044067,0.8634380102157593,0.4484941363334656,0.49371790885925293,0.6356008052825928,0.3396834433078766,0.5536853671073914,0.47792115807533264,0.42845049500465393,0.4133484661579132,0.6044929027557373,0.32989293336868286,0.36530715227127075,0.42202526330947876,0.520283043384552,0.4008219242095947,0.32786911725997925,0.4022379517555237,0.5473039150238037,0.4471629559993744,0.3237573504447937,0.4864501357078552,0.3090555667877197,0.5069435834884644,0.44885382056236267,0.4338228106498718,0.35878437757492065,0.24679531157016754,0.3286309838294983,0.5386770963668823,0.6218402981758118,0.31064480543136597,0.33990800380706787,0.35987186431884766,0.6042361259460449,0.325624942779541,0.31914812326431274,0.7802516222000122,0.1737719029188156,0.9800761342048645,0.3580210506916046,0.2875175178050995,0.6277564167976379,0.7469686269760132,0.6363714337348938,0.590025782585144,0.44095486402511597,0.439599871635437,0.2567759156227112,0.4897700548171997,0.3828607499599457,0.3287110924720764,0.4292318820953369,0.34512293338775635,0.5600367188453674,0.41571658849716187,0.5805571675300598,0.4348598122596741,0.38553354144096375,0.21152302622795105,0.5138323307037354,0.3294212818145752,0.31995269656181335,0.4288446605205536,0.1930173635482788]}},\"id\":\"b43b44b7-d103-49e0-8c67-aa708139f709\",\"type\":\"ColumnDataSource\"},{\"attributes\":{\"dimension\":1,\"plot\":{\"id\":\"35e5c5bd-26c4-4750-8d17-03318338bcbb\",\"subtype\":\"Figure\",\"type\":\"Plot\"},\"ticker\":{\"id\":\"3bef02c0-44eb-49a7-9c9c-00aacba3bbdf\",\"type\":\"BasicTicker\"}},\"id\":\"ef2b6382-2f31-4abf-9586-e1996bfff763\",\"type\":\"Grid\"}],\"root_ids\":[\"35e5c5bd-26c4-4750-8d17-03318338bcbb\"]},\"title\":\"Bokeh Application\",\"version\":\"0.12.2\"}};\n",
       "            var render_items = [{\"docid\":\"b37d7477-254f-481b-bf83-268db94eedb8\",\"elementid\":\"b033e0f3-dc83-4d40-a4a2-aec0964405eb\",\"modelid\":\"35e5c5bd-26c4-4750-8d17-03318338bcbb\"}];\n",
       "            \n",
       "            Bokeh.embed.embed_items(docs_json, render_items);\n",
       "        });\n",
       "      },\n",
       "      function(Bokeh) {\n",
       "      }\n",
       "    ];\n",
       "  \n",
       "    function run_inline_js() {\n",
       "      \n",
       "      if ((window.Bokeh !== undefined) || (force === \"1\")) {\n",
       "        for (var i = 0; i < inline_js.length; i++) {\n",
       "          inline_js[i](window.Bokeh);\n",
       "        }if (force === \"1\") {\n",
       "          display_loaded();\n",
       "        }} else if (Date.now() < window._bokeh_timeout) {\n",
       "        setTimeout(run_inline_js, 100);\n",
       "      } else if (!window._bokeh_failed_load) {\n",
       "        console.log(\"Bokeh: BokehJS failed to load within specified timeout.\");\n",
       "        window._bokeh_failed_load = true;\n",
       "      } else if (!force) {\n",
       "        var cell = $(\"#b033e0f3-dc83-4d40-a4a2-aec0964405eb\").parents('.cell').data().cell;\n",
       "        cell.output_area.append_execute_result(NB_LOAD_WARNING)\n",
       "      }\n",
       "  \n",
       "    }\n",
       "  \n",
       "    if (window._bokeh_is_loading === 0) {\n",
       "      console.log(\"Bokeh: BokehJS loaded, going straight to plotting\");\n",
       "      run_inline_js();\n",
       "    } else {\n",
       "      load_libs(js_urls, function() {\n",
       "        console.log(\"Bokeh: BokehJS plotting callback run at\", now());\n",
       "        run_inline_js();\n",
       "      });\n",
       "    }\n",
       "  }(this));\n",
       "</script>"
      ]
     },
     "metadata": {},
     "output_type": "display_data"
    }
   ],
   "source": [
    "p = figure(title=\"training loss\", x_axis_label='train steps', y_axis_label='loss')\n",
    "p.line(range(len(losses)),losses)\n",
    "show(p)"
   ]
  },
  {
   "cell_type": "markdown",
   "metadata": {
    "collapsed": true
   },
   "source": [
    "# Simplify code"
   ]
  },
  {
   "cell_type": "code",
   "execution_count": 17,
   "metadata": {
    "collapsed": true
   },
   "outputs": [],
   "source": [
    "def createWeightsBN(s):\n",
    "    \"\"\"\n",
    "    Creates weights for batch normalization layer\n",
    "    \n",
    "    Parameters:\n",
    "    -----------\n",
    "    s: int\n",
    "        size of to be normalized\n",
    "    \"\"\"\n",
    "    gamma = tf.Variable(tf.truncated_normal([s]))\n",
    "    beta = tf.Variable(tf.ones([s]))\n",
    "    return [gamma,beta]\n",
    "\n",
    "def BN(x,variables,eps=.0001):\n",
    "    \"\"\"\n",
    "    Applies Batch Normalization\n",
    "    \n",
    "    Parameters:\n",
    "    ------------\n",
    "    x: tensor\n",
    "        the data to normalize\n",
    "    variables: [gamma,beta]\n",
    "        parameters to learn\n",
    "        \n",
    "    eps (optional): float\n",
    "        small number to keep from dividing by zero\n",
    "    \"\"\"\n",
    "    gamma,beta = variables[0],variables[1]\n",
    "    \n",
    "    mu = tf.reduce_mean(x,[0],keep_dims=True)\n",
    "    sigma = tf.reduce_mean(tf.square(x-mu),[0],keep_dims=True)\n",
    "    x_hat = (x-mu)/(tf.sqrt(sigma+eps))\n",
    "    y = gamma*x_hat+beta\n",
    "    return y"
   ]
  },
  {
   "cell_type": "code",
   "execution_count": 19,
   "metadata": {
    "collapsed": false
   },
   "outputs": [],
   "source": [
    "batch_size = 32\n",
    "num_nodes=1000\n",
    "eps = .0001\n",
    "g = tf.Graph()\n",
    "with g.as_default():\n",
    "    img_input = tf.placeholder(tf.float32,shape=(batch_size,int(img_size**2)))\n",
    "    targets = tf.placeholder(tf.float32,shape=(batch_size,10))\n",
    "    \n",
    "    \n",
    "    #create weights\n",
    "    bn_0 = createWeightsBN(int(img_size**2))\n",
    "    \n",
    "    W1 = createWeight([int(img_size**2),num_nodes])\n",
    "    b1 = createBias([num_nodes])\n",
    "    \n",
    "    bn_1 = createWeightsBN(num_nodes)\n",
    "    \n",
    "    W2 = createWeight([num_nodes,num_nodes])\n",
    "    b2 = createBias([num_nodes])\n",
    "    \n",
    "    bn_2 = createWeightsBN(num_nodes)\n",
    "    \n",
    "    W_logit = createWeight([num_nodes,10])\n",
    "    b_logit = createBias([10])\n",
    "    \n",
    "    bn_logit = createWeightsBN(10)\n",
    "\n",
    "    \n",
    "    #model\n",
    "    input_bn = BN(img_input,bn_0)\n",
    "    \n",
    "    h1 = tf.nn.relu(tf.matmul(input_bn,W1)+b1)\n",
    "    h1_bn = BN(h1,bn_1)\n",
    "    \n",
    "    h2 = tf.nn.relu(tf.matmul(h1_bn,W2)+b2)\n",
    "    h2_bn = BN(h2,bn_2)\n",
    "\n",
    "    logit = tf.matmul(h2_bn,W_logit)+b_logit\n",
    "    lo_bn = BN(logit,bn_logit)\n",
    "    \n",
    "    #train\n",
    "    loss = tf.reduce_mean(tf.nn.softmax_cross_entropy_with_logits(lo_bn,targets))\n",
    "    opt = tf.train.AdamOptimizer(learning_rate=.001).minimize(loss)\n",
    "    \n",
    "    train_accuracy = tf.reduce_mean(tf.cast(tf.equal(\n",
    "        tf.arg_max(tf.nn.softmax(lo_bn),1),tf.arg_max(targets,1)),tf.float32))\n",
    "    \n",
    "    init = tf.initialize_all_variables()"
   ]
  },
  {
   "cell_type": "code",
   "execution_count": 20,
   "metadata": {
    "collapsed": true
   },
   "outputs": [],
   "source": [
    "sess=tf.Session(graph=g)\n",
    "sess.run(init)\n",
    "losses = []"
   ]
  },
  {
   "cell_type": "code",
   "execution_count": 21,
   "metadata": {
    "collapsed": false
   },
   "outputs": [
    {
     "name": "stderr",
     "output_type": "stream",
     "text": [
      "  1%|▏         | 14/1000 [00:00<00:17, 54.88it/s]"
     ]
    },
    {
     "name": "stdout",
     "output_type": "stream",
     "text": [
      "[0.71875]\n"
     ]
    },
    {
     "name": "stderr",
     "output_type": "stream",
     "text": [
      " 11%|█         | 111/1000 [00:01<00:10, 82.83it/s]"
     ]
    },
    {
     "name": "stdout",
     "output_type": "stream",
     "text": [
      "[0.84375]\n"
     ]
    },
    {
     "name": "stderr",
     "output_type": "stream",
     "text": [
      " 21%|██        | 210/1000 [00:02<00:09, 83.54it/s]"
     ]
    },
    {
     "name": "stdout",
     "output_type": "stream",
     "text": [
      "[0.84375]\n"
     ]
    },
    {
     "name": "stderr",
     "output_type": "stream",
     "text": [
      " 31%|███▏      | 313/1000 [00:03<00:09, 75.17it/s]"
     ]
    },
    {
     "name": "stdout",
     "output_type": "stream",
     "text": [
      "[0.84375]\n"
     ]
    },
    {
     "name": "stderr",
     "output_type": "stream",
     "text": [
      " 41%|████      | 410/1000 [00:05<00:06, 84.79it/s]"
     ]
    },
    {
     "name": "stdout",
     "output_type": "stream",
     "text": [
      "[0.78125]\n"
     ]
    },
    {
     "name": "stderr",
     "output_type": "stream",
     "text": [
      " 52%|█████▏    | 518/1000 [00:06<00:05, 82.47it/s]"
     ]
    },
    {
     "name": "stdout",
     "output_type": "stream",
     "text": [
      "[0.84375]\n"
     ]
    },
    {
     "name": "stderr",
     "output_type": "stream",
     "text": [
      " 62%|██████▏   | 616/1000 [00:07<00:04, 82.63it/s]"
     ]
    },
    {
     "name": "stdout",
     "output_type": "stream",
     "text": [
      "[0.90625]\n"
     ]
    },
    {
     "name": "stderr",
     "output_type": "stream",
     "text": [
      " 72%|███████▏  | 715/1000 [00:08<00:03, 85.00it/s]"
     ]
    },
    {
     "name": "stdout",
     "output_type": "stream",
     "text": [
      "[0.90625]\n"
     ]
    },
    {
     "name": "stderr",
     "output_type": "stream",
     "text": [
      " 81%|████████▏ | 814/1000 [00:09<00:02, 85.38it/s]"
     ]
    },
    {
     "name": "stdout",
     "output_type": "stream",
     "text": [
      "[0.96875]\n"
     ]
    },
    {
     "name": "stderr",
     "output_type": "stream",
     "text": [
      " 91%|█████████▏| 913/1000 [00:11<00:01, 83.61it/s]"
     ]
    },
    {
     "name": "stdout",
     "output_type": "stream",
     "text": [
      "[0.90625]\n"
     ]
    },
    {
     "name": "stderr",
     "output_type": "stream",
     "text": [
      "100%|██████████| 1000/1000 [00:12<00:00, 81.70it/s]\n"
     ]
    }
   ],
   "source": [
    "num_steps = 1000\n",
    "for s in tqdm(range(num_steps)):\n",
    "    fd = {img_input:X[(s*batch_size)%X.shape[0]:(s*batch_size+batch_size) % X.shape[0],:],\n",
    "         targets:y[(s*batch_size)%y.shape[0]:(s*batch_size+batch_size)%y.shape[0],:]}\n",
    "    l,_ = sess.run([loss,opt],feed_dict=fd)\n",
    "    losses.append(l)\n",
    "    if s % 100 == 0:\n",
    "        print(sess.run([train_accuracy],feed_dict=fd))"
   ]
  },
  {
   "cell_type": "code",
   "execution_count": 22,
   "metadata": {
    "collapsed": false
   },
   "outputs": [
    {
     "data": {
      "text/plain": [
       "[<matplotlib.lines.Line2D at 0x1290a52d0>]"
      ]
     },
     "execution_count": 22,
     "metadata": {},
     "output_type": "execute_result"
    },
    {
     "data": {
      "image/png": "[encoded data removed]",
      "text/plain": [
       "<matplotlib.figure.Figure at 0x128464350>"
      ]
     },
     "metadata": {},
     "output_type": "display_data"
    }
   ],
   "source": [
    "plt.plot(losses)"
   ]
  },
  {
   "cell_type": "code",
   "execution_count": null,
   "metadata": {
    "collapsed": true
   },
   "outputs": [],
   "source": []
  }
 ],
 "metadata": {
  "kernelspec": {
   "display_name": "Python [conda env:tensorflow]",
   "language": "python",
   "name": "conda-env-tensorflow-py"
  },
  "language_info": {
   "codemirror_mode": {
    "name": "ipython",
    "version": 2
   },
   "file_extension": ".py",
   "mimetype": "text/x-python",
   "name": "python",
   "nbconvert_exporter": "python",
   "pygments_lexer": "ipython2",
   "version": "2.7.12"
  }
 },
 "nbformat": 4,
 "nbformat_minor": 2
}
